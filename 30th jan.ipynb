{
 "cells": [
  {
   "cell_type": "markdown",
   "id": "52f178d4-f0cb-4a01-bf44-3011dad4c9f4",
   "metadata": {},
   "source": [
    "### Assignment Question 1"
   ]
  },
  {
   "cell_type": "code",
   "execution_count": 1,
   "id": "c1a7fc64-b97a-4f16-96aa-5201b3022059",
   "metadata": {},
   "outputs": [
    {
     "name": "stdin",
     "output_type": "stream",
     "text": [
      "Enter the marks: 88\n"
     ]
    },
    {
     "name": "stdout",
     "output_type": "stream",
     "text": [
      "B\n"
     ]
    }
   ],
   "source": [
    "marks = int(input(\"Enter the marks:\"))\n",
    "if marks>90:\n",
    "    print(\"A\")\n",
    "elif marks>80 and marks<=90:\n",
    "    print(\"B\")\n",
    "elif marks>=60 and marks<=80:\n",
    "    print(\"C\")\n",
    "else:\n",
    "    print(\"D\")"
   ]
  },
  {
   "cell_type": "markdown",
   "id": "eee43ff6-083e-48b7-a156-c56d4e376343",
   "metadata": {},
   "source": [
    "### Assignment Question 2"
   ]
  },
  {
   "cell_type": "code",
   "execution_count": 2,
   "id": "4c167cce-a75e-4294-9078-86010d34a7d2",
   "metadata": {},
   "outputs": [
    {
     "name": "stdin",
     "output_type": "stream",
     "text": [
      "Enter the cost price 10000\n"
     ]
    },
    {
     "name": "stdout",
     "output_type": "stream",
     "text": [
      "500.0\n"
     ]
    }
   ],
   "source": [
    "cost_price = int(input(\"Enter the cost price\"))\n",
    "if cost_price>100000:\n",
    "    print(cost_price*0.15)\n",
    "elif cost_price>50000 and cost_price<=100000:\n",
    "    print(cost_price*0.1)\n",
    "else:\n",
    "    print(cost_price*0.05)"
   ]
  },
  {
   "cell_type": "markdown",
   "id": "d68247a6-525c-48f5-ada5-6834e1e9a68e",
   "metadata": {},
   "source": [
    "### Assignment Question 3"
   ]
  },
  {
   "cell_type": "code",
   "execution_count": 3,
   "id": "03e6d724-c4d6-408e-841f-db763a4c2a7f",
   "metadata": {},
   "outputs": [
    {
     "name": "stdin",
     "output_type": "stream",
     "text": [
      "Enter the city name: Delhi\n"
     ]
    },
    {
     "name": "stdout",
     "output_type": "stream",
     "text": [
      "The monument is Red Fort.\n"
     ]
    }
   ],
   "source": [
    "city_name = [\"Delhi\", \"Agra\", \"Jaipur\"]\n",
    "name = input(\"Enter the city name:\")\n",
    "if name==\"Delhi\":\n",
    "    print(\"The monument is Red Fort.\")\n",
    "elif name==\"Agra\":\n",
    "    print(\"The monument is Taj Mahal.\")\n",
    "elif name==\"Jaipur\":\n",
    "    print(\"The monument is Jai Mahal.\")"
   ]
  },
  {
   "cell_type": "markdown",
   "id": "43f19447-b3c9-4324-b53b-1ccd20271d1e",
   "metadata": {},
   "source": [
    "### Assignment Question 4"
   ]
  },
  {
   "cell_type": "code",
   "execution_count": null,
   "id": "cdc97480-11d2-41b4-abc3-ff596ca3bc5a",
   "metadata": {},
   "outputs": [],
   "source": [
    "num = int(input(\"Enter the number:\"))\n",
    "count = 0\n",
    "while num<=10:\n",
    "    if num%3==0:\n",
    "        count += 1\n",
    "        num = num/3\n",
    "print(count)"
   ]
  },
  {
   "cell_type": "markdown",
   "id": "8dcefb9b-141a-4d75-af85-39350e91e453",
   "metadata": {},
   "source": [
    "### Assignment Question 5"
   ]
  },
  {
   "cell_type": "markdown",
   "id": "b2053748-9f1d-4fbf-ae3b-b301a4ee7624",
   "metadata": {},
   "source": [
    "In programming, loops are used to repeat a block of code. For example, if we want to show a message 100 times, then we can use a loop. Python while loop is used to run a block code until a certain condition is met.\n",
    "\n",
    "Here in while loop:\n",
    "1. A while loop evaluates the condition\n",
    "2. If the condition evaluates to True, the code inside the while loop is executed.\n",
    "3. condition is evaluated again.\n",
    "4. This process continues until the condition is False.\n",
    "5. When condition evaluates to False, the loop stops."
   ]
  },
  {
   "cell_type": "code",
   "execution_count": null,
   "id": "9f167d3a-d9f7-4cb5-9cb9-952aecfab297",
   "metadata": {},
   "outputs": [],
   "source": [
    "# program to display numbers from 1 to 5\n",
    "\n",
    "# initialize the variable\n",
    "i = 1\n",
    "n = 5\n",
    "\n",
    "# while loop from i = 1 to 5\n",
    "while i <= n:\n",
    "    print(i)\n",
    "    i = i + 1"
   ]
  },
  {
   "cell_type": "markdown",
   "id": "726c2788-5714-44ac-ab9b-07fdabfa4db8",
   "metadata": {},
   "source": [
    "### Assignment Question 6"
   ]
  },
  {
   "cell_type": "code",
   "execution_count": 13,
   "id": "6f6835d4-fe43-4519-a5ce-5301971b3e40",
   "metadata": {},
   "outputs": [
    {
     "name": "stdin",
     "output_type": "stream",
     "text": [
      " 4\n"
     ]
    },
    {
     "name": "stdout",
     "output_type": "stream",
     "text": [
      "* \n",
      "* * \n",
      "* * * \n",
      "* * * * \n"
     ]
    }
   ],
   "source": [
    "## pattern 1:\n",
    "n = int(input())\n",
    "i = 1\n",
    "while(i<=n):\n",
    "    j = 1\n",
    "    while(j<=i):\n",
    "        print(\"*\", end=\" \")\n",
    "        j += 1\n",
    "    print()\n",
    "    i += 1"
   ]
  },
  {
   "cell_type": "code",
   "execution_count": 15,
   "id": "04396d4e-129c-4750-9873-9bc2463a0c21",
   "metadata": {},
   "outputs": [
    {
     "name": "stdin",
     "output_type": "stream",
     "text": [
      " 4\n"
     ]
    },
    {
     "name": "stdout",
     "output_type": "stream",
     "text": [
      "* * * * \n",
      "* * * \n",
      "* * \n",
      "* \n"
     ]
    }
   ],
   "source": [
    "## pattern 2:\n",
    "n = int(input())\n",
    "i = 1\n",
    "while(i<=n):\n",
    "    j = 4\n",
    "    while(j>=i):\n",
    "        print(\"*\", end=\" \")\n",
    "        j -= 1\n",
    "    print()\n",
    "    i += 1"
   ]
  },
  {
   "cell_type": "code",
   "execution_count": 17,
   "id": "4f8ed1e9-826a-4038-b9fd-ae2f913da547",
   "metadata": {},
   "outputs": [
    {
     "name": "stdin",
     "output_type": "stream",
     "text": [
      " 4\n"
     ]
    },
    {
     "name": "stdout",
     "output_type": "stream",
     "text": [
      "4 3 2 1 \n",
      "4 3 2 \n",
      "4 3 \n",
      "4 \n"
     ]
    }
   ],
   "source": [
    "#pattern 3:\n",
    "## pattern 2:\n",
    "n = int(input())\n",
    "i = 1\n",
    "while(i<=n):\n",
    "    j = 4\n",
    "    while(j>=i):\n",
    "        print(j, end=\" \")\n",
    "        j -= 1\n",
    "    print()\n",
    "    i += 1"
   ]
  },
  {
   "cell_type": "markdown",
   "id": "b3b64e21-c62b-4ecb-be24-a76f849c06ae",
   "metadata": {},
   "source": [
    "### Assignment Question 7"
   ]
  },
  {
   "cell_type": "code",
   "execution_count": 18,
   "id": "4a52f4bb-05bd-43cd-9c58-2d094078ba3d",
   "metadata": {},
   "outputs": [
    {
     "name": "stdout",
     "output_type": "stream",
     "text": [
      "10\n",
      "9\n",
      "8\n",
      "7\n",
      "6\n",
      "5\n",
      "4\n",
      "3\n",
      "2\n",
      "1\n"
     ]
    }
   ],
   "source": [
    "n = 10\n",
    "while(n>0):\n",
    "    print(n)\n",
    "    n = n-1"
   ]
  },
  {
   "cell_type": "markdown",
   "id": "c3ecfad7-5c5c-4683-b46a-ea70ac83074d",
   "metadata": {},
   "source": [
    "### Assignment Question 8"
   ]
  },
  {
   "cell_type": "code",
   "execution_count": 19,
   "id": "6feb3abe-b03f-445f-8949-8bed272e768c",
   "metadata": {},
   "outputs": [
    {
     "name": "stdout",
     "output_type": "stream",
     "text": [
      "10\n",
      "9\n",
      "8\n",
      "7\n",
      "6\n",
      "5\n",
      "4\n",
      "3\n",
      "2\n",
      "1\n"
     ]
    }
   ],
   "source": [
    "n = 10\n",
    "while(n>0):\n",
    "    print(n)\n",
    "    n = n-1"
   ]
  },
  {
   "cell_type": "code",
   "execution_count": null,
   "id": "0f2ea3c6-ced6-4234-9c88-916ae7f5052d",
   "metadata": {},
   "outputs": [],
   "source": []
  }
 ],
 "metadata": {
  "kernelspec": {
   "display_name": "Python 3 (ipykernel)",
   "language": "python",
   "name": "python3"
  },
  "language_info": {
   "codemirror_mode": {
    "name": "ipython",
    "version": 3
   },
   "file_extension": ".py",
   "mimetype": "text/x-python",
   "name": "python",
   "nbconvert_exporter": "python",
   "pygments_lexer": "ipython3",
   "version": "3.10.8"
  }
 },
 "nbformat": 4,
 "nbformat_minor": 5
}
