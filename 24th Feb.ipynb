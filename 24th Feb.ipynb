{
 "cells": [
  {
   "cell_type": "markdown",
   "id": "153f6c71-576d-42b2-9315-273fd78954dc",
   "metadata": {},
   "source": [
    "## Question 1: List any five functions of the pandas library with execution."
   ]
  },
  {
   "cell_type": "markdown",
   "id": "795c0988-7476-4dc9-b0d4-0f3c608af9e0",
   "metadata": {},
   "source": [
    "Pandas is a powerful data manipulation library in Python, widely used for data analysis and preprocessing. Here are five commonly used functions in Pandas, along with examples of how to execute them:\n",
    "\n",
    "1. read_csv()\n",
    "\n",
    "Function: Reads a CSV file into a DataFrame.\n",
    "\n",
    "### Example:\n",
    "\n",
    "import pandas as pd\n",
    "\n",
    "* Reading a CSV file into a DataFrame\n",
    "\n",
    "df = pd.read_csv('data.csv')\n",
    "\n",
    "print(df.head())  # Display the first five rows\n",
    "\n",
    "2. head()\n",
    "\n",
    "Function: Returns the first n rows of a DataFrame.\n",
    "\n",
    "### Example:\n",
    "\n",
    "* Display the first 5 rows (default) of the DataFrame\n",
    "\n",
    "print(df.head())\n",
    "\n",
    "* Display the first 3 rows of the DataFrame\n",
    "\n",
    "print(df.head(3))\n",
    "\n",
    "3. describe()\n",
    "\n",
    "Function: Generates descriptive statistics of the DataFrame.\n",
    "\n",
    "### Example:\n",
    "* Generate descriptive statistics\n",
    "\n",
    "description = df.describe()\n",
    "\n",
    "print(description)\n",
    "\n",
    "4. groupby()\n",
    "\n",
    "Function: Groups the DataFrame using a mapper or by a Series of columns.\n",
    "\n",
    "### Example:\n",
    "\n",
    "* Grouping by a column and calculating the mean\n",
    "\n",
    "grouped = df.groupby('column_name').mean()\n",
    "\n",
    "print(grouped)\n",
    "\n",
    "5. merge()\n",
    "\n",
    "Function: Merges DataFrames in a SQL-like way.\n",
    "\n",
    "### Example:\n",
    "\n",
    "* Creating two DataFrames\n",
    "\n",
    "df1 = pd.DataFrame({'key': ['A', 'B', 'C'], 'value1': [1, 2, 3]})\n",
    "\n",
    "df2 = pd.DataFrame({'key': ['A', 'B', 'D'], 'value2': [4, 5, 6]})\n",
    "\n",
    "* Merging the DataFrames on the 'key' column\n",
    "\n",
    "merged_df = pd.merge(df1, df2, on='key', how='inner')\n",
    "\n",
    "print(merged_df)"
   ]
  },
  {
   "cell_type": "markdown",
   "id": "3624c412-8fca-43c7-aba4-b26bd21652ee",
   "metadata": {},
   "source": [
    "## Question 2: Given a Pandas DataFrame df with columns 'A', 'B', and 'C', write a Python function to re-index the DataFrame with a new index that starts from 1 and increments by 2 for each row."
   ]
  },
  {
   "cell_type": "code",
   "execution_count": 2,
   "id": "9bf23aff-3cfe-4ad4-935f-7dd6a9bbd759",
   "metadata": {},
   "outputs": [
    {
     "name": "stdout",
     "output_type": "stream",
     "text": [
      "    A   B   C\n",
      "1  10  40  70\n",
      "3  20  50  80\n",
      "5  30  60  90\n"
     ]
    }
   ],
   "source": [
    "import pandas as pd\n",
    "\n",
    "def reindex_dataframe(df):\n",
    "    # Create a new index starting from 1 and incrementing by 2\n",
    "    new_index = range(1, 2 * len(df) + 1, 2)\n",
    "    \n",
    "    # Assign the new index to the DataFrame\n",
    "    df.index = new_index\n",
    "    \n",
    "    return df\n",
    "\n",
    "# Example usage\n",
    "# Creating a sample DataFrame\n",
    "data = {'A': [10, 20, 30], 'B': [40, 50, 60], 'C': [70, 80, 90]}\n",
    "df = pd.DataFrame(data)\n",
    "\n",
    "# Re-indexing the DataFrame\n",
    "reindexed_df = reindex_dataframe(df)\n",
    "print(reindexed_df)"
   ]
  },
  {
   "cell_type": "markdown",
   "id": "b25a5c64-0cca-403e-ac9e-195863c0d3e3",
   "metadata": {},
   "source": [
    "## Question 3: You have a Pandas DataFrame df with a column named 'Values'. Write a Python function that iterates over the DataFrame and calculates the sum of the first three values in the 'Values' column. The function should print the sum to the console."
   ]
  },
  {
   "cell_type": "code",
   "execution_count": 3,
   "id": "e89beacd-aaac-4bad-bc03-8e22934080ba",
   "metadata": {},
   "outputs": [
    {
     "name": "stdout",
     "output_type": "stream",
     "text": [
      "The sum of the first three values in the 'Values' column is: 60\n"
     ]
    }
   ],
   "source": [
    "import pandas as pd\n",
    "\n",
    "def sum_first_three_values(df):\n",
    "    # Check if 'Values' column exists and has at least three rows\n",
    "    if 'Values' in df.columns and len(df) >= 3:\n",
    "        # Calculate the sum of the first three values\n",
    "        total = df['Values'].iloc[:3].sum()\n",
    "        print(f\"The sum of the first three values in the 'Values' column is: {total}\")\n",
    "    else:\n",
    "        print(\"The DataFrame does not have enough values in the 'Values' column.\")\n",
    "\n",
    "# Example usage\n",
    "# Creating a sample DataFrame\n",
    "data = {'Values': [10, 20, 30, 40, 50]}\n",
    "df = pd.DataFrame(data)\n",
    "\n",
    "# Calling the function\n",
    "sum_first_three_values(df)"
   ]
  },
  {
   "cell_type": "markdown",
   "id": "7293cf19-d94d-4fa4-aef1-74119229f7da",
   "metadata": {},
   "source": [
    "## Question 4: Given a Pandas DataFrame df with a column 'Text', write a Python function to create a new column 'Word_Count' that contains the number of words in each row of the 'Text' column."
   ]
  },
  {
   "cell_type": "code",
   "execution_count": 4,
   "id": "bc757b8d-f187-4c2a-8e98-a04bbf540e20",
   "metadata": {},
   "outputs": [
    {
     "name": "stdout",
     "output_type": "stream",
     "text": [
      "                                Text  Word_Count\n",
      "0                        Hello world           2\n",
      "1  Pandas is great for data analysis           6\n",
      "2                 Python programming           2\n"
     ]
    }
   ],
   "source": [
    "import pandas as pd\n",
    "\n",
    "def add_word_count_column(df):\n",
    "    # Check if 'Text' column exists\n",
    "    if 'Text' in df.columns:\n",
    "        # Create 'Word_Count' column by applying a lambda function to count words\n",
    "        df['Word_Count'] = df['Text'].apply(lambda x: len(str(x).split()))\n",
    "    else:\n",
    "        print(\"The DataFrame does not have a 'Text' column.\")\n",
    "    \n",
    "    return df\n",
    "\n",
    "# Example usage\n",
    "# Creating a sample DataFrame\n",
    "data = {'Text': [\"Hello world\", \"Pandas is great for data analysis\", \"Python programming\"]}\n",
    "df = pd.DataFrame(data)\n",
    "\n",
    "# Adding the 'Word_Count' column\n",
    "df = add_word_count_column(df)\n",
    "print(df)"
   ]
  },
  {
   "cell_type": "markdown",
   "id": "ee631603-74e7-4498-8881-db51f9449876",
   "metadata": {},
   "source": [
    "## Question 5: How are DataFrame.size() and DataFrame.shape() different?"
   ]
  },
  {
   "cell_type": "markdown",
   "id": "5367c9f6-ed97-4be2-be42-3fc93923212c",
   "metadata": {},
   "source": [
    "In Pandas, DataFrame.size and DataFrame.shape are attributes used to get different types of information about the dimensions and size of a DataFrame. Here's how they differ:\n",
    "\n",
    "#### DataFrame.size\n",
    "\n",
    "* Definition: DataFrame.size returns the total number of elements in the DataFrame. It is calculated as the product of the number of rows and the number of columns.\n",
    "* Return Type: Integer\n",
    "* Example: For a DataFrame with 4 rows and 3 columns, DataFrame.size would return 12 (4 rows × 3 columns)."
   ]
  },
  {
   "cell_type": "code",
   "execution_count": 5,
   "id": "6ee266ad-8cec-41b9-8059-60caa0df18d0",
   "metadata": {},
   "outputs": [
    {
     "name": "stdout",
     "output_type": "stream",
     "text": [
      "9\n"
     ]
    }
   ],
   "source": [
    "import pandas as pd\n",
    "\n",
    "df = pd.DataFrame({'A': [1, 2, 3], 'B': [4, 5, 6], 'C': [7, 8, 9]})\n",
    "print(df.size)  # Output: 9"
   ]
  },
  {
   "cell_type": "markdown",
   "id": "095f00d9-641b-470e-9765-f72b8144e9d4",
   "metadata": {},
   "source": [
    "#### DataFrame.shape\n",
    "\n",
    "* Definition: DataFrame.shape returns a tuple representing the dimensionality of the DataFrame. The tuple contains two elements: the number of rows and the number of columns.\n",
    "* Return Type: Tuple of two integers\n",
    "* Example: For a DataFrame with 4 rows and 3 columns, DataFrame.shape would return (4, 3)."
   ]
  },
  {
   "cell_type": "code",
   "execution_count": 6,
   "id": "bff4dca7-9384-4e93-891d-d1891cb5389c",
   "metadata": {},
   "outputs": [
    {
     "name": "stdout",
     "output_type": "stream",
     "text": [
      "(3, 3)\n"
     ]
    }
   ],
   "source": [
    "print(df.shape)  # Output: (3, 3)"
   ]
  },
  {
   "cell_type": "markdown",
   "id": "10cf76e4-0762-4554-abb2-6b725ac349a7",
   "metadata": {},
   "source": [
    "## Question 6: Which function of pandas do we use to read an excel file?"
   ]
  },
  {
   "cell_type": "markdown",
   "id": "517a1150-69eb-4b6c-9252-12d2fa8d4746",
   "metadata": {},
   "source": [
    "To read an Excel file into a Pandas DataFrame, you use the pd.read_excel() function from the Pandas library. This function can read data from Excel files with extensions .xls or .xlsx.\n",
    "\n",
    "#### Example Usage"
   ]
  },
  {
   "cell_type": "markdown",
   "id": "2482c984-9d43-4b72-aa73-d58db773bd74",
   "metadata": {},
   "source": [
    "import pandas as pd\n",
    "\n",
    "* Reading an Excel file into a DataFrame\n",
    "\n",
    "df = pd.read_excel('file_name.xlsx')\n",
    "\n",
    "* Displaying the first few rows of the DataFrame\n",
    "\n",
    "print(df.head())\n"
   ]
  },
  {
   "cell_type": "markdown",
   "id": "f1ccc014-4921-4026-81c1-55e40678f147",
   "metadata": {},
   "source": [
    "### Parameters\n",
    "\n",
    "* filepath_or_buffer: The path to the Excel file you want to read. This can be a string representing the file path or a file-like object.\n",
    "\n",
    "* sheet_name (optional): Specifies the sheet to be read from the Excel file. It can be the sheet name as a string, an integer index (0-based), or a list of sheet names or indices. The default is 0, which reads the first sheet.\n",
    "\n",
    "* usecols (optional): Specifies which columns to read, either by column number or column name.\n",
    "\n",
    "* nrows (optional): Specifies the number of rows to read.\n",
    "\n",
    "#### Example with Specific Parameters"
   ]
  },
  {
   "cell_type": "markdown",
   "id": "df0d1db8-e01d-4a8f-836e-1e3fca4eb600",
   "metadata": {},
   "source": [
    "* Reading the second sheet of the Excel file and only the first 5 rows\n",
    "\n",
    "df = pd.read_excel('file_name.xlsx', sheet_name=1, nrows=5)\n",
    "\n",
    "print(df)\n"
   ]
  },
  {
   "cell_type": "markdown",
   "id": "a18f2f9c-10d6-4cee-9ef4-9ab2614cad09",
   "metadata": {},
   "source": [
    "## Question 7: You have a Pandas DataFrame df that contains a column named 'Email' that contains email addresses in the format 'username@domain.com'. Write a Python function that creates a new column 'Username' in df that contains only the username part of each email address.\n",
    "\n",
    "The username is the part of the email address that appears before the '@' symbol. For example, if the\n",
    "email address is 'john.doe@example.com', the 'Username' column should contain 'john.doe'. Your\n",
    "function should extract the username from each email address and store it in the new 'Username'\n",
    "column."
   ]
  },
  {
   "cell_type": "code",
   "execution_count": 1,
   "id": "3632b6d7-86de-4b4e-829a-03777c634104",
   "metadata": {},
   "outputs": [
    {
     "name": "stdout",
     "output_type": "stream",
     "text": [
      "                   Email    Username\n",
      "0   john.doe@example.com    john.doe\n",
      "1  jane.smith@domain.org  jane.smith\n",
      "2       info@company.net        info\n"
     ]
    }
   ],
   "source": [
    "import pandas as pd\n",
    "\n",
    "def add_username_column(df):\n",
    "    # Check if 'Email' column exists\n",
    "    if 'Email' in df.columns:\n",
    "        # Create 'Username' column by splitting the 'Email' column at '@' and taking the first part\n",
    "        df['Username'] = df['Email'].apply(lambda x: x.split('@')[0])\n",
    "    else:\n",
    "        print(\"The DataFrame does not have an 'Email' column.\")\n",
    "    \n",
    "    return df\n",
    "\n",
    "# Example usage\n",
    "# Creating a sample DataFrame\n",
    "data = {'Email': ['john.doe@example.com', 'jane.smith@domain.org', 'info@company.net']}\n",
    "df = pd.DataFrame(data)\n",
    "\n",
    "# Adding the 'Username' column\n",
    "df = add_username_column(df)\n",
    "print(df)"
   ]
  },
  {
   "cell_type": "markdown",
   "id": "39ceb8f1-6a46-460a-a5da-1cd91f6fd952",
   "metadata": {},
   "source": [
    "## Question 8: You have a Pandas DataFrame df with columns 'A', 'B', and 'C'. Write a Python function that selects all rows where the value in column 'A' is greater than 5 and the value in column 'B' is less than 10. The function should return a new DataFrame that contains only the selected rows. For example, if df contains the following values:\n",
    "A B C\n",
    "\n",
    "0 3 5 1\n",
    "\n",
    "1 8 2 7\n",
    "\n",
    "2 6 9 4\n",
    "\n",
    "3 2 3 5\n",
    "\n",
    "4 9 1 2"
   ]
  },
  {
   "cell_type": "code",
   "execution_count": 2,
   "id": "cfeb978b-d4ca-4c6e-a17d-f654d532353f",
   "metadata": {},
   "outputs": [
    {
     "name": "stdout",
     "output_type": "stream",
     "text": [
      "   A  B  C\n",
      "1  8  2  7\n",
      "2  6  9  4\n",
      "4  9  1  2\n"
     ]
    }
   ],
   "source": [
    "import pandas as pd\n",
    "\n",
    "def filter_rows(df):\n",
    "    # Select rows where 'A' > 5 and 'B' < 10\n",
    "    filtered_df = df[(df['A'] > 5) & (df['B'] < 10)]\n",
    "    return filtered_df\n",
    "\n",
    "# Example usage\n",
    "# Creating a sample DataFrame\n",
    "data = {'A': [3, 8, 6, 2, 9], 'B': [5, 2, 9, 3, 1], 'C': [1, 7, 4, 5, 2]}\n",
    "df = pd.DataFrame(data)\n",
    "\n",
    "# Filtering rows based on the conditions\n",
    "filtered_df = filter_rows(df)\n",
    "print(filtered_df)"
   ]
  },
  {
   "cell_type": "markdown",
   "id": "288bd72b-d14e-4312-8430-689519068b15",
   "metadata": {},
   "source": [
    "## Question 9 : Given a Pandas DataFrame df with a column 'Values', write a Python function to calculate the mean, median, and standard deviation of the values in the 'Values' column."
   ]
  },
  {
   "cell_type": "code",
   "execution_count": 3,
   "id": "d0bb16df-d744-4450-ab92-dfb863fffa8b",
   "metadata": {},
   "outputs": [
    {
     "name": "stdout",
     "output_type": "stream",
     "text": [
      "Mean: 30.0\n",
      "Median: 30.0\n",
      "Standard Deviation: 15.811388300841896\n"
     ]
    }
   ],
   "source": [
    "import pandas as pd\n",
    "\n",
    "def calculate_statistics(df):\n",
    "    # Check if 'Values' column exists\n",
    "    if 'Values' in df.columns:\n",
    "        # Calculate mean, median, and standard deviation\n",
    "        mean_val = df['Values'].mean()\n",
    "        median_val = df['Values'].median()\n",
    "        std_dev = df['Values'].std()\n",
    "        \n",
    "        # Print the results\n",
    "        print(f\"Mean: {mean_val}\")\n",
    "        print(f\"Median: {median_val}\")\n",
    "        print(f\"Standard Deviation: {std_dev}\")\n",
    "        \n",
    "        # Optionally, return the results as a dictionary\n",
    "        return {\"Mean\": mean_val, \"Median\": median_val, \"Standard Deviation\": std_dev}\n",
    "    else:\n",
    "        print(\"The DataFrame does not have a 'Values' column.\")\n",
    "        return None\n",
    "\n",
    "# Example usage\n",
    "# Creating a sample DataFrame\n",
    "data = {'Values': [10, 20, 30, 40, 50]}\n",
    "df = pd.DataFrame(data)\n",
    "\n",
    "# Calculating statistics\n",
    "statistics = calculate_statistics(df)"
   ]
  },
  {
   "cell_type": "markdown",
   "id": "9b1ee9d3-e84e-4cb5-bb09-3b7690d5a4fd",
   "metadata": {},
   "source": [
    "## Qusetion 10: Given a Pandas DataFrame df with a column 'Sales' and a column 'Date', write a Python function to create a new column 'MovingAverage' that contains the moving average of the sales for the past 7 days for each row in the DataFrame. The moving average should be calculated using a window of size 7 and should include the current day."
   ]
  },
  {
   "cell_type": "code",
   "execution_count": 4,
   "id": "1480d502-4c7f-4a65-ac26-16e0f9dfb77c",
   "metadata": {},
   "outputs": [
    {
     "name": "stdout",
     "output_type": "stream",
     "text": [
      "        Date  Sales  MovingAverage\n",
      "0 2023-06-01    100          100.0\n",
      "1 2023-06-02    150          125.0\n",
      "2 2023-06-03    200          150.0\n",
      "3 2023-06-04    250          175.0\n",
      "4 2023-06-05    300          200.0\n",
      "5 2023-06-06    350          225.0\n",
      "6 2023-06-07    400          250.0\n",
      "7 2023-06-08    450          300.0\n"
     ]
    }
   ],
   "source": [
    "import pandas as pd\n",
    "\n",
    "def calculate_moving_average(df):\n",
    "    # Check if 'Sales' and 'Date' columns exist\n",
    "    if 'Sales' in df.columns and 'Date' in df.columns:\n",
    "        # Ensure the 'Date' column is in datetime format and sort by date\n",
    "        df['Date'] = pd.to_datetime(df['Date'])\n",
    "        df = df.sort_values('Date')\n",
    "\n",
    "        # Calculate the 7-day moving average of the 'Sales' column\n",
    "        df['MovingAverage'] = df['Sales'].rolling(window=7, min_periods=1).mean()\n",
    "    else:\n",
    "        print(\"The DataFrame does not have the required 'Sales' and 'Date' columns.\")\n",
    "    \n",
    "    return df\n",
    "\n",
    "# Example usage\n",
    "# Creating a sample DataFrame\n",
    "data = {\n",
    "    'Date': ['2023-06-01', '2023-06-02', '2023-06-03', '2023-06-04', '2023-06-05', '2023-06-06', '2023-06-07', '2023-06-08'],\n",
    "    'Sales': [100, 150, 200, 250, 300, 350, 400, 450]\n",
    "}\n",
    "df = pd.DataFrame(data)\n",
    "\n",
    "# Calculating the moving average\n",
    "df = calculate_moving_average(df)\n",
    "print(df)"
   ]
  },
  {
   "cell_type": "markdown",
   "id": "f96ca5ef-ad18-4b94-a715-0cdb9e8c56d8",
   "metadata": {},
   "source": [
    "## Question 11: You have a Pandas DataFrame df with a column 'Date'. Write a Python function that creates a new column 'Weekday' in the DataFrame. The 'Weekday' column should contain the weekday name (e.g. Monday, Tuesday) corresponding to each date in the 'Date' column.\n",
    "* For example, if df contains the following values:\n",
    "Date\n",
    "\n",
    "0 2023-01-01\n",
    "\n",
    "1 2023-01-02\n",
    "\n",
    "2 2023-01-03\n",
    "\n",
    "3 2023-01-04\n",
    "\n",
    "4 2023-01-05\n",
    "\n",
    "Your function should create the following DataFrame:\n",
    "\n",
    "Date Weekday\n",
    "\n",
    "0 2023-01-01 Sunday\n",
    "\n",
    "1 2023-01-02 Monday\n",
    "\n",
    "2 2023-01-03 Tuesday\n",
    "\n",
    "3 2023-01-04 Wednesday\n",
    "\n",
    "4 2023-01-05 Thursday\n",
    "\n",
    "The function should return the modified DataFrame."
   ]
  },
  {
   "cell_type": "code",
   "execution_count": 5,
   "id": "6b649a08-ffd4-452c-8fc7-90444966b167",
   "metadata": {},
   "outputs": [
    {
     "name": "stdout",
     "output_type": "stream",
     "text": [
      "        Date    Weekday\n",
      "0 2023-01-01     Sunday\n",
      "1 2023-01-02     Monday\n",
      "2 2023-01-03    Tuesday\n",
      "3 2023-01-04  Wednesday\n",
      "4 2023-01-05   Thursday\n"
     ]
    }
   ],
   "source": [
    "import pandas as pd\n",
    "\n",
    "def add_weekday_column(df):\n",
    "    # Check if 'Date' column exists\n",
    "    if 'Date' in df.columns:\n",
    "        # Convert the 'Date' column to datetime format\n",
    "        df['Date'] = pd.to_datetime(df['Date'])\n",
    "        # Create a new 'Weekday' column with the weekday name\n",
    "        df['Weekday'] = df['Date'].dt.day_name()\n",
    "    else:\n",
    "        print(\"The DataFrame does not have a 'Date' column.\")\n",
    "    \n",
    "    return df\n",
    "\n",
    "# Example usage\n",
    "# Creating a sample DataFrame\n",
    "data = {\n",
    "    'Date': ['2023-01-01', '2023-01-02', '2023-01-03', '2023-01-04', '2023-01-05']\n",
    "}\n",
    "df = pd.DataFrame(data)\n",
    "\n",
    "# Adding the 'Weekday' column\n",
    "df = add_weekday_column(df)\n",
    "print(df)"
   ]
  },
  {
   "cell_type": "markdown",
   "id": "202c980c-7168-49ac-a3b7-2d9e672f8872",
   "metadata": {},
   "source": [
    "## Question 12: Q12. Given a Pandas DataFrame df with a column 'Date' that contains timestamps, write a Python function to select all rows where the date is between '2023-01-01' and '2023-01-31'."
   ]
  },
  {
   "cell_type": "code",
   "execution_count": 6,
   "id": "32d6f4b2-b811-49e3-ad7f-7d45b705624e",
   "metadata": {},
   "outputs": [
    {
     "name": "stdout",
     "output_type": "stream",
     "text": [
      "        Date  Value\n",
      "1 2023-01-01     20\n",
      "2 2023-01-15     30\n",
      "3 2023-01-31     40\n"
     ]
    }
   ],
   "source": [
    "import pandas as pd\n",
    "\n",
    "def filter_date_range(df):\n",
    "    # Check if 'Date' column exists\n",
    "    if 'Date' in df.columns:\n",
    "        # Convert the 'Date' column to datetime format\n",
    "        df['Date'] = pd.to_datetime(df['Date'])\n",
    "        \n",
    "        # Define the start and end dates for filtering\n",
    "        start_date = '2023-01-01'\n",
    "        end_date = '2023-01-31'\n",
    "        \n",
    "        # Filter rows based on the date range\n",
    "        filtered_df = df[(df['Date'] >= start_date) & (df['Date'] <= end_date)]\n",
    "    else:\n",
    "        print(\"The DataFrame does not have a 'Date' column.\")\n",
    "        return None\n",
    "    \n",
    "    return filtered_df\n",
    "\n",
    "# Example usage\n",
    "# Creating a sample DataFrame\n",
    "data = {\n",
    "    'Date': ['2022-12-31', '2023-01-01', '2023-01-15', '2023-01-31', '2023-02-01'],\n",
    "    'Value': [10, 20, 30, 40, 50]\n",
    "}\n",
    "df = pd.DataFrame(data)\n",
    "\n",
    "# Filtering rows based on the date range\n",
    "filtered_df = filter_date_range(df)\n",
    "print(filtered_df)"
   ]
  },
  {
   "cell_type": "markdown",
   "id": "22d0c98d-2c65-4d43-9fa8-1fe2cc2e2049",
   "metadata": {},
   "source": [
    "## Question 13: To use the basic functions of pandas, what is the first and foremost necessary library that needs to be imported?"
   ]
  },
  {
   "cell_type": "code",
   "execution_count": 7,
   "id": "34fc24b6-0e5a-40d6-9263-e7cd89aef31d",
   "metadata": {},
   "outputs": [],
   "source": [
    "import pandas as pd"
   ]
  },
  {
   "cell_type": "code",
   "execution_count": null,
   "id": "e82b303b-549d-4edc-99c1-b9bdf52f16f8",
   "metadata": {},
   "outputs": [],
   "source": []
  }
 ],
 "metadata": {
  "kernelspec": {
   "display_name": "Python 3 (ipykernel)",
   "language": "python",
   "name": "python3"
  },
  "language_info": {
   "codemirror_mode": {
    "name": "ipython",
    "version": 3
   },
   "file_extension": ".py",
   "mimetype": "text/x-python",
   "name": "python",
   "nbconvert_exporter": "python",
   "pygments_lexer": "ipython3",
   "version": "3.10.8"
  }
 },
 "nbformat": 4,
 "nbformat_minor": 5
}
