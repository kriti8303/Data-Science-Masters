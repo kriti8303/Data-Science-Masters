{
 "cells": [
  {
   "cell_type": "markdown",
   "id": "1c4447e6-3679-4fd0-8621-088fcbc8872e",
   "metadata": {},
   "source": [
    "# Assignment Question 1:\n",
    "\n",
    "The def keyword is used to create a function."
   ]
  },
  {
   "cell_type": "code",
   "execution_count": 1,
   "id": "83a7c96b-fa8f-4617-88c8-fb705088edf7",
   "metadata": {},
   "outputs": [],
   "source": [
    "def odd(num):\n",
    "    n = []\n",
    "    for i in range(1, num):\n",
    "        if i%2!=0:\n",
    "            n.append(i)\n",
    "    return n"
   ]
  },
  {
   "cell_type": "code",
   "execution_count": 2,
   "id": "a151ab8a-f173-4338-8196-2299310a6d9e",
   "metadata": {},
   "outputs": [
    {
     "name": "stdout",
     "output_type": "stream",
     "text": [
      "[1, 3, 5, 7, 9, 11, 13, 15, 17, 19, 21, 23]\n"
     ]
    }
   ],
   "source": [
    "print(odd(25))"
   ]
  },
  {
   "cell_type": "markdown",
   "id": "a46d6318-13bb-4fb8-9c9b-bab82c8b8db3",
   "metadata": {},
   "source": [
    "# Assignment Question 2:\n",
    "\n",
    "*args and **kwargs used as argument of function when we don't know about the number of arguments to pass in the function.\n",
    "\n",
    "*args : *args in function is used to pass a variable number of arguments to a function.\n",
    "\n",
    "**kwargs : It is used to pass a keyworded variable-length argument list."
   ]
  },
  {
   "cell_type": "code",
   "execution_count": 3,
   "id": "2c2de1ac-792d-4347-baca-6eef678e4355",
   "metadata": {},
   "outputs": [],
   "source": [
    "## Example of *args :\n",
    "def myFun(*args):\n",
    "    for i in args:\n",
    "        print(args)"
   ]
  },
  {
   "cell_type": "code",
   "execution_count": 4,
   "id": "aea87edc-89c6-4ee3-8205-74eb278dc74a",
   "metadata": {},
   "outputs": [
    {
     "name": "stdout",
     "output_type": "stream",
     "text": [
      "('Hello', 'Welcome', 'to', 'Pwskills')\n",
      "('Hello', 'Welcome', 'to', 'Pwskills')\n",
      "('Hello', 'Welcome', 'to', 'Pwskills')\n",
      "('Hello', 'Welcome', 'to', 'Pwskills')\n"
     ]
    }
   ],
   "source": [
    "myFun('Hello', 'Welcome', 'to', 'Pwskills')"
   ]
  },
  {
   "cell_type": "code",
   "execution_count": 5,
   "id": "9459df94-d129-42a9-8553-251db91ed0bd",
   "metadata": {},
   "outputs": [],
   "source": [
    "## Example of **kwargs :\n",
    "def myFun(**kwargs):\n",
    "    for key, value in kwargs.items():\n",
    "        print(key, value)"
   ]
  },
  {
   "cell_type": "code",
   "execution_count": 6,
   "id": "256ae8a5-6c0b-42d2-82dd-bbc69a748b61",
   "metadata": {},
   "outputs": [
    {
     "name": "stdout",
     "output_type": "stream",
     "text": [
      "a 34\n",
      "b 23\n",
      "c [1, 2, 3, 4]\n",
      "d ('kriti', 'pwskills')\n"
     ]
    }
   ],
   "source": [
    "myFun(a=34, b=23, c=[1, 2, 3, 4], d=(\"kriti\", \"pwskills\"))"
   ]
  },
  {
   "cell_type": "markdown",
   "id": "70b066cf-962c-40f1-9f4c-1160971c3015",
   "metadata": {},
   "source": [
    "# Assignment Question 3:\n",
    "\n",
    "An iterator is an object that contains a countable number of values. Iter() method is used to initialize the iterator object. And The iterable objects have an iter() method which is used to get an iterator. "
   ]
  },
  {
   "cell_type": "code",
   "execution_count": 7,
   "id": "5b734d6d-d90e-4f6b-bf28-52c01f9e4b71",
   "metadata": {},
   "outputs": [
    {
     "name": "stdout",
     "output_type": "stream",
     "text": [
      "Red\n"
     ]
    }
   ],
   "source": [
    "## example of tuple iterator\n",
    "tuple1 = (\"Red\", \"Orange\")\n",
    "myIterator = iter(tuple1)\n",
    "print(next(myIterator))"
   ]
  },
  {
   "cell_type": "code",
   "execution_count": 8,
   "id": "290331cd-b46e-451b-ba64-8cd0386b6aa2",
   "metadata": {},
   "outputs": [],
   "source": [
    "def list(a):\n",
    "    n = []\n",
    "    for i in a[:5]:\n",
    "        n.append(i)\n",
    "    return n"
   ]
  },
  {
   "cell_type": "code",
   "execution_count": 9,
   "id": "1777f50e-54c7-413f-9bad-f3f97c1f75d9",
   "metadata": {},
   "outputs": [],
   "source": [
    "l1 = [2, 4, 6, 8, 10, 12, 14, 16, 18, 20]"
   ]
  },
  {
   "cell_type": "code",
   "execution_count": 10,
   "id": "c084bdc2-1fee-4361-bce2-5825f2aaf474",
   "metadata": {},
   "outputs": [
    {
     "data": {
      "text/plain": [
       "[2, 4, 6, 8, 10]"
      ]
     },
     "execution_count": 10,
     "metadata": {},
     "output_type": "execute_result"
    }
   ],
   "source": [
    "list(l1)"
   ]
  },
  {
   "cell_type": "markdown",
   "id": "10f6056e-c4dc-48f0-a290-f681ce7641ae",
   "metadata": {},
   "source": [
    "# Assignment Question 4:\n",
    "\n",
    "A generator function in python is a function that generate a sequence of value. \n",
    "\n",
    "The yield keyword in python controls the flow of a generator function. This is similar to return statement."
   ]
  },
  {
   "cell_type": "code",
   "execution_count": 11,
   "id": "965611b9-25ac-4b26-8c75-fbf0b7ba9ca6",
   "metadata": {},
   "outputs": [],
   "source": [
    "## Example of yield keyword\n",
    "def value():\n",
    "    for i in range(10):\n",
    "        if(i%2==0):\n",
    "            yield i"
   ]
  },
  {
   "cell_type": "code",
   "execution_count": 12,
   "id": "acd7911d-5a86-4e0a-a8ba-7ae219e20f84",
   "metadata": {},
   "outputs": [
    {
     "name": "stdout",
     "output_type": "stream",
     "text": [
      "0\n",
      "2\n",
      "4\n",
      "6\n",
      "8\n"
     ]
    }
   ],
   "source": [
    "for i in value():\n",
    "    print(i)"
   ]
  },
  {
   "cell_type": "markdown",
   "id": "41daefef-c77c-4341-82ef-0cdfe306d5f2",
   "metadata": {},
   "source": [
    "# Assignment Question 5:"
   ]
  },
  {
   "cell_type": "code",
   "execution_count": 13,
   "id": "438d2105-2eb2-4733-99d7-07b52b0e60c9",
   "metadata": {},
   "outputs": [],
   "source": [
    "def prime_generator():\n",
    "    for x in range(1, 1000):\n",
    "        for y in range(2, x):\n",
    "            if x%y == 0:\n",
    "                break\n",
    "            else:\n",
    "                yield y"
   ]
  },
  {
   "cell_type": "code",
   "execution_count": 14,
   "id": "ebec2231-3466-444b-9500-c6f2742ee111",
   "metadata": {},
   "outputs": [
    {
     "name": "stdout",
     "output_type": "stream",
     "text": [
      "2\n",
      "3\n",
      "4\n",
      "5\n",
      "6\n",
      "7\n",
      "8\n",
      "9\n",
      "10\n",
      "11\n",
      "12\n",
      "13\n",
      "14\n",
      "15\n",
      "16\n",
      "17\n",
      "18\n",
      "19\n",
      "20\n"
     ]
    }
   ],
   "source": [
    "generator = prime_generator()\n",
    "for i in range(2, 21):\n",
    "    print(i)"
   ]
  },
  {
   "cell_type": "code",
   "execution_count": 15,
   "id": "1049d351-1499-491f-96ea-27c6ddff95d6",
   "metadata": {},
   "outputs": [
    {
     "name": "stdout",
     "output_type": "stream",
     "text": [
      "2\n",
      "2\n",
      "3\n",
      "4\n",
      "2\n",
      "3\n",
      "4\n",
      "5\n",
      "6\n",
      "2\n",
      "2\n",
      "3\n",
      "4\n",
      "5\n",
      "6\n",
      "7\n",
      "8\n",
      "9\n",
      "10\n"
     ]
    }
   ],
   "source": [
    "generator = prime_generator()\n",
    "for i in range(2, 21):\n",
    "    print(next(generator))"
   ]
  },
  {
   "cell_type": "code",
   "execution_count": null,
   "id": "84a04aec-a36a-4525-aa53-dcd07711ea9e",
   "metadata": {},
   "outputs": [],
   "source": []
  }
 ],
 "metadata": {
  "kernelspec": {
   "display_name": "Python 3 (ipykernel)",
   "language": "python",
   "name": "python3"
  },
  "language_info": {
   "codemirror_mode": {
    "name": "ipython",
    "version": 3
   },
   "file_extension": ".py",
   "mimetype": "text/x-python",
   "name": "python",
   "nbconvert_exporter": "python",
   "pygments_lexer": "ipython3",
   "version": "3.10.8"
  }
 },
 "nbformat": 4,
 "nbformat_minor": 5
}
