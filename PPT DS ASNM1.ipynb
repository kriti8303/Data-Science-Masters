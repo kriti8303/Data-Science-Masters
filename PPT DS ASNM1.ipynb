{
 "cells": [
  {
   "cell_type": "markdown",
   "id": "ce5fccd9-a237-4b2d-8eab-778a58976340",
   "metadata": {},
   "source": [
    "## 1. Write a Python program to reverse a string without using any built-in string reversal functions."
   ]
  },
  {
   "cell_type": "code",
   "execution_count": 3,
   "id": "fc126076-2f3d-4789-8de5-937481a01ac2",
   "metadata": {},
   "outputs": [
    {
     "name": "stdin",
     "output_type": "stream",
     "text": [
      "Enter a string:  The dog is fine\n"
     ]
    },
    {
     "name": "stdout",
     "output_type": "stream",
     "text": [
      "Reversed string: enif si god ehT\n"
     ]
    }
   ],
   "source": [
    "## python function \n",
    "def reverse_string(input_string):\n",
    "    reversed_string = \"\"\n",
    "    for char in input_string:\n",
    "        reversed_string = char + reversed_string  ## element sore in reversed_string = .... g...o...d e...h...T  \n",
    "    return reversed_string   ## so at last it return enif si god ehT\n",
    "\n",
    "if __name__ == \"__main__\":\n",
    "    user_input = input(\"Enter a string: \")\n",
    "    reversed_input = reverse_string(user_input)\n",
    "    print(\"Reversed string:\", reversed_input)"
   ]
  },
  {
   "cell_type": "markdown",
   "id": "bb9d4ce4-fb64-4f17-9896-3c75ba01f5e7",
   "metadata": {},
   "source": [
    "## 2. Implement a function to check if a given string is a palindrome."
   ]
  },
  {
   "cell_type": "code",
   "execution_count": 8,
   "id": "9ce7cdd9-b17a-4799-8809-27f6781a8cd6",
   "metadata": {},
   "outputs": [
    {
     "name": "stdin",
     "output_type": "stream",
     "text": [
      "Enter a string:  sos\n"
     ]
    },
    {
     "name": "stdout",
     "output_type": "stream",
     "text": [
      "The string is a palindrome.\n"
     ]
    }
   ],
   "source": [
    "def is_palindrome(input_string):\n",
    "    # Convert the input string to lowercase to make the check case-insensitive\n",
    "    input_string = input_string.lower()\n",
    "    \n",
    "    # Remove any non-alphanumeric characters from the input string\n",
    "    input_string = ''.join(char for char in input_string if char.isalnum())\n",
    "    \n",
    "    # Compare the input string with its reverse\n",
    "    return input_string == input_string[::-1]\n",
    "\n",
    "if __name__ == \"__main__\":\n",
    "    user_input = input(\"Enter a string: \")\n",
    "    if is_palindrome(user_input):\n",
    "        print(\"The string is a palindrome.\")\n",
    "    else:\n",
    "        print(\"The string is not a palindrome.\")"
   ]
  },
  {
   "cell_type": "markdown",
   "id": "ad70660c-9c6d-4062-9016-00a8c45a0dc8",
   "metadata": {},
   "source": [
    "## 3. Write a program to find the largest element in a given list."
   ]
  },
  {
   "cell_type": "code",
   "execution_count": 13,
   "id": "7bbc9d69-5b9e-4551-9b83-227703a3b69e",
   "metadata": {},
   "outputs": [
    {
     "name": "stdin",
     "output_type": "stream",
     "text": [
      "Enter a list of numbers separated by spaces:  5 76 82 562 825 24 98\n"
     ]
    },
    {
     "name": "stdout",
     "output_type": "stream",
     "text": [
      "The largest element in the list is: 825.0\n"
     ]
    }
   ],
   "source": [
    "def find_largest_element(input_list):\n",
    "    if not input_list:     ## if no element pass to the input_list : then it return None\n",
    "        return None\n",
    "\n",
    "    largest_element = input_list[0]\n",
    "\n",
    "    for element in input_list[1:]:\n",
    "        if element > largest_element:\n",
    "            largest_element = element\n",
    "\n",
    "    return largest_element\n",
    "\n",
    "if __name__ == \"__main__\":\n",
    "    user_input = input(\"Enter a list of numbers separated by spaces: \")\n",
    "    try:\n",
    "        numbers = [float(item) for item in user_input.split()]\n",
    "        largest = find_largest_element(numbers)\n",
    "        print(\"The largest element in the list is:\", largest)\n",
    "    except ValueError:\n",
    "        print(\"Invalid input. Please enter a list of numbers separated by spaces.\")"
   ]
  },
  {
   "cell_type": "markdown",
   "id": "91795db8-6473-4e18-a13c-6f954c1214ad",
   "metadata": {},
   "source": [
    "## 4. Implement a function to count the occurrence of each element in a list."
   ]
  },
  {
   "cell_type": "code",
   "execution_count": 17,
   "id": "463113f9-47d1-47df-a9d2-3cd2bf32eb71",
   "metadata": {},
   "outputs": [
    {
     "name": "stdin",
     "output_type": "stream",
     "text": [
      "Enter a list of elements separated by spaces:  2 3 4 4 2 1 3 5 5 \n"
     ]
    },
    {
     "name": "stdout",
     "output_type": "stream",
     "text": [
      "Occurrences of each element:\n",
      "2: 2\n",
      "3: 2\n",
      "4: 2\n",
      "1: 1\n",
      "5: 2\n"
     ]
    }
   ],
   "source": [
    "from collections import Counter\n",
    "\n",
    "def count_occurrences(input_list):\n",
    "    return Counter(input_list)\n",
    "\n",
    "if __name__ == \"__main__\":\n",
    "    user_input = input(\"Enter a list of elements separated by spaces: \")\n",
    "    elements_list = user_input.split()\n",
    "    occurrences = count_occurrences(elements_list)\n",
    "    print(\"Occurrences of each element:\")\n",
    "    for element, count in occurrences.items():\n",
    "        print(f\"{element}: {count}\")"
   ]
  },
  {
   "cell_type": "markdown",
   "id": "18ff2d27-e14c-4192-ad75-ff749a5695d4",
   "metadata": {},
   "source": [
    "## 5. Write a Python program to find the second largest number in a list."
   ]
  },
  {
   "cell_type": "code",
   "execution_count": 18,
   "id": "21aaa526-b6d1-4ed9-a794-410e7de7c22e",
   "metadata": {},
   "outputs": [
    {
     "name": "stdin",
     "output_type": "stream",
     "text": [
      "Enter a list of numbers separated by spaces:  26 36  4 4 2 2 1 1 2  3\n"
     ]
    },
    {
     "name": "stdout",
     "output_type": "stream",
     "text": [
      "The second largest number in the list is: 26.0\n"
     ]
    }
   ],
   "source": [
    "def find_second_largest(input_list):\n",
    "    if len(input_list) < 2:\n",
    "        return None\n",
    "\n",
    "    sorted_list = sorted(input_list, reverse=True)\n",
    "    return sorted_list[1]\n",
    "\n",
    "if __name__ == \"__main__\":\n",
    "    user_input = input(\"Enter a list of numbers separated by spaces: \")\n",
    "    try:\n",
    "        numbers = [float(item) for item in user_input.split()]\n",
    "        second_largest = find_second_largest(numbers)\n",
    "        if second_largest is not None:\n",
    "            print(\"The second largest number in the list is:\", second_largest)\n",
    "        else:\n",
    "            print(\"The list should contain at least two numbers.\")\n",
    "    except ValueError:\n",
    "        print(\"Invalid input. Please enter a list of numbers separated by spaces.\")"
   ]
  },
  {
   "cell_type": "markdown",
   "id": "83fccf68-7352-4e00-b21d-420be329cf4d",
   "metadata": {},
   "source": [
    "## 6. Implement a function to remove duplicate elements from a list."
   ]
  },
  {
   "cell_type": "code",
   "execution_count": 21,
   "id": "80642fc4-cfc3-4247-be82-895ed2c972f5",
   "metadata": {},
   "outputs": [
    {
     "name": "stdin",
     "output_type": "stream",
     "text": [
      "Enter a list of elements separated by spaces:  2 3 4 3 2 2  4 4  33 2\n"
     ]
    },
    {
     "name": "stdout",
     "output_type": "stream",
     "text": [
      "List with duplicate elements removed: ['3', '33', '4', '2']\n"
     ]
    }
   ],
   "source": [
    "def remove_duplicates(input_list):\n",
    "    return list(set(input_list))\n",
    "\n",
    "if __name__ == \"__main__\":\n",
    "    user_input = input(\"Enter a list of elements separated by spaces: \")\n",
    "    elements_list = user_input.split()\n",
    "    unique_elements = remove_duplicates(elements_list)\n",
    "    print(\"List with duplicate elements removed:\", unique_elements)"
   ]
  },
  {
   "cell_type": "markdown",
   "id": "9afe7237-7845-4bfc-b8d1-82beb18a41e1",
   "metadata": {},
   "source": [
    "## 7. Write a program to calculate the factorial of a given number."
   ]
  },
  {
   "cell_type": "code",
   "execution_count": 28,
   "id": "7ee94783-6ff0-42b7-b3de-5fefe953ca63",
   "metadata": {},
   "outputs": [
    {
     "name": "stdin",
     "output_type": "stream",
     "text": [
      "Enter a non-negative integer:  4\n"
     ]
    },
    {
     "name": "stdout",
     "output_type": "stream",
     "text": [
      "The factorial of 4 is: 24\n"
     ]
    }
   ],
   "source": [
    "def factorial(num):\n",
    "    if num == 0 or num==1:\n",
    "        return 1\n",
    "    else:\n",
    "        return num * factorial(num-1)\n",
    "\n",
    "if __name__ == \"__main__\":\n",
    "    try:\n",
    "        user_input = int(input(\"Enter a non-negative integer: \"))\n",
    "        if user_input < 0:\n",
    "            print(\"Factorial is not defined for negative numbers.\")\n",
    "        else:\n",
    "            result = factorial(user_input)\n",
    "            print(f\"The factorial of {user_input} is: {result}\")\n",
    "    except ValueError:\n",
    "        print(\"Invalid input. Please enter a non-negative integer.\")"
   ]
  },
  {
   "cell_type": "markdown",
   "id": "0e86969b-fbaa-493e-a42f-a6e5138136b1",
   "metadata": {},
   "source": [
    "## 8. Implement a function to check if a given number is prime."
   ]
  },
  {
   "cell_type": "code",
   "execution_count": 1,
   "id": "5e626862-26c8-4943-b2db-1bfc36dc38eb",
   "metadata": {},
   "outputs": [
    {
     "name": "stdin",
     "output_type": "stream",
     "text": [
      "Enter a positive integer:  5\n"
     ]
    },
    {
     "name": "stdout",
     "output_type": "stream",
     "text": [
      "5 is a prime number.\n"
     ]
    }
   ],
   "source": [
    "def is_prime(number):\n",
    "    if number <= 1:\n",
    "        return False\n",
    " \n",
    "    for i in range(2, int(number ** 0.5) + 1):            ## int(number ** 0.5) + 1 means less than that numner \n",
    "        if number % i == 0:\n",
    "            return False\n",
    "\n",
    "    return True\n",
    "\n",
    "if __name__ == \"__main__\":\n",
    "    try:\n",
    "        user_input = int(input(\"Enter a positive integer: \"))\n",
    "        if user_input <= 0:\n",
    "            print(\"Please enter a positive integer greater than 0.\")\n",
    "        elif is_prime(user_input):\n",
    "            print(f\"{user_input} is a prime number.\")\n",
    "        else:\n",
    "            print(f\"{user_input} is not a prime number.\")\n",
    "    except ValueError:\n",
    "        print(\"Invalid input. Please enter a positive integer.\")"
   ]
  },
  {
   "cell_type": "markdown",
   "id": "72852ccc-e8a6-46b6-94c5-4dcd1023f999",
   "metadata": {},
   "source": [
    "## 9. Write a Python program to sort a list of integers in ascending order."
   ]
  },
  {
   "cell_type": "code",
   "execution_count": 2,
   "id": "7d02b1b8-9921-4c49-972e-d861bf06975c",
   "metadata": {},
   "outputs": [
    {
     "name": "stdin",
     "output_type": "stream",
     "text": [
      "Enter a list of integers separated by spaces:  7 6 5 3 9 5 4 2 9 5\n"
     ]
    },
    {
     "name": "stdout",
     "output_type": "stream",
     "text": [
      "List sorted in ascending order: [2, 3, 4, 5, 5, 5, 6, 7, 9, 9]\n"
     ]
    }
   ],
   "source": [
    "if __name__ == \"__main__\":\n",
    "    try:\n",
    "        user_input = input(\"Enter a list of integers separated by spaces: \")\n",
    "        integers_list = [int(item) for item in user_input.split()]\n",
    "        sorted_list = sorted(integers_list)\n",
    "        print(\"List sorted in ascending order:\", sorted_list)\n",
    "    except ValueError:\n",
    "        print(\"Invalid input. Please enter a list of integers separated by spaces.\")"
   ]
  },
  {
   "cell_type": "markdown",
   "id": "090a9460-fb0d-4ac2-a02e-bc65c8055012",
   "metadata": {},
   "source": [
    "## 10. Implement a function to find the sum of all numbers in a list."
   ]
  },
  {
   "cell_type": "code",
   "execution_count": 3,
   "id": "7ac069bd-4fcd-4ac8-b3cf-a34b78286795",
   "metadata": {},
   "outputs": [
    {
     "name": "stdin",
     "output_type": "stream",
     "text": [
      "Enter a list of numbers separated by spaces:  2 3 4 5 3 2 3 5 6 6 4 3 3 2 245 5 6 4 3 3 2 2 2\n"
     ]
    },
    {
     "name": "stdout",
     "output_type": "stream",
     "text": [
      "The sum of all numbers in the list is: 323.0\n"
     ]
    }
   ],
   "source": [
    "def find_sum(input_list):\n",
    "    return sum(input_list)\n",
    "\n",
    "if __name__ == \"__main__\":\n",
    "    try:\n",
    "        user_input = input(\"Enter a list of numbers separated by spaces: \")\n",
    "        numbers = [float(item) for item in user_input.split()]\n",
    "        total_sum = find_sum(numbers)\n",
    "        print(\"The sum of all numbers in the list is:\", total_sum)\n",
    "    except ValueError:\n",
    "        print(\"Invalid input. Please enter a list of numbers separated by spaces.\")"
   ]
  },
  {
   "cell_type": "markdown",
   "id": "4338770e-8a06-4d4c-a11b-1aa7397d1d51",
   "metadata": {},
   "source": [
    "## 11. Write a program to find the common elements between two lists."
   ]
  },
  {
   "cell_type": "code",
   "execution_count": 4,
   "id": "fc434b56-d926-463b-806a-223a4582a34c",
   "metadata": {},
   "outputs": [
    {
     "name": "stdin",
     "output_type": "stream",
     "text": [
      "Enter the first list of elements separated by spaces:  1 2 3 4 5 3 2 8\n",
      "Enter the second list of elements separated by spaces:  6 4 5 3 2 7 4 2\n"
     ]
    },
    {
     "name": "stdout",
     "output_type": "stream",
     "text": [
      "Common elements between the two lists: ['4', '2', '5', '3']\n"
     ]
    }
   ],
   "source": [
    "def find_common_elements(list1, list2):\n",
    "    return list(set(list1) & set(list2))\n",
    "\n",
    "if __name__ == \"__main__\":\n",
    "    try:\n",
    "        user_input1 = input(\"Enter the first list of elements separated by spaces: \")\n",
    "        list1 = user_input1.split()\n",
    "\n",
    "        user_input2 = input(\"Enter the second list of elements separated by spaces: \")\n",
    "        list2 = user_input2.split()\n",
    "\n",
    "        common_elements = find_common_elements(list1, list2)\n",
    "        print(\"Common elements between the two lists:\", common_elements)\n",
    "    except ValueError:\n",
    "        print(\"Invalid input. Please enter lists of elements separated by spaces.\")"
   ]
  },
  {
   "cell_type": "markdown",
   "id": "afb2aa46-0d7a-4c84-8eef-f1d5785d6086",
   "metadata": {},
   "source": [
    "## 12. Implement a function to check if a given string is an anagram of another string."
   ]
  },
  {
   "cell_type": "code",
   "execution_count": 6,
   "id": "d0e7c6bd-e62e-4e04-94ae-b58d40f97750",
   "metadata": {},
   "outputs": [
    {
     "name": "stdin",
     "output_type": "stream",
     "text": [
      "Enter the first string:  happy each other\n",
      "Enter the second string:  happy each another\n"
     ]
    },
    {
     "name": "stdout",
     "output_type": "stream",
     "text": [
      "The strings are not anagrams.\n"
     ]
    }
   ],
   "source": [
    "def is_anagram(str1, str2):\n",
    "    return sorted(str1) == sorted(str2)\n",
    "\n",
    "if __name__ == \"__main__\":\n",
    "    try:\n",
    "        str1 = input(\"Enter the first string: \")\n",
    "        str2 = input(\"Enter the second string: \")\n",
    "\n",
    "        if is_anagram(str1, str2):\n",
    "            print(\"The strings are anagrams.\")\n",
    "        else:\n",
    "            print(\"The strings are not anagrams.\")\n",
    "    except ValueError:\n",
    "        print(\"Invalid input. Please enter valid strings.\")"
   ]
  },
  {
   "cell_type": "markdown",
   "id": "5b8b4ba1-beef-4bc3-8e36-f19b23a650e0",
   "metadata": {},
   "source": [
    "## 13. Write a Python program to generate all permutations of a given string."
   ]
  },
  {
   "cell_type": "code",
   "execution_count": 1,
   "id": "bbd1920c-0d12-4541-852a-90e84f89a068",
   "metadata": {},
   "outputs": [
    {
     "name": "stdin",
     "output_type": "stream",
     "text": [
      "Enter a string:  dummy\n"
     ]
    },
    {
     "name": "stdout",
     "output_type": "stream",
     "text": [
      "All permutations of the given string:\n",
      "dummy\n",
      "dumym\n",
      "dummy\n",
      "dumym\n",
      "duymm\n",
      "duymm\n",
      "dmumy\n",
      "dmuym\n",
      "dmmuy\n",
      "dmmyu\n",
      "dmyum\n",
      "dmymu\n",
      "dmumy\n",
      "dmuym\n",
      "dmmuy\n",
      "dmmyu\n",
      "dmyum\n",
      "dmymu\n",
      "dyumm\n",
      "dyumm\n",
      "dymum\n",
      "dymmu\n",
      "dymum\n",
      "dymmu\n",
      "udmmy\n",
      "udmym\n",
      "udmmy\n",
      "udmym\n",
      "udymm\n",
      "udymm\n",
      "umdmy\n",
      "umdym\n",
      "ummdy\n",
      "ummyd\n",
      "umydm\n",
      "umymd\n",
      "umdmy\n",
      "umdym\n",
      "ummdy\n",
      "ummyd\n",
      "umydm\n",
      "umymd\n",
      "uydmm\n",
      "uydmm\n",
      "uymdm\n",
      "uymmd\n",
      "uymdm\n",
      "uymmd\n",
      "mdumy\n",
      "mduym\n",
      "mdmuy\n",
      "mdmyu\n",
      "mdyum\n",
      "mdymu\n",
      "mudmy\n",
      "mudym\n",
      "mumdy\n",
      "mumyd\n",
      "muydm\n",
      "muymd\n",
      "mmduy\n",
      "mmdyu\n",
      "mmudy\n",
      "mmuyd\n",
      "mmydu\n",
      "mmyud\n",
      "mydum\n",
      "mydmu\n",
      "myudm\n",
      "myumd\n",
      "mymdu\n",
      "mymud\n",
      "mdumy\n",
      "mduym\n",
      "mdmuy\n",
      "mdmyu\n",
      "mdyum\n",
      "mdymu\n",
      "mudmy\n",
      "mudym\n",
      "mumdy\n",
      "mumyd\n",
      "muydm\n",
      "muymd\n",
      "mmduy\n",
      "mmdyu\n",
      "mmudy\n",
      "mmuyd\n",
      "mmydu\n",
      "mmyud\n",
      "mydum\n",
      "mydmu\n",
      "myudm\n",
      "myumd\n",
      "mymdu\n",
      "mymud\n",
      "ydumm\n",
      "ydumm\n",
      "ydmum\n",
      "ydmmu\n",
      "ydmum\n",
      "ydmmu\n",
      "yudmm\n",
      "yudmm\n",
      "yumdm\n",
      "yummd\n",
      "yumdm\n",
      "yummd\n",
      "ymdum\n",
      "ymdmu\n",
      "ymudm\n",
      "ymumd\n",
      "ymmdu\n",
      "ymmud\n",
      "ymdum\n",
      "ymdmu\n",
      "ymudm\n",
      "ymumd\n",
      "ymmdu\n",
      "ymmud\n"
     ]
    }
   ],
   "source": [
    "def generate_permutations(input_string):\n",
    "    if len(input_string) == 1:\n",
    "        return [input_string]\n",
    "\n",
    "    permutations = []\n",
    "    for i, char in enumerate(input_string):\n",
    "        remaining_chars = input_string[:i] + input_string[i+1:]\n",
    "        for perm in generate_permutations(remaining_chars):\n",
    "            permutations.append(char + perm)\n",
    "\n",
    "    return permutations\n",
    "\n",
    "if __name__ == \"__main__\":\n",
    "    user_input = input(\"Enter a string: \")\n",
    "    all_permutations = generate_permutations(user_input)\n",
    "    print(\"All permutations of the given string:\")\n",
    "    for perm in all_permutations:\n",
    "        print(perm)"
   ]
  },
  {
   "cell_type": "markdown",
   "id": "7cce9664-b9c7-4076-b6d5-64f9588c875d",
   "metadata": {},
   "source": [
    "## 14. Implement a function to calculate the Fibonacci sequence up to a given number of terms."
   ]
  },
  {
   "cell_type": "code",
   "execution_count": 2,
   "id": "8c736d0b-29f2-479c-8b97-c9e9aa1738ae",
   "metadata": {},
   "outputs": [
    {
     "name": "stdin",
     "output_type": "stream",
     "text": [
      "Enter the number of terms in the Fibonacci sequence:  5\n"
     ]
    },
    {
     "name": "stdout",
     "output_type": "stream",
     "text": [
      "Fibonacci sequence up to 5 terms: [0, 1, 1, 2, 3]\n"
     ]
    }
   ],
   "source": [
    "def fibonacci_sequence(num_terms):\n",
    "    if num_terms <= 0:\n",
    "        return []\n",
    "    elif num_terms == 1:\n",
    "        return [0]\n",
    "    elif num_terms == 2:\n",
    "        return [0, 1]\n",
    "\n",
    "    sequence = [0, 1]\n",
    "    while len(sequence) < num_terms:\n",
    "        next_term = sequence[-1] + sequence[-2]\n",
    "        sequence.append(next_term)\n",
    "\n",
    "    return sequence\n",
    "\n",
    "if __name__ == \"__main__\":\n",
    "    try:\n",
    "        num_terms = int(input(\"Enter the number of terms in the Fibonacci sequence: \"))\n",
    "        fibonacci_seq = fibonacci_sequence(num_terms)\n",
    "        print(\"Fibonacci sequence up to\", num_terms, \"terms:\", fibonacci_seq)\n",
    "    except ValueError:\n",
    "        print(\"Invalid input. Please enter a positive integer.\")"
   ]
  },
  {
   "cell_type": "markdown",
   "id": "75961c74-7e0e-431a-8695-be1a763c04ac",
   "metadata": {},
   "source": [
    "## 15. Write a program to find the median of a list of numbers."
   ]
  },
  {
   "cell_type": "code",
   "execution_count": 3,
   "id": "419fcc61-e268-43a9-b13f-e5cde95317fa",
   "metadata": {},
   "outputs": [
    {
     "name": "stdin",
     "output_type": "stream",
     "text": [
      "Enter a list of numbers separated by spaces:  2 3 4 5 6 2 3 5 9\n"
     ]
    },
    {
     "name": "stdout",
     "output_type": "stream",
     "text": [
      "The median of the list is: 4.0\n"
     ]
    }
   ],
   "source": [
    "def find_median(input_list):\n",
    "    sorted_list = sorted(input_list)\n",
    "    n = len(sorted_list)\n",
    "\n",
    "    if n % 2 == 1:\n",
    "        return sorted_list[n // 2]\n",
    "    else:\n",
    "        middle1 = sorted_list[n // 2 - 1]\n",
    "        middle2 = sorted_list[n // 2]\n",
    "        return (middle1 + middle2) / 2\n",
    "\n",
    "if __name__ == \"__main__\":\n",
    "    try:\n",
    "        user_input = input(\"Enter a list of numbers separated by spaces: \")\n",
    "        numbers = [float(item) for item in user_input.split()]\n",
    "        median = find_median(numbers)\n",
    "        print(\"The median of the list is:\", median)\n",
    "    except ValueError:\n",
    "        print(\"Invalid input. Please enter a list of numbers separated by spaces.\")"
   ]
  },
  {
   "cell_type": "markdown",
   "id": "f00c1fd5-345a-4b58-96ce-e5026ff4e2c2",
   "metadata": {},
   "source": [
    "## 16. Implement a function to check if a given list is sorted in non-decreasing order."
   ]
  },
  {
   "cell_type": "code",
   "execution_count": 6,
   "id": "05baab47-a898-49a2-a4d7-b21a4cba2efb",
   "metadata": {},
   "outputs": [
    {
     "name": "stdin",
     "output_type": "stream",
     "text": [
      "Enter a list of numbers separated by spaces:  1 2 3 4 5 5 6 8\n"
     ]
    },
    {
     "name": "stdout",
     "output_type": "stream",
     "text": [
      "The list is sorted in non-decreasing order.\n"
     ]
    }
   ],
   "source": [
    "def is_sorted_non_decreasing(input_list):\n",
    "    n = len(input_list)\n",
    "    for i in range(n - 1):\n",
    "        if input_list[i] > input_list[i + 1]:\n",
    "            return False\n",
    "    return True\n",
    "\n",
    "if __name__ == \"__main__\":\n",
    "    try:\n",
    "        user_input = input(\"Enter a list of numbers separated by spaces: \")\n",
    "        numbers = [float(item) for item in user_input.split()]\n",
    "        if is_sorted_non_decreasing(numbers):\n",
    "            print(\"The list is sorted in non-decreasing order.\")\n",
    "        else:\n",
    "            print(\"The list is not sorted in non-decreasing order.\")\n",
    "    except ValueError:\n",
    "        print(\"Invalid input. Please enter a list of numbers separated by spaces.\")"
   ]
  },
  {
   "cell_type": "markdown",
   "id": "22233100-3f97-42ec-87d6-73c4f90142ac",
   "metadata": {},
   "source": [
    "## 17. Write a Python program to find the intersection of two lists."
   ]
  },
  {
   "cell_type": "code",
   "execution_count": 7,
   "id": "d2e70343-c2f2-4b67-914b-79d8ffbe89eb",
   "metadata": {},
   "outputs": [
    {
     "name": "stdin",
     "output_type": "stream",
     "text": [
      "Enter the first list of elements separated by spaces:  2 3 4 5 6 1\n",
      "Enter the second list of elements separated by spaces:  3 4 2 3 4 5\n"
     ]
    },
    {
     "name": "stdout",
     "output_type": "stream",
     "text": [
      "Intersection of the two lists: ['3', '4', '5', '2']\n"
     ]
    }
   ],
   "source": [
    "def find_intersection(list1, list2):\n",
    "    set1 = set(list1)\n",
    "    set2 = set(list2)\n",
    "    return list(set1.intersection(set2))\n",
    "\n",
    "if __name__ == \"__main__\":\n",
    "    try:\n",
    "        user_input1 = input(\"Enter the first list of elements separated by spaces: \")\n",
    "        list1 = user_input1.split()\n",
    "\n",
    "        user_input2 = input(\"Enter the second list of elements separated by spaces: \")\n",
    "        list2 = user_input2.split()\n",
    "\n",
    "        intersection = find_intersection(list1, list2)\n",
    "        print(\"Intersection of the two lists:\", intersection)\n",
    "    except ValueError:\n",
    "        print(\"Invalid input. Please enter lists of elements separated by spaces.\")"
   ]
  },
  {
   "cell_type": "markdown",
   "id": "31d77382-1aef-4b96-bb9e-b964856bf249",
   "metadata": {},
   "source": [
    "## 18. Implement a function to find the maximum subarray sum in a given list."
   ]
  },
  {
   "cell_type": "code",
   "execution_count": 1,
   "id": "333529bc-d344-4df2-94f3-7bb44777555e",
   "metadata": {},
   "outputs": [
    {
     "name": "stdin",
     "output_type": "stream",
     "text": [
      "Enter a list of numbers separated by spaces:  3 4 6 2 8 6 3 6 3 9\n"
     ]
    },
    {
     "name": "stdout",
     "output_type": "stream",
     "text": [
      "The maximum subarray sum is: 50\n"
     ]
    }
   ],
   "source": [
    "def max_subarray_sum(input_list):\n",
    "    if not input_list:\n",
    "        return 0\n",
    "\n",
    "    max_sum = input_list[0]\n",
    "    current_sum = input_list[0]\n",
    "\n",
    "    for num in input_list[1:]:\n",
    "        current_sum = max(num, current_sum + num)\n",
    "        max_sum = max(max_sum, current_sum)\n",
    "\n",
    "    return max_sum\n",
    "\n",
    "if __name__ == \"__main__\":\n",
    "    try:\n",
    "        user_input = input(\"Enter a list of numbers separated by spaces: \")\n",
    "        numbers = [int(item) for item in user_input.split()]\n",
    "        max_sum = max_subarray_sum(numbers)\n",
    "        print(\"The maximum subarray sum is:\", max_sum)\n",
    "    except ValueError:\n",
    "        print(\"Invalid input. Please enter a list of integers separated by spaces.\")"
   ]
  },
  {
   "cell_type": "markdown",
   "id": "eed8a9b6-4c0a-4f4a-9215-07ca2d768ac2",
   "metadata": {},
   "source": [
    "## 19. Write a program to remove all vowels from a given string."
   ]
  },
  {
   "cell_type": "code",
   "execution_count": 2,
   "id": "a7ab8db4-dd17-4d93-9de7-1c6d8a57ca9d",
   "metadata": {},
   "outputs": [
    {
     "name": "stdin",
     "output_type": "stream",
     "text": [
      "Enter a string:  kritisitihdfg\n"
     ]
    },
    {
     "name": "stdout",
     "output_type": "stream",
     "text": [
      "String with vowels removed: krtsthdfg\n"
     ]
    }
   ],
   "source": [
    "def remove_vowels(input_string):\n",
    "    vowels = \"aeiouAEIOU\"\n",
    "    return ''.join(char for char in input_string if char not in vowels)\n",
    "\n",
    "if __name__ == \"__main__\":\n",
    "    user_input = input(\"Enter a string: \")\n",
    "    result = remove_vowels(user_input)\n",
    "    print(\"String with vowels removed:\", result)"
   ]
  },
  {
   "cell_type": "markdown",
   "id": "22619620-45e0-4503-89af-fe16028d1269",
   "metadata": {},
   "source": [
    "## 20. Implement a function to reverse the order of words in a given sentence."
   ]
  },
  {
   "cell_type": "code",
   "execution_count": 3,
   "id": "3318b4df-e6f7-48bf-ad5c-317b262ba824",
   "metadata": {},
   "outputs": [
    {
     "name": "stdin",
     "output_type": "stream",
     "text": [
      "Enter a sentence:  the word is implemented\n"
     ]
    },
    {
     "name": "stdout",
     "output_type": "stream",
     "text": [
      "Reversed sentence: implemented is word the\n"
     ]
    }
   ],
   "source": [
    "def reverse_sentence(sentence):\n",
    "    words = sentence.split()\n",
    "    reversed_words = words[::-1]\n",
    "    reversed_sentence = ' '.join(reversed_words)\n",
    "    return reversed_sentence\n",
    "\n",
    "if __name__ == \"__main__\":\n",
    "    user_input = input(\"Enter a sentence: \")\n",
    "    reversed_sentence = reverse_sentence(user_input)\n",
    "    print(\"Reversed sentence:\", reversed_sentence)"
   ]
  },
  {
   "cell_type": "markdown",
   "id": "1aceef98-07d0-4d35-869f-246f982cdd8c",
   "metadata": {},
   "source": [
    "## 21. Write a Python program to check if two strings are anagrams of each other."
   ]
  },
  {
   "cell_type": "code",
   "execution_count": 4,
   "id": "e05a74ba-e3ee-40ae-8d64-050c0bb743be",
   "metadata": {},
   "outputs": [
    {
     "name": "stdin",
     "output_type": "stream",
     "text": [
      "Enter the first string:  the dog is wise\n",
      "Enter the second string:  the cat is shy\n"
     ]
    },
    {
     "name": "stdout",
     "output_type": "stream",
     "text": [
      "The strings are not anagrams.\n"
     ]
    }
   ],
   "source": [
    "def are_anagrams(str1, str2):\n",
    "    return sorted(str1) == sorted(str2)\n",
    "\n",
    "if __name__ == \"__main__\":\n",
    "    try:\n",
    "        str1 = input(\"Enter the first string: \")\n",
    "        str2 = input(\"Enter the second string: \")\n",
    "\n",
    "        if are_anagrams(str1, str2):\n",
    "            print(\"The strings are anagrams.\")\n",
    "        else:\n",
    "            print(\"The strings are not anagrams.\")\n",
    "    except ValueError:\n",
    "        print(\"Invalid input. Please enter valid strings.\")"
   ]
  },
  {
   "cell_type": "markdown",
   "id": "addd995f-eb68-4b47-a113-124f3a795fc7",
   "metadata": {},
   "source": [
    "## 22. Implement a function to find the first non-repeating character in a string."
   ]
  },
  {
   "cell_type": "code",
   "execution_count": 5,
   "id": "981a55c7-1ee5-4219-b4c3-dc622cb26df6",
   "metadata": {},
   "outputs": [
    {
     "name": "stdin",
     "output_type": "stream",
     "text": [
      "Enter a string:  the dog is wise\n"
     ]
    },
    {
     "name": "stdout",
     "output_type": "stream",
     "text": [
      "The first non-repeating character is: t\n"
     ]
    }
   ],
   "source": [
    "def first_non_repeating_character(input_string):\n",
    "    char_counts = {}\n",
    "\n",
    "    for char in input_string:\n",
    "        char_counts[char] = char_counts.get(char, 0) + 1\n",
    "\n",
    "    for char in input_string:\n",
    "        if char_counts[char] == 1:\n",
    "            return char\n",
    "\n",
    "    return None\n",
    "\n",
    "if __name__ == \"__main__\":\n",
    "    user_input = input(\"Enter a string: \")\n",
    "    result = first_non_repeating_character(user_input)\n",
    "\n",
    "    if result is not None:\n",
    "        print(\"The first non-repeating character is:\", result)\n",
    "    else:\n",
    "        print(\"There are no non-repeating characters in the string.\")"
   ]
  },
  {
   "cell_type": "markdown",
   "id": "f313b760-41ab-4517-aa4a-4ab042bf06d5",
   "metadata": {},
   "source": [
    "## 23. Write a program to find the prime factors of a given number."
   ]
  },
  {
   "cell_type": "code",
   "execution_count": 6,
   "id": "18c66187-3f53-404b-a512-fea793dda5fe",
   "metadata": {},
   "outputs": [
    {
     "name": "stdin",
     "output_type": "stream",
     "text": [
      "Enter a positive integer:  20\n"
     ]
    },
    {
     "name": "stdout",
     "output_type": "stream",
     "text": [
      "Prime factors of 20 are: [2, 2, 5]\n"
     ]
    }
   ],
   "source": [
    "def find_prime_factors(number):\n",
    "    prime_factors = []\n",
    "    divisor = 2\n",
    "\n",
    "    while divisor * divisor <= number:\n",
    "        if number % divisor == 0:\n",
    "            prime_factors.append(divisor)\n",
    "            number //= divisor\n",
    "        else:\n",
    "            divisor += 1\n",
    "\n",
    "    if number > 1:\n",
    "        prime_factors.append(number)\n",
    "\n",
    "    return prime_factors\n",
    "\n",
    "if __name__ == \"__main__\":\n",
    "    try:\n",
    "        user_input = int(input(\"Enter a positive integer: \"))\n",
    "        if user_input <= 0:\n",
    "            print(\"Please enter a positive integer greater than 0.\")\n",
    "        else:\n",
    "            prime_factors = find_prime_factors(user_input)\n",
    "            print(\"Prime factors of\", user_input, \"are:\", prime_factors)\n",
    "    except ValueError:\n",
    "        print(\"Invalid input. Please enter a positive integer.\")"
   ]
  },
  {
   "cell_type": "markdown",
   "id": "ad00e8de-a0c5-4a16-afd0-d9a8e0d09fab",
   "metadata": {},
   "source": [
    "## 24. Implement a function to check if a given number is a power of two."
   ]
  },
  {
   "cell_type": "code",
   "execution_count": 7,
   "id": "df46cf80-51dd-463e-8ff2-4fe801ab0da1",
   "metadata": {},
   "outputs": [
    {
     "name": "stdin",
     "output_type": "stream",
     "text": [
      "Enter a positive integer:  6\n"
     ]
    },
    {
     "name": "stdout",
     "output_type": "stream",
     "text": [
      "6 is not a power of two.\n"
     ]
    }
   ],
   "source": [
    "def is_power_of_two(number):\n",
    "    return number > 0 and (number & (number - 1)) == 0\n",
    "\n",
    "if __name__ == \"__main__\":\n",
    "    try:\n",
    "        user_input = int(input(\"Enter a positive integer: \"))\n",
    "        if user_input <= 0:\n",
    "            print(\"Please enter a positive integer greater than 0.\")\n",
    "        elif is_power_of_two(user_input):\n",
    "            print(f\"{user_input} is a power of two.\")\n",
    "        else:\n",
    "            print(f\"{user_input} is not a power of two.\")\n",
    "    except ValueError:\n",
    "        print(\"Invalid input. Please enter a positive integer.\")"
   ]
  },
  {
   "cell_type": "markdown",
   "id": "67f52c6c-d642-49b9-b6b9-0bbcfd8d4f6a",
   "metadata": {},
   "source": [
    "## 25. Write a Python program to merge two sorted lists into a single sorted list."
   ]
  },
  {
   "cell_type": "code",
   "execution_count": 8,
   "id": "aa871724-bf9f-4f0b-9886-a8fe38ffd98e",
   "metadata": {},
   "outputs": [
    {
     "name": "stdin",
     "output_type": "stream",
     "text": [
      "Enter the first sorted list of numbers separated by spaces:  2 3 4 5 6 7 8 2\n",
      "Enter the second sorted list of numbers separated by spaces:  2 3 4 5 6 7 8 9\n"
     ]
    },
    {
     "name": "stdout",
     "output_type": "stream",
     "text": [
      "Merged sorted list: [2, 2, 3, 3, 4, 4, 5, 5, 6, 6, 7, 7, 8, 8, 2, 9]\n"
     ]
    }
   ],
   "source": [
    "def merge_sorted_lists(list1, list2):\n",
    "    merged_list = []\n",
    "    i, j = 0, 0\n",
    "\n",
    "    while i < len(list1) and j < len(list2):\n",
    "        if list1[i] < list2[j]:\n",
    "            merged_list.append(list1[i])\n",
    "            i += 1\n",
    "        else:\n",
    "            merged_list.append(list2[j])\n",
    "            j += 1\n",
    "\n",
    "    # Add any remaining elements from list1 and list2\n",
    "    merged_list.extend(list1[i:])\n",
    "    merged_list.extend(list2[j:])\n",
    "\n",
    "    return merged_list\n",
    "\n",
    "if __name__ == \"__main__\":\n",
    "    try:\n",
    "        user_input1 = input(\"Enter the first sorted list of numbers separated by spaces: \")\n",
    "        list1 = [int(item) for item in user_input1.split()]\n",
    "\n",
    "        user_input2 = input(\"Enter the second sorted list of numbers separated by spaces: \")\n",
    "        list2 = [int(item) for item in user_input2.split()]\n",
    "\n",
    "        merged_list = merge_sorted_lists(list1, list2)\n",
    "        print(\"Merged sorted list:\", merged_list)\n",
    "    except ValueError:\n",
    "        print(\"Invalid input. Please enter sorted lists of numbers separated by spaces.\")"
   ]
  },
  {
   "cell_type": "markdown",
   "id": "bc00bc93-5f7b-40e0-ad8d-651a7b5e24e8",
   "metadata": {},
   "source": [
    "## 27. Write a program to find the greatest common divisor (GCD) of two numbers."
   ]
  },
  {
   "cell_type": "code",
   "execution_count": 9,
   "id": "6ae907d6-1d5a-4508-9115-c64b03ae831d",
   "metadata": {},
   "outputs": [
    {
     "name": "stdin",
     "output_type": "stream",
     "text": [
      "Enter the first number:  3\n",
      "Enter the second number:  4\n"
     ]
    },
    {
     "name": "stdout",
     "output_type": "stream",
     "text": [
      "The GCD of 3 and 4 is: 1\n"
     ]
    }
   ],
   "source": [
    "def gcd(a, b):\n",
    "    while b != 0:\n",
    "        a, b = b, a % b\n",
    "    return a\n",
    "\n",
    "if __name__ == \"__main__\":\n",
    "    try:\n",
    "        num1 = int(input(\"Enter the first number: \"))\n",
    "        num2 = int(input(\"Enter the second number: \"))\n",
    "\n",
    "        if num1 < 0 or num2 < 0:\n",
    "            print(\"Please enter positive integers.\")\n",
    "        else:\n",
    "            result = gcd(num1, num2)\n",
    "            print(\"The GCD of\", num1, \"and\", num2, \"is:\", result)\n",
    "    except ValueError:\n",
    "        print(\"Invalid input. Please enter two positive integers.\")"
   ]
  },
  {
   "cell_type": "markdown",
   "id": "56e1a690-6476-4f94-bcda-490079b4968f",
   "metadata": {},
   "source": [
    "## 28. Implement a function to calculate the square root of a given number."
   ]
  },
  {
   "cell_type": "code",
   "execution_count": 10,
   "id": "7f063ab7-9bfa-400e-b4f9-c5416304b82c",
   "metadata": {},
   "outputs": [
    {
     "name": "stdin",
     "output_type": "stream",
     "text": [
      "Enter a non-negative number:  45\n"
     ]
    },
    {
     "name": "stdout",
     "output_type": "stream",
     "text": [
      "Square root of 45.0 is: 6.7082039925611845\n"
     ]
    }
   ],
   "source": [
    "def square_root(number, epsilon=1e-6):\n",
    "    if number < 0:\n",
    "        raise ValueError(\"Square root is not defined for negative numbers.\")\n",
    "\n",
    "    guess = number\n",
    "    while abs(guess * guess - number) > epsilon:\n",
    "        guess = 0.5 * (guess + number / guess)\n",
    "\n",
    "    return guess\n",
    "\n",
    "if __name__ == \"__main__\":\n",
    "    try:\n",
    "        user_input = float(input(\"Enter a non-negative number: \"))\n",
    "        if user_input < 0:\n",
    "            print(\"Please enter a non-negative number.\")\n",
    "        else:\n",
    "            result = square_root(user_input)\n",
    "            print(\"Square root of\", user_input, \"is:\", result)\n",
    "    except ValueError:\n",
    "        print(\"Invalid input. Please enter a non-negative number.\")"
   ]
  },
  {
   "cell_type": "markdown",
   "id": "def558e0-9f6d-42dd-93e9-a1752a3d5eae",
   "metadata": {},
   "source": [
    "## 29. Write a Python program to check if a given string is a valid palindrome ignoring non-alphanumeric characters."
   ]
  },
  {
   "cell_type": "code",
   "execution_count": 12,
   "id": "0fd09d7a-cede-49d1-8931-849a894b53c6",
   "metadata": {},
   "outputs": [
    {
     "name": "stdin",
     "output_type": "stream",
     "text": [
      "Enter a string:  The dog is wise\n"
     ]
    },
    {
     "name": "stdout",
     "output_type": "stream",
     "text": [
      "The string is not a valid palindrome.\n"
     ]
    }
   ],
   "source": [
    "import re\n",
    "\n",
    "def is_valid_palindrome(input_string):\n",
    "    cleaned_string = re.sub(r'[^a-zA-Z0-9]', '', input_string).lower()\n",
    "    return cleaned_string == cleaned_string[::-1]\n",
    "\n",
    "if __name__ == \"__main__\":\n",
    "    user_input = input(\"Enter a string: \")\n",
    "    if is_valid_palindrome(user_input):\n",
    "        print(\"The string is a valid palindrome.\")\n",
    "    else:\n",
    "        print(\"The string is not a valid palindrome.\")"
   ]
  },
  {
   "cell_type": "markdown",
   "id": "0e3f27ab-5290-4f94-b7e9-73239bcd97ab",
   "metadata": {},
   "source": [
    "## 30. Implement a function to find the minimum element in a rotated sorted list."
   ]
  },
  {
   "cell_type": "code",
   "execution_count": 13,
   "id": "6cb2d28a-066b-4a2b-8d53-fefc4a81e08a",
   "metadata": {},
   "outputs": [
    {
     "name": "stdin",
     "output_type": "stream",
     "text": [
      "Enter a rotated sorted list of numbers separated by spaces:  4 5 6 7 4\n"
     ]
    },
    {
     "name": "stdout",
     "output_type": "stream",
     "text": [
      "The minimum element in the rotated sorted list is: 4\n"
     ]
    }
   ],
   "source": [
    "def find_min_in_rotated_sorted_list(nums):\n",
    "    left, right = 0, len(nums) - 1\n",
    "\n",
    "    while left < right:\n",
    "        mid = left + (right - left) // 2\n",
    "\n",
    "        if nums[mid] > nums[right]:\n",
    "            left = mid + 1\n",
    "        else:\n",
    "            right = mid\n",
    "\n",
    "    return nums[left]\n",
    "\n",
    "if __name__ == \"__main__\":\n",
    "    try:\n",
    "        user_input = input(\"Enter a rotated sorted list of numbers separated by spaces: \")\n",
    "        rotated_sorted_list = [int(item) for item in user_input.split()]\n",
    "        min_element = find_min_in_rotated_sorted_list(rotated_sorted_list)\n",
    "        print(\"The minimum element in the rotated sorted list is:\", min_element)\n",
    "    except ValueError:\n",
    "        print(\"Invalid input. Please enter a list of integers separated by spaces.\")"
   ]
  },
  {
   "cell_type": "markdown",
   "id": "30c2810f-0adf-4e67-b5a2-2287c3e3b509",
   "metadata": {},
   "source": [
    "## 31. Write a program to find the sum of all even numbers in a list."
   ]
  },
  {
   "cell_type": "code",
   "execution_count": 14,
   "id": "894616a8-2ad0-4e8f-9ef3-028597a70d33",
   "metadata": {},
   "outputs": [
    {
     "name": "stdin",
     "output_type": "stream",
     "text": [
      "Enter a list of numbers separated by spaces:  4 5 6 7 3 8 2\n"
     ]
    },
    {
     "name": "stdout",
     "output_type": "stream",
     "text": [
      "Sum of even numbers in the list: 20\n"
     ]
    }
   ],
   "source": [
    "def sum_of_even_numbers(input_list):\n",
    "    even_sum = 0\n",
    "\n",
    "    for num in input_list:\n",
    "        if num % 2 == 0:\n",
    "            even_sum += num\n",
    "\n",
    "    return even_sum\n",
    "\n",
    "if __name__ == \"__main__\":\n",
    "    try:\n",
    "        user_input = input(\"Enter a list of numbers separated by spaces: \")\n",
    "        numbers = [int(item) for item in user_input.split()]\n",
    "        even_sum = sum_of_even_numbers(numbers)\n",
    "        print(\"Sum of even numbers in the list:\", even_sum)\n",
    "    except ValueError:\n",
    "        print(\"Invalid input. Please enter a list of integers separated by spaces.\")"
   ]
  },
  {
   "cell_type": "markdown",
   "id": "83090aec-06d9-40da-83f5-e3078b5794a5",
   "metadata": {},
   "source": [
    "## 32. Implement a function to calculate the power of a number using recursion."
   ]
  },
  {
   "cell_type": "code",
   "execution_count": 16,
   "id": "94899f62-7be9-4ffe-bf24-f74e80f1e020",
   "metadata": {},
   "outputs": [
    {
     "name": "stdin",
     "output_type": "stream",
     "text": [
      "Enter the base number:  10\n",
      "Enter the exponent:  3\n"
     ]
    },
    {
     "name": "stdout",
     "output_type": "stream",
     "text": [
      "10.0 raised to the power of 3 is: 1000.0\n"
     ]
    }
   ],
   "source": [
    "def power(base, exponent):\n",
    "    if exponent == 0:\n",
    "        return 1\n",
    "    elif exponent > 0:\n",
    "        return base * power(base, exponent - 1)\n",
    "    else:\n",
    "        return 1 / base * power(base, exponent + 1)\n",
    "\n",
    "if __name__ == \"__main__\":\n",
    "    try:\n",
    "        base = float(input(\"Enter the base number: \"))\n",
    "        exponent = int(input(\"Enter the exponent: \"))\n",
    "        result = power(base, exponent)\n",
    "        print(f\"{base} raised to the power of {exponent} is: {result}\")\n",
    "    except ValueError:\n",
    "        print(\"Invalid input. Please enter a valid base number and an integer exponent.\")"
   ]
  },
  {
   "cell_type": "markdown",
   "id": "9a2a4ae0-c315-42cb-bd1b-11b61f0d235c",
   "metadata": {},
   "source": [
    "## 33. Write a Python program to remove duplicates from a list while preserving the order."
   ]
  },
  {
   "cell_type": "code",
   "execution_count": 17,
   "id": "6851ea8e-0ac5-42b9-bf84-02c4cf74466d",
   "metadata": {},
   "outputs": [
    {
     "name": "stdin",
     "output_type": "stream",
     "text": [
      "Enter a list of elements separated by spaces:  2 3 4 2 5 4 6 4 9\n"
     ]
    },
    {
     "name": "stdout",
     "output_type": "stream",
     "text": [
      "List with duplicates removed while preserving order: ['2', '3', '4', '5', '6', '9']\n"
     ]
    }
   ],
   "source": [
    "def remove_duplicates_preserve_order(input_list):\n",
    "    unique_list = []\n",
    "    seen_elements = set()\n",
    "\n",
    "    for item in input_list:\n",
    "        if item not in seen_elements:\n",
    "            unique_list.append(item)\n",
    "            seen_elements.add(item)\n",
    "\n",
    "    return unique_list\n",
    "\n",
    "if __name__ == \"__main__\":\n",
    "    try:\n",
    "        user_input = input(\"Enter a list of elements separated by spaces: \")\n",
    "        input_list = user_input.split()\n",
    "        unique_list = remove_duplicates_preserve_order(input_list)\n",
    "        print(\"List with duplicates removed while preserving order:\", unique_list)\n",
    "    except ValueError:\n",
    "        print(\"Invalid input. Please enter a list of elements separated by spaces.\")"
   ]
  },
  {
   "cell_type": "markdown",
   "id": "3cec9b51-c0e5-4aff-9a2b-0f740564da7a",
   "metadata": {},
   "source": [
    "## 34. Implement a function to find the longest common prefix among a list of strings."
   ]
  },
  {
   "cell_type": "code",
   "execution_count": 20,
   "id": "983cfd8a-1e9d-4d77-bdda-e3fedcf3254f",
   "metadata": {},
   "outputs": [
    {
     "name": "stdin",
     "output_type": "stream",
     "text": [
      "Enter a list of strings separated by spaces:  the the the the the\n"
     ]
    },
    {
     "name": "stdout",
     "output_type": "stream",
     "text": [
      "Longest common prefix: the\n"
     ]
    }
   ],
   "source": [
    "def longest_common_prefix(strs):\n",
    "    if not strs:\n",
    "        return \"\"\n",
    "\n",
    "    common_prefix = \"\"\n",
    "    first_string = strs[0]\n",
    "\n",
    "    for i in range(len(first_string)):\n",
    "        char = first_string[i]\n",
    "        for other_string in strs[1:]:\n",
    "            if i >= len(other_string) or other_string[i] != char:\n",
    "                return common_prefix\n",
    "        common_prefix += char\n",
    "\n",
    "    return common_prefix\n",
    "\n",
    "if __name__ == \"__main__\":\n",
    "    try:\n",
    "        user_input = input(\"Enter a list of strings separated by spaces: \")\n",
    "        input_list = user_input.split()\n",
    "        result = longest_common_prefix(input_list)\n",
    "        print(\"Longest common prefix:\", result)\n",
    "    except ValueError:\n",
    "        print(\"Invalid input. Please enter a list of strings separated by spaces.\")"
   ]
  },
  {
   "cell_type": "markdown",
   "id": "8d20f3bd-3e9b-4326-9057-49dcfb11b3b3",
   "metadata": {},
   "source": [
    "## 35. Write a program to check if a given number is a perfect square."
   ]
  },
  {
   "cell_type": "code",
   "execution_count": 21,
   "id": "0a845b66-8cec-4cc8-8a3a-b937d27f10b6",
   "metadata": {},
   "outputs": [
    {
     "name": "stdin",
     "output_type": "stream",
     "text": [
      "Enter a number:  4\n"
     ]
    },
    {
     "name": "stdout",
     "output_type": "stream",
     "text": [
      "4.0 is a perfect square.\n"
     ]
    }
   ],
   "source": [
    "def is_perfect_square(number):\n",
    "    if number < 0:\n",
    "        return False\n",
    "\n",
    "    square_root = int(number ** 0.5)\n",
    "    return square_root * square_root == number\n",
    "\n",
    "if __name__ == \"__main__\":\n",
    "    try:\n",
    "        user_input = float(input(\"Enter a number: \"))\n",
    "        if is_perfect_square(user_input):\n",
    "            print(f\"{user_input} is a perfect square.\")\n",
    "        else:\n",
    "            print(f\"{user_input} is not a perfect square.\")\n",
    "    except ValueError:\n",
    "        print(\"Invalid input. Please enter a valid number.\")"
   ]
  },
  {
   "cell_type": "markdown",
   "id": "115bccee-475e-4289-80b0-809f2cb3dc6d",
   "metadata": {},
   "source": [
    "## 36. Implement a function to calculate the product of all elements in a list."
   ]
  },
  {
   "cell_type": "code",
   "execution_count": 22,
   "id": "b89f5f68-9330-4f09-8ce0-7a297578f265",
   "metadata": {},
   "outputs": [
    {
     "name": "stdin",
     "output_type": "stream",
     "text": [
      "Enter a list of numbers separated by spaces:  3 4 5 6 2 4 5 9\n"
     ]
    },
    {
     "name": "stdout",
     "output_type": "stream",
     "text": [
      "Product of all elements in the list: 129600\n"
     ]
    }
   ],
   "source": [
    "def product_of_elements(input_list):\n",
    "    product = 1\n",
    "\n",
    "    for num in input_list:\n",
    "        product *= num\n",
    "\n",
    "    return product\n",
    "\n",
    "if __name__ == \"__main__\":\n",
    "    try:\n",
    "        user_input = input(\"Enter a list of numbers separated by spaces: \")\n",
    "        input_list = [int(item) for item in user_input.split()]\n",
    "        result = product_of_elements(input_list)\n",
    "        print(\"Product of all elements in the list:\", result)\n",
    "    except ValueError:\n",
    "        print(\"Invalid input. Please enter a list of integers separated by spaces.\")"
   ]
  },
  {
   "cell_type": "markdown",
   "id": "7fde57d9-45f0-4006-8d8f-6a5f44c0ec8a",
   "metadata": {},
   "source": [
    "## 37. Write a Python program to reverse the order of words in a sentence while preserving the word order."
   ]
  },
  {
   "cell_type": "code",
   "execution_count": 23,
   "id": "65fb8be1-a483-4e0a-a455-d15788f1f50a",
   "metadata": {},
   "outputs": [
    {
     "name": "stdin",
     "output_type": "stream",
     "text": [
      "Enter a sentence:  the dog is wise\n"
     ]
    },
    {
     "name": "stdout",
     "output_type": "stream",
     "text": [
      "Reversed sentence while preserving word order: eht god si esiw\n"
     ]
    }
   ],
   "source": [
    "def reverse_words(sentence):\n",
    "    words = sentence.split()\n",
    "    reversed_words = [word[::-1] for word in words]\n",
    "    reversed_sentence = \" \".join(reversed_words)\n",
    "    return reversed_sentence\n",
    "\n",
    "if __name__ == \"__main__\":\n",
    "    user_input = input(\"Enter a sentence: \")\n",
    "    reversed_sentence = reverse_words(user_input)\n",
    "    print(\"Reversed sentence while preserving word order:\", reversed_sentence)"
   ]
  },
  {
   "cell_type": "markdown",
   "id": "6cd79cca-4c4a-4208-b3ff-09772c117203",
   "metadata": {},
   "source": [
    "## 38. Implement a function to find the missing number in a given list of consecutive numbers."
   ]
  },
  {
   "cell_type": "code",
   "execution_count": 25,
   "id": "d2a34f2c-759d-438b-91b1-d71df54ddbf7",
   "metadata": {},
   "outputs": [
    {
     "name": "stdin",
     "output_type": "stream",
     "text": [
      "Enter a list of consecutive numbers separated by spaces:  3 0 1\n"
     ]
    },
    {
     "name": "stdout",
     "output_type": "stream",
     "text": [
      "The missing number is: 4\n"
     ]
    }
   ],
   "source": [
    "def find_missing_number(consecutive_list):\n",
    "    n = len(consecutive_list)\n",
    "    expected_sum = (n + 1) * (consecutive_list[0] + consecutive_list[-1]) // 2\n",
    "    actual_sum = sum(consecutive_list)\n",
    "    missing_number = expected_sum - actual_sum\n",
    "    return missing_number\n",
    "\n",
    "if __name__ == \"__main__\":\n",
    "    try:\n",
    "        user_input = input(\"Enter a list of consecutive numbers separated by spaces: \")\n",
    "        consecutive_list = [int(item) for item in user_input.split()]\n",
    "        missing_number = find_missing_number(consecutive_list)\n",
    "        print(\"The missing number is:\", missing_number)\n",
    "    except ValueError:\n",
    "        print(\"Invalid input. Please enter a list of integers separated by spaces.\")"
   ]
  },
  {
   "cell_type": "markdown",
   "id": "9361aedf-a10c-4312-ac31-653b5873a4c4",
   "metadata": {},
   "source": [
    "## 39. Write a program to find the sum of digits of a given number."
   ]
  },
  {
   "cell_type": "code",
   "execution_count": 27,
   "id": "f588dc62-fca4-4528-8668-9ec8c9a1ff39",
   "metadata": {},
   "outputs": [
    {
     "name": "stdin",
     "output_type": "stream",
     "text": [
      "Enter a number:  24\n"
     ]
    },
    {
     "name": "stdout",
     "output_type": "stream",
     "text": [
      "Sum of digits of the number: 6\n"
     ]
    }
   ],
   "source": [
    "def sum_of_digits(number):\n",
    "    sum_digits = 0\n",
    "\n",
    "    while number > 0:\n",
    "        digit = number % 10\n",
    "        sum_digits += digit\n",
    "        number //= 10\n",
    "\n",
    "    return sum_digits\n",
    "\n",
    "if __name__ == \"__main__\":\n",
    "    try:\n",
    "        user_input = int(input(\"Enter a number: \"))\n",
    "        result = sum_of_digits(user_input)\n",
    "        print(\"Sum of digits of the number:\", result)\n",
    "    except ValueError:\n",
    "        print(\"Invalid input. Please enter a valid number.\")"
   ]
  },
  {
   "cell_type": "markdown",
   "id": "3867334f-1c78-4802-aac2-4656be10424a",
   "metadata": {},
   "source": [
    "## 40. Implement a function to check if a given string is a valid palindrome considering case sensitivity."
   ]
  },
  {
   "cell_type": "code",
   "execution_count": 29,
   "id": "c538c6e9-ddc3-4fe0-a71f-533a49e1a1d6",
   "metadata": {},
   "outputs": [
    {
     "name": "stdin",
     "output_type": "stream",
     "text": [
      "Enter a string:  the car is fancy\n"
     ]
    },
    {
     "name": "stdout",
     "output_type": "stream",
     "text": [
      "The string is not a valid palindrome.\n"
     ]
    }
   ],
   "source": [
    "def is_valid_palindrome(input_string):\n",
    "    # Remove non-alphanumeric characters and convert to lowercase\n",
    "    cleaned_string = ''.join(char.lower() for char in input_string if char.isalnum())\n",
    "    \n",
    "    left, right = 0, len(cleaned_string) - 1\n",
    "\n",
    "    while left < right:\n",
    "        if cleaned_string[left] != cleaned_string[right]:\n",
    "            return False\n",
    "        left += 1\n",
    "        right -= 1\n",
    "\n",
    "    return True\n",
    "\n",
    "if __name__ == \"__main__\":\n",
    "    user_input = input(\"Enter a string: \")\n",
    "    if is_valid_palindrome(user_input):\n",
    "        print(\"The string is a valid palindrome.\")\n",
    "    else:\n",
    "        print(\"The string is not a valid palindrome.\")"
   ]
  },
  {
   "cell_type": "markdown",
   "id": "db296f3f-c8ba-4ef8-a271-bf471de329cc",
   "metadata": {},
   "source": [
    "## 41. Write a Python program to find the smallest missing positive integer in a list."
   ]
  },
  {
   "cell_type": "code",
   "execution_count": 30,
   "id": "130918a3-755e-4446-af07-29e24295d7c3",
   "metadata": {},
   "outputs": [
    {
     "name": "stdin",
     "output_type": "stream",
     "text": [
      "Enter a list of integers separated by spaces:  3 4 5 6 7 8 3\n"
     ]
    },
    {
     "name": "stdout",
     "output_type": "stream",
     "text": [
      "The smallest missing positive integer is: 1\n"
     ]
    }
   ],
   "source": [
    "def first_missing_positive(nums):\n",
    "    n = len(nums)\n",
    "\n",
    "    for i in range(n):\n",
    "        while 1 <= nums[i] <= n and nums[nums[i] - 1] != nums[i]:\n",
    "            nums[nums[i] - 1], nums[i] = nums[i], nums[nums[i] - 1]\n",
    "\n",
    "    for i in range(n):\n",
    "        if nums[i] != i + 1:\n",
    "            return i + 1\n",
    "\n",
    "    return n + 1\n",
    "\n",
    "if __name__ == \"__main__\":\n",
    "    try:\n",
    "        user_input = input(\"Enter a list of integers separated by spaces: \")\n",
    "        nums = [int(item) for item in user_input.split()]\n",
    "        missing_positive = first_missing_positive(nums)\n",
    "        print(\"The smallest missing positive integer is:\", missing_positive)\n",
    "    except ValueError:\n",
    "        print(\"Invalid input. Please enter a list of integers separated by spaces.\")"
   ]
  },
  {
   "cell_type": "markdown",
   "id": "e311dbd8-26e8-4093-bf08-324be7e6a8d3",
   "metadata": {},
   "source": [
    "## 42. Implement a function to find the longest palindrome substring in a given string."
   ]
  },
  {
   "cell_type": "code",
   "execution_count": 31,
   "id": "dbad9b06-8479-4f62-a550-2735bfd21e6e",
   "metadata": {},
   "outputs": [
    {
     "name": "stdin",
     "output_type": "stream",
     "text": [
      "Enter a string:  the dog is wise\n"
     ]
    },
    {
     "name": "stdout",
     "output_type": "stream",
     "text": [
      "Longest palindrome substring: e\n"
     ]
    }
   ],
   "source": [
    "def longest_palindrome_substring(s):\n",
    "    n = len(s)\n",
    "    dp = [[False for _ in range(n)] for _ in range(n)]\n",
    "\n",
    "    longest_palindrome = \"\"\n",
    "\n",
    "    # All substrings of length 1 are palindromes\n",
    "    for i in range(n):\n",
    "        dp[i][i] = True\n",
    "        longest_palindrome = s[i]\n",
    "\n",
    "    # Check for substrings of length 2\n",
    "    for i in range(n - 1):\n",
    "        if s[i] == s[i + 1]:\n",
    "            dp[i][i + 1] = True\n",
    "            longest_palindrome = s[i:i + 2]\n",
    "\n",
    "    # Check for substrings of length 3 or more\n",
    "    for length in range(3, n + 1):\n",
    "        for i in range(n - length + 1):\n",
    "            j = i + length - 1\n",
    "            if s[i] == s[j] and dp[i + 1][j - 1]:\n",
    "                dp[i][j] = True\n",
    "                longest_palindrome = s[i:j + 1]\n",
    "\n",
    "    return longest_palindrome\n",
    "\n",
    "if __name__ == \"__main__\":\n",
    "    user_input = input(\"Enter a string: \")\n",
    "    result = longest_palindrome_substring(user_input)\n",
    "    print(\"Longest palindrome substring:\", result)"
   ]
  },
  {
   "cell_type": "markdown",
   "id": "661b2e36-25ed-4609-a754-1a6eb1476945",
   "metadata": {},
   "source": [
    "## 43. Write a program to find the number of occurrences of a given element in a list."
   ]
  },
  {
   "cell_type": "code",
   "execution_count": 32,
   "id": "c6cc122f-48b2-40ab-b844-55b0d278076f",
   "metadata": {},
   "outputs": [
    {
     "name": "stdin",
     "output_type": "stream",
     "text": [
      "Enter a list of elements separated by spaces:  3 4 5 6 3 4 5 6 4 7\n",
      "Enter the element to count its occurrences:  4\n"
     ]
    },
    {
     "name": "stdout",
     "output_type": "stream",
     "text": [
      "The element '4' occurs 3 times in the list.\n"
     ]
    }
   ],
   "source": [
    "def count_occurrences(input_list, target_element):\n",
    "    count = 0\n",
    "\n",
    "    for element in input_list:\n",
    "        if element == target_element:\n",
    "            count += 1\n",
    "\n",
    "    return count\n",
    "\n",
    "if __name__ == \"__main__\":\n",
    "    try:\n",
    "        user_input = input(\"Enter a list of elements separated by spaces: \")\n",
    "        input_list = user_input.split()\n",
    "        target_element = input(\"Enter the element to count its occurrences: \")\n",
    "        occurrences = count_occurrences(input_list, target_element)\n",
    "        print(f\"The element '{target_element}' occurs {occurrences} times in the list.\")\n",
    "    except ValueError:\n",
    "        print(\"Invalid input. Please enter a list of elements separated by spaces.\")"
   ]
  },
  {
   "cell_type": "markdown",
   "id": "d25419de-a9c1-4f1a-8e15-70f418c3f1da",
   "metadata": {},
   "source": [
    "## 44. Implement a function to check if a given number is a perfect number."
   ]
  },
  {
   "cell_type": "code",
   "execution_count": 33,
   "id": "433202dd-011a-487d-bec3-e55047c350f7",
   "metadata": {},
   "outputs": [
    {
     "name": "stdin",
     "output_type": "stream",
     "text": [
      "Enter a number:  44\n"
     ]
    },
    {
     "name": "stdout",
     "output_type": "stream",
     "text": [
      "44 is not a perfect number.\n"
     ]
    }
   ],
   "source": [
    "def get_proper_divisors(num):\n",
    "    divisors = [1]  # 1 is always a proper divisor\n",
    "    for i in range(2, int(num**0.5) + 1):\n",
    "        if num % i == 0:\n",
    "            divisors.append(i)\n",
    "            if i != num // i:\n",
    "                divisors.append(num // i)\n",
    "    return divisors\n",
    "\n",
    "def is_perfect_number(num):\n",
    "    if num <= 0:\n",
    "        return False\n",
    "\n",
    "    proper_divisors = get_proper_divisors(num)\n",
    "    sum_divisors = sum(proper_divisors)\n",
    "\n",
    "    return sum_divisors == num\n",
    "\n",
    "if __name__ == \"__main__\":\n",
    "    try:\n",
    "        user_input = int(input(\"Enter a number: \"))\n",
    "        if is_perfect_number(user_input):\n",
    "            print(f\"{user_input} is a perfect number.\")\n",
    "        else:\n",
    "            print(f\"{user_input} is not a perfect number.\")\n",
    "    except ValueError:\n",
    "        print(\"Invalid input. Please enter a valid number.\")"
   ]
  },
  {
   "cell_type": "markdown",
   "id": "a11a7d17-6c3a-4212-bea9-dfef39702b57",
   "metadata": {},
   "source": [
    "## 45. Write a Python program to remove all duplicates from a string."
   ]
  },
  {
   "cell_type": "code",
   "execution_count": 34,
   "id": "19ea6d35-2a6e-4807-9631-7abbe0e490fd",
   "metadata": {},
   "outputs": [
    {
     "name": "stdin",
     "output_type": "stream",
     "text": [
      "Enter a string:  the dog is fake dog\n"
     ]
    },
    {
     "name": "stdout",
     "output_type": "stream",
     "text": [
      "String with duplicates removed: the dogisfak\n"
     ]
    }
   ],
   "source": [
    "def remove_duplicates(input_string):\n",
    "    seen_chars = set()\n",
    "    result_string = \"\"\n",
    "\n",
    "    for char in input_string:\n",
    "        if char not in seen_chars:\n",
    "            result_string += char\n",
    "            seen_chars.add(char)\n",
    "\n",
    "    return result_string\n",
    "\n",
    "if __name__ == \"__main__\":\n",
    "    user_input = input(\"Enter a string: \")\n",
    "    result = remove_duplicates(user_input)\n",
    "    print(\"String with duplicates removed:\", result)"
   ]
  },
  {
   "cell_type": "markdown",
   "id": "4497dc70-3b84-4864-8296-bcaf347c265f",
   "metadata": {},
   "source": [
    "## 46. Implement a function to find the first missing positive"
   ]
  },
  {
   "cell_type": "code",
   "execution_count": 35,
   "id": "32c4591a-c1f8-4881-9f82-beb2780ed994",
   "metadata": {},
   "outputs": [
    {
     "name": "stdin",
     "output_type": "stream",
     "text": [
      "Enter a list of integers separated by spaces:  3 4 5 6 7 2 3 4 5\n"
     ]
    },
    {
     "name": "stdout",
     "output_type": "stream",
     "text": [
      "The first missing positive integer is: 1\n"
     ]
    }
   ],
   "source": [
    "def first_missing_positive(nums):\n",
    "    n = len(nums)\n",
    "\n",
    "    for i in range(n):\n",
    "        while 1 <= nums[i] <= n and nums[nums[i] - 1] != nums[i]:\n",
    "            nums[nums[i] - 1], nums[i] = nums[i], nums[nums[i] - 1]\n",
    "\n",
    "    for i in range(n):\n",
    "        if nums[i] != i + 1:\n",
    "            return i + 1\n",
    "\n",
    "    return n + 1\n",
    "\n",
    "if __name__ == \"__main__\":\n",
    "    try:\n",
    "        user_input = input(\"Enter a list of integers separated by spaces: \")\n",
    "        nums = [int(item) for item in user_input.split()]\n",
    "        missing_positive = first_missing_positive(nums)\n",
    "        print(\"The first missing positive integer is:\", missing_positive)\n",
    "    except ValueError:\n",
    "        print(\"Invalid input. Please enter a list of integers separated by spaces.\")"
   ]
  },
  {
   "cell_type": "code",
   "execution_count": null,
   "id": "575fdd7b-46a0-4109-b842-5b1787d99e07",
   "metadata": {},
   "outputs": [],
   "source": []
  }
 ],
 "metadata": {
  "kernelspec": {
   "display_name": "Python 3 (ipykernel)",
   "language": "python",
   "name": "python3"
  },
  "language_info": {
   "codemirror_mode": {
    "name": "ipython",
    "version": 3
   },
   "file_extension": ".py",
   "mimetype": "text/x-python",
   "name": "python",
   "nbconvert_exporter": "python",
   "pygments_lexer": "ipython3",
   "version": "3.10.8"
  }
 },
 "nbformat": 4,
 "nbformat_minor": 5
}
