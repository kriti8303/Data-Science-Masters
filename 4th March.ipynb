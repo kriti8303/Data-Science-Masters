{
 "cells": [
  {
   "cell_type": "markdown",
   "id": "b305cece-231b-4a4a-8124-9422118e1803",
   "metadata": {},
   "source": [
    "## Question 1: Load the \"titanic\" dataset using the load_dataset function of seaborn. Use Plotly express to plot a scatter plot for age and fare columns in the titanic dataset."
   ]
  },
  {
   "cell_type": "markdown",
   "id": "da3f9144-cffa-4280-afaa-7f134752c4ab",
   "metadata": {},
   "source": [
    "To plot a scatter plot for the \"age\" and \"fare\" columns in the Titanic dataset using Plotly Express, we need to follow these steps:\n",
    "\n",
    "* Load the Titanic dataset using the load_dataset function from Seaborn.\n",
    "\n",
    "* Create a scatter plot using Plotly Express.\n",
    "\n",
    "### Here is the Python code to achieve this:"
   ]
  },
  {
   "cell_type": "code",
   "execution_count": null,
   "id": "04e47764-693e-4104-9b59-a4d638f21f9d",
   "metadata": {},
   "outputs": [],
   "source": [
    "import seaborn as sns\n",
    "import plotly.express as px\n",
    "\n",
    "# Load the Titanic dataset\n",
    "titanic = sns.load_dataset('titanic')\n",
    "\n",
    "# Plot a scatter plot using Plotly Express\n",
    "fig = px.scatter(titanic, x='age', y='fare', title=\"Scatter Plot of Age vs Fare on Titanic\")\n",
    "fig.show()"
   ]
  },
  {
   "cell_type": "code",
   "execution_count": 2,
   "id": "305daf52-3838-4ac9-ae9b-e711ff68f9b8",
   "metadata": {},
   "outputs": [
    {
     "name": "stdout",
     "output_type": "stream",
     "text": [
      "Collecting plotly\n",
      "  Downloading plotly-5.23.0-py3-none-any.whl (17.3 MB)\n",
      "\u001b[2K     \u001b[90m━━━━━━━━━━━━━━━━━━━━━━━━━━━━━━━━━━━━━━━━\u001b[0m \u001b[32m17.3/17.3 MB\u001b[0m \u001b[31m50.2 MB/s\u001b[0m eta \u001b[36m0:00:00\u001b[0m00:01\u001b[0m00:01\u001b[0m\n",
      "\u001b[?25hCollecting tenacity>=6.2.0\n",
      "  Downloading tenacity-9.0.0-py3-none-any.whl (28 kB)\n",
      "Requirement already satisfied: packaging in /opt/conda/lib/python3.10/site-packages (from plotly) (22.0)\n",
      "Installing collected packages: tenacity, plotly\n",
      "Successfully installed plotly-5.23.0 tenacity-9.0.0\n"
     ]
    }
   ],
   "source": [
    "! pip install plotly"
   ]
  },
  {
   "cell_type": "code",
   "execution_count": null,
   "id": "ebacc734-753a-4939-b317-920c5075cd33",
   "metadata": {},
   "outputs": [],
   "source": []
  }
 ],
 "metadata": {
  "kernelspec": {
   "display_name": "Python 3 (ipykernel)",
   "language": "python",
   "name": "python3"
  },
  "language_info": {
   "codemirror_mode": {
    "name": "ipython",
    "version": 3
   },
   "file_extension": ".py",
   "mimetype": "text/x-python",
   "name": "python",
   "nbconvert_exporter": "python",
   "pygments_lexer": "ipython3",
   "version": "3.10.8"
  }
 },
 "nbformat": 4,
 "nbformat_minor": 5
}
