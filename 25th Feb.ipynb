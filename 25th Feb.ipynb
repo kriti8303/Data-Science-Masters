{
 "cells": [
  {
   "cell_type": "markdown",
   "id": "acc1f25b-96fc-4022-a4ca-59b431414662",
   "metadata": {},
   "source": [
    "* Consider following code to answer further questions:\n",
    "\n",
    "import pandas as pd\n",
    "\n",
    "course_name = [‘Data Science’, ‘Machine Learning’, ‘Big Data’, ‘Data Engineer’]\n",
    "\n",
    "duration = [2,3,6,4]\n",
    "\n",
    "df = pd.DataFrame(data = {‘course_name’ : course_name, ‘duration’ : duration})\n",
    "\n",
    "## Question 1: Write a code to print the data present in the second row of the dataframe, df."
   ]
  },
  {
   "cell_type": "code",
   "execution_count": 1,
   "id": "e154a264-c2f1-4717-a50f-1fc58cd8b183",
   "metadata": {},
   "outputs": [
    {
     "name": "stdout",
     "output_type": "stream",
     "text": [
      "course_name    Machine Learning\n",
      "duration                      3\n",
      "Name: 1, dtype: object\n"
     ]
    }
   ],
   "source": [
    "import pandas as pd\n",
    "\n",
    "course_name = ['Data Science', 'Machine Learning', 'Big Data', 'Data Engineer']\n",
    "duration = [2, 3, 6, 4]\n",
    "\n",
    "df = pd.DataFrame(data={'course_name': course_name, 'duration': duration})\n",
    "\n",
    "# Print the data present in the second row\n",
    "second_row = df.iloc[1]\n",
    "print(second_row)"
   ]
  },
  {
   "cell_type": "markdown",
   "id": "4d3495ca-1570-453d-83bc-18d65bb5f59e",
   "metadata": {},
   "source": [
    "## Question 2: What is the difference between the functions loc and iloc in pandas.DataFrame?"
   ]
  },
  {
   "cell_type": "markdown",
   "id": "daf037c7-9806-4bda-93f0-bd11afad7738",
   "metadata": {},
   "source": [
    "The primary difference between the functions loc and iloc in pandas.DataFrame lies in how they access data in the DataFrame:\n",
    "\n",
    "1. loc: Label-based Indexing\n",
    "\n",
    "* Usage: loc is used to access rows and columns by labels (index names) or a boolean array.\n",
    "\n",
    "* Example: If you have a DataFrame with a custom index, like df.loc['index_label'], it will return the row corresponding to 'index_label'.\n",
    "\n",
    "* Syntax: df.loc[row_label, column_label]\n",
    "\n",
    "2. iloc: Integer-location based Indexing\n",
    "\n",
    "* Usage: iloc is used to access rows and columns by integer position (i.e., numerical index).\n",
    "\n",
    "* Example: df.iloc[0] will return the first row of the DataFrame, regardless of the actual index label.\n",
    "\n",
    "* Syntax: df.iloc[row_position, column_position]\n",
    "\n",
    "### Key Differences:\n",
    "\n",
    "* loc uses labels, meaning the actual names of rows and columns, whereas iloc uses integer positions.\n",
    "\n",
    "* loc can handle slicing with labels (e.g., df.loc['a':'c']), while iloc handles slicing with integers (e.g., df.iloc[0:2])."
   ]
  },
  {
   "cell_type": "markdown",
   "id": "af009685-a417-4852-979f-4e7c2e076b92",
   "metadata": {},
   "source": [
    "## Question 3: Reindex the given dataframe using a variable, reindex = [3,0,1,2] and store it in the variable, new_df then find the output for both new_df.loc[2] and new_df.iloc[2]. Did you observe any difference in both the outputs? If so then explain it. Consider the below code to answer further questions:\n",
    "\n",
    "import pandas as pd\n",
    "\n",
    "import numpy as np\n",
    "\n",
    "columns = ['column_1', 'column_2', 'column_3', 'column_4', 'column_5', 'column_6']\n",
    "\n",
    "indices = [1,2,3,4,5,6]\n",
    "\n",
    "#Creating a dataframe:\n",
    "\n",
    "df1 = pd.DataFrame(np.random.rand(6,6), columns = columns, index = indices)"
   ]
  },
  {
   "cell_type": "code",
   "execution_count": 2,
   "id": "17d62a73-0208-4473-bd1f-0882ce3564c6",
   "metadata": {},
   "outputs": [
    {
     "name": "stdout",
     "output_type": "stream",
     "text": [
      "new_df.loc[2]:\n",
      "column_1    0.861488\n",
      "column_2    0.184271\n",
      "column_3    0.020981\n",
      "column_4    0.565336\n",
      "column_5    0.946401\n",
      "column_6    0.378627\n",
      "Name: 2, dtype: float64\n",
      "\n",
      "new_df.iloc[2]:\n",
      "column_1    0.623246\n",
      "column_2    0.210819\n",
      "column_3    0.778330\n",
      "column_4    0.431524\n",
      "column_5    0.850322\n",
      "column_6    0.274374\n",
      "Name: 1, dtype: float64\n"
     ]
    }
   ],
   "source": [
    "import pandas as pd\n",
    "import numpy as np\n",
    "\n",
    "# Define the columns and indices\n",
    "columns = ['column_1', 'column_2', 'column_3', 'column_4', 'column_5', 'column_6']\n",
    "indices = [1, 2, 3, 4, 5, 6]\n",
    "\n",
    "# Create the original DataFrame\n",
    "df1 = pd.DataFrame(np.random.rand(6, 6), columns=columns, index=indices)\n",
    "\n",
    "# Reindex the DataFrame\n",
    "reindex = [3, 0, 1, 2]\n",
    "new_df = df1.reindex(reindex)\n",
    "\n",
    "# Output the results of new_df.loc[2] and new_df.iloc[2]\n",
    "loc_output = new_df.loc[2]\n",
    "iloc_output = new_df.iloc[2]\n",
    "\n",
    "print(\"new_df.loc[2]:\")\n",
    "print(loc_output)\n",
    "print(\"\\nnew_df.iloc[2]:\")\n",
    "print(iloc_output)"
   ]
  },
  {
   "cell_type": "markdown",
   "id": "42ede359-b32f-45e4-aad6-0dcd3224bf45",
   "metadata": {},
   "source": [
    "### Explanation and Observations:\n",
    "\n",
    "### new_df.loc[2]:\n",
    "\n",
    "This uses the loc method to access the row with the index label 2. Since the original index label 2 corresponds to the third row of df1, this row will be preserved in new_df under the new index label 2. The data for this row will match the original df1 row with index label 2.\n",
    "\n",
    "### new_df.iloc[2]:\n",
    "\n",
    "This uses the iloc method to access the row at the integer position 2 in the reindexed DataFrame new_df. After reindexing, the third row (iloc[2]) of new_df corresponds to the original row in df1 with the index label 1. Thus, the data will match the data in df1's row with index label 1.\n",
    "\n",
    "### Difference in Outputs:\n",
    "\n",
    "* new_df.loc[2] returns the row with the index label 2 after reindexing. Since the original index for row 2 is retained, this matches the original row with index label 2 from df1.\n",
    "\n",
    "* new_df.iloc[2] returns the third row by integer position in new_df (0-based index). Due to reindexing, this corresponds to the original row with index label 1 from df1."
   ]
  },
  {
   "cell_type": "markdown",
   "id": "c21d4b46-7c45-44f3-825d-b4ef0e02c5a4",
   "metadata": {},
   "source": [
    "## Question 4: Write a code to find the following statistical measurements for the above dataframe df1:\n",
    "(i) mean of each and every column present in the dataframe.\n",
    "\n",
    "(ii) standard deviation of column, ‘column_2’"
   ]
  },
  {
   "cell_type": "code",
   "execution_count": 3,
   "id": "9ab69a2b-7209-4713-b5d7-8ac8bd4f204f",
   "metadata": {},
   "outputs": [
    {
     "name": "stdout",
     "output_type": "stream",
     "text": [
      "Mean of each column:\n",
      "column_1    0.573895\n",
      "column_2    0.452518\n",
      "column_3    0.493930\n",
      "column_4    0.552477\n",
      "column_5    0.373363\n",
      "column_6    0.511110\n",
      "dtype: float64\n",
      "\n",
      "Standard deviation of column_2:\n",
      "0.28425806884586097\n"
     ]
    }
   ],
   "source": [
    "import pandas as pd\n",
    "import numpy as np\n",
    "\n",
    "# Define the columns and indices\n",
    "columns = ['column_1', 'column_2', 'column_3', 'column_4', 'column_5', 'column_6']\n",
    "indices = [1, 2, 3, 4, 5, 6]\n",
    "\n",
    "# Create the original DataFrame with random data\n",
    "df1 = pd.DataFrame(np.random.rand(6, 6), columns=columns, index=indices)\n",
    "\n",
    "# (i) Calculate the mean of each column\n",
    "column_means = df1.mean()\n",
    "print(\"Mean of each column:\")\n",
    "print(column_means)\n",
    "\n",
    "# (ii) Calculate the standard deviation of the column 'column_2'\n",
    "column_2_std = df1['column_2'].std()\n",
    "print(\"\\nStandard deviation of column_2:\")\n",
    "print(column_2_std)"
   ]
  },
  {
   "cell_type": "markdown",
   "id": "a0afd130-efe1-4a47-97f7-64398f48b018",
   "metadata": {},
   "source": [
    "### Explanation:\n",
    "\n",
    "1. Mean of Each Column (df1.mean()):\n",
    "\n",
    "df1.mean() computes the mean of each column in the DataFrame df1. The method calculates the average value for each column across all rows.\n",
    "\n",
    "2. Standard Deviation of 'column_2' (df1['column_2'].std()):\n",
    "\n",
    "df1['column_2'].std() computes the standard deviation of the column 'column_2'. The standard deviation measures the amount of variation or dispersion of a set of values."
   ]
  },
  {
   "cell_type": "markdown",
   "id": "a0d5713b-a37e-45d8-9a1f-7275801a65f1",
   "metadata": {},
   "source": [
    "## Question 5: Q5. Replace the data present in the second row of column, ‘column_2’ by a string variable then find the mean of column, column_2. If you are getting errors in executing it then explain why.\n",
    "[Hint: To replace the data use df1.loc[] and equate this to string data of your choice.]"
   ]
  },
  {
   "cell_type": "code",
   "execution_count": 1,
   "id": "cf5f0859-1ad2-4619-b9d8-b457d94a429f",
   "metadata": {},
   "outputs": [
    {
     "name": "stdout",
     "output_type": "stream",
     "text": [
      "Error: unsupported operand type(s) for +: 'float' and 'str'\n"
     ]
    }
   ],
   "source": [
    "import pandas as pd\n",
    "import numpy as np\n",
    "\n",
    "# Sample DataFrame creation\n",
    "columns = ['column_1', 'column_2', 'column_3', 'column_4', 'column_5', 'column_6']\n",
    "indices = [1, 2, 3, 4, 5, 6]\n",
    "df1 = pd.DataFrame(np.random.rand(6, 6), columns=columns, index=indices)\n",
    "\n",
    "# Replace the data in the second row of 'column_2' with a string\n",
    "df1.loc[2, 'column_2'] = 'string_data'\n",
    "\n",
    "# Attempt to calculate the mean of 'column_2'\n",
    "try:\n",
    "    mean_column_2 = df1['column_2'].mean()\n",
    "    print(f\"Mean of 'column_2': {mean_column_2}\")\n",
    "except Exception as e:\n",
    "    print(f\"Error: {e}\")"
   ]
  },
  {
   "cell_type": "markdown",
   "id": "ac31c022-1f22-43bb-aba9-f2b2c8f7c92e",
   "metadata": {},
   "source": [
    "### Explanation:\n",
    "\n",
    "1. Data Replacement:\n",
    "\n",
    "* The line df1.loc[2, 'column_2'] = 'string_data' replaces the data in the second row of 'column_2' with the string 'string_data'.\n",
    "\n",
    "2. Error in Calculating Mean:\n",
    "\n",
    "* When attempting to calculate the mean of 'column_2' using df1['column_2'].mean(), an error occurs. This is because the presence of a non-numeric value (a string) in a column makes it impossible to perform numerical operations like calculating the mean. In pandas, the mean function can only operate on numerical data types.\n",
    "\n",
    "3. Error Handling:\n",
    "\n",
    "* The code includes a try-except block to handle the potential error. When the mean function encounters a non-numeric value, it raises a TypeError, and the message \"Error: can only concatenate str (not 'float') to str\" or a similar message will be printed, depending on the error encountered."
   ]
  },
  {
   "cell_type": "markdown",
   "id": "b8b36d36-59e1-4488-b8f3-1719983b5921",
   "metadata": {},
   "source": [
    "## Question 6: What do you understand about the windows function in pandas and list the types of windows functions?"
   ]
  },
  {
   "cell_type": "markdown",
   "id": "9d36dc0e-901d-4df1-8cd0-12cc138653f7",
   "metadata": {},
   "source": [
    "In pandas, window functions allow for performing calculations across a set of data points related to the current point. These functions are essential for operations like rolling calculations, moving averages, and more complex statistical computations over a window or a subset of data, often used in time series analysis and data preprocessing.\n",
    "\n",
    "### Types of Window Functions:\n",
    "\n",
    "1. Rolling Window Functions (rolling):\n",
    "\n",
    "* Perform calculations over a sliding window of a specified size.\n",
    "\n",
    "* Example: Rolling mean, rolling sum."
   ]
  },
  {
   "cell_type": "code",
   "execution_count": null,
   "id": "1c0e00a7-52f1-40a2-bb58-2f2df253fab6",
   "metadata": {},
   "outputs": [],
   "source": [
    "df['rolling_mean'] = df['column'].rolling(window=3).mean()"
   ]
  },
  {
   "cell_type": "markdown",
   "id": "7a0b4ed1-3a73-4f3c-9f49-9199920f4fe7",
   "metadata": {},
   "source": [
    "2. Expanding Window Functions (expanding):\n",
    "\n",
    "* Calculates a cumulative statistic across all prior data points up to the current one, starting from the beginning of the dataset.\n",
    "\n",
    "* Example: Cumulative sum, cumulative mean."
   ]
  },
  {
   "cell_type": "code",
   "execution_count": null,
   "id": "15484c28-3dd4-4422-aa18-a6fc77436e19",
   "metadata": {},
   "outputs": [],
   "source": [
    "df['expanding_sum'] = df['column'].expanding().sum()"
   ]
  },
  {
   "cell_type": "markdown",
   "id": "77271c31-7f53-4891-ae70-92541af92fad",
   "metadata": {},
   "source": [
    "3. Exponentially Weighted Window Functions (ewm):\n",
    "\n",
    "* Compute statistics that apply exponentially decreasing weights, giving more importance to more recent data points.\n",
    "\n",
    "* Example: Exponentially weighted moving average (EWMA)."
   ]
  },
  {
   "cell_type": "code",
   "execution_count": null,
   "id": "b8c4901c-4d05-457d-a0e4-7f9361b50c2a",
   "metadata": {},
   "outputs": [],
   "source": [
    "df['ewm_mean'] = df['column'].ewm(span=3).mean()"
   ]
  },
  {
   "cell_type": "markdown",
   "id": "4ef32ab9-d616-44f9-b1d6-063b5be00dc3",
   "metadata": {},
   "source": [
    "### Applications of Window Functions:\n",
    "\n",
    "* Smoothing time series data: Removing noise by averaging over a window.\n",
    "\n",
    "* Trend analysis: Identifying patterns over a time period.\n",
    "\n",
    "* Anomaly detection: Detecting outliers by comparing against moving averages.\n",
    "\n",
    "* Feature engineering: Creating new features based on rolling statistics."
   ]
  },
  {
   "cell_type": "markdown",
   "id": "30be9470-85d0-4165-9435-60a27e272cdc",
   "metadata": {},
   "source": [
    "## Question 7: Write a code to print only the current month and year at the time of answering this question.\n",
    "[Hint: Use pandas.datetime function]"
   ]
  },
  {
   "cell_type": "code",
   "execution_count": 4,
   "id": "03b647ab-9fdf-4f33-b713-7e0b45407430",
   "metadata": {},
   "outputs": [
    {
     "name": "stdout",
     "output_type": "stream",
     "text": [
      "Current Month: 8, Current Year: 2024\n"
     ]
    }
   ],
   "source": [
    "import pandas as pd\n",
    "\n",
    "# Get the current date and time\n",
    "current_date = pd.Timestamp.now()\n",
    "\n",
    "# Extract the current month and year\n",
    "current_month = current_date.month\n",
    "current_year = current_date.year\n",
    "\n",
    "# Print the current month and year\n",
    "print(f\"Current Month: {current_month}, Current Year: {current_year}\")"
   ]
  },
  {
   "cell_type": "markdown",
   "id": "8731a1a2-d5fe-48cc-a045-472c81c8be64",
   "metadata": {},
   "source": [
    "## Question 8: Write a Python program that takes in two dates as input (in the format YYYY-MM-DD) and calculates the difference between them in days, hours, and minutes using Pandas time delta. The program should prompt the user to enter the dates and display the result."
   ]
  },
  {
   "cell_type": "markdown",
   "id": "1b57d9a4-abbc-412d-9a63-52ee52375908",
   "metadata": {},
   "source": [
    "To calculate the difference between two dates in days, hours, and minutes using Pandas, you can use the pd.to_datetime() function to convert the input strings into datetime objects and then subtract them to get a timedelta object. Here's a Python program that prompts the user to enter two dates and calculates the difference:"
   ]
  },
  {
   "cell_type": "code",
   "execution_count": 5,
   "id": "83a9faa8-1c5d-4467-8250-8768c3b4ff31",
   "metadata": {},
   "outputs": [
    {
     "name": "stdin",
     "output_type": "stream",
     "text": [
      "Enter the first date (YYYY-MM-DD):  2002-04-30\n",
      "Enter the second date (YYYY-MM-DD):  2024-04-30\n"
     ]
    },
    {
     "name": "stdout",
     "output_type": "stream",
     "text": [
      "The difference between 2002-04-30 and 2024-04-30 is 8036 days, 0 hours, and 0 minutes.\n"
     ]
    }
   ],
   "source": [
    "import pandas as pd\n",
    "\n",
    "# Function to calculate the difference between two dates\n",
    "def calculate_time_difference(date1_str, date2_str):\n",
    "    # Convert the input strings to datetime objects\n",
    "    date1 = pd.to_datetime(date1_str)\n",
    "    date2 = pd.to_datetime(date2_str)\n",
    "\n",
    "    # Calculate the time difference\n",
    "    time_difference = date2 - date1\n",
    "\n",
    "    # Extract days, hours, and minutes from the time difference\n",
    "    days = time_difference.days\n",
    "    seconds = time_difference.seconds\n",
    "    hours = seconds // 3600\n",
    "    minutes = (seconds % 3600) // 60\n",
    "\n",
    "    return days, hours, minutes\n",
    "\n",
    "# Prompt the user to enter two dates\n",
    "date1_str = input(\"Enter the first date (YYYY-MM-DD): \")\n",
    "date2_str = input(\"Enter the second date (YYYY-MM-DD): \")\n",
    "\n",
    "# Calculate the time difference\n",
    "days, hours, minutes = calculate_time_difference(date1_str, date2_str)\n",
    "\n",
    "# Display the result\n",
    "print(f\"The difference between {date1_str} and {date2_str} is {days} days, {hours} hours, and {minutes} minutes.\")"
   ]
  },
  {
   "cell_type": "markdown",
   "id": "b87416e8-21ed-42b6-b011-628e2a3bee92",
   "metadata": {},
   "source": [
    "## Question 9: Write a Python program that reads a CSV file containing categorical data and converts a specified column to a categorical data type. The program should prompt the user to enter the file path, column name, and category order, and then display the sorted data."
   ]
  },
  {
   "cell_type": "markdown",
   "id": "82d6bf8c-c012-4e76-b90d-dcc7510c70e3",
   "metadata": {},
   "source": [
    "To convert a specified column in a CSV file to a categorical data type in Python using Pandas, you can use the astype('category') method. Additionally, you can set the category order using CategoricalDtype. Here's a Python program that prompts the user for the file path, column name, and category order, and then displays the sorted data based on the category order:"
   ]
  },
  {
   "cell_type": "code",
   "execution_count": null,
   "id": "0637792b-1223-4dab-85ce-5349688aa8ec",
   "metadata": {},
   "outputs": [],
   "source": [
    "import pandas as pd\n",
    "\n",
    "# Function to read a CSV file and convert a specified column to a categorical data type\n",
    "def convert_to_categorical(file_path, column_name, category_order):\n",
    "    # Read the CSV file into a DataFrame\n",
    "    df = pd.read_csv(file_path)\n",
    "\n",
    "    # Convert the specified column to categorical with the given category order\n",
    "    categorical_type = pd.CategoricalDtype(categories=category_order, ordered=True)\n",
    "    df[column_name] = df[column_name].astype(categorical_type)\n",
    "\n",
    "    # Sort the DataFrame by the specified categorical column\n",
    "    df_sorted = df.sort_values(by=column_name)\n",
    "\n",
    "    return df_sorted\n",
    "\n",
    "# Prompt the user to enter the file path, column name, and category order\n",
    "file_path = input(\"Enter the CSV file path: \")\n",
    "column_name = input(\"Enter the column name to convert to categorical: \")\n",
    "category_order = input(\"Enter the category order (comma-separated values): \").split(',')\n",
    "\n",
    "# Convert the column to categorical and get the sorted DataFrame\n",
    "sorted_df = convert_to_categorical(file_path, column_name, category_order)\n",
    "\n",
    "# Display the sorted DataFrame\n",
    "print(\"Sorted DataFrame based on the specified categorical column:\")\n",
    "print(sorted_df)"
   ]
  },
  {
   "cell_type": "markdown",
   "id": "80862cbe-ba2c-49ca-8dc3-80d1947950cf",
   "metadata": {},
   "source": [
    "## Question 10: Write a Python program that reads a CSV file containing sales data for different products and visualizes the data using a stacked bar chart to show the sales of each product category over time. The program should prompt the user to enter the file path and display the chart."
   ]
  },
  {
   "cell_type": "markdown",
   "id": "20c65905-ddb0-43f8-a2f7-1b4204f743f9",
   "metadata": {},
   "source": [
    "To visualize sales data from a CSV file using a stacked bar chart in Python, you can use the Pandas library to read the CSV and the Matplotlib library to create the plot. Below is a Python program that prompts the user for the file path, reads the CSV file, and displays a stacked bar chart showing the sales of each product category over time."
   ]
  },
  {
   "cell_type": "code",
   "execution_count": null,
   "id": "19af0449-a636-49ab-be1b-e3a05c95d535",
   "metadata": {},
   "outputs": [],
   "source": [
    "import pandas as pd\n",
    "import matplotlib.pyplot as plt\n",
    "\n",
    "def plot_stacked_bar_chart(file_path):\n",
    "    # Read the CSV file into a DataFrame\n",
    "    df = pd.read_csv(file_path)\n",
    "\n",
    "    # Ensure the 'Date' column is in datetime format\n",
    "    df['Date'] = pd.to_datetime(df['Date'])\n",
    "\n",
    "    # Group the data by 'Date' and 'Category', then sum the 'Sales'\n",
    "    grouped = df.groupby(['Date', 'Category']).sum().unstack()\n",
    "\n",
    "    # Plotting the stacked bar chart\n",
    "    grouped.plot(kind='bar', stacked=True)\n",
    "    plt.title('Sales of Each Product Category Over Time')\n",
    "    plt.xlabel('Date')\n",
    "    plt.ylabel('Sales')\n",
    "    plt.legend(title='Category')\n",
    "    plt.xticks(rotation=45)\n",
    "    plt.tight_layout()  # Adjust layout to make room for labels\n",
    "    plt.show()\n",
    "\n",
    "# Prompt the user to enter the file path\n",
    "file_path = input(\"Enter the CSV file path: \")\n",
    "\n",
    "# Plot the stacked bar chart\n",
    "plot_stacked_bar_chart(file_path)"
   ]
  },
  {
   "cell_type": "markdown",
   "id": "d138219e-b6c6-4547-a5a9-636e46c31db0",
   "metadata": {},
   "source": [
    "## Question 11: You are given a CSV file containing student data that includes the student ID and their test score. Write a Python program that reads the CSV file, calculates the mean, median, and mode of the test scores, and displays the results in a table.\n",
    "* The program should do the followingM\n",
    "\n",
    "I Prompt the user to enter the file path of the CSV file containing the student dataR\n",
    "\n",
    "I Read the CSV file into a Pandas DataFrameR\n",
    "\n",
    "I Calculate the mean, median, and mode of the test scores using Pandas toolsR\n",
    "\n",
    "I Display the mean, median, and mode in a table.\n",
    "\n",
    "* Assume the CSV file contains the following columnsM\n",
    "\n",
    "I Student ID: The ID of the studentR\n",
    "\n",
    "I Test Score: The score of the student's test.\n",
    "\n",
    "#### Example usage of the program:\n",
    "\n",
    "Enter the file path of the CSV file containing the student data: student_data.csv\n",
    "\n",
    "+-----------+--------+\n",
    "| Statistic | Value |\n",
    "+-----------+--------+\n",
    "| Mean | 79.6 |\n",
    "| Median | 82 |\n",
    "| Mode | 85, 90 |\n",
    "+-----------+--------+\n",
    "\n",
    "Assume that the CSV file student_data.csv contains the following data:\n",
    "\n",
    "Student ID,Test Score\n",
    "\n",
    "1,85\n",
    "\n",
    "2,90\n",
    "\n",
    "3,80\n",
    "\n",
    "4,75\n",
    "\n",
    "5,85\n",
    "\n",
    "6,82\n",
    "\n",
    "7,78\n",
    "\n",
    "8,85\n",
    "\n",
    "9,90\n",
    "\n",
    "10,85\n",
    "\n",
    "The program should calculate the mean, median, and mode of the test scores and display the results in a table."
   ]
  },
  {
   "cell_type": "markdown",
   "id": "9424364a-1508-4cef-bdae-2268c5563cf8",
   "metadata": {},
   "source": [
    "## Answer : \n",
    "To solve this problem, we need to read a CSV file containing student test scores, calculate statistical measures (mean, median, mode), and display these results in a formatted table. Below is a Python program that accomplishes this using the Pandas library."
   ]
  },
  {
   "cell_type": "code",
   "execution_count": null,
   "id": "b6638af5-4aec-4565-9e6e-e75c6c24f7b9",
   "metadata": {},
   "outputs": [],
   "source": [
    "import pandas as pd\n",
    "from statistics import mode\n",
    "\n",
    "def calculate_statistics(file_path):\n",
    "    # Read the CSV file into a DataFrame\n",
    "    df = pd.read_csv(file_path)\n",
    "\n",
    "    # Calculate mean, median, and mode\n",
    "    mean_score = df['Test Score'].mean()\n",
    "    median_score = df['Test Score'].median()\n",
    "    try:\n",
    "        mode_score = mode(df['Test Score'])\n",
    "    except:\n",
    "        mode_score = \"No unique mode\"\n",
    "\n",
    "    # Display the results in a table format\n",
    "    print(\"+-----------+--------+\")\n",
    "    print(\"| Statistic | Value  |\")\n",
    "    print(\"+-----------+--------+\")\n",
    "    print(f\"| Mean      | {mean_score:.1f}  |\")\n",
    "    print(f\"| Median    | {median_score}  |\")\n",
    "    print(f\"| Mode      | {mode_score}  |\")\n",
    "    print(\"+-----------+--------+\")\n",
    "\n",
    "# Prompt the user to enter the file path\n",
    "file_path = input(\"Enter the file path of the CSV file containing the student data: \")\n",
    "\n",
    "# Calculate and display the statistics\n",
    "calculate_statistics(file_path)"
   ]
  },
  {
   "cell_type": "markdown",
   "id": "8b72a075-a574-49a6-bbba-7434af8b7514",
   "metadata": {},
   "source": [
    "### Example Usage\n",
    "\n",
    "Assuming the CSV file student_data.csv contains:"
   ]
  },
  {
   "cell_type": "markdown",
   "id": "f6b45b69-54ed-4897-ab6b-346e08894701",
   "metadata": {},
   "source": [
    "#### Student ID,Test Score\n",
    "\n",
    "1,85\n",
    "\n",
    "2,90\n",
    "\n",
    "3,80\n",
    "\n",
    "4,75\n",
    "\n",
    "5,85\n",
    "\n",
    "6,82\n",
    "\n",
    "7,78\n",
    "\n",
    "8,85\n",
    "\n",
    "9,90\n",
    "\n",
    "10,85"
   ]
  },
  {
   "cell_type": "code",
   "execution_count": null,
   "id": "48e9664a-8783-44f9-acb0-e79eb6639177",
   "metadata": {},
   "outputs": [],
   "source": []
  }
 ],
 "metadata": {
  "kernelspec": {
   "display_name": "Python 3 (ipykernel)",
   "language": "python",
   "name": "python3"
  },
  "language_info": {
   "codemirror_mode": {
    "name": "ipython",
    "version": 3
   },
   "file_extension": ".py",
   "mimetype": "text/x-python",
   "name": "python",
   "nbconvert_exporter": "python",
   "pygments_lexer": "ipython3",
   "version": "3.10.8"
  }
 },
 "nbformat": 4,
 "nbformat_minor": 5
}
