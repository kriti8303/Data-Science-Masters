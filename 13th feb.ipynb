{
 "cells": [
  {
   "cell_type": "markdown",
   "id": "6578afed-74ba-42b9-90db-ed880a664de1",
   "metadata": {},
   "source": [
    "## Assignment Question 1:"
   ]
  },
  {
   "cell_type": "markdown",
   "id": "e38ee838-d753-4a91-9ff1-8130032c96a6",
   "metadata": {},
   "source": [
    "#### Q1. Explain why we have to use the Exception class while creating a Custom Exception.\n",
    "Note: Here Exception class refers to the base class for all the exceptions."
   ]
  },
  {
   "cell_type": "markdown",
   "id": "f83d0859-036f-4557-8d22-76e07185a5d7",
   "metadata": {},
   "source": [
    "When creating custom exceptions in Python, it is recommended to inherit from the base Exception class. Here are the reasons why using the Exception class is essential for creating custom exceptions:\n",
    "\n",
    "1. Inheritance of Exception Handling Features: The Exception class provides essential methods and attributes that aid in handling exceptions. Inheriting from the Exception class ensures that the custom exception inherits the standard exception handling features, making it compatible with the existing exception handling mechanisms in Python.\n",
    "\n",
    "2. Consistent Behavior: By inheriting from the Exception class, the custom exception inherits the behavior and structure of the standard Python exceptions. This consistency helps developers and users understand how the custom exception functions within the Python exception hierarchy.\n",
    "\n",
    "3. Standardized Error Reporting: Inheriting from the Exception class allows the custom exception to provide meaningful error messages and other pertinent information when an exception occurs. This aids in better error reporting, debugging, and handling within the application.\n",
    "\n",
    "4. Compatibility with Exception Handling Mechanisms: The Exception class ensures that the custom exception can be caught and handled using standard exception handling mechanisms, such as the try and except blocks. This compatibility ensures a uniform approach to handling both built-in and custom exceptions."
   ]
  },
  {
   "cell_type": "markdown",
   "id": "9dd64656-426f-4033-b0e1-15ca981afd24",
   "metadata": {},
   "source": [
    "## Assignment Question 2:"
   ]
  },
  {
   "cell_type": "markdown",
   "id": "3586d32e-489b-4b0f-87d9-2d56d9354e81",
   "metadata": {},
   "source": [
    "#### Q2. Write a python program to print Python Exception Hierarchy."
   ]
  },
  {
   "cell_type": "code",
   "execution_count": 1,
   "id": "6e2ce034-f9aa-423c-9948-9aeafdb85015",
   "metadata": {},
   "outputs": [
    {
     "name": "stdout",
     "output_type": "stream",
     "text": [
      "Python Exception Hierarchy:\n",
      "<class 'BaseException'>\n"
     ]
    }
   ],
   "source": [
    "# Program to print Python Exception Hierarchy\n",
    "def print_exception_hierarchy(exception, depth=0):\n",
    "    print('    ' * depth + str(exception))\n",
    "    if issubclass(exception, Exception):\n",
    "        for subclass in exception.__subclasses__():\n",
    "            print_exception_hierarchy(subclass, depth + 1)\n",
    "\n",
    "# Print the Python Exception Hierarchy\n",
    "print(\"Python Exception Hierarchy:\")\n",
    "print_exception_hierarchy(BaseException)\n"
   ]
  },
  {
   "cell_type": "markdown",
   "id": "3d9bc638-b53b-4226-94d3-f48543d120a1",
   "metadata": {},
   "source": [
    "## Assignment Question 3:"
   ]
  },
  {
   "cell_type": "markdown",
   "id": "983c7c20-53da-442b-8ad5-f99445a4157c",
   "metadata": {},
   "source": [
    "#### Q3. What errors are defined in the ArithmeticError class? Explain any two with an example."
   ]
  },
  {
   "cell_type": "markdown",
   "id": "f0b1f60e-c1f2-4a55-aead-1dafa2a5428c",
   "metadata": {},
   "source": [
    "The ArithmeticError class in Python is a base class for errors that occur during arithmetic operations. It serves as the parent class for various arithmetic-related exceptions. Some errors that are defined in the ArithmeticError class include:\n",
    "\n",
    "1. ZeroDivisionError: This error is raised when attempting to divide a number by zero.\n",
    "\n",
    "Example of ZeroDivisionError:"
   ]
  },
  {
   "cell_type": "code",
   "execution_count": 2,
   "id": "04c48000-f4f1-4304-a6ac-28bc0405a8d6",
   "metadata": {},
   "outputs": [
    {
     "name": "stdout",
     "output_type": "stream",
     "text": [
      "Error: division by zero\n"
     ]
    }
   ],
   "source": [
    "# Example of ZeroDivisionError\n",
    "try:\n",
    "    result = 10 / 0  # This will raise a ZeroDivisionError\n",
    "except ZeroDivisionError as e:\n",
    "    print(f\"Error: {e}\")\n"
   ]
  },
  {
   "cell_type": "markdown",
   "id": "911a71a0-3883-466d-9104-484e1d101d45",
   "metadata": {},
   "source": [
    "2. OverflowError: This error is raised when the result of an arithmetic operation is too large to be represented.\n",
    "\n",
    "Example of OverflowError:"
   ]
  },
  {
   "cell_type": "code",
   "execution_count": 3,
   "id": "c2bcb7e3-d828-4f6d-879f-1500c7bf3555",
   "metadata": {},
   "outputs": [],
   "source": [
    "# Example of OverflowError\n",
    "try:\n",
    "    result = 10 ** 10000  # This will raise an OverflowError\n",
    "except OverflowError as e:\n",
    "    print(f\"Error: {e}\")\n"
   ]
  },
  {
   "cell_type": "markdown",
   "id": "3ea17e74-0a15-40cf-8e40-1bea1fc5e381",
   "metadata": {},
   "source": [
    "## Assignment Question 4:"
   ]
  },
  {
   "cell_type": "markdown",
   "id": "38b687da-060d-45c1-994e-388454ae262b",
   "metadata": {},
   "source": [
    "#### Q4. Why LookupError class is used? Explain with an example KeyError and IndexError."
   ]
  },
  {
   "cell_type": "markdown",
   "id": "dcfab6fd-74c2-4919-a31f-a8e69842d80f",
   "metadata": {},
   "source": [
    "The LookupError class in Python is a base class for all lookup-related errors. It serves as the parent class for specific lookup-related exceptions such as KeyError and IndexError. It is used to handle errors related to accessing elements in sequences, dictionaries, or other data structures.\n",
    "\n",
    "1. KeyError: This error is raised when a dictionary key is not found.\n",
    "\n",
    "Example of KeyError:"
   ]
  },
  {
   "cell_type": "code",
   "execution_count": 4,
   "id": "a07cf1d2-1410-4331-a1db-835b828d58ae",
   "metadata": {},
   "outputs": [
    {
     "name": "stdout",
     "output_type": "stream",
     "text": [
      "Error: 'd'\n"
     ]
    }
   ],
   "source": [
    "# Example of KeyError\n",
    "my_dict = {'a': 1, 'b': 2, 'c': 3}\n",
    "try:\n",
    "    value = my_dict['d']  # This will raise a KeyError\n",
    "except KeyError as e:\n",
    "    print(f\"Error: {e}\")\n"
   ]
  },
  {
   "cell_type": "markdown",
   "id": "047dc227-6d57-4291-a024-8f4b84db88f5",
   "metadata": {},
   "source": [
    "2. IndexError: This error is raised when trying to access an index that does not exist in a sequence like a list or a tuple.\n",
    "\n",
    "Example of IndexError:"
   ]
  },
  {
   "cell_type": "code",
   "execution_count": 5,
   "id": "69d3cef5-d83a-478b-94ec-d6a949630eba",
   "metadata": {},
   "outputs": [
    {
     "name": "stdout",
     "output_type": "stream",
     "text": [
      "Error: list index out of range\n"
     ]
    }
   ],
   "source": [
    "# Example of IndexError\n",
    "my_list = [1, 2, 3, 4, 5]\n",
    "try:\n",
    "    value = my_list[10]  # This will raise an IndexError\n",
    "except IndexError as e:\n",
    "    print(f\"Error: {e}\")\n"
   ]
  },
  {
   "cell_type": "markdown",
   "id": "70314d4a-5bb2-46e2-aae3-9c9a2ee43bb1",
   "metadata": {},
   "source": [
    "## Assignment Question 5:"
   ]
  },
  {
   "cell_type": "markdown",
   "id": "76166ffe-5921-4aa6-b95c-4042deee480a",
   "metadata": {},
   "source": [
    "#### Q5. Explain ImportError. What is ModuleNotFoundError?"
   ]
  },
  {
   "cell_type": "markdown",
   "id": "8e00203b-20f7-4d71-a923-70dd9d0f9482",
   "metadata": {},
   "source": [
    "In Python, ImportError is an exception that is raised when an import statement fails to find the module, or when there is an issue while importing a module. This error can occur for various reasons, such as when the module name is misspelled, the module is not installed, or there is an issue with the module's structure or content.\n",
    "\n",
    "On the other hand, ModuleNotFoundError is a subclass of ImportError that is specifically raised when a module could not be found during an import operation. It was introduced in Python 3.6 as a more specific exception for handling cases where the interpreter cannot locate the specified module.\n",
    "\n",
    "Here's an example to illustrate the difference between ImportError and ModuleNotFoundError:"
   ]
  },
  {
   "cell_type": "code",
   "execution_count": 6,
   "id": "6a511e58-c134-4fcf-b435-ea816275b5ed",
   "metadata": {},
   "outputs": [
    {
     "name": "stdout",
     "output_type": "stream",
     "text": [
      "ImportError: No module named 'my_module'\n",
      "ModuleNotFoundError: No module named 'non_existent_module'\n"
     ]
    }
   ],
   "source": [
    "# Example of ImportError\n",
    "try:\n",
    "    import my_module  # Assuming my_module does not exist or cannot be imported\n",
    "except ImportError as e:\n",
    "    print(f\"ImportError: {e}\")\n",
    "\n",
    "# Example of ModuleNotFoundError\n",
    "try:\n",
    "    import non_existent_module  # This will raise a ModuleNotFoundError\n",
    "except ModuleNotFoundError as e:\n",
    "    print(f\"ModuleNotFoundError: {e}\")\n"
   ]
  },
  {
   "cell_type": "markdown",
   "id": "77e2d02d-6f0f-4c86-a0d3-c794fa33b22d",
   "metadata": {},
   "source": [
    "## Assignment Question 6:"
   ]
  },
  {
   "cell_type": "markdown",
   "id": "f7c18b82-40d6-4ac1-8e13-1076e7ddd782",
   "metadata": {},
   "source": [
    "#### Q6. List down some best practices for exception handling in python."
   ]
  },
  {
   "cell_type": "markdown",
   "id": "fa0b0b06-8747-46a3-9148-cb0dfc9e2941",
   "metadata": {},
   "source": [
    "Here are some best practices for exception handling in Python:\n",
    "\n",
    "1. Be specific with the exceptions you catch: Catch specific exceptions rather than using broad except blocks to handle all exceptions. This ensures that you handle only the expected exceptions and allows other unexpected exceptions to propagate.\n",
    "\n",
    "2. Use try-except-else blocks: Use else blocks along with try-except blocks to differentiate between the normal code execution and exception handling code. This helps in writing clear and concise code.\n",
    "\n",
    "3. Handle exceptions gracefully: Handle exceptions gracefully by providing informative error messages, logging the errors, and taking appropriate actions to prevent the program from crashing.\n",
    "\n",
    "4. Avoid using bare except: Avoid using bare except statements as they can hide errors and make debugging difficult. Always specify the type of exceptions to be caught explicitly.\n",
    "\n",
    "5. Use finally for cleanup actions: Use finally blocks to perform cleanup actions, such as closing files or releasing resources, regardless of whether an exception occurs or not.\n",
    "\n",
    "6. Use custom exceptions when necessary: Create custom exceptions when you need to represent specific error scenarios in your application. This helps in better organization and handling of errors.\n",
    "\n",
    "7. Log exceptions: Implement logging to capture and record exceptions along with relevant information, including timestamps and the context in which the exceptions occur. This helps in debugging and troubleshooting issues in production environments.\n",
    "\n",
    "8. Keep exception messages simple and informative: Provide clear and concise error messages that describe the cause of the exception and suggest possible solutions. Avoid exposing sensitive information in exception messages."
   ]
  },
  {
   "cell_type": "code",
   "execution_count": null,
   "id": "329c3d25-bfc3-4381-a2ee-cf750cc81d1e",
   "metadata": {},
   "outputs": [],
   "source": []
  }
 ],
 "metadata": {
  "kernelspec": {
   "display_name": "Python 3 (ipykernel)",
   "language": "python",
   "name": "python3"
  },
  "language_info": {
   "codemirror_mode": {
    "name": "ipython",
    "version": 3
   },
   "file_extension": ".py",
   "mimetype": "text/x-python",
   "name": "python",
   "nbconvert_exporter": "python",
   "pygments_lexer": "ipython3",
   "version": "3.10.8"
  }
 },
 "nbformat": 4,
 "nbformat_minor": 5
}
