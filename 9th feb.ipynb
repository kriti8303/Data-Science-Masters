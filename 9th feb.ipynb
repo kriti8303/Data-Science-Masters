{
 "cells": [
  {
   "cell_type": "markdown",
   "id": "e45c04f4-e41b-467c-9f09-a1b58f48822f",
   "metadata": {},
   "source": [
    "## Assignment Question 1:"
   ]
  },
  {
   "cell_type": "markdown",
   "id": "8104f947-a52a-461c-a3b0-a927234779bc",
   "metadata": {},
   "source": [
    "Q1, Create a vehicle class with an init method having instance variables as name_of_vehicle, max_speed\n",
    "and average_of_vehicle."
   ]
  },
  {
   "cell_type": "code",
   "execution_count": 1,
   "id": "aba5d2fd-cb3a-4a49-8ee2-f8a099124eaa",
   "metadata": {},
   "outputs": [
    {
     "name": "stdout",
     "output_type": "stream",
     "text": [
      "Name of the Vehicle: Toyota\n",
      "Max Speed: 200\n",
      "Average of the Vehicle: 50\n"
     ]
    }
   ],
   "source": [
    "class Vehicle:\n",
    "    def __init__(self, name_of_vehicle, max_speed, average_of_vehicle):\n",
    "        self.name_of_vehicle = name_of_vehicle\n",
    "        self.max_speed = max_speed\n",
    "        self.average_of_vehicle = average_of_vehicle\n",
    "\n",
    "\n",
    "# Example usage of the Vehicle class\n",
    "car = Vehicle(\"Toyota\", 200, 50)\n",
    "print(f\"Name of the Vehicle: {car.name_of_vehicle}\")\n",
    "print(f\"Max Speed: {car.max_speed}\")\n",
    "print(f\"Average of the Vehicle: {car.average_of_vehicle}\")\n"
   ]
  },
  {
   "cell_type": "markdown",
   "id": "10e25d54-78a1-4c51-bee9-a23899cf3267",
   "metadata": {},
   "source": [
    "## Assignment Question 2:"
   ]
  },
  {
   "cell_type": "markdown",
   "id": "465751b2-6d38-467a-9508-956a9f5f5703",
   "metadata": {},
   "source": [
    "Q2. Create a child class car from the vehicle class created in Que 1, which will inherit the vehicle class.\n",
    "Create a method named seating_capacity which takes capacity as an argument and returns the name of\n",
    "the vehicle and its seating capacity."
   ]
  },
  {
   "cell_type": "code",
   "execution_count": 2,
   "id": "808e4c61-4c2e-441c-a608-53118c1d750c",
   "metadata": {},
   "outputs": [
    {
     "name": "stdout",
     "output_type": "stream",
     "text": [
      "Name of the Vehicle: Toyota\n",
      "Max Speed: 200\n",
      "Average of the Vehicle: 50\n",
      "The Toyota has a seating capacity of 5.\n"
     ]
    }
   ],
   "source": [
    "class Car(Vehicle):\n",
    "    def seating_capacity(self, capacity):\n",
    "        return f\"The {self.name_of_vehicle} has a seating capacity of {capacity}.\"\n",
    "\n",
    "\n",
    "# Example usage of the Car class\n",
    "car = Car(\"Toyota\", 200, 50)\n",
    "print(f\"Name of the Vehicle: {car.name_of_vehicle}\")\n",
    "print(f\"Max Speed: {car.max_speed}\")\n",
    "print(f\"Average of the Vehicle: {car.average_of_vehicle}\")\n",
    "print(car.seating_capacity(5))\n"
   ]
  },
  {
   "cell_type": "markdown",
   "id": "f67c1d89-3f9c-4f8b-85c8-d9e3ce6ceeeb",
   "metadata": {},
   "source": [
    "## Assignment Question 3:"
   ]
  },
  {
   "cell_type": "markdown",
   "id": "9a59fc40-35b9-4a2e-bf3f-15b06e9f9ca8",
   "metadata": {},
   "source": [
    "#### Q3. What is multiple inheritance? Write a python code to demonstrate multiple inheritance."
   ]
  },
  {
   "cell_type": "markdown",
   "id": "45e3e6ba-cc36-4814-b3b4-0a44233c599f",
   "metadata": {},
   "source": [
    "Multiple inheritance is a feature in object-oriented programming languages that allows a class to inherit attributes and methods from more than one parent class. In Python, a class can inherit from multiple base classes, and the derived class will have access to the attributes and methods of all the parent classes.\n",
    "\n",
    "Here is an example that demonstrates multiple inheritance in Python:"
   ]
  },
  {
   "cell_type": "code",
   "execution_count": 3,
   "id": "a617cdb5-86d7-4dec-a8d4-b6b2d91efdf0",
   "metadata": {},
   "outputs": [
    {
     "name": "stdout",
     "output_type": "stream",
     "text": [
      "Method One from FirstClass\n",
      "Method Two from SecondClass\n",
      "Method Three from MultiDerived\n"
     ]
    }
   ],
   "source": [
    "class FirstClass:\n",
    "    def method_one(self):\n",
    "        print(\"Method One from FirstClass\")\n",
    "\n",
    "\n",
    "class SecondClass:\n",
    "    def method_two(self):\n",
    "        print(\"Method Two from SecondClass\")\n",
    "\n",
    "\n",
    "class MultiDerived(FirstClass, SecondClass):\n",
    "    def method_three(self):\n",
    "        print(\"Method Three from MultiDerived\")\n",
    "\n",
    "\n",
    "# Creating an instance of MultiDerived\n",
    "multi_derived = MultiDerived()\n",
    "\n",
    "# Accessing methods from the parent classes\n",
    "multi_derived.method_one()  # Method One from FirstClass\n",
    "multi_derived.method_two()  # Method Two from SecondClass\n",
    "multi_derived.method_three()  # Method Three from MultiDerived\n"
   ]
  },
  {
   "cell_type": "markdown",
   "id": "b024d89d-cc14-427f-8ce6-0418c9b92b70",
   "metadata": {},
   "source": [
    "## Assignment Question 4:"
   ]
  },
  {
   "cell_type": "markdown",
   "id": "8884b984-2748-4ba9-a5d1-d7b2c073a950",
   "metadata": {},
   "source": [
    "#### Q4. What are getter and setter in python? Create a class and create a getter and a setter method in this class."
   ]
  },
  {
   "cell_type": "markdown",
   "id": "c9f34d32-aee3-4914-abc3-53529328de73",
   "metadata": {},
   "source": [
    "In Python, getters and setters are used to control access to the attributes of a class. They allow you to retrieve (get) and modify (set) the values of private attributes. Getters are used to access the values of private attributes, and setters are used to modify the values of private attributes while performing necessary checks or operations.\n",
    "\n",
    "Here's an example demonstrating a class with a getter and a setter method:"
   ]
  },
  {
   "cell_type": "code",
   "execution_count": 4,
   "id": "1990aae7-fd38-4fde-a5f6-9904c8057c14",
   "metadata": {},
   "outputs": [
    {
     "name": "stdout",
     "output_type": "stream",
     "text": [
      "Value of the attribute: 10\n"
     ]
    }
   ],
   "source": [
    "class MyClass:\n",
    "    def __init__(self):\n",
    "        self._my_attribute = None  # Private attribute with initial value None\n",
    "\n",
    "    # Getter method\n",
    "    def get_my_attribute(self):\n",
    "        return self._my_attribute\n",
    "\n",
    "    # Setter method\n",
    "    def set_my_attribute(self, value):\n",
    "        if isinstance(value, int):  # Example check for the type of value\n",
    "            self._my_attribute = value\n",
    "        else:\n",
    "            print(\"Invalid input. Please provide an integer.\")\n",
    "\n",
    "# Example usage of the class\n",
    "obj = MyClass()\n",
    "\n",
    "# Using the setter method\n",
    "obj.set_my_attribute(10)\n",
    "\n",
    "# Using the getter method\n",
    "attribute_value = obj.get_my_attribute()\n",
    "print(\"Value of the attribute:\", attribute_value)\n"
   ]
  },
  {
   "cell_type": "markdown",
   "id": "bd54114f-757c-4df7-af1b-787c37558cfc",
   "metadata": {},
   "source": [
    "## Assignment Question 5:"
   ]
  },
  {
   "cell_type": "markdown",
   "id": "209cae65-2304-40a3-9f04-7f9cac74ac47",
   "metadata": {},
   "source": [
    "#### Q5.What is method overriding in python? Write a python code to demonstrate method overriding."
   ]
  },
  {
   "cell_type": "markdown",
   "id": "6dcdbc4a-a6eb-46b1-b204-dcfcf851accf",
   "metadata": {},
   "source": [
    "Method overriding is a feature in object-oriented programming where a method in a child class has the same name and signature as a method in its parent class. When the child class defines a method with the same name as a method in its parent class, the method in the child class overrides the method in the parent class.\n",
    "\n",
    "Here's an example that demonstrates method overriding in Python:"
   ]
  },
  {
   "cell_type": "code",
   "execution_count": 5,
   "id": "29297afe-541e-4bc5-826a-62975045500f",
   "metadata": {},
   "outputs": [
    {
     "name": "stdout",
     "output_type": "stream",
     "text": [
      "This is a message from the parent class.\n",
      "This is a message from the child class.\n"
     ]
    }
   ],
   "source": [
    "class ParentClass:\n",
    "    def print_message(self):\n",
    "        print(\"This is a message from the parent class.\")\n",
    "\n",
    "\n",
    "class ChildClass(ParentClass):\n",
    "    def print_message(self):\n",
    "        print(\"This is a message from the child class.\")\n",
    "\n",
    "\n",
    "# Creating instances of the classes\n",
    "parent_object = ParentClass()\n",
    "child_object = ChildClass()\n",
    "\n",
    "# Calling the overridden method\n",
    "parent_object.print_message()  # This is a message from the parent class.\n",
    "child_object.print_message()  # This is a message from the child class.\n"
   ]
  },
  {
   "cell_type": "code",
   "execution_count": null,
   "id": "8fd2927b-f7ec-49bb-9105-6fe2be0104bc",
   "metadata": {},
   "outputs": [],
   "source": []
  }
 ],
 "metadata": {
  "kernelspec": {
   "display_name": "Python 3 (ipykernel)",
   "language": "python",
   "name": "python3"
  },
  "language_info": {
   "codemirror_mode": {
    "name": "ipython",
    "version": 3
   },
   "file_extension": ".py",
   "mimetype": "text/x-python",
   "name": "python",
   "nbconvert_exporter": "python",
   "pygments_lexer": "ipython3",
   "version": "3.10.8"
  }
 },
 "nbformat": 4,
 "nbformat_minor": 5
}
