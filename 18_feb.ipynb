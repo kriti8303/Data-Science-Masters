{
 "cells": [
  {
   "cell_type": "markdown",
   "id": "c9a10d22-0ec2-4d19-95e3-9fc8f5b8785d",
   "metadata": {},
   "source": [
    "## Assignmnent Question 1:"
   ]
  },
  {
   "cell_type": "markdown",
   "id": "f0a9c983-d304-4ccf-b519-efe3518a2b63",
   "metadata": {},
   "source": [
    "API : API stands for Application Programming Interface, which is a software intermediary that allows two applications to talk to each other using a set of definitions and protocols.\n",
    "\n",
    "Example : Weather data is an popular example that we come across regularly. and have you ever used PayPal to purchase directly from an eCommerce store, is also am example of PayPal."
   ]
  },
  {
   "cell_type": "markdown",
   "id": "2062dda4-d7d9-469b-87a7-282fc1df9995",
   "metadata": {},
   "source": [
    "## Assignmnent Question 2:"
   ]
  },
  {
   "cell_type": "markdown",
   "id": "74b80dca-8bdb-4174-838f-037db46e5bf7",
   "metadata": {},
   "source": [
    "Advantages of APIs : \n",
    "1. Applications : Access to APIs ensures more flexibility in information-transfer processes.\n",
    "2. Reach : APIs let you create layers in apps in order to distribute information to different audiences. \n",
    "3. Customization : Furthermore, it can serve as a solution to create different experiences for users, letting protocols, functions and commands to specific demands.\n",
    "4. Efficiency : When you have content that is automatically published and made available on different channels simultaneously, APIs allow for more efficient data distribution.\n",
    "\n",
    "Disadvantage of APIs:\n",
    "1. Creating API is a very time-consuming process.\n",
    "2. A fixed scale is necessary.\n",
    "3. Imprecise boundary delineation.\n",
    "4. Maintenance cost is very high."
   ]
  },
  {
   "cell_type": "markdown",
   "id": "82ae0257-3482-4c2c-8eef-3eec0a4d7296",
   "metadata": {},
   "source": [
    "## Assignmnent Question 3:"
   ]
  },
  {
   "cell_type": "markdown",
   "id": "ee45f2fa-2438-4352-9ba9-fc7a0f11bfaa",
   "metadata": {},
   "source": [
    "A web API is an application programming interface for either a web server or a web browser. \n",
    "\n",
    "Difference between API and web API : \n",
    "Both APIs and web services are technologies that enables the transfer of data between separate software applications.\n",
    "API is an interface that exposes an application's data to outside software, whereas web applications are one type of API with stricter requirements."
   ]
  },
  {
   "cell_type": "markdown",
   "id": "26c9110b-487d-48fd-a3c4-9bc5852f98a3",
   "metadata": {},
   "source": [
    "## Assignmnent Question 4:"
   ]
  },
  {
   "cell_type": "markdown",
   "id": "5f31ffa2-9cea-479d-9292-0bba32e9558f",
   "metadata": {},
   "source": [
    "REST is a set of guidelines that offers flexible implementation, whereas SOAP is a protocol with specific requirements like XML messaging. REST APIs are lightweight, making them ideal for newer contexts like the Internet of Things(IOT), mobile application development, and serverless computing.\n",
    "\n",
    "Shortcoming of soap : Soaps do not wash well in hard water and does not form muc lather and foam. Soap is alkaline, which irritates sensitive skin, which is normally acidic."
   ]
  },
  {
   "cell_type": "markdown",
   "id": "3e14cf97-8f14-4e22-ad39-b843840540f2",
   "metadata": {},
   "source": [
    "## Assignmnent Question 5:"
   ]
  },
  {
   "cell_type": "markdown",
   "id": "a4c199ac-c70e-49ef-ae8a-5a64904bf5ac",
   "metadata": {},
   "source": [
    "While SOAP and REST share similarities over the HTTP protocol, SOAP is a more rigid set of messaging patterns than REST. The rules in SOAP \n",
    "are important because we can't achieve any level of standardization without them. REST as an architecture style does not require processing and is naturally more flexible."
   ]
  },
  {
   "cell_type": "code",
   "execution_count": null,
   "id": "05ecc69e-d692-48e8-945f-e95cd92fd8fe",
   "metadata": {},
   "outputs": [],
   "source": []
  }
 ],
 "metadata": {
  "kernelspec": {
   "display_name": "Python 3 (ipykernel)",
   "language": "python",
   "name": "python3"
  },
  "language_info": {
   "codemirror_mode": {
    "name": "ipython",
    "version": 3
   },
   "file_extension": ".py",
   "mimetype": "text/x-python",
   "name": "python",
   "nbconvert_exporter": "python",
   "pygments_lexer": "ipython3",
   "version": "3.10.8"
  }
 },
 "nbformat": 4,
 "nbformat_minor": 5
}
