{
 "cells": [
  {
   "cell_type": "markdown",
   "id": "18d6f0a0-7279-4e5c-be21-654d9f492046",
   "metadata": {},
   "source": [
    "## Q1. Write a Python function that takes in two arrays of data and calculates the F-value for a variance ratio test. The function should return the F-value and the corresponding p-value for the test."
   ]
  },
  {
   "cell_type": "code",
   "execution_count": 1,
   "id": "7fcae8b3-a5ba-4e2b-bd43-1b24a8d357d3",
   "metadata": {},
   "outputs": [
    {
     "name": "stdout",
     "output_type": "stream",
     "text": [
      "F-value: 1.00\n",
      "P-value: 0.50\n"
     ]
    }
   ],
   "source": [
    "import numpy as np\n",
    "from scipy.stats import f\n",
    "def var_ratio_test(arr1, arr2):\n",
    "    var1 = np.var(arr1, ddof=1)\n",
    "    var2 = np.var(arr2, ddof=1)\n",
    "    f_value = var1 / var2\n",
    "    df1 = len(arr1) - 1\n",
    "    df2 = len(arr2) - 1\n",
    "    p_value = f.cdf(f_value, df1, df2)\n",
    "    return f_value, p_value\n",
    "arr1 = [1, 2, 3, 4, 5]\n",
    "arr2 = [6, 7, 8, 9, 10]\n",
    "f_value, p_value = var_ratio_test(arr1, arr2)\n",
    "print(f\"F-value: {f_value:.2f}\")\n",
    "print(f\"P-value: {p_value:.2f}\")"
   ]
  },
  {
   "cell_type": "markdown",
   "id": "49f341f7-7b5e-4725-ba9e-315533144228",
   "metadata": {},
   "source": [
    "## Q2. Given a significance level of 0.05 and the degrees of freedom for the numerator and denominator of an F-distribution, write a Python function that returns the critical F-value for a two-tailed test."
   ]
  },
  {
   "cell_type": "code",
   "execution_count": 2,
   "id": "e69a1398-c4c4-48b0-ba9f-3cf2521801d5",
   "metadata": {},
   "outputs": [
    {
     "name": "stdout",
     "output_type": "stream",
     "text": [
      "Critical F-value: 4.0768\n"
     ]
    }
   ],
   "source": [
    "from scipy.stats import f\n",
    "def critical_f_value(dfn,dfd, alpha=0.05):\n",
    "    f_crit = f.ppf(1-alpha/2, dfn, dfd)\n",
    "    return f_crit\n",
    "dfn = 3\n",
    "dfd = 16\n",
    "alpha = 0.05\n",
    "f_crit = critical_f_value(dfn, dfd, alpha)\n",
    "print(f\"Critical F-value: {f_crit:.4f}\")"
   ]
  },
  {
   "cell_type": "markdown",
   "id": "281065c4-6acd-4932-b06d-79c1bd858118",
   "metadata": {},
   "source": [
    "## Q3. Write a Python program that generates random samples from two normal distributions with known variances and uses an F-test to determine if the variances are equal. The program should output the F-value, degrees of freedom, and p-value for the test."
   ]
  },
  {
   "cell_type": "code",
   "execution_count": 3,
   "id": "f0623794-f3d6-4e6f-8563-779610ff5417",
   "metadata": {},
   "outputs": [
    {
     "name": "stdout",
     "output_type": "stream",
     "text": [
      "The null hypothesis that the variances are equal is not rejected.\n",
      "F-value: 1.7070\n",
      "Degrees of freedom (numerator): 19\n",
      "Degrees of freedom (denominator): 19\n",
      "P-value: 0.1264\n"
     ]
    }
   ],
   "source": [
    "import numpy as np\n",
    "from scipy.stats import f\n",
    "def f_test(sample1, sample2, var1, var2, alpha=0.05):\n",
    "    s1_var = np.var(sample1, ddof=1)\n",
    "    s2_var = np.var(sample2, ddof=1)\n",
    "    f_value = s1_var / s2_var if s1_var > s2_var else s2_var / s1_var\n",
    "    dfn = len(sample1) - 1 if s1_var > s2_var else len(sample2) - 1\n",
    "    dfd = len(sample2) - 1 if s1_var > s2_var else len(sample1) - 1\n",
    "    p_value = f.sf(f_value, dfn, dfd)\n",
    "    if p_value < alpha:\n",
    "        print(\"The null hypothesis that the variances are equal is rejected.\")\n",
    "    else:\n",
    "        print(\"The null hypothesis that the variances are equal is not rejected.\")\n",
    "    return f_value, dfn, dfd, p_value\n",
    "np.random.seed(123)\n",
    "sample1 = np.random.normal(10, 2, size=20)\n",
    "sample2 = np.random.normal(10, 3, size=20)\n",
    "f_value, dfn, dfd, p_value = f_test(sample1, sample2, var1=2**2, var2=3**2)\n",
    "print(f\"F-value: {f_value:.4f}\")\n",
    "print(f\"Degrees of freedom (numerator): {dfn}\")\n",
    "print(f\"Degrees of freedom (denominator): {dfd}\")\n",
    "print(f\"P-value: {p_value:.4f}\")"
   ]
  },
  {
   "cell_type": "markdown",
   "id": "9cab2fa5-8b68-4b4c-9bf6-21f8ba9e2f23",
   "metadata": {},
   "source": [
    "## Q4.The variances of two populations are known to be 10 and 15. A sample of 12 observations is taken from each population. Conduct an F-test at the 5% significance level to determine if the variances are significantly different."
   ]
  },
  {
   "cell_type": "code",
   "execution_count": 4,
   "id": "402ee98c-786d-4a3a-a1aa-247b49d99047",
   "metadata": {},
   "outputs": [
    {
     "name": "stdout",
     "output_type": "stream",
     "text": [
      "There is no significant difference between the variances.\n"
     ]
    }
   ],
   "source": [
    "import numpy as np\n",
    "from scipy.stats import f\n",
    "n1 = 12\n",
    "n2 = 12\n",
    "var1 = 10\n",
    "var2 = 15\n",
    "f_stat = var1 / var2\n",
    "p_val = f.cdf(f_stat, n1 - 1, n2 - 1)\n",
    "alpha = 0.05\n",
    "if p_val < alpha / 2 or p_val > 1 - alpha / 2:\n",
    "    print(\"The variances are significantly different.\")\n",
    "else:\n",
    "    print(\"There is no significant difference between the variances.\")"
   ]
  },
  {
   "cell_type": "markdown",
   "id": "c43c7cf7-2e00-403b-bc80-2ea4dc077056",
   "metadata": {},
   "source": [
    "## Q5. A manufacturer claims that the variance of the diameter of a certain product is 0.005. A sample of 25 products is taken, and the sample variance is found to be 0.006. Conduct an F-test at the 1% significance level to determine if the claim is justified."
   ]
  },
  {
   "cell_type": "code",
   "execution_count": 5,
   "id": "208cce21-e546-4bbf-a782-27a65ac82a08",
   "metadata": {},
   "outputs": [
    {
     "name": "stdout",
     "output_type": "stream",
     "text": [
      "The manufacturer's claim is not justified.\n"
     ]
    }
   ],
   "source": [
    "import numpy as np\n",
    "from scipy.stats import f\n",
    "n = 25\n",
    "sample_var = 0.006\n",
    "hypo_var = 0.005\n",
    "f_stat = sample_var / hypo_var\n",
    "p_val = f.cdf(f_stat, n - 1, np.inf)\n",
    "alpha = 0.01\n",
    "if p_val < alpha:\n",
    "    print(\"The manufacturer's claim is not justified.\")\n",
    "else:\n",
    "    print(\"The manufacturer's claim is justified.\")"
   ]
  },
  {
   "cell_type": "markdown",
   "id": "a458d5c0-d319-42aa-aba7-ff1eb300cac8",
   "metadata": {},
   "source": [
    "## Q6. Write a Python function that takes in the degrees of freedom for the numerator and denominator of an F-distribution and calculates the mean and variance of the distribution. The function should return the mean and variance as a tuple."
   ]
  },
  {
   "cell_type": "code",
   "execution_count": 6,
   "id": "782ff67f-3184-4600-bdea-6fe5c86d05b3",
   "metadata": {},
   "outputs": [
    {
     "name": "stdout",
     "output_type": "stream",
     "text": [
      "Mean:  1.25\n",
      "Variance: 1.3542\n"
     ]
    }
   ],
   "source": [
    "import numpy as np\n",
    "from scipy.stats import f\n",
    "def f_distribution_mean_var(dfn, dfd):\n",
    "    mean = dfd / (dfd - 2)\n",
    "    variance = (2 * dfd**2 * (dfn + dfd - 2)) / (dfn * (dfd - 2)**2 * (dfd - 4))\n",
    "    return (mean, variance)\n",
    "mean, variance = f_distribution_mean_var(5, 10)\n",
    "print(\"Mean: \", mean)\n",
    "print(f\"Variance: {variance:.4f}\")"
   ]
  },
  {
   "cell_type": "markdown",
   "id": "2e5fd0b2-5d28-4f28-9687-9e1cb78634b9",
   "metadata": {},
   "source": [
    "## Q7. A random sample of 10 measurements is taken from a normal population with unknown variance. The sample variance is found to be 25. Another random sample of 15 measurements is taken from another normal population with unknown variance, and the sample variance is found to be 20. Conduct an F-test at the 10% significance level to determine if the variances are significantly different."
   ]
  },
  {
   "cell_type": "code",
   "execution_count": 9,
   "id": "e76a84d4-4dcf-4b0e-8a24-92c1355c2c84",
   "metadata": {},
   "outputs": [
    {
     "name": "stdout",
     "output_type": "stream",
     "text": [
      "The variances are not significantly different.\n"
     ]
    }
   ],
   "source": [
    "from scipy.stats import f\n",
    "n1 = 10\n",
    "n2 = 15\n",
    "s1_sq = 25\n",
    "s2_sq = 20\n",
    "f_stat = s1_sq / s2_sq\n",
    "p_val = f.cdf(f_stat, n1 - 1, n2 - 1)\n",
    "alpha = 0.1\n",
    "if p_val < alpha:\n",
    "    print(\"The variances are significantly different.\")\n",
    "else:\n",
    "    print(\"The variances are not significantly different.\")"
   ]
  },
  {
   "cell_type": "markdown",
   "id": "d7b5184e-dfc3-4200-b488-f7fa7c689619",
   "metadata": {},
   "source": [
    "## Q8. The following data represent the waiting times in minutes at two different restaurants on a Saturday night: Restaurant A: 24, 25, 28, 23, 22, 20, 27; Restaurant B: 31, 33, 35, 30, 32, 36. Conduct an F-test at the 5% significance level to determine if the variances are significantly different."
   ]
  },
  {
   "cell_type": "code",
   "execution_count": 10,
   "id": "2a403b7e-b050-4848-934f-f228be21aaca",
   "metadata": {},
   "outputs": [
    {
     "name": "stdout",
     "output_type": "stream",
     "text": [
      "The variances are not significantly different.\n"
     ]
    }
   ],
   "source": [
    "from scipy.stats import f\n",
    "a = [24, 25, 28, 23, 22, 20, 27]\n",
    "b = [31, 33, 35, 30, 32, 36]\n",
    "n1 = len(a)\n",
    "n2 = len(b)\n",
    "s1_sq = sum((x - sum(a)/n1)**2 for x in a) / (n1 - 1)\n",
    "s2_sq = sum((x - sum(b)/n2)**2 for x in b) / (n2 - 1)\n",
    "f_stat = s1_sq / s2_sq\n",
    "p_val = f.cdf(f_stat, n1 - 1, n2 - 1)\n",
    "alpha = 0.05\n",
    "if p_val < alpha:\n",
    "    print(\"The variances are significantly different.\")\n",
    "else:\n",
    "    print(\"The variances are not significantly different.\")"
   ]
  },
  {
   "cell_type": "markdown",
   "id": "4b62b8c2-f748-439a-8634-1ceabc81b840",
   "metadata": {},
   "source": [
    "## Q9. The following data represent the test scores of two groups of students: Group A: 80, 85, 90, 92, 87, 83; Group B: 75, 78, 82, 79, 81, 84. Conduct an F-test at the 1% significance level to determine if the variances are significantly different."
   ]
  },
  {
   "cell_type": "code",
   "execution_count": 11,
   "id": "0a269629-9008-49e2-8283-2be90ee99820",
   "metadata": {},
   "outputs": [
    {
     "name": "stdout",
     "output_type": "stream",
     "text": [
      "The variances are not significantly different (fail to reject null hypothesis)\n"
     ]
    }
   ],
   "source": [
    "from scipy.stats import f_oneway\n",
    "group_a = [80, 85, 90, 92, 87, 83]\n",
    "group_b = [75, 78, 82, 79, 81, 84]\n",
    "f_statistic, p_value = f_oneway(group_a, group_b)\n",
    "alpha = 0.01\n",
    "if p_value < alpha:\n",
    "    print(\"The variances are significantly different (reject null hypothesis)\")\n",
    "else:\n",
    "    print(\"The variances are not significantly different (fail to reject null hypothesis)\")"
   ]
  }
 ],
 "metadata": {
  "kernelspec": {
   "display_name": "Python 3 (ipykernel)",
   "language": "python",
   "name": "python3"
  },
  "language_info": {
   "codemirror_mode": {
    "name": "ipython",
    "version": 3
   },
   "file_extension": ".py",
   "mimetype": "text/x-python",
   "name": "python",
   "nbconvert_exporter": "python",
   "pygments_lexer": "ipython3",
   "version": "3.10.8"
  }
 },
 "nbformat": 4,
 "nbformat_minor": 5
}
