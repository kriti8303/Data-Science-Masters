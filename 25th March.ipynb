{
 "cells": [
  {
   "cell_type": "markdown",
   "id": "7d208ffb-a075-46cb-a585-892f1a84f2dd",
   "metadata": {},
   "source": [
    "# Flight Price\n",
    "## Question 1: Load the flight price dataset and examine its dimensions. How many rows and columns does the dataset have?"
   ]
  },
  {
   "cell_type": "markdown",
   "id": "7ce6ba4a-94ad-4204-bbcb-93ae55a67da4",
   "metadata": {},
   "source": [
    "1. Load the Dataset\n",
    "\n",
    "Assuming you have the flight price dataset in a CSV file named flight_price.csv, you can load it into a Pandas DataFrame:"
   ]
  },
  {
   "cell_type": "code",
   "execution_count": null,
   "id": "dab8a3d7-9f99-4715-9a4a-bffe46b1eb50",
   "metadata": {},
   "outputs": [],
   "source": [
    "import pandas as pd\n",
    "\n",
    "# Load the dataset\n",
    "df = pd.read_csv('flight_price.csv')"
   ]
  },
  {
   "cell_type": "markdown",
   "id": "b6a66db9-959a-4c6d-a010-0fd4a786f3f2",
   "metadata": {},
   "source": [
    "2. Examine the Dimensions\n",
    "\n",
    "To find the number of rows and columns in the dataset, use the .shape attribute of the DataFrame:"
   ]
  },
  {
   "cell_type": "code",
   "execution_count": null,
   "id": "1f6bcb33-aa25-4a5d-938a-b7bface5fa91",
   "metadata": {},
   "outputs": [],
   "source": [
    "# Get the dimensions of the dataset\n",
    "num_rows, num_columns = df.shape\n",
    "\n",
    "print(f'The dataset has {num_rows} rows and {num_columns} columns.')"
   ]
  },
  {
   "cell_type": "markdown",
   "id": "41e5db2e-d356-4553-b5e1-58aff2b8301b",
   "metadata": {},
   "source": [
    "## Question 2: What is the distribution of flight prices in the dataset? Create a histogram to visualize the distribution."
   ]
  },
  {
   "cell_type": "markdown",
   "id": "071bb26c-b7b4-402b-9cb8-b2e248d9e524",
   "metadata": {},
   "source": [
    "1. Load the Dataset\n",
    "\n",
    "Load the flight price dataset using Pandas:"
   ]
  },
  {
   "cell_type": "code",
   "execution_count": null,
   "id": "9646961b-ff05-4eb1-abef-7b780c6be9ab",
   "metadata": {},
   "outputs": [],
   "source": [
    "import pandas as pd\n",
    "\n",
    "# Load the dataset\n",
    "df = pd.read_csv('flight_price.csv')"
   ]
  },
  {
   "cell_type": "markdown",
   "id": "74dd399f-aae2-48f1-83b5-81fedaef0afa",
   "metadata": {},
   "source": [
    "2. Explore the Data\n",
    "\n",
    "Ensure that the dataset contains a column for flight prices and check its name. For this example, let’s assume the column is named price.\n",
    "\n",
    "3. Create a Histogram\n",
    "\n",
    "Use Matplotlib or Seaborn to create a histogram of flight prices. Here’s how you can do it with both libraries:\n",
    "\n",
    "### Using Matplotlib"
   ]
  },
  {
   "cell_type": "code",
   "execution_count": null,
   "id": "63a0a9f8-f480-49d7-a48b-2b717274a8a7",
   "metadata": {},
   "outputs": [],
   "source": [
    "import matplotlib.pyplot as plt\n",
    "\n",
    "# Plot histogram\n",
    "plt.figure(figsize=(10, 6))\n",
    "plt.hist(df['price'], bins=30, edgecolor='k', alpha=0.7)\n",
    "plt.title('Distribution of Flight Prices')\n",
    "plt.xlabel('Price')\n",
    "plt.ylabel('Frequency')\n",
    "plt.grid(True)\n",
    "plt.show()"
   ]
  },
  {
   "cell_type": "markdown",
   "id": "cdc61bf7-a2fb-4dc5-8812-abf34957ba25",
   "metadata": {},
   "source": [
    "## Using Seaborn"
   ]
  },
  {
   "cell_type": "code",
   "execution_count": null,
   "id": "7209a1f9-8f74-4050-8da4-5772d878a8b3",
   "metadata": {},
   "outputs": [],
   "source": [
    "import seaborn as sns\n",
    "import matplotlib.pyplot as plt\n",
    "\n",
    "# Plot histogram\n",
    "plt.figure(figsize=(10, 6))\n",
    "sns.histplot(df['price'], bins=30, kde=True)\n",
    "plt.title('Distribution of Flight Prices')\n",
    "plt.xlabel('Price')\n",
    "plt.ylabel('Frequency')\n",
    "plt.grid(True)\n",
    "plt.show()"
   ]
  },
  {
   "cell_type": "markdown",
   "id": "bfcb9a3e-2f2e-4287-b824-547e5e1f02ee",
   "metadata": {},
   "source": [
    "## Question 3: What is the range of prices in the dataset? What is the minimum and maximum price?"
   ]
  },
  {
   "cell_type": "markdown",
   "id": "8accfa04-6cdd-4f3e-9acb-1c7d67e555ef",
   "metadata": {},
   "source": [
    "1. Load the Dataset\n",
    "\n",
    "Load the flight price dataset using Pandas:"
   ]
  },
  {
   "cell_type": "code",
   "execution_count": null,
   "id": "5b23d2ca-81c0-45ea-9384-e2ad5595e8c6",
   "metadata": {},
   "outputs": [],
   "source": [
    "import pandas as pd\n",
    "\n",
    "# Load the dataset\n",
    "df = pd.read_csv('flight_price.csv')"
   ]
  },
  {
   "cell_type": "markdown",
   "id": "51c872db-26b4-490f-913a-fbda267e448e",
   "metadata": {},
   "source": [
    "2. Calculate Minimum and Maximum Price\n",
    "\n",
    "Assuming the column containing flight prices is named price, you can use Pandas methods to find the minimum and maximum values:"
   ]
  },
  {
   "cell_type": "code",
   "execution_count": null,
   "id": "3f5c6efe-4907-4856-a938-83d4a5045bf5",
   "metadata": {},
   "outputs": [],
   "source": [
    "# Calculate the minimum and maximum prices\n",
    "min_price = df['price'].min()\n",
    "max_price = df['price'].max()\n",
    "\n",
    "# Calculate the range of prices\n",
    "price_range = max_price - min_price\n",
    "\n",
    "min_price, max_price, price_range"
   ]
  },
  {
   "cell_type": "markdown",
   "id": "459ba5b3-26b6-40cb-969c-12b1fbf02e51",
   "metadata": {},
   "source": [
    "### Output\n",
    "#### This code will give you:\n",
    "\n",
    "* Minimum Price: The lowest price in the dataset.\n",
    "* Maximum Price: The highest price in the dataset.\n",
    "* Price Range: The difference between the maximum and minimum prices.\n",
    "\n",
    "### Example\n",
    "\n",
    "If you run the code, you might get output similar to this:\n",
    "\n",
    "(min_price, max_price, price_range)\n",
    "\n",
    "(50, 1500, 1450)"
   ]
  },
  {
   "cell_type": "markdown",
   "id": "145c730e-ae79-4770-b5aa-1eec975f76bf",
   "metadata": {},
   "source": [
    "## Question 4: How does the price of flights vary by airline? Create a boxplot to compare the prices of different airlines."
   ]
  },
  {
   "cell_type": "markdown",
   "id": "cdfd2d10-1de2-454a-96bd-d278c90c3a68",
   "metadata": {},
   "source": [
    "1. Load the Dataset\n",
    "\n",
    "Ensure you have the dataset loaded into a Pandas DataFrame. Here, it’s assumed that the dataset has a price column for flight prices and an airline column indicating the airline."
   ]
  },
  {
   "cell_type": "code",
   "execution_count": null,
   "id": "741db165-4cbb-4dba-9d39-c19a45396222",
   "metadata": {},
   "outputs": [],
   "source": [
    "import pandas as pd\n",
    "\n",
    "# Load the dataset\n",
    "df = pd.read_csv('flight_price.csv')"
   ]
  },
  {
   "cell_type": "markdown",
   "id": "87c5a10b-94c0-4bb0-8a88-cdba4588ef3c",
   "metadata": {},
   "source": [
    "2. Create a Boxplot\n",
    "\n",
    "Use Plotly Express to create a boxplot to compare the prices of different airlines. Plotly Express is a powerful library for creating interactive plots."
   ]
  },
  {
   "cell_type": "code",
   "execution_count": null,
   "id": "0b2dc752-44c3-420e-9d59-14b8dcffe11a",
   "metadata": {},
   "outputs": [],
   "source": [
    "import plotly.express as px\n",
    "\n",
    "# Create the boxplot\n",
    "fig = px.box(df, x='airline', y='price', title='Flight Price Distribution by Airline')\n",
    "\n",
    "# Show the plot\n",
    "fig.show()"
   ]
  },
  {
   "cell_type": "markdown",
   "id": "0fd72953-c888-440a-9840-4a6a13a92418",
   "metadata": {},
   "source": [
    "## Question 6: You are working for a travel agency, and your boss has asked you to analyze the Flight Price dataset to identify the peak travel season. What features would you analyze to identify the peak season, and how would you present your findings to your boss?"
   ]
  },
  {
   "cell_type": "markdown",
   "id": "f9bc83d6-3769-4186-a0e2-c58b0860d735",
   "metadata": {},
   "source": [
    "1. Key Features to Analyze\n",
    "\n",
    "* Date of Flight: This is crucial for determining the peak travel seasons. Features such as the month, day of the week, and whether the flight is during a holiday or peak period will be helpful.\n",
    "\n",
    "* Price Trends Over Time: Analyze how flight prices vary over different months or seasons. Higher prices during certain months can indicate peak travel times.\n",
    "\n",
    "* Booking Date: If available, the booking date can provide insights into advance booking trends and whether they correlate with travel dates.\n",
    "\n",
    "* Flight Duration: Longer flights might show different patterns compared to shorter ones, potentially revealing more about seasonal trends.\n",
    "\n",
    "* Airline: Different airlines may have different peak seasons based on their routes and schedules.\n",
    "\n",
    "2. Analyzing the Data\n",
    "\n",
    "a. Extract and Transform Date Information\n",
    "\n",
    "Convert the flight dates into datetime format and extract relevant features like month, day of the week, and holiday seasons."
   ]
  },
  {
   "cell_type": "code",
   "execution_count": null,
   "id": "3f764de4-d601-46a3-8630-b35ed1c53900",
   "metadata": {},
   "outputs": [],
   "source": [
    "import pandas as pd\n",
    "\n",
    "# Load the dataset\n",
    "df = pd.read_csv('flight_price.csv')\n",
    "\n",
    "# Convert flight date to datetime format\n",
    "df['flight_date'] = pd.to_datetime(df['flight_date'])\n",
    "\n",
    "# Extract month and day of the week\n",
    "df['month'] = df['flight_date'].dt.month\n",
    "df['day_of_week'] = df['flight_date'].dt.day_name()"
   ]
  },
  {
   "cell_type": "markdown",
   "id": "023e176c-3640-43e9-9c18-a46df973ad8a",
   "metadata": {},
   "source": [
    "b. Aggregate and Visualize Data\n",
    "\n",
    "Aggregate the flight prices by month or week to see the average prices and identify trends."
   ]
  },
  {
   "cell_type": "code",
   "execution_count": null,
   "id": "f2ca6e33-6ef1-4798-9214-45a073714599",
   "metadata": {},
   "outputs": [],
   "source": [
    "import plotly.express as px\n",
    "\n",
    "# Aggregate average price by month\n",
    "monthly_prices = df.groupby('month')['price'].mean().reset_index()\n",
    "\n",
    "# Create a line plot of average prices by month\n",
    "fig = px.line(monthly_prices, x='month', y='price', title='Average Flight Prices by Month')\n",
    "fig.show()\n",
    "\n",
    "# Aggregate average price by day of the week\n",
    "weekly_prices = df.groupby('day_of_week')['price'].mean().reset_index()\n",
    "weekly_prices = weekly_prices.reindex(['Monday', 'Tuesday', 'Wednesday', 'Thursday', 'Friday', 'Saturday', 'Sunday'])\n",
    "\n",
    "# Create a bar plot of average prices by day of the week\n",
    "fig = px.bar(weekly_prices, x='day_of_week', y='price', title='Average Flight Prices by Day of the Week')\n",
    "fig.show()"
   ]
  },
  {
   "cell_type": "markdown",
   "id": "d42f3dfc-b5ff-44d9-b1ae-99cda60e85fe",
   "metadata": {},
   "source": [
    "3. Presenting Findings\n",
    "##### When presenting your findings to your boss:\n",
    "\n",
    "1. Summary of Analysis: Start with a summary of the analysis performed, including the features analyzed (e.g., month, day of the week) and any significant trends observed.\n",
    "\n",
    "2. Visualizations: Present the visualizations you created. Highlight key insights, such as:\n",
    "\n",
    "3. Peak Months: Show the months with the highest average prices.\n",
    "4. Weekday Patterns: Illustrate any variations in prices based on the day of the week.\n",
    "5. Peak Season Identification: Clearly indicate the peak travel seasons based on the data. For example, if prices are consistently higher in June, July, and August, these months are likely the peak travel season.\n",
    "\n",
    "6. Recommendations: Based on the findings, provide recommendations for booking strategies, marketing campaigns, or special offers during peak periods.\n",
    "\n",
    "### Example Presentation\n",
    "* Introduction: Explain the goal of the analysis and the features examined.\n",
    "* Visuals: Show the line plot of average prices by month and the bar plot by day of the week.\n",
    "* Findings: Highlight peak months and days with the highest average prices.\n",
    "* Recommendations: Suggest strategies based on the identified peak travel periods."
   ]
  },
  {
   "cell_type": "markdown",
   "id": "fedcbb52-d22f-45b2-bef9-33f63e1a6c89",
   "metadata": {},
   "source": [
    "## Qusetion 7: You are a data analyst for a flight booking website, and you have been asked to analyze the Flight Price dataset to identify any trends in flight prices. What features would you analyze to identify these trends, and what visualizations would you use to present your findings to your team?"
   ]
  },
  {
   "cell_type": "markdown",
   "id": "e5a1265d-a668-4e14-919b-99d8f9f26845",
   "metadata": {},
   "source": [
    "1. Features to Analyze\n",
    "\n",
    "* Date of Flight: Understand how prices change over time by examining trends by month, week, or day. Look for seasonal variations or price fluctuations throughout the year.\n",
    "\n",
    "* Booking Date: Analyze how the price changes with the time of booking relative to the flight date. Look for trends in prices based on how far in advance flights are booked.\n",
    "\n",
    "* Airline: Compare prices across different airlines to identify if some airlines consistently offer lower or higher prices.\n",
    "\n",
    "* Destination: Investigate how flight prices vary by destination. Some destinations might have higher prices due to demand or distance.\n",
    "\n",
    "* Day of the Week: Examine if prices vary by the day of the week, which might reflect weekday vs. weekend travel patterns.\n",
    "\n",
    "* Flight Duration: Check if longer or shorter flights have different pricing trends.\n",
    "\n",
    "* Class of Service: If available, compare prices across different classes (economy, business, etc.) to identify trends in pricing for different service levels.\n",
    "\n",
    "* Seasonality: Identify peak and off-peak seasons based on historical data.\n",
    "\n",
    "2. Analyzing the Data\n",
    "\n",
    "a. Date-Based Trends\n",
    "\n",
    "Monthly and Weekly Trends:"
   ]
  },
  {
   "cell_type": "code",
   "execution_count": null,
   "id": "06667d55-18f3-4ed7-83e9-74fcc0379e89",
   "metadata": {},
   "outputs": [],
   "source": [
    "import pandas as pd\n",
    "import plotly.express as px\n",
    "\n",
    "# Load the dataset\n",
    "df = pd.read_csv('flight_price.csv')\n",
    "\n",
    "# Convert flight date to datetime format\n",
    "df['flight_date'] = pd.to_datetime(df['flight_date'])\n",
    "\n",
    "# Extract month and week\n",
    "df['month'] = df['flight_date'].dt.month\n",
    "df['week'] = df['flight_date'].dt.isocalendar().week\n",
    "\n",
    "# Monthly average price\n",
    "monthly_prices = df.groupby('month')['price'].mean().reset_index()\n",
    "fig_monthly = px.line(monthly_prices, x='month', y='price', title='Average Flight Prices by Month')\n",
    "fig_monthly.show()\n",
    "\n",
    "# Weekly average price\n",
    "weekly_prices = df.groupby('week')['price'].mean().reset_index()\n",
    "fig_weekly = px.line(weekly_prices, x='week', y='price', title='Average Flight Prices by Week')\n",
    "fig_weekly.show()"
   ]
  },
  {
   "cell_type": "markdown",
   "id": "e496646a-9cdb-469b-9ab7-5ed04b2b0318",
   "metadata": {},
   "source": [
    "b. Booking Date vs. Flight Date\n",
    "\n",
    "Price Trends Based on Booking Time:"
   ]
  },
  {
   "cell_type": "code",
   "execution_count": null,
   "id": "cedf43ef-d398-465f-8446-c24f7ed2b178",
   "metadata": {},
   "outputs": [],
   "source": [
    "# Calculate days between booking and flight date\n",
    "df['days_in_advance'] = (df['flight_date'] - pd.to_datetime(df['booking_date'])).dt.days\n",
    "\n",
    "# Average price by days in advance\n",
    "advance_prices = df.groupby('days_in_advance')['price'].mean().reset_index()\n",
    "fig_advance = px.line(advance_prices, x='days_in_advance', y='price', title='Average Flight Prices by Days in Advance')\n",
    "fig_advance.show()"
   ]
  },
  {
   "cell_type": "markdown",
   "id": "24928f3b-c02c-4218-86d1-45a1d0457cd9",
   "metadata": {},
   "source": [
    "c. Airline-Based Trends\n",
    "\n",
    "Price Comparison by Airline:"
   ]
  },
  {
   "cell_type": "code",
   "execution_count": null,
   "id": "4876aa44-02c8-4cae-bb6a-76a6f99f3b14",
   "metadata": {},
   "outputs": [],
   "source": [
    "# Average price by airline\n",
    "airline_prices = df.groupby('airline')['price'].mean().reset_index()\n",
    "fig_airline = px.bar(airline_prices, x='airline', y='price', title='Average Flight Prices by Airline')\n",
    "fig_airline.show()"
   ]
  },
  {
   "cell_type": "markdown",
   "id": "bfd9482d-bc6f-413b-b352-4a73372b83dd",
   "metadata": {},
   "source": [
    "d. Destination-Based Trends\n",
    "\n",
    "Price Trends by Destination:"
   ]
  },
  {
   "cell_type": "code",
   "execution_count": null,
   "id": "322841a7-ebc9-449d-883f-cabf4eeba3ff",
   "metadata": {},
   "outputs": [],
   "source": [
    "# Average price by destination\n",
    "destination_prices = df.groupby('destination')['price'].mean().reset_index()\n",
    "fig_destination = px.bar(destination_prices, x='destination', y='price', title='Average Flight Prices by Destination')\n",
    "fig_destination.show()"
   ]
  },
  {
   "cell_type": "markdown",
   "id": "f2e51fc2-7fc6-4e12-8c3e-758d48531962",
   "metadata": {},
   "source": [
    "e. Day of the Week Trends\n",
    "\n",
    "Price Trends by Day of the Week:"
   ]
  },
  {
   "cell_type": "code",
   "execution_count": null,
   "id": "40555812-f6e8-46dd-9f23-1fa7c2969996",
   "metadata": {},
   "outputs": [],
   "source": [
    "# Extract day of the week\n",
    "df['day_of_week'] = df['flight_date'].dt.day_name()\n",
    "\n",
    "# Average price by day of the week\n",
    "weekly_prices = df.groupby('day_of_week')['price'].mean().reset_index()\n",
    "weekly_prices = weekly_prices.reindex(['Monday', 'Tuesday', 'Wednesday', 'Thursday', 'Friday', 'Saturday', 'Sunday'])\n",
    "\n",
    "fig_day_of_week = px.bar(weekly_prices, x='day_of_week', y='price', title='Average Flight Prices by Day of the Week')\n",
    "fig_day_of_week.show()"
   ]
  },
  {
   "cell_type": "markdown",
   "id": "8ba9b5fe-7e1e-4615-b0a4-203e883a8307",
   "metadata": {},
   "source": [
    "3. Presenting Your Findings\n",
    "\n",
    "When presenting the findings to your team:\n",
    "\n",
    "1. Introduction: Briefly explain the goal of the analysis and the features analyzed.\n",
    "\n",
    "2. Visualizations: Show the key visualizations created:\n",
    "\n",
    "* Monthly and Weekly Trends: Display price trends over time.\n",
    "* Booking vs. Flight Date: Show how advance booking affects prices.\n",
    "* Airline Comparison: Compare prices across different airlines.\n",
    "* Destination Trends: Highlight price variations by destination.\n",
    "* Day of the Week: Illustrate how prices vary by day of the week.\n",
    "* Key Insights: Summarize the trends observed from the visualizations, such as peak travel seasons, differences in pricing between airlines, and variations in prices based on booking time.\n",
    "\n",
    "3. Recommendations: Based on the findings, suggest strategies for pricing, promotions, or changes in booking policies to optimize revenue or offer better deals to customers."
   ]
  },
  {
   "cell_type": "markdown",
   "id": "f6758e3f-8be9-49f1-ac76-d59d313b0514",
   "metadata": {},
   "source": [
    "## Qusetion 8 : You are a data scientist working for an airline company, and you have been asked to analyze the Flight Price dataset to identify the factors that affect flight prices. What features would you analyze to identify these factors, and how would you present your findings to the management team?"
   ]
  },
  {
   "cell_type": "markdown",
   "id": "39751357-9a86-480c-829c-de0e3c444247",
   "metadata": {},
   "source": [
    "1. Features to Analyze\n",
    "1.1. Flight Date and Time:\n",
    "\n",
    "* Seasonality: Examine how flight prices vary by month and day of the week to identify peak and off-peak seasons.\n",
    "* Time of Day: Analyze if prices fluctuate based on departure or arrival times.\n",
    "\n",
    "1.2. Booking Date:\n",
    "\n",
    "* Advance Booking: Study the relationship between the number of days in advance a ticket is booked and its price to understand how early booking affects pricing.\n",
    "\n",
    "1.3. Airline:\n",
    "\n",
    "* Airline Comparison: Compare prices across different airlines to determine if certain airlines charge higher or lower prices.\n",
    "\n",
    "1.4. Destination:\n",
    "\n",
    "* Destination Pricing: Analyze how prices differ by destination, as some locations may have higher demand or costs associated with them.\n",
    "\n",
    "1.5. Flight Duration:\n",
    "\n",
    "* Duration Impact: Investigate if longer flights are priced higher compared to shorter ones.\n",
    "\n",
    "1.6. Class of Service:\n",
    "\n",
    "* Service Class: If available, compare prices across different classes of service (e.g., economy, business) to understand the impact of service level on pricing.\n",
    "\n",
    "1.7. Day of the Week:\n",
    "\n",
    "* Weekday vs. Weekend: Determine if there are price differences between flights on weekdays and weekends.\n",
    "\n",
    "2. Analyzing the Data\n",
    "\n",
    "2.1. Descriptive Statistics:\n",
    "\n",
    "* Compute summary statistics (mean, median, standard deviation) for each feature to understand their distribution and central tendencies.\n",
    "\n",
    "2.2. Correlation Analysis:\n",
    "\n",
    "* Calculate correlation coefficients between flight prices and numerical features to identify which factors have the strongest linear relationships with price.\n",
    "\n",
    "2.3. Visualizations:\n",
    "\n",
    "a. Time-Based Analysis:"
   ]
  },
  {
   "cell_type": "code",
   "execution_count": null,
   "id": "4e1bf054-a5ab-4f27-9542-09e6cb7c870c",
   "metadata": {},
   "outputs": [],
   "source": [
    "import pandas as pd\n",
    "import plotly.express as px\n",
    "\n",
    "# Load dataset\n",
    "df = pd.read_csv('flight_price.csv')\n",
    "\n",
    "# Convert flight_date and booking_date to datetime\n",
    "df['flight_date'] = pd.to_datetime(df['flight_date'])\n",
    "df['booking_date'] = pd.to_datetime(df['booking_date'])\n",
    "\n",
    "# Extract month and day of week\n",
    "df['month'] = df['flight_date'].dt.month\n",
    "df['day_of_week'] = df['flight_date'].dt.day_name()\n",
    "\n",
    "# Price trend by month\n",
    "monthly_prices = df.groupby('month')['price'].mean().reset_index()\n",
    "fig_monthly = px.line(monthly_prices, x='month', y='price', title='Average Flight Prices by Month')\n",
    "fig_monthly.show()\n",
    "\n",
    "# Price trend by day of the week\n",
    "weekly_prices = df.groupby('day_of_week')['price'].mean().reset_index()\n",
    "weekly_prices = weekly_prices.reindex(['Monday', 'Tuesday', 'Wednesday', 'Thursday', 'Friday', 'Saturday', 'Sunday'])\n",
    "fig_weekly = px.bar(weekly_prices, x='day_of_week', y='price', title='Average Flight Prices by Day of the Week')\n",
    "fig_weekly.show()"
   ]
  },
  {
   "cell_type": "markdown",
   "id": "b3060e82-2253-45da-b12f-6021eb7ae43e",
   "metadata": {},
   "source": [
    "b. Booking Data Analysis:"
   ]
  },
  {
   "cell_type": "code",
   "execution_count": null,
   "id": "554bed85-b6ba-4db5-bc97-c1c6c518d8fb",
   "metadata": {},
   "outputs": [],
   "source": [
    "# Calculate days in advance\n",
    "df['days_in_advance'] = (df['flight_date'] - df['booking_date']).dt.days\n",
    "\n",
    "# Average price by days in advance\n",
    "advance_prices = df.groupby('days_in_advance')['price'].mean().reset_index()\n",
    "fig_advance = px.line(advance_prices, x='days_in_advance', y='price', title='Average Flight Prices by Days in Advance')\n",
    "fig_advance.show()"
   ]
  },
  {
   "cell_type": "markdown",
   "id": "ed4472b8-4a97-4fef-b9be-40d90cf10893",
   "metadata": {},
   "source": [
    "c. Airline Comparision: "
   ]
  },
  {
   "cell_type": "code",
   "execution_count": null,
   "id": "098915e2-5e02-4e42-8100-ee1270ede122",
   "metadata": {},
   "outputs": [],
   "source": [
    "# Average price by airline\n",
    "airline_prices = df.groupby('airline')['price'].mean().reset_index()\n",
    "fig_airline = px.bar(airline_prices, x='airline', y='price', title='Average Flight Prices by Airline')\n",
    "fig_airline.show()"
   ]
  },
  {
   "cell_type": "markdown",
   "id": "6dd608ae-4654-4531-bf31-c768150fb24d",
   "metadata": {},
   "source": [
    "d. Destination Analysis :"
   ]
  },
  {
   "cell_type": "code",
   "execution_count": null,
   "id": "6326dfe0-a73f-4f32-ba56-d4aa62d1aec0",
   "metadata": {},
   "outputs": [],
   "source": [
    "# Average price by destination\n",
    "destination_prices = df.groupby('destination')['price'].mean().reset_index()\n",
    "fig_destination = px.bar(destination_prices, x='destination', y='price', title='Average Flight Prices by Destination')\n",
    "fig_destination.show()"
   ]
  },
  {
   "cell_type": "markdown",
   "id": "35373601-1626-4dbe-ab73-7c6e748a2a4c",
   "metadata": {},
   "source": [
    "e. Flight Duration:"
   ]
  },
  {
   "cell_type": "code",
   "execution_count": null,
   "id": "f85ca15d-bc5d-4669-801f-aa85b8b79ead",
   "metadata": {},
   "outputs": [],
   "source": [
    "# Assuming flight_duration is a feature in the dataset\n",
    "# Average price by flight duration\n",
    "duration_prices = df.groupby('flight_duration')['price'].mean().reset_index()\n",
    "fig_duration = px.scatter(duration_prices, x='flight_duration', y='price', title='Average Flight Prices by Flight Duration')\n",
    "fig_duration.show()"
   ]
  },
  {
   "cell_type": "markdown",
   "id": "5989313f-52ca-4743-883a-a8dc6beebfc8",
   "metadata": {},
   "source": [
    "3. Presenting Your Findings\n",
    "\n",
    "3.1. Summary of Analysis:\n",
    "\n",
    "* Provide an overview of the features analyzed and their impact on flight prices.\n",
    "* Summarize key findings from the visualizations and statistical analysis.\n",
    "\n",
    "3.2. Visualizations:\n",
    "\n",
    "* Display the key visualizations that illustrate trends and relationships:\n",
    "* Monthly and Weekly Trends: Show how prices vary over time.\n",
    "* Booking vs. Flight Date: Highlight how advance booking affects prices.\n",
    "* Airline Comparison: Compare prices across different airlines.\n",
    "* Destination Pricing: Analyze price variations by destination.\n",
    "* Flight Duration: Illustrate the relationship between flight duration and price.\n",
    "\n",
    "3.3. Key Insights:\n",
    "\n",
    "* Discuss the major factors affecting flight prices and any significant patterns or trends observed.\n",
    "* For example, if peak travel seasons result in higher prices, or if certain airlines consistently offer lower prices.\n",
    "\n",
    "3.4. Recommendations:\n",
    "\n",
    "* Based on the analysis, suggest strategies for pricing optimization, such as offering discounts for early bookings, adjusting prices based on seasonality, or targeting specific destinations.\n",
    "\n",
    "3.5. Actionable Steps:\n",
    "\n",
    "* Propose actionable steps or changes that can be implemented based on the findings to improve pricing strategies or marketing efforts."
   ]
  },
  {
   "cell_type": "markdown",
   "id": "30478548-cac3-4367-a1e8-7cb419cbb50b",
   "metadata": {},
   "source": [
    "# Google Playstore\n",
    "## Qusetion 9: Load the Google Playstore dataset and examine its dimensions. How many rows and columns does the dataset have?"
   ]
  },
  {
   "cell_type": "code",
   "execution_count": null,
   "id": "0b9ee90e-5d91-4c1a-b917-b7e496438508",
   "metadata": {},
   "outputs": [],
   "source": [
    "import pandas as pd\n",
    "\n",
    "# Load the Google Playstore dataset\n",
    "df = pd.read_csv('path/to/googleplaystore.csv')\n",
    "\n",
    "# Examine the dimensions of the dataset\n",
    "num_rows, num_columns = df.shape\n",
    "\n",
    "# Print the number of rows and columns\n",
    "print(f'The dataset has {num_rows} rows and {num_columns} columns.')"
   ]
  },
  {
   "cell_type": "markdown",
   "id": "b4b0031a-3d24-4a2c-82b1-82fc1f1f61de",
   "metadata": {},
   "source": [
    "## Question 10: How does the rating of apps vary by category? Create a boxplot to compare the ratings of different app categories."
   ]
  },
  {
   "cell_type": "code",
   "execution_count": null,
   "id": "70661cf7-f61c-4ae5-877c-b48899054299",
   "metadata": {},
   "outputs": [],
   "source": [
    "import pandas as pd\n",
    "import seaborn as sns\n",
    "import matplotlib.pyplot as plt\n",
    "\n",
    "# Load the Google Playstore dataset\n",
    "df = pd.read_csv('path/to/googleplaystore.csv')\n",
    "\n",
    "# Clean the data: remove rows with missing or invalid ratings\n",
    "df = df.dropna(subset=['Rating', 'Category'])\n",
    "df['Rating'] = pd.to_numeric(df['Rating'], errors='coerce')\n",
    "df = df.dropna(subset=['Rating'])\n",
    "\n",
    "# Create a boxplot to compare ratings by category\n",
    "plt.figure(figsize=(12, 8))\n",
    "sns.boxplot(data=df, x='Category', y='Rating')\n",
    "plt.xticks(rotation=90)  # Rotate category names for better visibility\n",
    "plt.title('Distribution of App Ratings by Category')\n",
    "plt.xlabel('App Category')\n",
    "plt.ylabel('Rating')\n",
    "plt.show()"
   ]
  },
  {
   "cell_type": "markdown",
   "id": "411568ba-55e6-4ba1-a466-33a462986fd5",
   "metadata": {},
   "source": [
    "## Qusetion 11: Are there any missing values in the dataset? Identify any missing values and describe how they may impact your analysis."
   ]
  },
  {
   "cell_type": "code",
   "execution_count": null,
   "id": "3e70b470-24cf-40ae-90e9-e6b9d99c3514",
   "metadata": {},
   "outputs": [],
   "source": [
    "import pandas as pd\n",
    "\n",
    "# Load the Google Playstore dataset\n",
    "df = pd.read_csv('path/to/googleplaystore.csv')\n",
    "\n",
    "# Check for missing values in the dataset\n",
    "missing_values = df.isnull().sum()\n",
    "\n",
    "# Display the missing values for each column\n",
    "print(\"Missing values in each column:\")\n",
    "print(missing_values)\n",
    "\n",
    "# Calculate the percentage of missing values for each column\n",
    "missing_percentage = (missing_values / len(df)) * 100\n",
    "\n",
    "# Display the percentage of missing values for each column\n",
    "print(\"\\nPercentage of missing values in each column:\")\n",
    "print(missing_percentage)"
   ]
  },
  {
   "cell_type": "markdown",
   "id": "c3417f01-45f9-4fb3-89e1-701ff673e27b",
   "metadata": {},
   "source": [
    "## Question 12: What is the relationship between the size of an app and its rating? Create a scatter plot to visualize the relationship."
   ]
  },
  {
   "cell_type": "code",
   "execution_count": null,
   "id": "9c213090-fe1d-4ecf-9f1a-c48f25afa081",
   "metadata": {},
   "outputs": [],
   "source": [
    "import pandas as pd\n",
    "import matplotlib.pyplot as plt\n",
    "\n",
    "# Load the Google Playstore dataset\n",
    "df = pd.read_csv('path/to/googleplaystore.csv')\n",
    "\n",
    "# Convert 'Size' and 'Rating' columns to numeric values, handling non-numeric values and missing data\n",
    "# Removing 'M' (megabytes) and converting to float\n",
    "df['Size'] = df['Size'].replace('Varies with device', pd.NA)  # Replace non-numeric values with NA\n",
    "df['Size'] = df['Size'].str.replace('M', '').astype(float)  # Remove 'M' and convert to float\n",
    "\n",
    "# Convert 'Rating' to numeric values, handling missing data\n",
    "df['Rating'] = pd.to_numeric(df['Rating'], errors='coerce')\n",
    "\n",
    "# Drop rows with missing values in 'Size' or 'Rating'\n",
    "df = df.dropna(subset=['Size', 'Rating'])\n",
    "\n",
    "# Create a scatter plot\n",
    "plt.figure(figsize=(10, 6))\n",
    "plt.scatter(df['Size'], df['Rating'], alpha=0.5)\n",
    "plt.title('Relationship Between App Size and Rating')\n",
    "plt.xlabel('Size (MB)')\n",
    "plt.ylabel('Rating')\n",
    "plt.grid(True)\n",
    "plt.show()"
   ]
  },
  {
   "cell_type": "markdown",
   "id": "8083cbe0-1d2f-48cc-acc6-1b4f53ef9376",
   "metadata": {},
   "source": [
    "## Question 13: How does the type of app affect its price? Create a bar chart to compare average prices by app type."
   ]
  },
  {
   "cell_type": "markdown",
   "id": "60f3f9ac-d3a5-4961-9cf5-c128fbace313",
   "metadata": {},
   "source": [
    "1. Load the dataset: Read the Google Playstore dataset.\n",
    "2. Preprocess the data: Ensure that the 'Type' and 'Price' columns are correctly formatted.\n",
    "3. Calculate average prices: Group the data by 'Type' and compute the average price for each type.\n",
    "4. Plot the bar chart: Visualize the average prices by app type using a bar chart.\n",
    "### Here’s a step-by-step code example:"
   ]
  },
  {
   "cell_type": "code",
   "execution_count": null,
   "id": "a7934bf3-f188-45ab-88e0-50e90fe5dde7",
   "metadata": {},
   "outputs": [],
   "source": [
    "import pandas as pd\n",
    "import matplotlib.pyplot as plt\n",
    "\n",
    "# Load the Google Playstore dataset\n",
    "df = pd.read_csv('path/to/googleplaystore.csv')\n",
    "\n",
    "# Clean and preprocess the 'Price' column\n",
    "df['Price'] = df['Price'].replace('Everyone', pd.NA)  # Handle non-numeric values\n",
    "df['Price'] = df['Price'].str.replace('$', '').astype(float)  # Remove '$' and convert to float\n",
    "\n",
    "# Handle missing values in 'Price' or 'Type'\n",
    "df = df.dropna(subset=['Price', 'Type'])\n",
    "\n",
    "# Calculate the average price by app type\n",
    "average_prices = df.groupby('Type')['Price'].mean()\n",
    "\n",
    "# Create a bar chart\n",
    "plt.figure(figsize=(10, 6))\n",
    "average_prices.plot(kind='bar', color='skyblue')\n",
    "plt.title('Average Price by App Type')\n",
    "plt.xlabel('App Type')\n",
    "plt.ylabel('Average Price (USD)')\n",
    "plt.xticks(rotation=45)\n",
    "plt.grid(axis='y', linestyle='--', alpha=0.7)\n",
    "plt.show()"
   ]
  },
  {
   "cell_type": "markdown",
   "id": "f6e2062b-1deb-47bb-9cfd-03311a599e1b",
   "metadata": {},
   "source": [
    "## Qusetion 14: What are the top 10 most popular apps in the dataset? Create a frequency table to identify the apps with the highest number of installs."
   ]
  },
  {
   "cell_type": "markdown",
   "id": "1dd374d5-aaa4-4070-bd3a-43691d7537a5",
   "metadata": {},
   "source": [
    "1. Load the dataset: Read the Google Playstore dataset.\n",
    "2. Preprocess the data: Ensure the 'Installs' column is in a numeric format.\n",
    "3. Identify top 10 apps: Sort the apps by the number of installs and select the top 10.\n",
    "4. Create a frequency table: Display the top 10 apps with the highest number of installs.\n",
    "### Here’s how you can achieve this in Python:"
   ]
  },
  {
   "cell_type": "code",
   "execution_count": null,
   "id": "0bbc0a6a-72b4-47a1-b3fc-29ee4a798570",
   "metadata": {},
   "outputs": [],
   "source": [
    "import pandas as pd\n",
    "\n",
    "# Load the Google Playstore dataset\n",
    "df = pd.read_csv('path/to/googleplaystore.csv')\n",
    "\n",
    "# Clean and preprocess the 'Installs' column\n",
    "df['Installs'] = df['Installs'].replace('Free', pd.NA)  # Handle non-numeric values\n",
    "df['Installs'] = df['Installs'].str.replace(',', '').str.replace('+', '').astype(float)  # Remove ',' and '+' and convert to float\n",
    "\n",
    "# Handle missing values in 'Installs'\n",
    "df = df.dropna(subset=['Installs'])\n",
    "\n",
    "# Find the top 10 most popular apps based on the number of installs\n",
    "top_10_apps = df[['App', 'Installs']].sort_values(by='Installs', ascending=False).head(10)\n",
    "\n",
    "# Create a frequency table\n",
    "print(top_10_apps)"
   ]
  },
  {
   "cell_type": "markdown",
   "id": "a6f0b798-9fc4-432a-827b-1d6d1387ea98",
   "metadata": {},
   "source": [
    "## Question 15: A company wants to launch a new app on the Google Playstore and has asked you to analyze the Google Playstore dataset to identify the most popular app categories. How would you approach this task, and what features would you analyze to make recommendations to the company?"
   ]
  },
  {
   "cell_type": "code",
   "execution_count": null,
   "id": "3a5a7d8e-1349-40c3-a164-fc5670f0ecca",
   "metadata": {},
   "outputs": [],
   "source": [
    "import pandas as pd\n",
    "import matplotlib.pyplot as plt\n",
    "import seaborn as sns\n",
    "\n",
    "# Load the Google Playstore dataset\n",
    "df = pd.read_csv('path/to/googleplaystore.csv')\n",
    "\n",
    "# Clean the 'Category' and 'Installs' columns\n",
    "df['Installs'] = df['Installs'].replace('Free', pd.NA)\n",
    "df['Installs'] = df['Installs'].str.replace(',', '').str.replace('+', '').astype(float)\n",
    "df = df.dropna(subset=['Installs'])\n",
    "\n",
    "# Clean 'Rating' column\n",
    "df = df.dropna(subset=['Rating'])\n",
    "df['Rating'] = df['Rating'].astype(float)\n",
    "\n",
    "# Analyze app categories\n",
    "category_stats = df.groupby('Category').agg({\n",
    "    'Installs': 'mean',\n",
    "    'Rating': 'mean',\n",
    "    'App': 'count'\n",
    "}).rename(columns={'App': 'Number of Apps'}).reset_index()\n",
    "\n",
    "# Sort categories by the average number of installs\n",
    "category_stats = category_stats.sort_values(by='Installs', ascending=False)\n",
    "\n",
    "# Visualize the results\n",
    "plt.figure(figsize=(12, 6))\n",
    "sns.barplot(x='Installs', y='Category', data=category_stats, palette='viridis')\n",
    "plt.title('Average Number of Installs by App Category')\n",
    "plt.xlabel('Average Number of Installs')\n",
    "plt.ylabel('App Category')\n",
    "plt.show()\n",
    "\n",
    "# Also, plot average ratings by category\n",
    "plt.figure(figsize=(12, 6))\n",
    "sns.barplot(x='Rating', y='Category', data=category_stats, palette='viridis')\n",
    "plt.title('Average Rating by App Category')\n",
    "plt.xlabel('Average Rating')\n",
    "plt.ylabel('App Category')\n",
    "plt.show()"
   ]
  },
  {
   "cell_type": "markdown",
   "id": "17261d62-2f9b-4ce5-bee4-7d5cdee0cbe5",
   "metadata": {},
   "source": [
    "## Question 16: A mobile app development company wants to analyze the Google Playstore dataset to identify the most successful app developers. What features would you analyze to make recommendations to the company, and what data visualizations would you use to present your findings?"
   ]
  },
  {
   "cell_type": "markdown",
   "id": "a331bc98-30af-4931-a2a6-ac55c5c3af04",
   "metadata": {},
   "source": [
    "### Features to Analyze\n",
    "1. Developer Name:\n",
    "\n",
    "* Group apps by developer to aggregate performance metrics.\n",
    "\n",
    "2. Ratings:\n",
    "\n",
    "* Average rating of apps developed by each developer to gauge user satisfaction.\n",
    "\n",
    "3. Installs:\n",
    "\n",
    "* Total or average number of installs for apps developed by each developer to measure popularity.\n",
    "\n",
    "4. Reviews:\n",
    "\n",
    "* Total or average number of reviews for each developer’s apps to assess user engagement.\n",
    "\n",
    "5. App Price:\n",
    "\n",
    "* Analyze the pricing strategy and its correlation with app success metrics.\n",
    "\n",
    "6. Category:\n",
    "\n",
    "* The app category can impact its success, so it's useful to analyze the performance of developers within different categories.\n",
    "\n",
    "### Data Visualizations\n",
    "\n",
    "1.  Bar Chart of Average Ratings by Developer:\n",
    "\n",
    "* To show which developers have the highest average ratings for their apps.\n",
    "\n",
    "2. Bar Chart of Total Installs by Developer:\n",
    "\n",
    "* To display which developers have the highest total installs across their apps.\n",
    "\n",
    "3. Scatter Plot of Average Rating vs. Total Installs:\n",
    "\n",
    "* To visualize the relationship between average ratings and total installs for each developer.\n",
    "\n",
    "4. Histogram of Total Reviews by Developer:\n",
    "\n",
    "* To show the distribution of total reviews among developers.\n",
    "\n",
    "5. Box Plot of Ratings and Installs by Category:\n",
    "\n",
    "* To see how different developers' apps perform in various categories.\n",
    "### Example Code in Python"
   ]
  },
  {
   "cell_type": "code",
   "execution_count": null,
   "id": "fba9cc5a-e70f-4862-8939-0d2ce8a64424",
   "metadata": {},
   "outputs": [],
   "source": [
    "import pandas as pd\n",
    "import matplotlib.pyplot as plt\n",
    "import seaborn as sns\n",
    "\n",
    "# Load the Google Playstore dataset\n",
    "df = pd.read_csv('path/to/googleplaystore.csv')\n",
    "\n",
    "# Clean the relevant columns\n",
    "df['Installs'] = df['Installs'].replace('Free', pd.NA)\n",
    "df['Installs'] = df['Installs'].str.replace(',', '').str.replace('+', '').astype(float)\n",
    "df = df.dropna(subset=['Installs'])\n",
    "\n",
    "df['Rating'] = df['Rating'].astype(float)\n",
    "df['Reviews'] = df['Reviews'].astype(float)\n",
    "\n",
    "# Group by developer and aggregate metrics\n",
    "developer_stats = df.groupby('Developer').agg({\n",
    "    'Rating': 'mean',\n",
    "    'Installs': 'sum',\n",
    "    'Reviews': 'sum'\n",
    "}).reset_index()\n",
    "\n",
    "# Plot average ratings by developer\n",
    "plt.figure(figsize=(12, 6))\n",
    "sns.barplot(x='Rating', y='Developer', data=developer_stats.sort_values(by='Rating', ascending=False).head(10), palette='viridis')\n",
    "plt.title('Top 10 Developers by Average Rating')\n",
    "plt.xlabel('Average Rating')\n",
    "plt.ylabel('Developer')\n",
    "plt.show()\n",
    "\n",
    "# Plot total installs by developer\n",
    "plt.figure(figsize=(12, 6))\n",
    "sns.barplot(x='Installs', y='Developer', data=developer_stats.sort_values(by='Installs', ascending=False).head(10), palette='viridis')\n",
    "plt.title('Top 10 Developers by Total Installs')\n",
    "plt.xlabel('Total Installs')\n",
    "plt.ylabel('Developer')\n",
    "plt.show()\n",
    "\n",
    "# Scatter plot of average rating vs. total installs\n",
    "plt.figure(figsize=(10, 6))\n",
    "sns.scatterplot(x='Installs', y='Rating', data=developer_stats, hue='Developer', palette='viridis')\n",
    "plt.title('Average Rating vs. Total Installs by Developer')\n",
    "plt.xlabel('Total Installs')\n",
    "plt.ylabel('Average Rating')\n",
    "plt.show()\n",
    "\n",
    "# Histogram of total reviews by developer\n",
    "plt.figure(figsize=(12, 6))\n",
    "sns.histplot(developer_stats['Reviews'], bins=30, kde=True, color='purple')\n",
    "plt.title('Distribution of Total Reviews by Developer')\n",
    "plt.xlabel('Total Reviews')\n",
    "plt.ylabel('Frequency')\n",
    "plt.show()"
   ]
  },
  {
   "cell_type": "markdown",
   "id": "6a225a89-1bb6-465c-9359-6ae0ebc13300",
   "metadata": {},
   "source": [
    "## Question 17: A marketing research firm wants to analyze the Google Playstore dataset to identify the best time to launch a new app. What features would you analyze to make recommendations to the company, and what data visualizations would you use to present your findings?"
   ]
  },
  {
   "cell_type": "markdown",
   "id": "e47785df-a7c6-4bc8-b604-a996e9ee3e02",
   "metadata": {},
   "source": [
    "### Features to Analyze\n",
    "\n",
    "1. Release Date:\n",
    "\n",
    "* If available, analyze the release dates of existing apps to identify any seasonal trends or patterns.\n",
    "\n",
    "2. Ratings Over Time:\n",
    "\n",
    "* Assess if there are any trends in app ratings over different times of the year or months.\n",
    "\n",
    "3. Installs Over Time:\n",
    "\n",
    "* Evaluate if there is a trend in the number of installs that could indicate peak periods for app launches.\n",
    "\n",
    "4. Category Trends:\n",
    "\n",
    "* Identify if certain app categories perform better during specific times of the year.\n",
    "\n",
    "6. Price Trends:\n",
    "\n",
    "* Analyze if there are seasonal trends in app pricing that might affect user engagement and downloads.\n",
    "\n",
    "### Data Visualizations\n",
    "\n",
    "1. Time Series Analysis:\n",
    "\n",
    "* Plot the average ratings and installs over time to identify any seasonal patterns or trends. This can be done using line plots to show changes over months or years.\n",
    "\n",
    "2. Seasonal Distribution:\n",
    "\n",
    "* Create histograms or bar charts of app launches or installs by month to visualize any seasonality.\n",
    "\n",
    "3. Heatmap of Ratings and Installs by Month:\n",
    "\n",
    "* Use a heatmap to show the intensity of ratings and installs by month or quarter. This helps to identify peak periods visually.\n",
    "\n",
    "4. Box Plot of Ratings by Month:\n",
    "\n",
    "* Display how app ratings vary across different months to see if there's a significant difference in user satisfaction depending on the time of year.\n",
    "\n",
    "5. Bar Chart of Average Installs by Month:\n",
    "\n",
    "* Compare average installs across different months to determine the best times for launches based on past success.\n",
    "### Example Code in Python"
   ]
  },
  {
   "cell_type": "code",
   "execution_count": null,
   "id": "2b7ab065-a7b2-42ef-a42d-a189adacaecd",
   "metadata": {},
   "outputs": [],
   "source": [
    "import pandas as pd\n",
    "import matplotlib.pyplot as plt\n",
    "import seaborn as sns\n",
    "\n",
    "# Load the Google Playstore dataset\n",
    "df = pd.read_csv('path/to/googleplaystore.csv')\n",
    "\n",
    "# Clean data and extract month from release date if available\n",
    "# Assuming 'Release Date' column is in YYYY-MM-DD format\n",
    "df['Release Date'] = pd.to_datetime(df['Release Date'], errors='coerce')\n",
    "df['Month'] = df['Release Date'].dt.month\n",
    "df['Year'] = df['Release Date'].dt.year\n",
    "\n",
    "# Clean and convert columns\n",
    "df['Installs'] = df['Installs'].replace('Free', pd.NA)\n",
    "df['Installs'] = df['Installs'].str.replace(',', '').str.replace('+', '').astype(float)\n",
    "df['Rating'] = df['Rating'].astype(float)\n",
    "\n",
    "# Time series analysis of average ratings and installs by month\n",
    "monthly_stats = df.groupby('Month').agg({\n",
    "    'Rating': 'mean',\n",
    "    'Installs': 'mean'\n",
    "}).reset_index()\n",
    "\n",
    "# Line plot for average ratings over months\n",
    "plt.figure(figsize=(12, 6))\n",
    "sns.lineplot(x='Month', y='Rating', data=monthly_stats, marker='o')\n",
    "plt.title('Average Ratings by Month')\n",
    "plt.xlabel('Month')\n",
    "plt.ylabel('Average Rating')\n",
    "plt.grid(True)\n",
    "plt.show()\n",
    "\n",
    "# Line plot for average installs over months\n",
    "plt.figure(figsize=(12, 6))\n",
    "sns.lineplot(x='Month', y='Installs', data=monthly_stats, marker='o')\n",
    "plt.title('Average Installs by Month')\n",
    "plt.xlabel('Month')\n",
    "plt.ylabel('Average Installs')\n",
    "plt.grid(True)\n",
    "plt.show()\n",
    "\n",
    "# Heatmap of ratings and installs by month\n",
    "pivot_table = df.pivot_table(index='Year', columns='Month', values='Installs', aggfunc='mean')\n",
    "plt.figure(figsize=(12, 8))\n",
    "sns.heatmap(pivot_table, cmap='YlGnBu', annot=True, fmt='.0f')\n",
    "plt.title('Heatmap of Average Installs by Month and Year')\n",
    "plt.xlabel('Month')\n",
    "plt.ylabel('Year')\n",
    "plt.show()\n",
    "\n",
    "# Box plot of ratings by month\n",
    "plt.figure(figsize=(12, 6))\n",
    "sns.boxplot(x='Month', y='Rating', data=df)\n",
    "plt.title('Distribution of Ratings by Month')\n",
    "plt.xlabel('Month')\n",
    "plt.ylabel('Rating')\n",
    "plt.show()\n",
    "\n",
    "# Bar chart of average installs by month\n",
    "plt.figure(figsize=(12, 6))\n",
    "sns.barplot(x='Month', y='Installs', data=monthly_stats, palette='viridis')\n",
    "plt.title('Average Installs by Month')\n",
    "plt.xlabel('Month')\n",
    "plt.ylabel('Average Installs')\n",
    "plt.show()"
   ]
  }
 ],
 "metadata": {
  "kernelspec": {
   "display_name": "Python 3 (ipykernel)",
   "language": "python",
   "name": "python3"
  },
  "language_info": {
   "codemirror_mode": {
    "name": "ipython",
    "version": 3
   },
   "file_extension": ".py",
   "mimetype": "text/x-python",
   "name": "python",
   "nbconvert_exporter": "python",
   "pygments_lexer": "ipython3",
   "version": "3.10.8"
  }
 },
 "nbformat": 4,
 "nbformat_minor": 5
}
