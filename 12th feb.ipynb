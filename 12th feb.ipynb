{
 "cells": [
  {
   "cell_type": "markdown",
   "id": "7d64b93d-5e01-4c5a-9025-76aeb4ebe915",
   "metadata": {},
   "source": [
    "## Assignment Question 1:"
   ]
  },
  {
   "cell_type": "markdown",
   "id": "b06ec0fe-f317-49af-adcf-01966a2f94c0",
   "metadata": {},
   "source": [
    "#### Q1. What is an exception in python? what is the diffrence between exception and syntax errors?"
   ]
  },
  {
   "cell_type": "markdown",
   "id": "1dd3c4c5-34dc-493f-8b57-0151901adbc7",
   "metadata": {},
   "source": [
    "An exception in Python is an event that disrupts the normal flow of the program's execution. It is a signal that something unexpected or erroneous has occurred. When an exceptional event occurs, Python creates an exception object, which can be handled to prevent the program from crashing.\n",
    "\n",
    "### Difference between exceptions and syntax errors:\n",
    "\n",
    "1. Syntax errors: These are errors that occur when the Python parser encounters incorrect syntax in the code. It typically occurs during the parsing of the code before the program is executed. Examples of syntax errors include missing parentheses, invalid indentation, or incorrect keywords. These errors prevent the code from being compiled and executed.\n",
    "\n",
    "2. Exceptions: These are errors that occur during the execution of a program. They represent any error that occurs during the execution of the code and disrupts the normal flow of the program. Examples of exceptions include division by zero, trying to access a key that does not exist in a dictionary, or attempting to open a file that does not exist. Exceptions can be handled using try-except blocks, allowing the program to handle the error and continue executing."
   ]
  },
  {
   "cell_type": "markdown",
   "id": "50121b67-30f1-45ac-a14d-e9a491c527d3",
   "metadata": {},
   "source": [
    "## Assignment Question 2:"
   ]
  },
  {
   "cell_type": "markdown",
   "id": "56cc4e72-a62d-4dfe-9839-1259c6a63fff",
   "metadata": {},
   "source": [
    "#### Q2 What happens when an exception is not handled ?Explain with an example ?"
   ]
  },
  {
   "cell_type": "markdown",
   "id": "dd229dc9-38bc-4f65-99bf-85aa880c6b06",
   "metadata": {},
   "source": [
    "When an exception is not handled in a program, it leads to the termination of the program and the generation of an error message. The error message typically includes information about the type of exception that occurred, the traceback, and the line number where the exception occurred.\n",
    "\n",
    "Here's an example that demonstrates what happens when an exception is not handled:"
   ]
  },
  {
   "cell_type": "code",
   "execution_count": 1,
   "id": "6b29f86a-fa1e-41e0-9b0a-5ca733fa9bcf",
   "metadata": {},
   "outputs": [
    {
     "ename": "ZeroDivisionError",
     "evalue": "division by zero",
     "output_type": "error",
     "traceback": [
      "\u001b[0;31m---------------------------------------------------------------------------\u001b[0m",
      "\u001b[0;31mZeroDivisionError\u001b[0m                         Traceback (most recent call last)",
      "Cell \u001b[0;32mIn[1], line 6\u001b[0m\n\u001b[1;32m      3\u001b[0m     \u001b[38;5;28;01mreturn\u001b[39;00m a \u001b[38;5;241m/\u001b[39m b\n\u001b[1;32m      5\u001b[0m \u001b[38;5;66;03m# Calling the function with a potential exception\u001b[39;00m\n\u001b[0;32m----> 6\u001b[0m result \u001b[38;5;241m=\u001b[39m \u001b[43mdivision_function\u001b[49m\u001b[43m(\u001b[49m\u001b[38;5;241;43m5\u001b[39;49m\u001b[43m,\u001b[49m\u001b[43m \u001b[49m\u001b[38;5;241;43m0\u001b[39;49m\u001b[43m)\u001b[49m\n\u001b[1;32m      7\u001b[0m \u001b[38;5;28mprint\u001b[39m(\u001b[38;5;124m\"\u001b[39m\u001b[38;5;124mResult:\u001b[39m\u001b[38;5;124m\"\u001b[39m, result)  \u001b[38;5;66;03m# This line won't be executed due to the unhandled exception\u001b[39;00m\n",
      "Cell \u001b[0;32mIn[1], line 3\u001b[0m, in \u001b[0;36mdivision_function\u001b[0;34m(a, b)\u001b[0m\n\u001b[1;32m      2\u001b[0m \u001b[38;5;28;01mdef\u001b[39;00m \u001b[38;5;21mdivision_function\u001b[39m(a, b):\n\u001b[0;32m----> 3\u001b[0m     \u001b[38;5;28;01mreturn\u001b[39;00m \u001b[43ma\u001b[49m\u001b[43m \u001b[49m\u001b[38;5;241;43m/\u001b[39;49m\u001b[43m \u001b[49m\u001b[43mb\u001b[49m\n",
      "\u001b[0;31mZeroDivisionError\u001b[0m: division by zero"
     ]
    }
   ],
   "source": [
    "# Example of an unhandled exception\n",
    "def division_function(a, b):\n",
    "    return a / b\n",
    "\n",
    "# Calling the function with a potential exception\n",
    "result = division_function(5, 0)\n",
    "print(\"Result:\", result)  # This line won't be executed due to the unhandled exception\n"
   ]
  },
  {
   "cell_type": "markdown",
   "id": "8f64b444-7ad3-4191-bf6d-447a0c33d60c",
   "metadata": {},
   "source": [
    "## Assignment Question 3:"
   ]
  },
  {
   "cell_type": "markdown",
   "id": "abbebae1-234a-4b1b-8ede-96808e3f749c",
   "metadata": {},
   "source": [
    "#### Q3. Which python statement are used to catch and handle exception? explain with example?"
   ]
  },
  {
   "cell_type": "markdown",
   "id": "3143afc5-4056-4ead-942d-665a0d0f95be",
   "metadata": {},
   "source": [
    "In Python, the try and except statements are used together to catch and handle exceptions. The try block is used to enclose the code that might raise an exception, and the except block is used to handle the exception if it occurs. When an exception is raised within the try block, the corresponding except block is executed, and the program can continue executing without terminating.\n",
    "\n",
    "Here's an example that demonstrates the use of try and except statements:"
   ]
  },
  {
   "cell_type": "code",
   "execution_count": 2,
   "id": "9a6a89e4-d90a-401a-a7a9-534aab04cb71",
   "metadata": {},
   "outputs": [
    {
     "name": "stdout",
     "output_type": "stream",
     "text": [
      "Division Result: 2.5\n",
      "Error: division by zero\n",
      "Cannot divide by zero.\n"
     ]
    }
   ],
   "source": [
    "# Example of using try and except statements to handle an exception\n",
    "def division_function(a, b):\n",
    "    try:\n",
    "        result = a / b\n",
    "        print(\"Division Result:\", result)\n",
    "    except ZeroDivisionError as e:\n",
    "        print(\"Error:\", e)\n",
    "        print(\"Cannot divide by zero.\")\n",
    "\n",
    "# Calling the function with potential exception\n",
    "division_function(5, 2)  # No exception will be raised\n",
    "division_function(5, 0)  # ZeroDivisionError will be caught and handled\n"
   ]
  },
  {
   "cell_type": "markdown",
   "id": "2b4cbfd3-fa8b-4a54-9676-d95731fa2a9f",
   "metadata": {},
   "source": [
    "## Assignment Question 4:"
   ]
  },
  {
   "cell_type": "markdown",
   "id": "a9f12271-eaf2-4013-97c6-5ea1b9d44761",
   "metadata": {},
   "source": [
    "#### Q4. Explain with an example :\n",
    "a. try and else \n",
    "\n",
    "b. finally \n",
    "\n",
    "c. raise"
   ]
  },
  {
   "cell_type": "markdown",
   "id": "16d62569-3e20-43ae-9341-094c65089407",
   "metadata": {},
   "source": [
    "#### a. Try, Except, and Else\n",
    "The else block in Python's exception handling mechanism is executed when no exception is raised within the try block. It is often used to perform some action if no exceptions occur."
   ]
  },
  {
   "cell_type": "code",
   "execution_count": 3,
   "id": "4bb40a9e-4d7c-4349-9477-2712f2b1eacf",
   "metadata": {},
   "outputs": [
    {
     "name": "stdout",
     "output_type": "stream",
     "text": [
      "Division Result: 2.0\n"
     ]
    }
   ],
   "source": [
    "# Example of try, except, and else\n",
    "try:\n",
    "    result = 10 / 5  # No exception will be raised\n",
    "except ZeroDivisionError as e:\n",
    "    print(\"Error:\", e)\n",
    "else:\n",
    "    print(\"Division Result:\", result)  # Will be executed if no exception occurs\n"
   ]
  },
  {
   "cell_type": "markdown",
   "id": "4d09c250-c62c-4650-8101-c13c8f7b64a8",
   "metadata": {},
   "source": [
    "In this example, the try block attempts to perform a division operation, and since no exception is raised, the else block is executed, printing the division result.\n",
    "\n",
    "#### b. Finally\n",
    "The finally block is always executed whether an exception occurs or not. It is used to define clean-up actions or tasks that must be executed, regardless of whether an exception is raised or not."
   ]
  },
  {
   "cell_type": "code",
   "execution_count": 4,
   "id": "b9e8d57d-34b0-47a2-b703-a2c377605333",
   "metadata": {},
   "outputs": [
    {
     "name": "stdout",
     "output_type": "stream",
     "text": [
      "File not found.\n"
     ]
    }
   ],
   "source": [
    "# Example of the finally block\n",
    "try:\n",
    "    file = open(\"example.txt\", \"r\")\n",
    "    try:\n",
    "        # Perform some file operations\n",
    "        content = file.read()\n",
    "        print(\"File Content:\", content)\n",
    "    finally:\n",
    "        file.close()  # Close the file in the finally block\n",
    "except FileNotFoundError:\n",
    "    print(\"File not found.\")\n"
   ]
  },
  {
   "cell_type": "markdown",
   "id": "fba5199b-4bed-4581-af53-f9b8863b6e92",
   "metadata": {},
   "source": [
    "In this example, the finally block ensures that the file is closed regardless of whether an exception occurs or not.\n",
    "\n",
    "#### c. Raise\n",
    "The raise keyword in Python is used to explicitly raise an exception. It allows you to throw a specified exception or error at any point in your code."
   ]
  },
  {
   "cell_type": "code",
   "execution_count": 5,
   "id": "05fce364-7871-4ec1-9352-df8b2018c503",
   "metadata": {},
   "outputs": [
    {
     "ename": "ValueError",
     "evalue": "x should not exceed 5. The value of x was: 10",
     "output_type": "error",
     "traceback": [
      "\u001b[0;31m---------------------------------------------------------------------------\u001b[0m",
      "\u001b[0;31mValueError\u001b[0m                                Traceback (most recent call last)",
      "Cell \u001b[0;32mIn[5], line 4\u001b[0m\n\u001b[1;32m      2\u001b[0m x \u001b[38;5;241m=\u001b[39m \u001b[38;5;241m10\u001b[39m\n\u001b[1;32m      3\u001b[0m \u001b[38;5;28;01mif\u001b[39;00m x \u001b[38;5;241m>\u001b[39m \u001b[38;5;241m5\u001b[39m:\n\u001b[0;32m----> 4\u001b[0m     \u001b[38;5;28;01mraise\u001b[39;00m \u001b[38;5;167;01mValueError\u001b[39;00m(\u001b[38;5;124m\"\u001b[39m\u001b[38;5;124mx should not exceed 5. The value of x was: \u001b[39m\u001b[38;5;132;01m{}\u001b[39;00m\u001b[38;5;124m\"\u001b[39m\u001b[38;5;241m.\u001b[39mformat(x))\n",
      "\u001b[0;31mValueError\u001b[0m: x should not exceed 5. The value of x was: 10"
     ]
    }
   ],
   "source": [
    "# Example of the raise keyword\n",
    "x = 10\n",
    "if x > 5:\n",
    "    raise ValueError(\"x should not exceed 5. The value of x was: {}\".format(x))\n"
   ]
  },
  {
   "cell_type": "markdown",
   "id": "4c341653-8956-46f1-8379-0da78298b358",
   "metadata": {},
   "source": [
    "## Assignment Question 5:"
   ]
  },
  {
   "cell_type": "markdown",
   "id": "2edc643d-7980-41df-ab1d-08e6ef4e959e",
   "metadata": {},
   "source": [
    "#### Q5: What are custom exception in python? why do we need custom exception? explain with example?"
   ]
  },
  {
   "cell_type": "markdown",
   "id": "0dac14ca-e443-43bb-9848-6dd4e128cc19",
   "metadata": {},
   "source": [
    "Custom exceptions in Python are user-defined exceptions that allow programmers to create their own specific exception classes based on their application's needs. These custom exceptions can be raised and caught just like built-in exceptions, providing more specific information about the error that occurred.\n",
    "\n",
    "We need custom exceptions to handle specific error cases that are not covered by built-in exceptions. By creating custom exceptions, we can provide more meaningful error messages and handle unique error scenarios that are relevant to our application.\n",
    "\n",
    "Here is an example demonstrating the creation and use of a custom exception:"
   ]
  },
  {
   "cell_type": "code",
   "execution_count": 6,
   "id": "cd98ba48-1859-49fb-9ca4-4e58d79528cd",
   "metadata": {},
   "outputs": [
    {
     "name": "stdout",
     "output_type": "stream",
     "text": [
      "CustomError: Input should be an integer.\n"
     ]
    }
   ],
   "source": [
    "# Custom exception class\n",
    "class CustomError(Exception):\n",
    "    def __init__(self, message):\n",
    "        self.message = message\n",
    "\n",
    "    def __str__(self):\n",
    "        return f'CustomError: {self.message}'\n",
    "\n",
    "\n",
    "# Using the custom exception\n",
    "def validate_input(x):\n",
    "    if not isinstance(x, int):\n",
    "        raise CustomError('Input should be an integer.')\n",
    "\n",
    "\n",
    "# Example usage of the custom exception\n",
    "try:\n",
    "    validate_input('abc')  # This will raise the CustomError\n",
    "except CustomError as e:\n",
    "    print(e)\n"
   ]
  },
  {
   "cell_type": "markdown",
   "id": "f240e37e-96ee-4553-a953-f406b39592e1",
   "metadata": {},
   "source": [
    "## Assignment Question 6:"
   ]
  },
  {
   "cell_type": "markdown",
   "id": "d2a619b5-fb72-41e1-9f91-f76f1a654d4e",
   "metadata": {},
   "source": [
    "#### Q6: Create a custom exception class? Use this class to  handle exception?"
   ]
  },
  {
   "cell_type": "code",
   "execution_count": 8,
   "id": "5a1006b7-ca33-4135-bbf4-d60686833a6c",
   "metadata": {},
   "outputs": [
    {
     "name": "stdout",
     "output_type": "stream",
     "text": [
      "CustomError: Division by zero is not allowed.\n"
     ]
    }
   ],
   "source": [
    "# Custom exception class\n",
    "class CustomError(Exception):\n",
    "    def __init__(self, message):\n",
    "        self.message = message\n",
    "\n",
    "    def __str__(self):\n",
    "        return f'CustomError: {self.message}'\n",
    "\n",
    "\n",
    "# Function that raises the custom exception\n",
    "def perform_calculation(x, y):\n",
    "    if y == 0:\n",
    "        raise CustomError('Division by zero is not allowed.')\n",
    "    return x / y\n",
    "\n",
    "\n",
    "# Example usage of the custom exception\n",
    "try:\n",
    "    result = perform_calculation(10, 0)  # This will raise the CustomError\n",
    "except CustomError as e:\n",
    "    print(e)\n"
   ]
  },
  {
   "cell_type": "code",
   "execution_count": null,
   "id": "efee91e4-6467-411d-8e46-c77aa6d216d9",
   "metadata": {},
   "outputs": [],
   "source": []
  }
 ],
 "metadata": {
  "kernelspec": {
   "display_name": "Python 3 (ipykernel)",
   "language": "python",
   "name": "python3"
  },
  "language_info": {
   "codemirror_mode": {
    "name": "ipython",
    "version": 3
   },
   "file_extension": ".py",
   "mimetype": "text/x-python",
   "name": "python",
   "nbconvert_exporter": "python",
   "pygments_lexer": "ipython3",
   "version": "3.10.8"
  }
 },
 "nbformat": 4,
 "nbformat_minor": 5
}
