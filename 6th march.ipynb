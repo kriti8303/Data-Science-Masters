{
 "cells": [
  {
   "cell_type": "markdown",
   "id": "5df6fe2d-e134-414b-9696-f06bb645f4ee",
   "metadata": {},
   "source": [
    "## Assignment Question 1:"
   ]
  },
  {
   "cell_type": "markdown",
   "id": "92a4ea84-4ce5-40a9-8abd-1eed73ff3f85",
   "metadata": {},
   "source": [
    "Statistics : Statistics is the study of the collection, analysis, interpretation, presentation, and organization of data. In other words, it is a mathematical discipline to collect, summarize data. Also, we can say that statistics is a branch of applied mathematics."
   ]
  },
  {
   "cell_type": "markdown",
   "id": "6c12cbb7-5e92-4784-a9ea-a2a0ff4193fc",
   "metadata": {},
   "source": [
    "## Assignment Question 2:"
   ]
  },
  {
   "cell_type": "markdown",
   "id": "1f4219fc-9358-490b-8631-6361e7d09a16",
   "metadata": {},
   "source": [
    "Types of statistics :\n",
    "1. Descriptive statistics\n",
    "2. Inferential statistics\n",
    "\n",
    "1. Descriptive Statistics: Descriptive statistics is a way of organising, representing, and explaining a set of data using charts, graphs, and summary measures.\n",
    "eg : Descriptive statistics about a college involve the average math test score for incoming students. It says nothing about why the data is so or what trends we can see and follow.\n",
    "\n",
    "2. Inferential Statistics : Inferential statistics are used to test hypotheses and study correlations between variables, and they can also be used to predict population sizes. Inferential statistics are used to derive conclusions and inferences from samples, i.e. to create accurate generalisations.\n",
    "\n",
    "eg : we have to find the average salary of a data analyst across India."
   ]
  },
  {
   "cell_type": "markdown",
   "id": "5c9a6a27-b50e-4cd1-8aba-061ca991673a",
   "metadata": {},
   "source": [
    "## Assignment Question 3:"
   ]
  },
  {
   "cell_type": "markdown",
   "id": "21c84a86-a8c0-48fc-9d80-a11db1260f2c",
   "metadata": {},
   "source": [
    "Data : Data is a collection of facts, such as numbers, words, measurements, observations etc.\n",
    "\n",
    "Types of data:\n",
    "1. Qualitative Data\n",
    "2. Quantitative Data \n",
    "\n",
    "1. Qualitative Data : It is descriptive data.\n",
    "\n",
    "eg : She can run fast . He is thin. \n",
    "\n",
    "2. Quantitative Data: It is numerical Data.\n",
    "\n",
    "eg : An octopus is an eight legged creature."
   ]
  },
  {
   "cell_type": "markdown",
   "id": "730973a5-1084-41c0-9f6a-b27a11f40132",
   "metadata": {},
   "source": [
    "## Assignment Question 4:"
   ]
  },
  {
   "cell_type": "markdown",
   "id": "fe605ef4-08cd-431d-a932-348a509eee00",
   "metadata": {},
   "source": [
    "(i) Grading in exam: A+, A, B+, B, C+, C, D, E : \n",
    "\n",
    "Qualitative (Ordinal) data.\n",
    "\n",
    "(ii) Colour of mangoes: yellow, green, orange, red : \n",
    "\n",
    "Qualitative(Nominal) Data\n",
    "\n",
    "(iii) Height data of a class: [178.9, 179, 179.5, 176, 177.2, 178.3, 175.8,...] :\n",
    "\n",
    "Quantitative (Continous)  Data\n",
    "\n",
    "(iv) Number of mangoes exported by a farm: [500, 600, 478, 672, ...] : \n",
    "\n",
    "Quantitative (Discrete) Data"
   ]
  },
  {
   "cell_type": "markdown",
   "id": "20720daf-fff4-4c3f-9750-10b7243c1067",
   "metadata": {},
   "source": [
    "## Assignment Question 5:"
   ]
  },
  {
   "cell_type": "markdown",
   "id": "f91a7260-8494-4b13-a231-e3b3c6ec50c5",
   "metadata": {},
   "source": [
    "Scale of level of measurement of data : \n",
    "1. Nominal scale data.\n",
    "2. Ordinal scale data.\n",
    "3. Interval scale data.\n",
    "4. Ratio scale data.\n",
    "\n",
    "1. Nominal scale data : The nominal scale of measurement defines the identity property of data. This scale has certain characteristics, but doesn’t have any form of numerical meaning. The data can be placed into categories but can’t be multiplied, divided, added or subtracted from one another. It’s also not possible to measure the difference between data points.\n",
    "eg: Examples of nominal data include eye colour and country of birth.\n",
    "\n",
    "2. Ordinal Scale data : The ordinal scale defines data that is placed in a specific order. While each value is ranked, there’s no information that specifies what differentiates the categories from each other. These values can’t be added to or subtracted from.\n",
    "eg: An example of this kind of data would include satisfaction data points in a survey, where ‘one = happy, two = neutral, and three = unhappy.’ Where someone finished in a race also describes ordinal data. \n",
    "\n",
    "3. Interval Scale data : The interval scale contains properties of nominal and ordered data, but the difference between data points can be quantified. This type of data shows both the order of the variables and the exact differences between the variables. They can be added to or subtracted from each other, but not multiplied or divided.\n",
    "eg : For example, 40 degrees is not 20 degrees multiplied by two.\n",
    "\n",
    "4. Ratio Scale data : Ratio scales of measurement include properties from all four scales of measurement. The data is nominal and defined by an identity, can be classified in order, contains intervals and can be broken down into exact value. Weight, height and distance are all examples of ratio variables. Data in the ratio scale can be added, subtracted, divided and multiplied.\n",
    "eg : An example of this is height or weight, as someone cannot be zero centimetres tall or weigh zero kilos – or be negative centimetres or negative kilos."
   ]
  },
  {
   "cell_type": "markdown",
   "id": "ecd6fe44-2ee8-42ff-8d8e-2a8446d211e7",
   "metadata": {},
   "source": [
    "## Assignment Question 6:"
   ]
  },
  {
   "cell_type": "markdown",
   "id": "04e182e5-5159-4181-8c95-5a921340836d",
   "metadata": {},
   "source": [
    "It is important to understand the level of measurement of variables in research, because the level of measurement determines the type of statistical analysis that can be conducted, and, therefore, the type of conclusions that can be drawn from the research.\n",
    "\n",
    "For eg : During a medical check-up, a sports competition, when building a house, when controlling temperature in appliances, or while cooking."
   ]
  },
  {
   "cell_type": "markdown",
   "id": "23b27d51-1be3-435d-a70f-a3dcd13e9429",
   "metadata": {},
   "source": [
    "## Assignment Question 7:"
   ]
  },
  {
   "cell_type": "markdown",
   "id": "c1ff52da-e3ac-4e69-8149-85dbbfc589ff",
   "metadata": {},
   "source": [
    "Nominal values are classes where there is no apparent order. Examples of nominal values can be movie genres, hair colors, and religions. Ordinal values are classes where there is order. Ordinal values explain a “position” or “rank” among the other targets."
   ]
  },
  {
   "cell_type": "markdown",
   "id": "366ab431-ca47-44ee-af93-139bebdca9ce",
   "metadata": {},
   "source": [
    "## Assignment Question 8:"
   ]
  },
  {
   "cell_type": "markdown",
   "id": "174e9ec5-3edd-48eb-8f5c-3d9b3c76afeb",
   "metadata": {},
   "source": [
    "Histogram is a type of plot which can be used to display data in terms of range?. If the groups depicted in a bar chart are actually continuous numeric ranges, we can push the bars together to generate a histogram. Bar lengths in histograms typically correspond to counts of data points, and their patterns demonstrate the distribution of variables in your data."
   ]
  },
  {
   "cell_type": "markdown",
   "id": "ff191346-75ff-43c3-b3e8-65eafa9c00b3",
   "metadata": {},
   "source": [
    "## Assignment Question 9:"
   ]
  },
  {
   "cell_type": "markdown",
   "id": "a6b52820-5450-4877-842e-73e1f1a7b5ae",
   "metadata": {},
   "source": [
    "Difference between descriptive and inferential : \n",
    "\n",
    "Descriptive : \n",
    "1. It gives information about raw data which describes the data in some manner.\n",
    "2. It helps in organizing, analyzing, and to present data in a meaningful manner.\n",
    "3. It is used to describe a situation.\n",
    "4. It explains already known data and is limited to a sample or population having a small size.\n",
    "5. It can be achieved with the help of charts, graphs, tables, etc.\n",
    "\n",
    "Inferential :\n",
    "1. It makes inferences about the population using data drawn from the population.\n",
    "2. It allows us to compare data, and make hypotheses and predictions.\n",
    "3. It is used to explain the chance of occurrence of an event.\n",
    "4. It attempts to reach the conclusion about the population.\n",
    "5. It can be achieved by probability."
   ]
  },
  {
   "cell_type": "markdown",
   "id": "9f4e39e5-dda6-4a3e-a390-8e7be44d8fb5",
   "metadata": {},
   "source": [
    "## Assignment Question 10:"
   ]
  },
  {
   "cell_type": "markdown",
   "id": "7ee75c4e-759c-480a-9e1d-069bac511aba",
   "metadata": {},
   "source": [
    "Measures of central tendency :\n",
    "\n",
    "Measures of central tendency are summary statistics that represent the center point or typical value of a dataset. Examples of these measures include the mean, median, and mode. In statistics, the mean, median, and mode are the three most common measures of central tendency. Each one calculates the central point using a different method.\n",
    "\n",
    "Mean : The mean is the arithmetic average, and it is probably the measure of central tendency that you are most familiar. Calculating the mean is very simple. You just add up all of the values and divide by the number of observations in your dataset.\n",
    "\n",
    "Median : The median is the middle value. It is the value that splits the dataset in half, making it a natural measure of central tendency.\n",
    "To find the median, order your data from smallest to largest, and then find the data point that has an equal number of values above it and below it.\n",
    "\n",
    "Mode : The mode is the value that occurs the most frequently in your data set, making it a different type of measure of central tendency than the mean or median.To find the mode, sort the values in your dataset by numeric values or by categories. Then identify the value that occurs most often.\n",
    "\n",
    "\n",
    "\n",
    "Some of the common Measures of Variability used in Statistics are:\n",
    "\n",
    "Range: The range is the difference between the largest and smallest values in a dataset. The range provides a simple measure of variability, but it can be sensitive to extreme values or outliers.\n",
    "\n",
    "Variance: The variance measures the average squared deviation from the mean in a dataset. The variance is useful when you want to quantify the spread of a dataset, and it is used in many statistical tests and models.\n",
    "\n",
    "Standard deviation: The standard deviation is the square root of the variance. The standard deviation provides a more intuitive measure of variability, since it is in the same units as the original data."
   ]
  },
  {
   "cell_type": "code",
   "execution_count": null,
   "id": "d4303a40-abf4-4483-a5c9-eb67b4fcd537",
   "metadata": {},
   "outputs": [],
   "source": []
  }
 ],
 "metadata": {
  "kernelspec": {
   "display_name": "Python 3 (ipykernel)",
   "language": "python",
   "name": "python3"
  },
  "language_info": {
   "codemirror_mode": {
    "name": "ipython",
    "version": 3
   },
   "file_extension": ".py",
   "mimetype": "text/x-python",
   "name": "python",
   "nbconvert_exporter": "python",
   "pygments_lexer": "ipython3",
   "version": "3.10.8"
  }
 },
 "nbformat": 4,
 "nbformat_minor": 5
}
