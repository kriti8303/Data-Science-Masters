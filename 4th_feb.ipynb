{
 "cells": [
  {
   "cell_type": "markdown",
   "id": "45d61087-11a5-4345-931c-ba62469f408e",
   "metadata": {
    "tags": []
   },
   "source": [
    "## Assignment 1:\n",
    "\n",
    "Python program to sort the given list of tuples using a lambda function : "
   ]
  },
  {
   "cell_type": "code",
   "execution_count": 1,
   "id": "71051f57-7c22-4508-9274-7c511962a346",
   "metadata": {},
   "outputs": [],
   "source": [
    "lst = [('Sachin Tendulkar', 34357), ('Ricky Ponting', 27483), ('Jack Kallis', 25534), ('Virat Kohli', 24936)]"
   ]
  },
  {
   "cell_type": "code",
   "execution_count": 2,
   "id": "eb7d55bb-e9b1-4d36-b2bb-b646830da40e",
   "metadata": {},
   "outputs": [],
   "source": [
    "a = lambda x,y : y.sort(), lst"
   ]
  },
  {
   "cell_type": "code",
   "execution_count": 3,
   "id": "651f6384-abe9-406e-bd43-54ef3ea32e34",
   "metadata": {},
   "outputs": [
    {
     "data": {
      "text/plain": [
       "(<function __main__.<lambda>(x, y)>,\n",
       " [('Sachin Tendulkar', 34357),\n",
       "  ('Ricky Ponting', 27483),\n",
       "  ('Jack Kallis', 25534),\n",
       "  ('Virat Kohli', 24936)])"
      ]
     },
     "execution_count": 3,
     "metadata": {},
     "output_type": "execute_result"
    }
   ],
   "source": [
    "a"
   ]
  },
  {
   "cell_type": "markdown",
   "id": "ecc25267-23e1-4130-b6f9-3409a30926cc",
   "metadata": {},
   "source": [
    "## Assignment 2:\n",
    "\n",
    "Python program for find the squares of all the numbers using lambda and map function : "
   ]
  },
  {
   "cell_type": "code",
   "execution_count": 4,
   "id": "326b3339-c953-40ed-85c7-af60d968f4e1",
   "metadata": {},
   "outputs": [],
   "source": [
    "l1 = [1, 2, 3, 4, 5, 6, 7, 8, 9, 10]"
   ]
  },
  {
   "cell_type": "code",
   "execution_count": 5,
   "id": "a102808e-dc7b-44d8-9665-9e3699f6fe05",
   "metadata": {},
   "outputs": [],
   "source": [
    "def square(x):\n",
    "    return x**2"
   ]
  },
  {
   "cell_type": "code",
   "execution_count": 6,
   "id": "60d4aca0-80ce-4e1f-8196-f514bfc0d66d",
   "metadata": {},
   "outputs": [
    {
     "data": {
      "text/plain": [
       "[1, 4, 9, 16, 25, 36, 49, 64, 81, 100]"
      ]
     },
     "execution_count": 6,
     "metadata": {},
     "output_type": "execute_result"
    }
   ],
   "source": [
    "list(map(square, l1))"
   ]
  },
  {
   "cell_type": "markdown",
   "id": "784aec9c-b472-4156-a162-54417736c849",
   "metadata": {},
   "source": [
    "## Assignment 3:\n",
    "\n",
    "Python program to convert the given list into a tuple of strings using map and lambda function :"
   ]
  },
  {
   "cell_type": "code",
   "execution_count": 7,
   "id": "a57b9961-c051-45ff-925d-5cb6c5f9ae8b",
   "metadata": {},
   "outputs": [],
   "source": [
    "l2 = [1, 2, 3, 4, 5, 6, 7, 8, 9, 10]"
   ]
  },
  {
   "cell_type": "code",
   "execution_count": 8,
   "id": "3db44090-ddc8-48f2-bb41-8612ecf1caf6",
   "metadata": {},
   "outputs": [
    {
     "data": {
      "text/plain": [
       "('1', '2', '3', '4', '5', '6', '7', '8', '9', '10')"
      ]
     },
     "execution_count": 8,
     "metadata": {},
     "output_type": "execute_result"
    }
   ],
   "source": [
    "tuple(list(map(lambda x : str(x), l2)))"
   ]
  },
  {
   "cell_type": "markdown",
   "id": "7a000fc5-8904-416d-be6a-97e41b6f043e",
   "metadata": {},
   "source": [
    "## Assignment 4:\n",
    "\n",
    "Python program using reduce function to compute the product of the list numbers from 1 to 25 :"
   ]
  },
  {
   "cell_type": "code",
   "execution_count": 9,
   "id": "88bcd80a-315b-43d9-b59b-4fc5459a2ae1",
   "metadata": {},
   "outputs": [],
   "source": [
    "from functools import reduce"
   ]
  },
  {
   "cell_type": "code",
   "execution_count": 22,
   "id": "d4f3589f-08d8-4cee-b739-2b81af91ef22",
   "metadata": {},
   "outputs": [],
   "source": [
    "def list():\n",
    "    n = []\n",
    "    for i in range(1, 25):\n",
    "        n.append(i)\n",
    "    return n"
   ]
  },
  {
   "cell_type": "code",
   "execution_count": 23,
   "id": "040fd2a2-2fa8-434d-8dfa-d4de2688006c",
   "metadata": {},
   "outputs": [
    {
     "data": {
      "text/plain": [
       "[1,\n",
       " 2,\n",
       " 3,\n",
       " 4,\n",
       " 5,\n",
       " 6,\n",
       " 7,\n",
       " 8,\n",
       " 9,\n",
       " 10,\n",
       " 11,\n",
       " 12,\n",
       " 13,\n",
       " 14,\n",
       " 15,\n",
       " 16,\n",
       " 17,\n",
       " 18,\n",
       " 19,\n",
       " 20,\n",
       " 21,\n",
       " 22,\n",
       " 23,\n",
       " 24]"
      ]
     },
     "execution_count": 23,
     "metadata": {},
     "output_type": "execute_result"
    }
   ],
   "source": [
    "l = list()\n",
    "l"
   ]
  },
  {
   "cell_type": "code",
   "execution_count": 24,
   "id": "f8ce5f73-bcbd-4f88-92d4-d896e2d16123",
   "metadata": {},
   "outputs": [
    {
     "data": {
      "text/plain": [
       "620448401733239439360000"
      ]
     },
     "execution_count": 24,
     "metadata": {},
     "output_type": "execute_result"
    }
   ],
   "source": [
    "reduce(lambda x, y : x*y, l)"
   ]
  },
  {
   "cell_type": "markdown",
   "id": "d17024ad-3f5a-42e7-8c5f-85e391cdb7a8",
   "metadata": {},
   "source": [
    "## Assignment 5:\n",
    "\n",
    "Python program to filter the numbers in a given list that are divisible by 2 and 3 : "
   ]
  },
  {
   "cell_type": "code",
   "execution_count": 13,
   "id": "fb32a3e3-85b1-4525-9c51-151b870a2a97",
   "metadata": {},
   "outputs": [],
   "source": [
    "l4 = [2, 3, 6, 9, 27, 60, 90, 120, 55, 46]"
   ]
  },
  {
   "cell_type": "code",
   "execution_count": 14,
   "id": "f229e7aa-8450-4bfa-9a5b-2227eeff8b96",
   "metadata": {},
   "outputs": [
    {
     "data": {
      "text/plain": [
       "[6, 60, 90, 120]"
      ]
     },
     "execution_count": 14,
     "metadata": {},
     "output_type": "execute_result"
    }
   ],
   "source": [
    "list(filter(lambda x : x%2==0 and x%3==0, l4))"
   ]
  },
  {
   "cell_type": "markdown",
   "id": "234edcd4-4dc2-4151-b7c1-004e9cc2f06d",
   "metadata": {},
   "source": [
    "## Assignment 6:\n",
    "\n",
    "Python program to find palindromes in the given list of strings using lambda and filter function :"
   ]
  },
  {
   "cell_type": "code",
   "execution_count": 15,
   "id": "304890e9-0e30-41f3-a67b-de19c75b9f0c",
   "metadata": {},
   "outputs": [],
   "source": [
    "l = ['python', 'php', 'aba', 'radar', 'level']"
   ]
  },
  {
   "cell_type": "code",
   "execution_count": 21,
   "id": "9fb62f1e-d594-49fd-b706-5ad9b35465c0",
   "metadata": {},
   "outputs": [
    {
     "data": {
      "text/plain": [
       "['php', 'aba', 'radar', 'level']"
      ]
     },
     "execution_count": 21,
     "metadata": {},
     "output_type": "execute_result"
    }
   ],
   "source": [
    "list(filter(lambda x : (x == \"\".join(reversed(x))), l))"
   ]
  },
  {
   "cell_type": "code",
   "execution_count": null,
   "id": "95697e05-67aa-4e2e-a840-4edcb5906531",
   "metadata": {},
   "outputs": [],
   "source": []
  }
 ],
 "metadata": {
  "kernelspec": {
   "display_name": "Python 3 (ipykernel)",
   "language": "python",
   "name": "python3"
  },
  "language_info": {
   "codemirror_mode": {
    "name": "ipython",
    "version": 3
   },
   "file_extension": ".py",
   "mimetype": "text/x-python",
   "name": "python",
   "nbconvert_exporter": "python",
   "pygments_lexer": "ipython3",
   "version": "3.10.8"
  }
 },
 "nbformat": 4,
 "nbformat_minor": 5
}
