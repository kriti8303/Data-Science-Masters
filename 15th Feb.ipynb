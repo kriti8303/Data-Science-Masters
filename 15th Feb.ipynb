{
 "cells": [
  {
   "cell_type": "markdown",
   "id": "83dc82f3-3db0-489b-9cf1-0c37c5e0669f",
   "metadata": {},
   "source": [
    "## Question 1: What is multiprocessing in python? Why is it useful?"
   ]
  },
  {
   "cell_type": "markdown",
   "id": "c815c904-f8de-4a37-bca6-0301f2036ff0",
   "metadata": {},
   "source": [
    "Multiprocessing in Python refers to the ability to run multiple processes simultaneously. Each process runs independently and has its own memory space. The multiprocessing module in Python allows the creation and management of these separate processes, facilitating parallel execution of code.\n",
    "## Why is Multiprocessing Useful?\n",
    "1. Parallelism:\n",
    "\n",
    "Multiprocessing enables true parallelism, as multiple processes can run on multiple CPU cores simultaneously. This is especially beneficial for CPU-bound tasks, where computation can be spread across multiple cores to reduce execution time.\n",
    "\n",
    "2. GIL Bypass:\n",
    "Python's Global Interpreter Lock (GIL) can be a bottleneck in multi-threaded programs because it prevents multiple native threads from executing Python bytecodes at once. Multiprocessing sidesteps the GIL since each process has its own Python interpreter and memory space.\n",
    "\n",
    "3. Improved Performance:\n",
    "By distributing tasks across multiple processes, programs can make better use of multi-core CPUs, leading to significant performance improvements for computationally intensive tasks.\n",
    "\n",
    "4. Isolation:\n",
    "Processes are isolated from each other, which means that a crash in one process does not affect other processes. This isolation can lead to more robust and fault-tolerant programs.\n",
    "\n",
    "5. Simplified Concurrency Model:\n",
    "The multiprocessing module provides a higher-level interface for creating and managing processes, making it easier to write concurrent programs without dealing with the complexities of threading.\n",
    "\n",
    "## Example of Using Multiprocessing in Python:\n",
    "Here's a simple example demonstrating how to use the multiprocessing module to perform parallel computation:"
   ]
  },
  {
   "cell_type": "code",
   "execution_count": 1,
   "id": "8e68bf0a-30f5-4927-a268-a2d8de009eea",
   "metadata": {},
   "outputs": [
    {
     "name": "stdout",
     "output_type": "stream",
     "text": [
      "Squares: [1, 4, 9, 16, 25]\n"
     ]
    }
   ],
   "source": [
    "import multiprocessing\n",
    "\n",
    "def square(number):\n",
    "    return number * number\n",
    "\n",
    "if __name__ == '__main__':\n",
    "    numbers = [1, 2, 3, 4, 5]\n",
    "    \n",
    "    # Create a pool of worker processes\n",
    "    pool = multiprocessing.Pool()\n",
    "\n",
    "    # Map the function to the list of numbers\n",
    "    results = pool.map(square, numbers)\n",
    "\n",
    "    pool.close()  # Close the pool to new tasks\n",
    "    pool.join()   # Wait for all worker processes to finish\n",
    "\n",
    "    print(\"Squares:\", results)"
   ]
  },
  {
   "cell_type": "markdown",
   "id": "3afa4f89-bf46-41d8-8e1a-38c428e0a5dc",
   "metadata": {},
   "source": [
    "## Key Functions and Concepts in Multiprocessing:\n",
    "\n",
    "1. Process:\n",
    "Represents an independent process running in the system. You can create a process by instantiating the Process class and calling its start() method.\n",
    "\n",
    "2. Pool:\n",
    "A pool of worker processes that can execute tasks in parallel. The Pool class provides methods like map() and apply() to distribute tasks across multiple processes.\n",
    "\n",
    "3. Queue:\n",
    "A thread and process-safe data structure that allows communication between processes. Useful for passing data between producer and consumer processes.\n",
    "\n",
    "4. Pipe:\n",
    "Another form of inter-process communication (IPC) that provides a two-way communication channel between processes.\n",
    "\n",
    "## Example of Creating and Managing Processes:"
   ]
  },
  {
   "cell_type": "code",
   "execution_count": 2,
   "id": "6919e40f-c07d-40a4-8020-d7f7032e35ed",
   "metadata": {},
   "outputs": [
    {
     "name": "stdout",
     "output_type": "stream",
     "text": [
      "0\n",
      "1\n",
      "2\n",
      "3\n",
      "4\n",
      "Process has finished execution\n"
     ]
    }
   ],
   "source": [
    "import multiprocessing\n",
    "\n",
    "def print_numbers():\n",
    "    for i in range(5):\n",
    "        print(i)\n",
    "\n",
    "if __name__ == '__main__':\n",
    "    # Create a process\n",
    "    process = multiprocessing.Process(target=print_numbers)\n",
    "    \n",
    "    # Start the process\n",
    "    process.start()\n",
    "    \n",
    "    # Wait for the process to complete\n",
    "    process.join()\n",
    "    \n",
    "    print(\"Process has finished execution\")"
   ]
  },
  {
   "cell_type": "markdown",
   "id": "78af1d18-977c-42ae-ab81-ab0a2e6888d2",
   "metadata": {},
   "source": [
    "## Question 2: What are the differences between multiprocessing and multithreading? "
   ]
  },
  {
   "cell_type": "markdown",
   "id": "07b1efb5-e4b5-41cc-8c35-a1e2c87561b4",
   "metadata": {},
   "source": [
    "Multiprocessing and multithreading are two approaches to achieving concurrency in a program, but they operate differently and have distinct advantages and disadvantages. Here are the key differences between them:\n",
    "\n",
    "### 1. Execution Model:\n",
    "* Multiprocessing:\n",
    "\n",
    "1. Uses multiple processes, each with its own memory space.\n",
    "2. Processes run independently and can execute on different CPU cores.\n",
    "3. True parallelism is achieved because each process can run on a separate core.\n",
    "\n",
    "* Multithreading:\n",
    "\n",
    "1. Uses multiple threads within the same process, sharing the same memory space.\n",
    "2. Threads run concurrently but not necessarily in parallel, especially in CPython due to the Global Interpreter Lock (GIL).\n",
    "3. Typically better for I/O-bound tasks where waiting for I/O operations allows other threads to execute.\n",
    "\n",
    "### 2. Memory Sharing:\n",
    "* Multiprocessing:\n",
    "\n",
    "1. Processes do not share memory space. Each process has its own separate memory.\n",
    "2. Communication between processes requires inter-process communication (IPC) mechanisms like queues or pipes.\n",
    "\n",
    "* Multithreading:\n",
    "\n",
    "1. Threads share the same memory space within a process.\n",
    "2. Easy to share data between threads, but requires synchronization mechanisms (e.g., locks) to prevent data corruption.\n",
    "\n",
    "### 3. GIL (Global Interpreter Lock):\n",
    "* Multiprocessing:\n",
    "\n",
    "1. Not affected by the GIL. Each process has its own Python interpreter and memory space.\n",
    "2. Ideal for CPU-bound tasks where multiple processes can utilize multiple cores effectively.\n",
    "\n",
    "* Multithreading:\n",
    "\n",
    "1. Affected by the GIL in CPython, which prevents multiple native threads from executing Python bytecodes simultaneously.\n",
    "2. Suitable for I/O-bound tasks, but not as effective for CPU-bound tasks due to the GIL.\n",
    "\n",
    "### 4. Performance:\n",
    "* Multiprocessing:\n",
    "\n",
    "1. Can achieve true parallelism on multi-core systems, leading to better performance for CPU-bound tasks.\n",
    "2. Higher overhead due to process creation and inter-process communication.\n",
    "\n",
    "* Multithreading:\n",
    "\n",
    "1. Lower overhead for thread creation and context switching compared to processes.\n",
    "2. Limited by the GIL in CPython for CPU-bound tasks but effective for I/O-bound tasks.\n",
    "\n",
    "### 5. Robustness and Fault Isolation:\n",
    "* Multiprocessing:\n",
    "\n",
    "1. Faults in one process do not affect other processes. Each process runs independently.\n",
    "2. More robust as a crash in one process does not crash the entire application.\n",
    "\n",
    "* Multithreading:\n",
    "\n",
    "1. Faults in one thread can affect the entire process since threads share the same memory space.\n",
    "2. Less robust as an error in one thread can potentially crash the entire application.\n",
    "\n",
    "### 6. Use Cases:\n",
    "* Multiprocessing:\n",
    "\n",
    "1. Best for CPU-bound tasks that require heavy computation.\n",
    "2. Suitable for tasks that can be parallelized across multiple processors.\n",
    "\n",
    "* Multithreading:\n",
    "\n",
    "1. Best for I/O-bound tasks that involve waiting for external resources (e.g., file I/O, network requests).\n",
    "2. Suitable for tasks that need to share a lot of data quickly and efficiently.\n",
    "## Example Comparison:\n",
    "#### Multiprocessing Example:"
   ]
  },
  {
   "cell_type": "code",
   "execution_count": 3,
   "id": "7d77b687-1471-44c6-bee7-450a14ca726e",
   "metadata": {},
   "outputs": [
    {
     "name": "stdout",
     "output_type": "stream",
     "text": [
      "Worker process\n"
     ]
    }
   ],
   "source": [
    "import multiprocessing\n",
    "\n",
    "def worker():\n",
    "    print(\"Worker process\")\n",
    "\n",
    "if __name__ == '__main__':\n",
    "    process = multiprocessing.Process(target=worker)\n",
    "    process.start()\n",
    "    process.join()"
   ]
  },
  {
   "cell_type": "markdown",
   "id": "88132663-1c27-4040-adca-51a61720abff",
   "metadata": {},
   "source": [
    "#### Multithreading Example:"
   ]
  },
  {
   "cell_type": "code",
   "execution_count": 4,
   "id": "9c4fb280-a4b6-423c-b906-55063799b765",
   "metadata": {},
   "outputs": [
    {
     "name": "stdout",
     "output_type": "stream",
     "text": [
      "Worker thread\n"
     ]
    }
   ],
   "source": [
    "import threading\n",
    "\n",
    "def worker():\n",
    "    print(\"Worker thread\")\n",
    "\n",
    "thread = threading.Thread(target=worker)\n",
    "thread.start()\n",
    "thread.join()"
   ]
  },
  {
   "cell_type": "markdown",
   "id": "ce1b6d15-ca88-468b-96f8-576d6abc4674",
   "metadata": {},
   "source": [
    "## Question3:  Write a python code to create a process using the multiprocessing module."
   ]
  },
  {
   "cell_type": "code",
   "execution_count": 5,
   "id": "331505e2-976d-4f7b-b66e-9631d4c16cf3",
   "metadata": {},
   "outputs": [
    {
     "name": "stdout",
     "output_type": "stream",
     "text": [
      "Number: 1\n",
      "Number: 2\n",
      "Number: 3\n",
      "Number: 4\n",
      "Number: 5\n",
      "Process has finished execution\n"
     ]
    }
   ],
   "source": [
    "import multiprocessing\n",
    "\n",
    "def print_numbers():\n",
    "    for i in range(1, 6):\n",
    "        print(f\"Number: {i}\")\n",
    "\n",
    "if __name__ == '__main__':\n",
    "    # Create a new process\n",
    "    process = multiprocessing.Process(target=print_numbers)\n",
    "    \n",
    "    # Start the process\n",
    "    process.start()\n",
    "    \n",
    "    # Wait for the process to complete\n",
    "    process.join()\n",
    "    \n",
    "    print(\"Process has finished execution\")"
   ]
  },
  {
   "cell_type": "markdown",
   "id": "3424fca7-cde6-4868-96f1-35cd7e0700cf",
   "metadata": {},
   "source": [
    "## Explanation:\n",
    "\n",
    "#### 1. Importing the Module:\n",
    "import multiprocessing: Imports the multiprocessing module which provides the Process class for creating and managing separate processes.\n",
    "\n",
    "#### 2. Defining the Function:\n",
    "def print_numbers(): Defines a simple function that prints numbers from 1 to 5.\n",
    "\n",
    "#### 3. Creating the Process:\n",
    "process = multiprocessing.Process(target=print_numbers): Creates a new process object, specifying the target function print_numbers that the process will run.\n",
    "\n",
    "#### 4. Starting the Process:\n",
    "process.start(): Starts the new process, which will run the print_numbers function in parallel with the main program.\n",
    "\n",
    "5Waiting for the Process to Complete:\n",
    "process.join(): Blocks the main program until the process finishes its execution. This ensures that the main program waits for the child process to complete before continuing.\n",
    "Final Message:\n",
    "\n",
    "print(\"Process has finished execution\"): Prints a message indicating that the process has finished executing."
   ]
  },
  {
   "cell_type": "markdown",
   "id": "a802233e-35a4-4bc3-8316-d7d1d01a1bcf",
   "metadata": {},
   "source": [
    "## Question 2: What is a multiprocessing pool in python? Why is it used?"
   ]
  },
  {
   "cell_type": "markdown",
   "id": "8c305e64-0267-4554-903a-f27126014540",
   "metadata": {},
   "source": [
    "A multiprocessing pool in Python is a high-level interface provided by the multiprocessing module to manage a pool of worker processes. This allows you to parallelize the execution of a function across multiple input values, distributing the tasks among the available processes in the pool. The pool handles the creation of processes, distributing the work, and collecting the results, making it easier to implement parallel processing.\n",
    "\n",
    "## Why is it used?\n",
    "1. Simplifies Parallel Execution: It provides a straightforward way to parallelize the execution of a function over a collection of input values. This is particularly useful for tasks that can be broken down into smaller, independent sub-tasks.\n",
    "\n",
    "2. Efficient Resource Management: The pool manages a fixed number of worker processes, which helps in controlling the number of concurrent processes and efficiently utilizing system resources.\n",
    "\n",
    "3. Improved Performance: By distributing the workload across multiple processes, it can significantly reduce the time taken for CPU-bound tasks and leverage multi-core processors effectively.\n",
    "\n",
    "4. Convenient API: The pool provides a simple API with methods like map, apply, apply_async, and map_async to perform parallel execution and retrieve results easily.\n",
    "\n",
    "## Example of Using a Multiprocessing Pool:\n",
    "Here's an example demonstrating how to use a multiprocessing pool to compute the squares of a list of numbers in parallel:"
   ]
  },
  {
   "cell_type": "code",
   "execution_count": 1,
   "id": "9e327c53-095c-4799-a81b-f6d2378fb583",
   "metadata": {},
   "outputs": [
    {
     "name": "stdout",
     "output_type": "stream",
     "text": [
      "Squares: [1, 4, 9, 16, 25]\n"
     ]
    }
   ],
   "source": [
    "import multiprocessing\n",
    "\n",
    "def square(n):\n",
    "    return n * n\n",
    "\n",
    "if __name__ == '__main__':\n",
    "    numbers = [1, 2, 3, 4, 5]\n",
    "    \n",
    "    # Create a pool of worker processes\n",
    "    pool = multiprocessing.Pool(processes=4)\n",
    "    \n",
    "    # Map the function to the list of numbers\n",
    "    results = pool.map(square, numbers)\n",
    "    \n",
    "    # Close the pool to new tasks and wait for the worker processes to finish\n",
    "    pool.close()\n",
    "    pool.join()\n",
    "    \n",
    "    print(\"Squares:\", results)\n"
   ]
  },
  {
   "cell_type": "markdown",
   "id": "94fbe87d-3aff-468f-ac40-35e3d33e65fd",
   "metadata": {},
   "source": [
    "## Question 5: How can we create a pool of worker processes in python using the multiprocessing module?"
   ]
  },
  {
   "cell_type": "markdown",
   "id": "89793f91-c6a6-4e1b-b30b-e5b3ec4df914",
   "metadata": {},
   "source": [
    "To create a pool of worker processes in Python using the multiprocessing module, you can use the Pool class. The Pool class allows you to manage multiple worker processes to perform parallel execution of a function across multiple input values. Here's a step-by-step guide to creating and using a multiprocessing pool:\n",
    "\n",
    "## Step-by-Step Guide:\n",
    "1. Import the multiprocessing module:\n",
    "Import the module to access its functionalities.\n",
    "\n",
    "2. Define the function to be executed by the worker processes:\n",
    "Create a function that the worker processes will execute. This function should take an input, perform some operation, and return the result.\n",
    "\n",
    "3. Create a pool of worker processes:\n",
    "Instantiate the Pool class with the desired number of worker processes.\n",
    "\n",
    "4. Distribute the tasks among the worker processes:\n",
    "Use the map, apply, apply_async, or map_async methods of the Pool class to distribute tasks.\n",
    "\n",
    "5. Close the pool and wait for the worker processes to finish:\n",
    "Close the pool to new tasks and wait for all worker processes to complete their work.\n",
    "\n",
    "## Example Code:\n",
    "Here's an example that demonstrates how to create a pool of worker processes to calculate the square of each number in a list:"
   ]
  },
  {
   "cell_type": "code",
   "execution_count": 2,
   "id": "b37b5a42-964f-4aba-98b3-7bee942add1a",
   "metadata": {},
   "outputs": [
    {
     "name": "stdout",
     "output_type": "stream",
     "text": [
      "Squares: [1, 4, 9, 16, 25]\n"
     ]
    }
   ],
   "source": [
    "import multiprocessing\n",
    "\n",
    "def square(n):\n",
    "    return n * n\n",
    "\n",
    "if __name__ == '__main__':\n",
    "    numbers = [1, 2, 3, 4, 5]\n",
    "    \n",
    "    # Step 3: Create a pool of worker processes\n",
    "    pool = multiprocessing.Pool(processes=4)  # You can adjust the number of processes\n",
    "\n",
    "    # Step 4: Distribute tasks among the worker processes using the map method\n",
    "    results = pool.map(square, numbers)\n",
    "    \n",
    "    # Step 5: Close the pool and wait for the worker processes to finish\n",
    "    pool.close()\n",
    "    pool.join()\n",
    "    \n",
    "    # Print the results\n",
    "    print(\"Squares:\", results)\n"
   ]
  },
  {
   "cell_type": "markdown",
   "id": "943d149a-ab5d-42b9-b623-adce522855b1",
   "metadata": {},
   "source": [
    "## Question 6: Write a python program to create 4 processes, each process should print a different number using the multiprocessing module in python."
   ]
  },
  {
   "cell_type": "code",
   "execution_count": 3,
   "id": "17a5840d-3034-4628-a707-46944ff764e0",
   "metadata": {},
   "outputs": [
    {
     "name": "stdout",
     "output_type": "stream",
     "text": [
      "Process ID: 543, Number: 1\n",
      "Process ID: 546, Number: 2\n",
      "Process ID: 551, Number: 3\n",
      "Process ID: 558, Number: 4\n",
      "All processes have finished execution\n"
     ]
    }
   ],
   "source": [
    "import multiprocessing\n",
    "\n",
    "def print_number(number):\n",
    "    print(f\"Process ID: {multiprocessing.current_process().pid}, Number: {number}\")\n",
    "\n",
    "if __name__ == '__main__':\n",
    "    numbers = [1, 2, 3, 4]\n",
    "    \n",
    "    # Create a list to hold the process objects\n",
    "    processes = []\n",
    "    \n",
    "    # Create and start a new process for each number\n",
    "    for number in numbers:\n",
    "        process = multiprocessing.Process(target=print_number, args=(number,))\n",
    "        processes.append(process)\n",
    "        process.start()\n",
    "    \n",
    "    # Wait for all processes to complete\n",
    "    for process in processes:\n",
    "        process.join()\n",
    "    \n",
    "    print(\"All processes have finished execution\")\n"
   ]
  },
  {
   "cell_type": "markdown",
   "id": "05764c63-b9aa-4bb0-b4de-0ac6cd4cbfc7",
   "metadata": {},
   "source": [
    "## Explanation:\n",
    "1. Importing the Module:\n",
    "\n",
    "import multiprocessing: Imports the multiprocessing module to use its functionalities.\n",
    "\n",
    "2. Defining the Function:\n",
    "\n",
    "def print_number(number): Defines a function that takes a number and prints it along with the process ID.\n",
    "\n",
    "3. Main Block:\n",
    "\n",
    "if __name__ == '__main__':: Ensures that the following code is only executed when the script is run directly (not when imported as a module).\n",
    "\n",
    "4. List of Numbers:\n",
    "\n",
    "numbers = [1, 2, 3, 4]: Defines a list of numbers to be printed by the processes.\n",
    "\n",
    "5. Creating and Starting Processes:\n",
    "\n",
    "processes = []: Initializes an empty list to hold the process objects.\n",
    "\n",
    "for number in numbers:: Loops through each number in the list.\n",
    "\n",
    "process = multiprocessing.Process(target=print_number, args=(number,)): Creates a new Process object, specifying the print_number function and the number to print as arguments.\n",
    "\n",
    "processes.append(process): Adds the process object to the list of processes.\n",
    "\n",
    "process.start(): Starts the process.\n",
    "\n",
    "6. Waiting for Processes to Complete:\n",
    "\n",
    "for process in processes:: Loops through each process in the list.\n",
    "\n",
    "process.join(): Waits for the process to complete before moving to the next one.\n",
    "\n",
    "7. Final Message:\n",
    "\n",
    "print(\"All processes have finished execution\"): Prints a message indicating that all processes have completed."
   ]
  },
  {
   "cell_type": "code",
   "execution_count": null,
   "id": "1e2d4c45-ea1a-4ebb-8099-33607c8dffd0",
   "metadata": {},
   "outputs": [],
   "source": []
  }
 ],
 "metadata": {
  "kernelspec": {
   "display_name": "Python 3 (ipykernel)",
   "language": "python",
   "name": "python3"
  },
  "language_info": {
   "codemirror_mode": {
    "name": "ipython",
    "version": 3
   },
   "file_extension": ".py",
   "mimetype": "text/x-python",
   "name": "python",
   "nbconvert_exporter": "python",
   "pygments_lexer": "ipython3",
   "version": "3.10.8"
  }
 },
 "nbformat": 4,
 "nbformat_minor": 5
}
