{
 "cells": [
  {
   "cell_type": "markdown",
   "id": "159fe64a-e59b-4703-a50e-e9a58baad8d9",
   "metadata": {},
   "source": [
    "## Question 1: Write a python program to extract the video URL of the first five videos."
   ]
  },
  {
   "cell_type": "markdown",
   "id": "b053bed1-420a-48b3-ab5f-adeec6f68e98",
   "metadata": {},
   "source": [
    "To extract the video URLs of the first five videos from a YouTube channel page such as \"https://www.youtube.com/@PW-Foundation/videos\", you can use web scraping techniques. Python libraries such as requests and BeautifulSoup are commonly used for this purpose. Alternatively, you can use Selenium if you need to handle dynamic content.\n",
    "\n",
    "#### Here's an example using BeautifulSoup and requests:\n",
    "\n",
    "* Using BeautifulSoup and requests\n",
    "\n",
    "First, install the necessary libraries if you haven't already:"
   ]
  },
  {
   "cell_type": "code",
   "execution_count": 1,
   "id": "3ec972fe-d18d-445d-8333-34171640b37a",
   "metadata": {},
   "outputs": [
    {
     "name": "stdout",
     "output_type": "stream",
     "text": [
      "Requirement already satisfied: requests in /opt/conda/lib/python3.10/site-packages (2.28.1)\n",
      "Requirement already satisfied: beautifulsoup4 in /opt/conda/lib/python3.10/site-packages (4.11.1)\n",
      "Requirement already satisfied: charset-normalizer<3,>=2 in /opt/conda/lib/python3.10/site-packages (from requests) (2.1.1)\n",
      "Requirement already satisfied: idna<4,>=2.5 in /opt/conda/lib/python3.10/site-packages (from requests) (3.4)\n",
      "Requirement already satisfied: certifi>=2017.4.17 in /opt/conda/lib/python3.10/site-packages (from requests) (2022.12.7)\n",
      "Requirement already satisfied: urllib3<1.27,>=1.21.1 in /opt/conda/lib/python3.10/site-packages (from requests) (1.26.13)\n",
      "Requirement already satisfied: soupsieve>1.2 in /opt/conda/lib/python3.10/site-packages (from beautifulsoup4) (2.3.2.post1)\n",
      "Note: you may need to restart the kernel to use updated packages.\n"
     ]
    }
   ],
   "source": [
    "pip install requests beautifulsoup4"
   ]
  },
  {
   "cell_type": "code",
   "execution_count": 2,
   "id": "fbee2a64-d158-4dd2-9e10-89b60fc73ec0",
   "metadata": {},
   "outputs": [],
   "source": [
    "##Then, use the following Python code to extract the video URLs:\n",
    "import requests\n",
    "from bs4 import BeautifulSoup\n",
    "\n",
    "# URL of the YouTube channel's videos page\n",
    "url = \"https://www.youtube.com/@PW-Foundation/videos\"\n",
    "\n",
    "# Send a GET request to the URL\n",
    "response = requests.get(url)\n",
    "response.raise_for_status()  # Ensure the request was successful\n",
    "\n",
    "# Parse the HTML content using BeautifulSoup\n",
    "soup = BeautifulSoup(response.text, 'html.parser')\n",
    "\n",
    "# Find all video links (hrefs contain \"/watch\")\n",
    "video_links = soup.find_all('a', href=True)\n",
    "\n",
    "# Filter and collect the first five unique video URLs\n",
    "video_urls = []\n",
    "for link in video_links:\n",
    "    href = link['href']\n",
    "    if \"/watch\" in href and href not in video_urls:\n",
    "        video_urls.append(f\"https://www.youtube.com{href}\")\n",
    "        if len(video_urls) == 5:\n",
    "            break\n",
    "\n",
    "# Print the extracted video URLs\n",
    "for idx, video_url in enumerate(video_urls, start=1):\n",
    "    print(f\"Video {idx}: {video_url}\")\n"
   ]
  },
  {
   "cell_type": "markdown",
   "id": "ed6af666-bae6-40df-8896-1ec1cfa374a7",
   "metadata": {},
   "source": [
    "#### Explanation\n",
    "1. Import Libraries: Import the necessary libraries requests and BeautifulSoup.\n",
    "2. Send GET Request: Send a GET request to the YouTube channel's videos page.\n",
    "3. Parse HTML Content: Use BeautifulSoup to parse the HTML content of the page.\n",
    "4. Find Video Links: Find all <a> tags with href attributes containing /watch.\n",
    "5. Filter and Collect URLs: Filter out the first five unique video URLs and add them to a list.\n",
    "6. Print URLs: Print the extracted video URLs."
   ]
  },
  {
   "cell_type": "markdown",
   "id": "b7ac02ff-3f4f-4cf2-bbf7-80b235578852",
   "metadata": {},
   "source": [
    "#### Using Selenium\n",
    "\n",
    "If you encounter issues with dynamic content, you can use Selenium to automate a web browser to load the JavaScript content:"
   ]
  },
  {
   "cell_type": "code",
   "execution_count": 3,
   "id": "e35d2501-24bf-408a-a56c-775aede9c4f2",
   "metadata": {},
   "outputs": [
    {
     "name": "stdout",
     "output_type": "stream",
     "text": [
      "Collecting selenium\n",
      "  Downloading selenium-4.23.1-py3-none-any.whl (9.4 MB)\n",
      "\u001b[2K     \u001b[90m━━━━━━━━━━━━━━━━━━━━━━━━━━━━━━━━━━━━━━━━\u001b[0m \u001b[32m9.4/9.4 MB\u001b[0m \u001b[31m59.6 MB/s\u001b[0m eta \u001b[36m0:00:00\u001b[0m00:01\u001b[0m00:01\u001b[0m\n",
      "\u001b[?25hCollecting trio~=0.17\n",
      "  Downloading trio-0.26.0-py3-none-any.whl (475 kB)\n",
      "\u001b[2K     \u001b[90m━━━━━━━━━━━━━━━━━━━━━━━━━━━━━━━━━━━━━━\u001b[0m \u001b[32m475.7/475.7 kB\u001b[0m \u001b[31m43.0 MB/s\u001b[0m eta \u001b[36m0:00:00\u001b[0m\n",
      "\u001b[?25hRequirement already satisfied: urllib3[socks]<3,>=1.26 in /opt/conda/lib/python3.10/site-packages (from selenium) (1.26.13)\n",
      "Collecting typing_extensions~=4.9\n",
      "  Downloading typing_extensions-4.12.2-py3-none-any.whl (37 kB)\n",
      "Collecting trio-websocket~=0.9\n",
      "  Downloading trio_websocket-0.11.1-py3-none-any.whl (17 kB)\n",
      "Collecting websocket-client~=1.8\n",
      "  Downloading websocket_client-1.8.0-py3-none-any.whl (58 kB)\n",
      "\u001b[2K     \u001b[90m━━━━━━━━━━━━━━━━━━━━━━━━━━━━━━━━━━━━━━━━\u001b[0m \u001b[32m58.8/58.8 kB\u001b[0m \u001b[31m9.6 MB/s\u001b[0m eta \u001b[36m0:00:00\u001b[0m\n",
      "\u001b[?25hRequirement already satisfied: certifi>=2021.10.8 in /opt/conda/lib/python3.10/site-packages (from selenium) (2022.12.7)\n",
      "Requirement already satisfied: idna in /opt/conda/lib/python3.10/site-packages (from trio~=0.17->selenium) (3.4)\n",
      "Requirement already satisfied: sortedcontainers in /opt/conda/lib/python3.10/site-packages (from trio~=0.17->selenium) (2.4.0)\n",
      "Requirement already satisfied: sniffio>=1.3.0 in /opt/conda/lib/python3.10/site-packages (from trio~=0.17->selenium) (1.3.0)\n",
      "Collecting attrs>=23.2.0\n",
      "  Downloading attrs-23.2.0-py3-none-any.whl (60 kB)\n",
      "\u001b[2K     \u001b[90m━━━━━━━━━━━━━━━━━━━━━━━━━━━━━━━━━━━━━━━━\u001b[0m \u001b[32m60.8/60.8 kB\u001b[0m \u001b[31m9.6 MB/s\u001b[0m eta \u001b[36m0:00:00\u001b[0m\n",
      "\u001b[?25hCollecting exceptiongroup\n",
      "  Downloading exceptiongroup-1.2.2-py3-none-any.whl (16 kB)\n",
      "Collecting outcome\n",
      "  Downloading outcome-1.3.0.post0-py2.py3-none-any.whl (10 kB)\n",
      "Collecting wsproto>=0.14\n",
      "  Downloading wsproto-1.2.0-py3-none-any.whl (24 kB)\n",
      "Requirement already satisfied: PySocks!=1.5.7,<2.0,>=1.5.6 in /opt/conda/lib/python3.10/site-packages (from urllib3[socks]<3,>=1.26->selenium) (1.7.1)\n",
      "Collecting h11<1,>=0.9.0\n",
      "  Downloading h11-0.14.0-py3-none-any.whl (58 kB)\n",
      "\u001b[2K     \u001b[90m━━━━━━━━━━━━━━━━━━━━━━━━━━━━━━━━━━━━━━━━\u001b[0m \u001b[32m58.3/58.3 kB\u001b[0m \u001b[31m5.7 MB/s\u001b[0m eta \u001b[36m0:00:00\u001b[0m\n",
      "\u001b[?25hInstalling collected packages: websocket-client, typing_extensions, h11, exceptiongroup, attrs, wsproto, outcome, trio, trio-websocket, selenium\n",
      "  Attempting uninstall: websocket-client\n",
      "    Found existing installation: websocket-client 1.4.2\n",
      "    Uninstalling websocket-client-1.4.2:\n",
      "      Successfully uninstalled websocket-client-1.4.2\n",
      "  Attempting uninstall: typing_extensions\n",
      "    Found existing installation: typing_extensions 4.4.0\n",
      "    Uninstalling typing_extensions-4.4.0:\n",
      "      Successfully uninstalled typing_extensions-4.4.0\n",
      "  Attempting uninstall: attrs\n",
      "    Found existing installation: attrs 22.1.0\n",
      "    Uninstalling attrs-22.1.0:\n",
      "      Successfully uninstalled attrs-22.1.0\n",
      "Successfully installed attrs-23.2.0 exceptiongroup-1.2.2 h11-0.14.0 outcome-1.3.0.post0 selenium-4.23.1 trio-0.26.0 trio-websocket-0.11.1 typing_extensions-4.12.2 websocket-client-1.8.0 wsproto-1.2.0\n",
      "Note: you may need to restart the kernel to use updated packages.\n"
     ]
    }
   ],
   "source": [
    "pip install selenium"
   ]
  },
  {
   "cell_type": "code",
   "execution_count": null,
   "id": "c08d3fed-e9fe-49f3-bf26-66032529a488",
   "metadata": {},
   "outputs": [],
   "source": [
    "from selenium import webdriver\n",
    "from selenium.webdriver.common.by import By\n",
    "from selenium.webdriver.chrome.service import Service\n",
    "from webdriver_manager.chrome import ChromeDriverManager\n",
    "\n",
    "# Set up the Selenium WebDriver\n",
    "service = Service(ChromeDriverManager().install())\n",
    "driver = webdriver.Chrome(service=service)\n",
    "\n",
    "# URL of the YouTube channel's videos page\n",
    "url = \"https://www.youtube.com/@PW-Foundation/videos\"\n",
    "\n",
    "# Navigate to the URL\n",
    "driver.get(url)\n",
    "\n",
    "# Find video links using XPath\n",
    "video_elements = driver.find_elements(By.XPATH, '//a[@href and contains(@href, \"/watch\")]')\n",
    "\n",
    "# Extract the first five unique video URLs\n",
    "video_urls = []\n",
    "for video_element in video_elements:\n",
    "    href = video_element.get_attribute('href')\n",
    "    if href not in video_urls:\n",
    "        video_urls.append(href)\n",
    "    if len(video_urls) == 5:\n",
    "        break\n",
    "\n",
    "# Print the extracted video URLs\n",
    "for idx, video_url in enumerate(video_urls, start=1):\n",
    "    print(f\"Video {idx}: {video_url}\")\n",
    "\n",
    "# Close the WebDriver\n",
    "driver.quit()"
   ]
  },
  {
   "cell_type": "markdown",
   "id": "6f48520f-a8fa-4859-b12c-f9a3f36464ce",
   "metadata": {},
   "source": [
    "## Question 2: Write a python program to extract the URL of the video thumbnails of the first five videos."
   ]
  },
  {
   "cell_type": "markdown",
   "id": "3a61bd96-d2d4-477c-a8c7-d707bc57be29",
   "metadata": {},
   "source": [
    "### Here’s how you can do it using BeautifulSoup and requests:\n",
    "\n",
    "Using BeautifulSoup and requests\n",
    "\n",
    "First, ensure you have the necessary libraries installed:"
   ]
  },
  {
   "cell_type": "code",
   "execution_count": 1,
   "id": "11aab1c4-9945-4239-bba4-137070a495cd",
   "metadata": {},
   "outputs": [
    {
     "name": "stdout",
     "output_type": "stream",
     "text": [
      "Requirement already satisfied: requests in /opt/conda/lib/python3.10/site-packages (2.28.1)\n",
      "Requirement already satisfied: beautifulsoup4 in /opt/conda/lib/python3.10/site-packages (4.11.1)\n",
      "Requirement already satisfied: certifi>=2017.4.17 in /opt/conda/lib/python3.10/site-packages (from requests) (2022.12.7)\n",
      "Requirement already satisfied: charset-normalizer<3,>=2 in /opt/conda/lib/python3.10/site-packages (from requests) (2.1.1)\n",
      "Requirement already satisfied: urllib3<1.27,>=1.21.1 in /opt/conda/lib/python3.10/site-packages (from requests) (1.26.13)\n",
      "Requirement already satisfied: idna<4,>=2.5 in /opt/conda/lib/python3.10/site-packages (from requests) (3.4)\n",
      "Requirement already satisfied: soupsieve>1.2 in /opt/conda/lib/python3.10/site-packages (from beautifulsoup4) (2.3.2.post1)\n",
      "Note: you may need to restart the kernel to use updated packages.\n"
     ]
    }
   ],
   "source": [
    "pip install requests beautifulsoup4"
   ]
  },
  {
   "cell_type": "code",
   "execution_count": 2,
   "id": "f45427e0-9ddd-4851-b870-4e35993fb93c",
   "metadata": {},
   "outputs": [],
   "source": [
    "import requests\n",
    "from bs4 import BeautifulSoup\n",
    "\n",
    "# URL of the YouTube channel's videos page\n",
    "url = \"https://www.youtube.com/@PW-Foundation/videos\"\n",
    "\n",
    "# Send a GET request to the URL\n",
    "response = requests.get(url)\n",
    "response.raise_for_status()  # Ensure the request was successful\n",
    "\n",
    "# Parse the HTML content using BeautifulSoup\n",
    "soup = BeautifulSoup(response.text, 'html.parser')\n",
    "\n",
    "# Find all video thumbnail images\n",
    "thumbnail_images = soup.find_all('img', {'src': True, 'alt': True})\n",
    "\n",
    "# Filter and collect the first five unique thumbnail URLs\n",
    "thumbnail_urls = []\n",
    "for img in thumbnail_images:\n",
    "    src = img['src']\n",
    "    if 'https://i.ytimg.com/vi/' in src and src not in thumbnail_urls:\n",
    "        thumbnail_urls.append(src)\n",
    "        if len(thumbnail_urls) == 5:\n",
    "            break\n",
    "\n",
    "# Print the extracted thumbnail URLs\n",
    "for idx, thumbnail_url in enumerate(thumbnail_urls, start=1):\n",
    "    print(f\"Thumbnail {idx}: {thumbnail_url}\")"
   ]
  },
  {
   "cell_type": "markdown",
   "id": "40c5a55c-5208-44fa-a59b-68991f7c96c4",
   "metadata": {},
   "source": [
    "### Using Selenium\n",
    "\n",
    "If you encounter issues with dynamically loaded content, you can use Selenium:"
   ]
  },
  {
   "cell_type": "code",
   "execution_count": 3,
   "id": "97a4c36d-2cdd-4b69-9806-ce0463786309",
   "metadata": {},
   "outputs": [
    {
     "name": "stdout",
     "output_type": "stream",
     "text": [
      "Collecting selenium\n",
      "  Downloading selenium-4.23.1-py3-none-any.whl (9.4 MB)\n",
      "\u001b[2K     \u001b[90m━━━━━━━━━━━━━━━━━━━━━━━━━━━━━━━━━━━━━━━━\u001b[0m \u001b[32m9.4/9.4 MB\u001b[0m \u001b[31m67.8 MB/s\u001b[0m eta \u001b[36m0:00:00\u001b[0m00:01\u001b[0m:00:01\u001b[0m\n",
      "\u001b[?25hCollecting trio~=0.17\n",
      "  Downloading trio-0.26.0-py3-none-any.whl (475 kB)\n",
      "\u001b[2K     \u001b[90m━━━━━━━━━━━━━━━━━━━━━━━━━━━━━━━━━━━━━━\u001b[0m \u001b[32m475.7/475.7 kB\u001b[0m \u001b[31m39.7 MB/s\u001b[0m eta \u001b[36m0:00:00\u001b[0m\n",
      "\u001b[?25hCollecting websocket-client~=1.8\n",
      "  Downloading websocket_client-1.8.0-py3-none-any.whl (58 kB)\n",
      "\u001b[2K     \u001b[90m━━━━━━━━━━━━━━━━━━━━━━━━━━━━━━━━━━━━━━━━\u001b[0m \u001b[32m58.8/58.8 kB\u001b[0m \u001b[31m9.5 MB/s\u001b[0m eta \u001b[36m0:00:00\u001b[0m\n",
      "\u001b[?25hCollecting trio-websocket~=0.9\n",
      "  Downloading trio_websocket-0.11.1-py3-none-any.whl (17 kB)\n",
      "Collecting typing_extensions~=4.9\n",
      "  Downloading typing_extensions-4.12.2-py3-none-any.whl (37 kB)\n",
      "Requirement already satisfied: certifi>=2021.10.8 in /opt/conda/lib/python3.10/site-packages (from selenium) (2022.12.7)\n",
      "Requirement already satisfied: urllib3[socks]<3,>=1.26 in /opt/conda/lib/python3.10/site-packages (from selenium) (1.26.13)\n",
      "Collecting exceptiongroup\n",
      "  Downloading exceptiongroup-1.2.2-py3-none-any.whl (16 kB)\n",
      "Requirement already satisfied: sortedcontainers in /opt/conda/lib/python3.10/site-packages (from trio~=0.17->selenium) (2.4.0)\n",
      "Collecting attrs>=23.2.0\n",
      "  Downloading attrs-23.2.0-py3-none-any.whl (60 kB)\n",
      "\u001b[2K     \u001b[90m━━━━━━━━━━━━━━━━━━━━━━━━━━━━━━━━━━━━━━━━\u001b[0m \u001b[32m60.8/60.8 kB\u001b[0m \u001b[31m11.0 MB/s\u001b[0m eta \u001b[36m0:00:00\u001b[0m\n",
      "\u001b[?25hRequirement already satisfied: sniffio>=1.3.0 in /opt/conda/lib/python3.10/site-packages (from trio~=0.17->selenium) (1.3.0)\n",
      "Collecting outcome\n",
      "  Downloading outcome-1.3.0.post0-py2.py3-none-any.whl (10 kB)\n",
      "Requirement already satisfied: idna in /opt/conda/lib/python3.10/site-packages (from trio~=0.17->selenium) (3.4)\n",
      "Collecting wsproto>=0.14\n",
      "  Downloading wsproto-1.2.0-py3-none-any.whl (24 kB)\n",
      "Requirement already satisfied: PySocks!=1.5.7,<2.0,>=1.5.6 in /opt/conda/lib/python3.10/site-packages (from urllib3[socks]<3,>=1.26->selenium) (1.7.1)\n",
      "Collecting h11<1,>=0.9.0\n",
      "  Downloading h11-0.14.0-py3-none-any.whl (58 kB)\n",
      "\u001b[2K     \u001b[90m━━━━━━━━━━━━━━━━━━━━━━━━━━━━━━━━━━━━━━━━\u001b[0m \u001b[32m58.3/58.3 kB\u001b[0m \u001b[31m10.5 MB/s\u001b[0m eta \u001b[36m0:00:00\u001b[0m\n",
      "\u001b[?25hInstalling collected packages: websocket-client, typing_extensions, h11, exceptiongroup, attrs, wsproto, outcome, trio, trio-websocket, selenium\n",
      "  Attempting uninstall: websocket-client\n",
      "    Found existing installation: websocket-client 1.4.2\n",
      "    Uninstalling websocket-client-1.4.2:\n",
      "      Successfully uninstalled websocket-client-1.4.2\n",
      "  Attempting uninstall: typing_extensions\n",
      "    Found existing installation: typing_extensions 4.4.0\n",
      "    Uninstalling typing_extensions-4.4.0:\n",
      "      Successfully uninstalled typing_extensions-4.4.0\n",
      "  Attempting uninstall: attrs\n",
      "    Found existing installation: attrs 22.1.0\n",
      "    Uninstalling attrs-22.1.0:\n",
      "      Successfully uninstalled attrs-22.1.0\n",
      "Successfully installed attrs-23.2.0 exceptiongroup-1.2.2 h11-0.14.0 outcome-1.3.0.post0 selenium-4.23.1 trio-0.26.0 trio-websocket-0.11.1 typing_extensions-4.12.2 websocket-client-1.8.0 wsproto-1.2.0\n",
      "Note: you may need to restart the kernel to use updated packages.\n"
     ]
    }
   ],
   "source": [
    "pip install selenium"
   ]
  },
  {
   "cell_type": "code",
   "execution_count": null,
   "id": "9688b4c8-b6c2-4f91-862c-b4097ffae241",
   "metadata": {},
   "outputs": [],
   "source": [
    "from selenium import webdriver\n",
    "from selenium.webdriver.common.by import By\n",
    "from selenium.webdriver.chrome.service import Service\n",
    "from webdriver_manager.chrome import ChromeDriverManager\n",
    "\n",
    "# Set up the Selenium WebDriver\n",
    "service = Service(ChromeDriverManager().install())\n",
    "driver = webdriver.Chrome(service=service)\n",
    "\n",
    "# URL of the YouTube channel's videos page\n",
    "url = \"https://www.youtube.com/@PW-Foundation/videos\"\n",
    "\n",
    "# Navigate to the URL\n",
    "driver.get(url)\n",
    "\n",
    "# Find video thumbnail images using XPath\n",
    "thumbnail_elements = driver.find_elements(By.XPATH, '//img[@src and contains(@src, \"https://i.ytimg.com/vi/\")]')\n",
    "\n",
    "# Extract the first five unique thumbnail URLs\n",
    "thumbnail_urls = []\n",
    "for thumbnail_element in thumbnail_elements:\n",
    "    src = thumbnail_element.get_attribute('src')\n",
    "    if src not in thumbnail_urls:\n",
    "        thumbnail_urls.append(src)\n",
    "    if len(thumbnail_urls) == 5:\n",
    "        break\n",
    "\n",
    "# Print the extracted thumbnail URLs\n",
    "for idx, thumbnail_url in enumerate(thumbnail_urls, start=1):\n",
    "    print(f\"Thumbnail {idx}: {thumbnail_url}\")\n",
    "\n",
    "# Close the WebDriver\n",
    "driver.quit()"
   ]
  },
  {
   "cell_type": "markdown",
   "id": "0957ddc8-3418-49f7-bd26-4f69f94e0d33",
   "metadata": {},
   "source": [
    "## Question 3: Write a python program to extract the title of the first five videos."
   ]
  },
  {
   "cell_type": "markdown",
   "id": "c08dbbbd-7fab-4be5-9861-9e2082141042",
   "metadata": {},
   "source": [
    "### Using BeautifulSoup and requests\n",
    "First, make sure you have the required libraries installed:"
   ]
  },
  {
   "cell_type": "code",
   "execution_count": 5,
   "id": "7f90c4f7-8c5f-42cb-8f55-d75d77252da6",
   "metadata": {},
   "outputs": [
    {
     "name": "stdout",
     "output_type": "stream",
     "text": [
      "Requirement already satisfied: requests in /opt/conda/lib/python3.10/site-packages (2.28.1)\n",
      "Requirement already satisfied: beautifulsoup4 in /opt/conda/lib/python3.10/site-packages (4.11.1)\n",
      "Requirement already satisfied: idna<4,>=2.5 in /opt/conda/lib/python3.10/site-packages (from requests) (3.4)\n",
      "Requirement already satisfied: urllib3<1.27,>=1.21.1 in /opt/conda/lib/python3.10/site-packages (from requests) (1.26.13)\n",
      "Requirement already satisfied: certifi>=2017.4.17 in /opt/conda/lib/python3.10/site-packages (from requests) (2022.12.7)\n",
      "Requirement already satisfied: charset-normalizer<3,>=2 in /opt/conda/lib/python3.10/site-packages (from requests) (2.1.1)\n",
      "Requirement already satisfied: soupsieve>1.2 in /opt/conda/lib/python3.10/site-packages (from beautifulsoup4) (2.3.2.post1)\n",
      "Note: you may need to restart the kernel to use updated packages.\n"
     ]
    }
   ],
   "source": [
    "pip install requests beautifulsoup4"
   ]
  },
  {
   "cell_type": "code",
   "execution_count": 6,
   "id": "0a410736-8842-42ae-97c3-178f777c5185",
   "metadata": {},
   "outputs": [],
   "source": [
    "import requests\n",
    "from bs4 import BeautifulSoup\n",
    "\n",
    "# URL of the YouTube channel's videos page\n",
    "url = \"https://www.youtube.com/@PW-Foundation/videos\"\n",
    "\n",
    "# Send a GET request to the URL\n",
    "response = requests.get(url)\n",
    "response.raise_for_status()  # Ensure the request was successful\n",
    "\n",
    "# Parse the HTML content using BeautifulSoup\n",
    "soup = BeautifulSoup(response.text, 'html.parser')\n",
    "\n",
    "# Find all video title elements\n",
    "title_elements = soup.find_all('a', {'id': 'video-title'})\n",
    "\n",
    "# Extract the first five unique video titles\n",
    "video_titles = []\n",
    "for title in title_elements:\n",
    "    video_title = title.get('title')\n",
    "    if video_title not in video_titles:\n",
    "        video_titles.append(video_title)\n",
    "    if len(video_titles) == 5:\n",
    "        break\n",
    "\n",
    "# Print the extracted video titles\n",
    "for idx, video_title in enumerate(video_titles, start=1):\n",
    "    print(f\"Video {idx}: {video_title}\")"
   ]
  },
  {
   "cell_type": "markdown",
   "id": "e269535b-6368-43bf-9058-c6bf254f6f11",
   "metadata": {},
   "source": [
    "## Using Selenium\n",
    "If you encounter issues due to dynamically loaded content, you can use Selenium:"
   ]
  },
  {
   "cell_type": "code",
   "execution_count": 7,
   "id": "f12ee930-30e2-4e7f-9c9d-4f97819bae2f",
   "metadata": {},
   "outputs": [
    {
     "name": "stdout",
     "output_type": "stream",
     "text": [
      "Requirement already satisfied: selenium in /opt/conda/lib/python3.10/site-packages (4.23.1)\n",
      "Requirement already satisfied: websocket-client~=1.8 in /opt/conda/lib/python3.10/site-packages (from selenium) (1.8.0)\n",
      "Requirement already satisfied: certifi>=2021.10.8 in /opt/conda/lib/python3.10/site-packages (from selenium) (2022.12.7)\n",
      "Requirement already satisfied: urllib3[socks]<3,>=1.26 in /opt/conda/lib/python3.10/site-packages (from selenium) (1.26.13)\n",
      "Requirement already satisfied: typing_extensions~=4.9 in /opt/conda/lib/python3.10/site-packages (from selenium) (4.12.2)\n",
      "Requirement already satisfied: trio~=0.17 in /opt/conda/lib/python3.10/site-packages (from selenium) (0.26.0)\n",
      "Requirement already satisfied: trio-websocket~=0.9 in /opt/conda/lib/python3.10/site-packages (from selenium) (0.11.1)\n",
      "Requirement already satisfied: exceptiongroup in /opt/conda/lib/python3.10/site-packages (from trio~=0.17->selenium) (1.2.2)\n",
      "Requirement already satisfied: sniffio>=1.3.0 in /opt/conda/lib/python3.10/site-packages (from trio~=0.17->selenium) (1.3.0)\n",
      "Requirement already satisfied: outcome in /opt/conda/lib/python3.10/site-packages (from trio~=0.17->selenium) (1.3.0.post0)\n",
      "Requirement already satisfied: idna in /opt/conda/lib/python3.10/site-packages (from trio~=0.17->selenium) (3.4)\n",
      "Requirement already satisfied: attrs>=23.2.0 in /opt/conda/lib/python3.10/site-packages (from trio~=0.17->selenium) (23.2.0)\n",
      "Requirement already satisfied: sortedcontainers in /opt/conda/lib/python3.10/site-packages (from trio~=0.17->selenium) (2.4.0)\n",
      "Requirement already satisfied: wsproto>=0.14 in /opt/conda/lib/python3.10/site-packages (from trio-websocket~=0.9->selenium) (1.2.0)\n",
      "Requirement already satisfied: PySocks!=1.5.7,<2.0,>=1.5.6 in /opt/conda/lib/python3.10/site-packages (from urllib3[socks]<3,>=1.26->selenium) (1.7.1)\n",
      "Requirement already satisfied: h11<1,>=0.9.0 in /opt/conda/lib/python3.10/site-packages (from wsproto>=0.14->trio-websocket~=0.9->selenium) (0.14.0)\n",
      "Note: you may need to restart the kernel to use updated packages.\n"
     ]
    }
   ],
   "source": [
    "pip install selenium"
   ]
  },
  {
   "cell_type": "code",
   "execution_count": null,
   "id": "b38a497f-8f53-44a4-b456-9c4af3647d13",
   "metadata": {},
   "outputs": [],
   "source": [
    "from selenium import webdriver\n",
    "from selenium.webdriver.common.by import By\n",
    "from selenium.webdriver.chrome.service import Service\n",
    "from webdriver_manager.chrome import ChromeDriverManager\n",
    "\n",
    "# Set up the Selenium WebDriver\n",
    "service = Service(ChromeDriverManager().install())\n",
    "driver = webdriver.Chrome(service=service)\n",
    "\n",
    "# URL of the YouTube channel's videos page\n",
    "url = \"https://www.youtube.com/@PW-Foundation/videos\"\n",
    "\n",
    "# Navigate to the URL\n",
    "driver.get(url)\n",
    "\n",
    "# Find video title elements using XPath\n",
    "title_elements = driver.find_elements(By.XPATH, '//*[@id=\"video-title\"]')\n",
    "\n",
    "# Extract the first five video titles\n",
    "video_titles = []\n",
    "for title_element in title_elements:\n",
    "    video_title = title_element.get_attribute('title')\n",
    "    if video_title not in video_titles:\n",
    "        video_titles.append(video_title)\n",
    "    if len(video_titles) == 5:\n",
    "        break\n",
    "\n",
    "# Print the extracted video titles\n",
    "for idx, video_title in enumerate(video_titles, start=1):\n",
    "    print(f\"Video {idx}: {video_title}\")\n",
    "\n",
    "# Close the WebDriver\n",
    "driver.quit()"
   ]
  },
  {
   "cell_type": "markdown",
   "id": "59e9109e-ad89-42fa-8f47-5a115dc11e97",
   "metadata": {},
   "source": [
    "## Question 4: Write a python program to extract the number of views of the first five videos."
   ]
  },
  {
   "cell_type": "markdown",
   "id": "6fa24545-a6ff-45ce-878a-ba0461c3b133",
   "metadata": {},
   "source": [
    "### Using BeautifulSoup and requests\n",
    "First, ensure you have the necessary libraries installed:"
   ]
  },
  {
   "cell_type": "code",
   "execution_count": 9,
   "id": "df2aa455-3841-4bb9-b7dc-3854d13c41f3",
   "metadata": {},
   "outputs": [
    {
     "name": "stdout",
     "output_type": "stream",
     "text": [
      "Requirement already satisfied: requests in /opt/conda/lib/python3.10/site-packages (2.28.1)\n",
      "Requirement already satisfied: beautifulsoup4 in /opt/conda/lib/python3.10/site-packages (4.11.1)\n",
      "Requirement already satisfied: certifi>=2017.4.17 in /opt/conda/lib/python3.10/site-packages (from requests) (2022.12.7)\n",
      "Requirement already satisfied: urllib3<1.27,>=1.21.1 in /opt/conda/lib/python3.10/site-packages (from requests) (1.26.13)\n",
      "Requirement already satisfied: charset-normalizer<3,>=2 in /opt/conda/lib/python3.10/site-packages (from requests) (2.1.1)\n",
      "Requirement already satisfied: idna<4,>=2.5 in /opt/conda/lib/python3.10/site-packages (from requests) (3.4)\n",
      "Requirement already satisfied: soupsieve>1.2 in /opt/conda/lib/python3.10/site-packages (from beautifulsoup4) (2.3.2.post1)\n",
      "Note: you may need to restart the kernel to use updated packages.\n"
     ]
    }
   ],
   "source": [
    "pip install requests beautifulsoup4"
   ]
  },
  {
   "cell_type": "code",
   "execution_count": 10,
   "id": "d4bc2bec-c143-445c-8823-f13203cfb93a",
   "metadata": {},
   "outputs": [],
   "source": [
    "import requests\n",
    "from bs4 import BeautifulSoup\n",
    "\n",
    "# URL of the YouTube channel's videos page\n",
    "url = \"https://www.youtube.com/@PW-Foundation/videos\"\n",
    "\n",
    "# Send a GET request to the URL\n",
    "response = requests.get(url)\n",
    "response.raise_for_status()  # Ensure the request was successful\n",
    "\n",
    "# Parse the HTML content using BeautifulSoup\n",
    "soup = BeautifulSoup(response.text, 'html.parser')\n",
    "\n",
    "# Find all elements containing the view count\n",
    "view_count_elements = soup.find_all('span', class_='style-scope ytd-grid-video-renderer')\n",
    "\n",
    "# Filter and collect the first five unique view counts\n",
    "view_counts = []\n",
    "for element in view_count_elements:\n",
    "    # Check if the element contains 'views'\n",
    "    if 'views' in element.text:\n",
    "        views_text = element.text.strip()\n",
    "        view_counts.append(views_text)\n",
    "        if len(view_counts) == 5:\n",
    "            break\n",
    "\n",
    "# Print the extracted view counts\n",
    "for idx, view_count in enumerate(view_counts, start=1):\n",
    "    print(f\"Video {idx}: {view_count}\")"
   ]
  },
  {
   "cell_type": "markdown",
   "id": "d3ca14d2-dfdb-4225-96f9-e9ab3a6eaee8",
   "metadata": {},
   "source": [
    "### Using Selenium\n",
    "If the view count information is dynamically loaded, you may need to use Selenium:"
   ]
  },
  {
   "cell_type": "code",
   "execution_count": 11,
   "id": "81863dda-0d04-4ae3-8611-9b32e92ba192",
   "metadata": {},
   "outputs": [
    {
     "name": "stdout",
     "output_type": "stream",
     "text": [
      "Requirement already satisfied: selenium in /opt/conda/lib/python3.10/site-packages (4.23.1)\n",
      "Requirement already satisfied: urllib3[socks]<3,>=1.26 in /opt/conda/lib/python3.10/site-packages (from selenium) (1.26.13)\n",
      "Requirement already satisfied: certifi>=2021.10.8 in /opt/conda/lib/python3.10/site-packages (from selenium) (2022.12.7)\n",
      "Requirement already satisfied: trio-websocket~=0.9 in /opt/conda/lib/python3.10/site-packages (from selenium) (0.11.1)\n",
      "Requirement already satisfied: typing_extensions~=4.9 in /opt/conda/lib/python3.10/site-packages (from selenium) (4.12.2)\n",
      "Requirement already satisfied: trio~=0.17 in /opt/conda/lib/python3.10/site-packages (from selenium) (0.26.0)\n",
      "Requirement already satisfied: websocket-client~=1.8 in /opt/conda/lib/python3.10/site-packages (from selenium) (1.8.0)\n",
      "Requirement already satisfied: sniffio>=1.3.0 in /opt/conda/lib/python3.10/site-packages (from trio~=0.17->selenium) (1.3.0)\n",
      "Requirement already satisfied: outcome in /opt/conda/lib/python3.10/site-packages (from trio~=0.17->selenium) (1.3.0.post0)\n",
      "Requirement already satisfied: exceptiongroup in /opt/conda/lib/python3.10/site-packages (from trio~=0.17->selenium) (1.2.2)\n",
      "Requirement already satisfied: attrs>=23.2.0 in /opt/conda/lib/python3.10/site-packages (from trio~=0.17->selenium) (23.2.0)\n",
      "Requirement already satisfied: idna in /opt/conda/lib/python3.10/site-packages (from trio~=0.17->selenium) (3.4)\n",
      "Requirement already satisfied: sortedcontainers in /opt/conda/lib/python3.10/site-packages (from trio~=0.17->selenium) (2.4.0)\n",
      "Requirement already satisfied: wsproto>=0.14 in /opt/conda/lib/python3.10/site-packages (from trio-websocket~=0.9->selenium) (1.2.0)\n",
      "Requirement already satisfied: PySocks!=1.5.7,<2.0,>=1.5.6 in /opt/conda/lib/python3.10/site-packages (from urllib3[socks]<3,>=1.26->selenium) (1.7.1)\n",
      "Requirement already satisfied: h11<1,>=0.9.0 in /opt/conda/lib/python3.10/site-packages (from wsproto>=0.14->trio-websocket~=0.9->selenium) (0.14.0)\n",
      "Note: you may need to restart the kernel to use updated packages.\n"
     ]
    }
   ],
   "source": [
    "pip install selenium"
   ]
  },
  {
   "cell_type": "code",
   "execution_count": null,
   "id": "bc24df7c-9670-4e7c-9463-9a43fe6f47b0",
   "metadata": {},
   "outputs": [],
   "source": [
    "from selenium import webdriver\n",
    "from selenium.webdriver.common.by import By\n",
    "from selenium.webdriver.chrome.service import Service\n",
    "from webdriver_manager.chrome import ChromeDriverManager\n",
    "\n",
    "# Set up the Selenium WebDriver\n",
    "service = Service(ChromeDriverManager().install())\n",
    "driver = webdriver.Chrome(service=service)\n",
    "\n",
    "# URL of the YouTube channel's videos page\n",
    "url = \"https://www.youtube.com/@PW-Foundation/videos\"\n",
    "\n",
    "# Navigate to the URL\n",
    "driver.get(url)\n",
    "\n",
    "# Find video view count elements using XPath\n",
    "view_count_elements = driver.find_elements(By.XPATH, '//*[@id=\"metadata-line\"]/span[1]')\n",
    "\n",
    "# Extract the first five unique view counts\n",
    "view_counts = []\n",
    "for element in view_count_elements:\n",
    "    views_text = element.text.strip()\n",
    "    if \"views\" in views_text:\n",
    "        view_counts.append(views_text)\n",
    "    if len(view_counts) == 5:\n",
    "        break\n",
    "\n",
    "# Print the extracted view counts\n",
    "for idx, view_count in enumerate(view_counts, start=1):\n",
    "    print(f\"Video {idx}: {view_count}\")\n",
    "\n",
    "# Close the WebDriver\n",
    "driver.quit()"
   ]
  },
  {
   "cell_type": "markdown",
   "id": "435e05d5-5d9d-4d42-8ad6-9a6090f07477",
   "metadata": {},
   "source": [
    "## Question 5: Write a python program to extract the time of posting of video for the first five videos."
   ]
  },
  {
   "cell_type": "markdown",
   "id": "4e5d695f-65ab-43db-9f81-2cf7196b1a49",
   "metadata": {},
   "source": [
    "### Using BeautifulSoup and requests\n",
    "First, ensure you have the necessary libraries installed:"
   ]
  },
  {
   "cell_type": "code",
   "execution_count": 13,
   "id": "adc59cdb-40a0-45f6-989c-95907f98d7ab",
   "metadata": {},
   "outputs": [
    {
     "name": "stdout",
     "output_type": "stream",
     "text": [
      "Requirement already satisfied: requests in /opt/conda/lib/python3.10/site-packages (2.28.1)\n",
      "Requirement already satisfied: beautifulsoup4 in /opt/conda/lib/python3.10/site-packages (4.11.1)\n",
      "Requirement already satisfied: certifi>=2017.4.17 in /opt/conda/lib/python3.10/site-packages (from requests) (2022.12.7)\n",
      "Requirement already satisfied: charset-normalizer<3,>=2 in /opt/conda/lib/python3.10/site-packages (from requests) (2.1.1)\n",
      "Requirement already satisfied: idna<4,>=2.5 in /opt/conda/lib/python3.10/site-packages (from requests) (3.4)\n",
      "Requirement already satisfied: urllib3<1.27,>=1.21.1 in /opt/conda/lib/python3.10/site-packages (from requests) (1.26.13)\n",
      "Requirement already satisfied: soupsieve>1.2 in /opt/conda/lib/python3.10/site-packages (from beautifulsoup4) (2.3.2.post1)\n",
      "Note: you may need to restart the kernel to use updated packages.\n"
     ]
    }
   ],
   "source": [
    "pip install requests beautifulsoup4"
   ]
  },
  {
   "cell_type": "code",
   "execution_count": null,
   "id": "4d5c17a9-d0b1-47f2-8fff-cfccecd829fe",
   "metadata": {},
   "outputs": [],
   "source": [
    "import requests\n",
    "from bs4 import BeautifulSoup\n",
    "\n",
    "# URL of the YouTube channel's videos page\n",
    "url = \"https://www.youtube.com/@PW-Foundation/videos\"\n",
    "\n",
    "# Send a GET request to the URL\n",
    "response = requests.get(url)\n",
    "response.raise_for_status()  # Ensure the request was successful\n",
    "\n",
    "# Parse the HTML content using BeautifulSoup\n",
    "soup = BeautifulSoup(response.text, 'html.parser')\n",
    "\n",
    "# Find all elements containing the time of posting\n",
    "time_elements = soup.find_all('span', class_='style-scope ytd-grid-video-renderer')\n",
    "\n",
    "# Filter and collect the first five unique times of posting\n",
    "times_of_posting = []\n",
    "for element in time_elements:\n",
    "    # Check if the element contains time information (usually in the form of \"X time ago\")\n",
    "    if 'ago' in element.text:\n",
    "        time_text = element.text.strip()\n",
    "        times_of_posting.append(time_text)\n",
    "        if len(times_of_posting) == 5:\n",
    "            break\n",
    "\n",
    "# Print the extracted times of posting\n",
    "for idx, time in enumerate(times_of_posting, start=1):\n",
    "    print(f\"Video {idx}: {time}\")\n"
   ]
  },
  {
   "cell_type": "markdown",
   "id": "5db14286-7c86-40dc-aaef-b67036d89aa3",
   "metadata": {},
   "source": [
    "### Using Selenium\n",
    "If the time of posting information is dynamically loaded, you may need to use Selenium:"
   ]
  },
  {
   "cell_type": "code",
   "execution_count": 14,
   "id": "2f2e478c-b066-41db-acde-ba1ef10af8da",
   "metadata": {},
   "outputs": [
    {
     "name": "stdout",
     "output_type": "stream",
     "text": [
      "Requirement already satisfied: selenium in /opt/conda/lib/python3.10/site-packages (4.23.1)\n",
      "Requirement already satisfied: certifi>=2021.10.8 in /opt/conda/lib/python3.10/site-packages (from selenium) (2022.12.7)\n",
      "Requirement already satisfied: trio-websocket~=0.9 in /opt/conda/lib/python3.10/site-packages (from selenium) (0.11.1)\n",
      "Requirement already satisfied: urllib3[socks]<3,>=1.26 in /opt/conda/lib/python3.10/site-packages (from selenium) (1.26.13)\n",
      "Requirement already satisfied: websocket-client~=1.8 in /opt/conda/lib/python3.10/site-packages (from selenium) (1.8.0)\n",
      "Requirement already satisfied: trio~=0.17 in /opt/conda/lib/python3.10/site-packages (from selenium) (0.26.0)\n",
      "Requirement already satisfied: typing_extensions~=4.9 in /opt/conda/lib/python3.10/site-packages (from selenium) (4.12.2)\n",
      "Requirement already satisfied: outcome in /opt/conda/lib/python3.10/site-packages (from trio~=0.17->selenium) (1.3.0.post0)\n",
      "Requirement already satisfied: attrs>=23.2.0 in /opt/conda/lib/python3.10/site-packages (from trio~=0.17->selenium) (23.2.0)\n",
      "Requirement already satisfied: idna in /opt/conda/lib/python3.10/site-packages (from trio~=0.17->selenium) (3.4)\n",
      "Requirement already satisfied: sniffio>=1.3.0 in /opt/conda/lib/python3.10/site-packages (from trio~=0.17->selenium) (1.3.0)\n",
      "Requirement already satisfied: sortedcontainers in /opt/conda/lib/python3.10/site-packages (from trio~=0.17->selenium) (2.4.0)\n",
      "Requirement already satisfied: exceptiongroup in /opt/conda/lib/python3.10/site-packages (from trio~=0.17->selenium) (1.2.2)\n",
      "Requirement already satisfied: wsproto>=0.14 in /opt/conda/lib/python3.10/site-packages (from trio-websocket~=0.9->selenium) (1.2.0)\n",
      "Requirement already satisfied: PySocks!=1.5.7,<2.0,>=1.5.6 in /opt/conda/lib/python3.10/site-packages (from urllib3[socks]<3,>=1.26->selenium) (1.7.1)\n",
      "Requirement already satisfied: h11<1,>=0.9.0 in /opt/conda/lib/python3.10/site-packages (from wsproto>=0.14->trio-websocket~=0.9->selenium) (0.14.0)\n",
      "Note: you may need to restart the kernel to use updated packages.\n"
     ]
    }
   ],
   "source": [
    "pip install selenium"
   ]
  },
  {
   "cell_type": "code",
   "execution_count": null,
   "id": "0c0388f2-f22b-40ef-bbea-5eee5c11d85c",
   "metadata": {},
   "outputs": [],
   "source": [
    "from selenium import webdriver\n",
    "from selenium.webdriver.common.by import By\n",
    "from selenium.webdriver.chrome.service import Service\n",
    "from webdriver_manager.chrome import ChromeDriverManager\n",
    "\n",
    "# Set up the Selenium WebDriver\n",
    "service = Service(ChromeDriverManager().install())\n",
    "driver = webdriver.Chrome(service=service)\n",
    "\n",
    "# URL of the YouTube channel's videos page\n",
    "url = \"https://www.youtube.com/@PW-Foundation/videos\"\n",
    "\n",
    "# Navigate to the URL\n",
    "driver.get(url)\n",
    "\n",
    "# Find video time elements using XPath\n",
    "time_elements = driver.find_elements(By.XPATH, '//*[@id=\"metadata-line\"]/span[2]')\n",
    "\n",
    "# Extract the first five unique times of posting\n",
    "times_of_posting = []\n",
    "for element in time_elements:\n",
    "    time_text = element.text.strip()\n",
    "    if \"ago\" in time_text:\n",
    "        times_of_posting.append(time_text)\n",
    "    if len(times_of_posting) == 5:\n",
    "        break\n",
    "\n",
    "# Print the extracted times of posting\n",
    "for idx, time in enumerate(times_of_posting, start=1):\n",
    "    print(f\"Video {idx}: {time}\")\n",
    "\n",
    "# Close the WebDriver\n",
    "driver.quit()"
   ]
  }
 ],
 "metadata": {
  "kernelspec": {
   "display_name": "Python 3 (ipykernel)",
   "language": "python",
   "name": "python3"
  },
  "language_info": {
   "codemirror_mode": {
    "name": "ipython",
    "version": 3
   },
   "file_extension": ".py",
   "mimetype": "text/x-python",
   "name": "python",
   "nbconvert_exporter": "python",
   "pygments_lexer": "ipython3",
   "version": "3.10.8"
  }
 },
 "nbformat": 4,
 "nbformat_minor": 5
}
