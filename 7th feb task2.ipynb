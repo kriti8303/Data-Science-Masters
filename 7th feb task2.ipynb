{
 "cells": [
  {
   "cell_type": "markdown",
   "id": "47cdfb98-13c9-4795-a57a-524ab8d9d1ed",
   "metadata": {},
   "source": [
    "## Assignment Question 1:"
   ]
  },
  {
   "cell_type": "markdown",
   "id": "2e528450-6239-4b2a-aecd-620410df7a9b",
   "metadata": {},
   "source": [
    "Q1. You are writing code for a company. The requirement of the company is that you create a python\n",
    "function that will check whether the password entered by the user is correct or not. The function should\n",
    "take the password as input and return the string “Valid Password” if the entered password follows the\n",
    "below-given password guidelines else it should return “Invalid Password”.\n",
    "\n",
    "Note: 1. The Password should contain at least two uppercase letters and at least two lowercase letters.\n",
    "\n",
    "2. The Password should contain at least a number and three special characters.\n",
    "3. The length of the password should be 10 characters long."
   ]
  },
  {
   "cell_type": "code",
   "execution_count": 1,
   "id": "ca51af04-1fd8-4480-b7e6-3549b01f1063",
   "metadata": {},
   "outputs": [
    {
     "name": "stdout",
     "output_type": "stream",
     "text": [
      "The password 'Abcdef123@$' is: Invalid Password\n",
      "The password 'Abcd12345$' is: Invalid Password\n",
      "The password 'abcdef@#$%123' is: Invalid Password\n",
      "The password 'A123456789' is: Invalid Password\n"
     ]
    }
   ],
   "source": [
    "import re\n",
    "\n",
    "def check_password(password):\n",
    "    uppercase_count = sum(1 for char in password if char.isupper())\n",
    "    lowercase_count = sum(1 for char in password if char.islower())\n",
    "    digit_count = sum(1 for char in password if char.isdigit())\n",
    "    special_count = sum(1 for char in password if not char.isalnum())\n",
    "\n",
    "    if (len(password) == 10 and\n",
    "            uppercase_count >= 2 and\n",
    "            lowercase_count >= 2 and\n",
    "            digit_count >= 1 and\n",
    "            special_count >= 3):\n",
    "        return \"Valid Password\"\n",
    "    else:\n",
    "        return \"Invalid Password\"\n",
    "\n",
    "\n",
    "# Test the function with example passwords\n",
    "test_passwords = [\"Abcdef123@$\", \"Abcd12345$\", \"abcdef@#$%123\", \"A123456789\"]\n",
    "for password in test_passwords:\n",
    "    result = check_password(password)\n",
    "    print(f\"The password '{password}' is: {result}\")\n"
   ]
  },
  {
   "cell_type": "markdown",
   "id": "734ea91e-cb19-4eec-8601-998f3f1aff88",
   "metadata": {},
   "source": [
    "## Q2. Solve the below-given questions using at least one of the following:\n",
    "1. Lambda functioJ\n",
    "2. Filter functioJ\n",
    "3. Zap functioJ\n",
    "4. List Comprehension : \n",
    "\n",
    "B Check if the string starts with a particular letterY\n",
    "\n",
    "B Check if the string is numericY\n",
    "\n",
    "B Sort a list of tuples having fruit names and their quantity. [(\"mango\",99),(\"orange\",80), (\"grapes\", 1000)-\n",
    "\n",
    "B Find the squares of numbers from 1 to 10Y\n",
    "\n",
    "B Find the cube root of numbers from 1 to 10Y\n",
    "\n",
    "B Check if a given number is evenY\n",
    "\n",
    "B Filter odd numbers from the given list.\n",
    "\n",
    "[1,2,3,4,5,6,7,8,9,10-\n",
    "\n",
    "B Sort a list of integers into positive and negative integers lists.\n",
    "\n",
    "[1,2,3,4,5,6,-1,-2,-3,-4,-5,0]"
   ]
  },
  {
   "cell_type": "markdown",
   "id": "17a3cb76-f5d8-4b5e-9198-12a3ae3fd5bd",
   "metadata": {},
   "source": [
    "#### Check if the string starts with a particular letter"
   ]
  },
  {
   "cell_type": "code",
   "execution_count": 2,
   "id": "5d240318-d159-4d8f-ac27-516dfa0ce322",
   "metadata": {},
   "outputs": [
    {
     "name": "stdout",
     "output_type": "stream",
     "text": [
      "True\n"
     ]
    }
   ],
   "source": [
    "check_startswith = lambda string, letter: string.startswith(letter)\n",
    "result = check_startswith(\"Hello\", \"H\")\n",
    "print(result)  # True\n"
   ]
  },
  {
   "cell_type": "markdown",
   "id": "87fe7277-4698-4c40-8825-5023761e9e28",
   "metadata": {},
   "source": [
    "#### Check if the string is numeric"
   ]
  },
  {
   "cell_type": "code",
   "execution_count": 3,
   "id": "b105c131-ded3-4a2e-87cc-801281fb6dc8",
   "metadata": {},
   "outputs": [
    {
     "name": "stdout",
     "output_type": "stream",
     "text": [
      "True\n"
     ]
    }
   ],
   "source": [
    "check_numeric = lambda string: string.isnumeric()\n",
    "result = check_numeric(\"12345\")\n",
    "print(result)  # True\n"
   ]
  },
  {
   "cell_type": "markdown",
   "id": "7ba8312b-cccc-4624-b489-9577a317f204",
   "metadata": {},
   "source": [
    "#### Sort a list of tuples having fruit names and their quantity"
   ]
  },
  {
   "cell_type": "code",
   "execution_count": 4,
   "id": "758529ef-efee-462d-948f-5b20dcce7d31",
   "metadata": {},
   "outputs": [
    {
     "name": "stdout",
     "output_type": "stream",
     "text": [
      "[('orange', 80), ('mango', 99), ('grapes', 1000)]\n"
     ]
    }
   ],
   "source": [
    "fruits = [(\"mango\", 99), (\"orange\", 80), (\"grapes\", 1000)]\n",
    "sorted_fruits = sorted(fruits, key=lambda x: x[1])\n",
    "print(sorted_fruits)  # [('orange', 80), ('mango', 99), ('grapes', 1000)]\n"
   ]
  },
  {
   "cell_type": "markdown",
   "id": "92e74cf0-5ed5-45ea-aedb-c9de7604c5d4",
   "metadata": {},
   "source": [
    "#### Find the squares of numbers from 1 to 10"
   ]
  },
  {
   "cell_type": "code",
   "execution_count": 5,
   "id": "bef0fe45-c103-499d-9e9a-6620da344f22",
   "metadata": {},
   "outputs": [
    {
     "name": "stdout",
     "output_type": "stream",
     "text": [
      "[1, 4, 9, 16, 25, 36, 49, 64, 81, 100]\n"
     ]
    }
   ],
   "source": [
    "squares = [x ** 2 for x in range(1, 11)]\n",
    "print(squares)  # [1, 4, 9, 16, 25, 36, 49, 64, 81, 100]\n"
   ]
  },
  {
   "cell_type": "markdown",
   "id": "32d1ecf5-487a-4d81-b152-d1cc51414ccd",
   "metadata": {},
   "source": [
    "#### Find the cube root of numbers from 1 to 10"
   ]
  },
  {
   "cell_type": "code",
   "execution_count": 6,
   "id": "a7d81f8f-1656-4115-9dfb-14d7b8b3c9f4",
   "metadata": {},
   "outputs": [
    {
     "name": "stdout",
     "output_type": "stream",
     "text": [
      "[1.0, 1.2599210498948732, 1.4422495703074083, 1.5874010519681994, 1.7099759466766968, 1.8171205928321397, 1.912931182772389, 2.0, 2.080083823051904, 2.154434690031884]\n"
     ]
    }
   ],
   "source": [
    "from math import pow\n",
    "cube_roots = [pow(x, 1/3) for x in range(1, 11)]\n",
    "print(cube_roots)  # [1.0, 1.2599210498948732, 1.4422495703074083, 1.5874010519681994, 1.7099759466766968, 1.8171205928321397, 1.912931182772389, 2.0, 2.080083823051904, 2.154434690031884]\n"
   ]
  },
  {
   "cell_type": "markdown",
   "id": "8801c9a3-d747-466f-83df-9ca2a347beb1",
   "metadata": {},
   "source": [
    "#### Check if a given number is even"
   ]
  },
  {
   "cell_type": "code",
   "execution_count": 7,
   "id": "25508ab9-3184-4e9a-a902-d7482e565e0b",
   "metadata": {},
   "outputs": [
    {
     "name": "stdout",
     "output_type": "stream",
     "text": [
      "True\n"
     ]
    }
   ],
   "source": [
    "check_even = lambda num: num % 2 == 0\n",
    "result = check_even(4)\n",
    "print(result)  # True\n"
   ]
  },
  {
   "cell_type": "markdown",
   "id": "114fb7e3-bef8-40de-a1fe-02fd08186d8c",
   "metadata": {},
   "source": [
    "#### Filter odd numbers from the given list"
   ]
  },
  {
   "cell_type": "code",
   "execution_count": 8,
   "id": "e9976460-dc41-4b12-b00d-ddfe245cd622",
   "metadata": {},
   "outputs": [
    {
     "name": "stdout",
     "output_type": "stream",
     "text": [
      "[1, 3, 5, 7, 9]\n"
     ]
    }
   ],
   "source": [
    "numbers = [1, 2, 3, 4, 5, 6, 7, 8, 9, 10]\n",
    "odd_numbers = list(filter(lambda x: x % 2 != 0, numbers))\n",
    "print(odd_numbers)  # [1, 3, 5, 7, 9]\n"
   ]
  },
  {
   "cell_type": "markdown",
   "id": "a7a3f85f-63c2-431f-8e9c-88fc73f09f90",
   "metadata": {},
   "source": [
    "#### Sort a list of integers into positive and negative integers lists"
   ]
  },
  {
   "cell_type": "code",
   "execution_count": 9,
   "id": "6d296f8b-272a-480c-a0ee-bc84d81cca21",
   "metadata": {},
   "outputs": [
    {
     "name": "stdout",
     "output_type": "stream",
     "text": [
      "Positive Integers: [1, 2, 3, 4, 5, 6]\n",
      "Negative Integers: [-1, -2, -3, -4, -5]\n"
     ]
    }
   ],
   "source": [
    "numbers = [1, 2, 3, 4, 5, 6, -1, -2, -3, -4, -5, 0]\n",
    "positive_numbers = list(filter(lambda x: x > 0, numbers))\n",
    "negative_numbers = list(filter(lambda x: x < 0, numbers))\n",
    "print(\"Positive Integers:\", positive_numbers)\n",
    "print(\"Negative Integers:\", negative_numbers)\n"
   ]
  },
  {
   "cell_type": "code",
   "execution_count": null,
   "id": "cb9df5f4-7122-4f73-9321-1bbbc04d9984",
   "metadata": {},
   "outputs": [],
   "source": []
  }
 ],
 "metadata": {
  "kernelspec": {
   "display_name": "Python 3 (ipykernel)",
   "language": "python",
   "name": "python3"
  },
  "language_info": {
   "codemirror_mode": {
    "name": "ipython",
    "version": 3
   },
   "file_extension": ".py",
   "mimetype": "text/x-python",
   "name": "python",
   "nbconvert_exporter": "python",
   "pygments_lexer": "ipython3",
   "version": "3.10.8"
  }
 },
 "nbformat": 4,
 "nbformat_minor": 5
}
