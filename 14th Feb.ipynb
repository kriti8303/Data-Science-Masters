{
 "cells": [
  {
   "cell_type": "markdown",
   "id": "02a7e6ff-860a-45d8-b605-6805e7b94567",
   "metadata": {},
   "source": [
    "## Question 1: What is multithreading in python? Why is it used? Name the module used to handle threads in python."
   ]
  },
  {
   "cell_type": "markdown",
   "id": "1cbadfca-704c-4f91-b77d-76b38ca6d138",
   "metadata": {},
   "source": [
    "Multithreading in Python refers to the concurrent execution of multiple threads (smaller units of a process) within a single process. It is used to improve the performance of applications by allowing multiple operations to run simultaneously, particularly when tasks are I/O-bound, such as reading or writing files, or network operations.\n",
    "\n",
    "Multithreading can help make programs more efficient and responsive, especially in scenarios where waiting for I/O operations could block the progress of the entire program.\n",
    "\n",
    "The module used to handle threads in Python is the threading module. This module provides a higher-level interface to create and manage threads, allowing for easier implementation of multithreaded applications."
   ]
  },
  {
   "cell_type": "code",
   "execution_count": 1,
   "id": "17efcd55-0f69-4bed-873a-4c03cf3b5160",
   "metadata": {},
   "outputs": [
    {
     "name": "stdout",
     "output_type": "stream",
     "text": [
      "0\n",
      "1\n",
      "2\n",
      "3\n",
      "4\n"
     ]
    }
   ],
   "source": [
    "## Example usage of the threading module:\n",
    "import threading\n",
    "\n",
    "def print_numbers():\n",
    "    for i in range(5):\n",
    "        print(i)\n",
    "\n",
    "# Create a thread\n",
    "thread = threading.Thread(target=print_numbers)\n",
    "\n",
    "# Start the thread\n",
    "thread.start()\n",
    "\n",
    "# Wait for the thread to finish\n",
    "thread.join()\n"
   ]
  },
  {
   "cell_type": "markdown",
   "id": "b9ef37bb-f457-4067-b409-5a0c5b367b26",
   "metadata": {},
   "source": [
    "## Question 2: Why threading module used? Write the use of the following functions\n",
    "1. activeCount()\n",
    "2. currentThread()\n",
    "3. enumerate()"
   ]
  },
  {
   "cell_type": "markdown",
   "id": "fee151d3-cc5e-43a1-b119-ed864351f711",
   "metadata": {},
   "source": [
    "The threading module in Python is used to create, control, and manage multiple threads in a program, enabling concurrent execution of code. This is particularly useful for I/O-bound and high-level structured network code, where tasks can be run in parallel to improve performance and responsiveness.\n",
    "\n",
    "Here's the use of the specified functions:\n",
    "1. activeCount():\n",
    "\n",
    "Use: This function returns the number of Thread objects currently alive. It can be useful for debugging and monitoring the number of active threads in a program."
   ]
  },
  {
   "cell_type": "code",
   "execution_count": 2,
   "id": "7d05abfe-d03e-4596-a0a0-82fa90bf43e9",
   "metadata": {},
   "outputs": [
    {
     "name": "stdout",
     "output_type": "stream",
     "text": [
      "Active threads count: 8\n"
     ]
    },
    {
     "name": "stderr",
     "output_type": "stream",
     "text": [
      "/tmp/ipykernel_175/823967597.py:4: DeprecationWarning: activeCount() is deprecated, use active_count() instead\n",
      "  print(\"Active threads count:\", threading.activeCount())\n"
     ]
    }
   ],
   "source": [
    "## Example:\n",
    "import threading\n",
    "\n",
    "print(\"Active threads count:\", threading.activeCount())"
   ]
  },
  {
   "cell_type": "markdown",
   "id": "2cc14f65-58a9-4eda-ba65-48a12472cc79",
   "metadata": {},
   "source": [
    "2. currentThread():\n",
    "\n",
    "Use: This function returns the current Thread object corresponding to the caller's thread of control. It is useful when you need to obtain information about the thread currently executing the code."
   ]
  },
  {
   "cell_type": "code",
   "execution_count": 3,
   "id": "14d23e58-528f-4277-a552-85fcd7b14724",
   "metadata": {},
   "outputs": [
    {
     "name": "stdout",
     "output_type": "stream",
     "text": [
      "Current thread: MainThread\n"
     ]
    },
    {
     "name": "stderr",
     "output_type": "stream",
     "text": [
      "/tmp/ipykernel_175/2175450776.py:5: DeprecationWarning: currentThread() is deprecated, use current_thread() instead\n",
      "  current_thread = threading.currentThread()\n"
     ]
    }
   ],
   "source": [
    "## Example:\n",
    "import threading\n",
    "\n",
    "def display_current_thread():\n",
    "    current_thread = threading.currentThread()\n",
    "    print(\"Current thread:\", current_thread.name)\n",
    "\n",
    "display_current_thread()"
   ]
  },
  {
   "cell_type": "markdown",
   "id": "d641a462-c435-4879-ada6-fc8c28403314",
   "metadata": {},
   "source": [
    "3. enumerate():\n",
    "\n",
    "Use: This function returns a list of all Thread objects currently alive. It is useful for inspecting and iterating over all active threads in the program."
   ]
  },
  {
   "cell_type": "code",
   "execution_count": 4,
   "id": "5ade91d1-7197-47b9-b22e-103ca1ba085a",
   "metadata": {},
   "outputs": [
    {
     "name": "stdout",
     "output_type": "stream",
     "text": [
      "0\n",
      "1\n",
      "2\n",
      "3\n",
      "4\n",
      "Active threads: [<_MainThread(MainThread, started 139869813155648)>, <Thread(IOPub, started daemon 139869742626368)>, <Heartbeat(Heartbeat, started daemon 139869734233664)>, <Thread(Thread-3 (_watch_pipe_fd), started daemon 139869502305856)>, <Thread(Thread-4 (_watch_pipe_fd), started daemon 139869493913152)>, <ControlThread(Control, started daemon 139869485520448)>, <HistorySavingThread(IPythonHistorySavingThread, started 139869477127744)>, <ParentPollerUnix(Thread-2, started daemon 139869468735040)>]\n"
     ]
    }
   ],
   "source": [
    "## Example:\n",
    "import threading\n",
    "\n",
    "def print_numbers():\n",
    "    for i in range(5):\n",
    "        print(i)\n",
    "\n",
    "# Create and start a thread\n",
    "thread = threading.Thread(target=print_numbers)\n",
    "thread.start()\n",
    "\n",
    "# List all active threads\n",
    "active_threads = threading.enumerate()\n",
    "print(\"Active threads:\", active_threads)"
   ]
  },
  {
   "cell_type": "markdown",
   "id": "fa26309a-e350-40cc-b793-ca13fa23da56",
   "metadata": {},
   "source": [
    "## Question 3: Explain the following functions\n",
    "1. run()\n",
    "2. start()\n",
    "3. join()\n",
    "4. isAlive()"
   ]
  },
  {
   "cell_type": "markdown",
   "id": "82e95ff7-c4fa-458f-b097-f4ca7c0eb1e2",
   "metadata": {},
   "source": [
    "Sure, here is an explanation of the functions run, start, join, and isAlive in the context of Python's threading module:\n",
    "\n",
    "1. run():\n",
    "\n",
    "Use: This method represents the thread's activity. You can override this method in a subclass to define what the thread should do when it starts. Normally, it is not called directly; instead, it is invoked by the start() method."
   ]
  },
  {
   "cell_type": "code",
   "execution_count": 5,
   "id": "e97a3978-143b-49df-993f-b7c5f3fb6e0e",
   "metadata": {},
   "outputs": [
    {
     "name": "stdout",
     "output_type": "stream",
     "text": [
      "Thread is running\n"
     ]
    }
   ],
   "source": [
    "## Example:\n",
    "import threading\n",
    "\n",
    "class MyThread(threading.Thread):\n",
    "    def run(self):\n",
    "        print(\"Thread is running\")\n",
    "\n",
    "my_thread = MyThread()\n",
    "my_thread.start()  # This internally calls the run() method"
   ]
  },
  {
   "cell_type": "markdown",
   "id": "8e248062-ea23-4f7e-8785-f3a7b166b3e8",
   "metadata": {},
   "source": [
    "2. start():\n",
    "\n",
    "Use: This method starts the thread's activity by invoking the run() method in a separate thread of control. It must be called at most once per thread object. Calling start() more than once will result in a RuntimeError."
   ]
  },
  {
   "cell_type": "code",
   "execution_count": 6,
   "id": "4ef54059-0aba-4343-87b6-46f84a3b0a7b",
   "metadata": {},
   "outputs": [
    {
     "name": "stdout",
     "output_type": "stream",
     "text": [
      "Thread is running\n"
     ]
    }
   ],
   "source": [
    "## Example:\n",
    "import threading\n",
    "\n",
    "def thread_function():\n",
    "    print(\"Thread is running\")\n",
    "\n",
    "thread = threading.Thread(target=thread_function)\n",
    "thread.start()  # This starts the thread and calls thread_function()"
   ]
  },
  {
   "cell_type": "markdown",
   "id": "3bde3020-a80c-493d-9a09-500c5db155fe",
   "metadata": {},
   "source": [
    "3. join([timeout]):\n",
    "\n",
    "Use: This method blocks the calling thread until the thread whose join() method is called is terminated. This is useful for ensuring that a thread has completed its task before the main program continues. You can optionally specify a timeout period."
   ]
  },
  {
   "cell_type": "code",
   "execution_count": 7,
   "id": "d60e2aaf-9630-418e-8247-c91ae766b191",
   "metadata": {},
   "outputs": [
    {
     "name": "stdout",
     "output_type": "stream",
     "text": [
      "Thread has finished\n",
      "Main program continues after thread has finished\n"
     ]
    }
   ],
   "source": [
    "## Example:\n",
    "import threading\n",
    "import time\n",
    "\n",
    "def thread_function():\n",
    "    time.sleep(2)\n",
    "    print(\"Thread has finished\")\n",
    "\n",
    "thread = threading.Thread(target=thread_function)\n",
    "thread.start()\n",
    "thread.join()  # Waits for the thread to complete\n",
    "print(\"Main program continues after thread has finished\")"
   ]
  },
  {
   "cell_type": "markdown",
   "id": "e0cab2dc-1995-436a-b14b-65e6bcafbc60",
   "metadata": {},
   "source": [
    "4. isAlive():\n",
    "\n",
    "Use: This method returns True if the thread is still alive (i.e., has been started and has not yet terminated). In Python 3.9 and later, this method is replaced by is_alive()."
   ]
  },
  {
   "cell_type": "code",
   "execution_count": 9,
   "id": "266879b7-be82-457e-baf8-e23490186c0f",
   "metadata": {},
   "outputs": [
    {
     "name": "stdout",
     "output_type": "stream",
     "text": [
      "Is thread alive? True\n",
      "Is thread alive? False\n"
     ]
    }
   ],
   "source": [
    "## Example:\n",
    "import threading\n",
    "import time\n",
    "\n",
    "def thread_function():\n",
    "    time.sleep(2)\n",
    "\n",
    "thread = threading.Thread(target=thread_function)\n",
    "thread.start()\n",
    "print(\"Is thread alive?\", thread.is_alive())  # Correct method in Python 3.9+\n",
    "thread.join()\n",
    "print(\"Is thread alive?\", thread.is_alive())  # Correct method in Python 3.9+"
   ]
  },
  {
   "cell_type": "markdown",
   "id": "2208f2b1-361b-4560-add8-8ef58b1b553b",
   "metadata": {},
   "source": [
    "## Question 4: Write a python program to create two threads. Thread one must print the list of squares and thread two must print the list of cubes."
   ]
  },
  {
   "cell_type": "code",
   "execution_count": 10,
   "id": "aaaecb3e-14db-41ec-8043-c20c8a981e4e",
   "metadata": {},
   "outputs": [
    {
     "name": "stdout",
     "output_type": "stream",
     "text": [
      "Squares: [1, 4, 9, 16, 25]\n",
      "Cubes: [1, 8, 27, 64, 125]\n",
      "Both threads have finished execution\n"
     ]
    }
   ],
   "source": [
    "## Sure! Here is a Python program that creates two threads: one to print a list of squares and another to print a list of cubes:\n",
    "import threading\n",
    "\n",
    "def print_squares(numbers):\n",
    "    squares = [n ** 2 for n in numbers]\n",
    "    print(\"Squares:\", squares)\n",
    "\n",
    "def print_cubes(numbers):\n",
    "    cubes = [n ** 3 for n in numbers]\n",
    "    print(\"Cubes:\", cubes)\n",
    "\n",
    "numbers = range(1, 6)\n",
    "\n",
    "# Create two threads\n",
    "thread1 = threading.Thread(target=print_squares, args=(numbers,))\n",
    "thread2 = threading.Thread(target=print_cubes, args=(numbers,))\n",
    "\n",
    "# Start the threads\n",
    "thread1.start()\n",
    "thread2.start()\n",
    "\n",
    "# Wait for both threads to complete\n",
    "thread1.join()\n",
    "thread2.join()\n",
    "\n",
    "print(\"Both threads have finished execution\")"
   ]
  },
  {
   "cell_type": "markdown",
   "id": "b3dbb98e-3901-45df-b274-5847e36d8699",
   "metadata": {},
   "source": [
    "In this program:\n",
    "\n",
    "1. The print_squares function computes and prints the squares of numbers from 1 to 5.\n",
    "2. The print_cubes function computes and prints the cubes of the same numbers.\n",
    "3. Two threads, thread1 and thread2, are created to execute these functions concurrently.\n",
    "4. The start() method is called on both threads to begin execution.\n",
    "5. The join() method is used to ensure that the main program waits for both threads to finish before printing the final message."
   ]
  },
  {
   "cell_type": "markdown",
   "id": "04021a50-1b6a-4622-8a25-ec8bdfc9f982",
   "metadata": {},
   "source": [
    "## Question 5: State advantages and disadvantages of multithreading."
   ]
  },
  {
   "cell_type": "markdown",
   "id": "dec4764a-d40b-4115-bdbe-f13ee5780ec1",
   "metadata": {},
   "source": [
    "Advantages of Multithreading:\n",
    "\n",
    "1. Improved Performance: Multithreading can improve the performance of a program by allowing multiple operations to be performed concurrently, particularly in I/O-bound and high-latency operations.\n",
    "\n",
    "2. Resource Sharing: Threads within the same process share the same memory space, which makes it easy to share data and resources between them without complex communication mechanisms.\n",
    "\n",
    "3. Responsiveness: Multithreading can make applications more responsive. For example, in a graphical user interface (GUI) application, one thread can handle user input while another performs background tasks.\n",
    "\n",
    "4. Better System Utilization: Multithreading can take advantage of multiple CPUs or CPU cores, distributing the computational load and improving the overall utilization of system resources.\n",
    "\n",
    "5. Simplified Code Structure: Multithreading can simplify the design of applications that perform multiple tasks simultaneously, as it allows developers to separate concerns and manage different tasks independently."
   ]
  },
  {
   "cell_type": "markdown",
   "id": "4e82ebfd-a7e0-49a4-8272-26113e3c9bbd",
   "metadata": {},
   "source": [
    "Disadvantages of Multithreading:\n",
    "\n",
    "1. Complexity: Writing multithreaded programs can be complex and error-prone. Issues like race conditions, deadlocks, and thread synchronization can be challenging to debug and resolve.\n",
    "\n",
    "2. Synchronization Overhead: Proper synchronization mechanisms (e.g., locks, semaphores) are necessary to ensure thread safety, which can introduce additional overhead and potentially degrade performance if not managed correctly.\n",
    "\n",
    "3. Concurrency Issues: Without careful management, threads can interfere with each other, leading to inconsistent or unpredictable program behavior. Shared resources must be accessed in a thread-safe manner.\n",
    "\n",
    "4. Resource Contention: Multiple threads competing for the same resources (e.g., CPU, memory) can lead to contention and reduce the benefits of multithreading, especially if the system is heavily loaded.\n",
    "\n",
    "5. Debugging Difficulty: Debugging multithreaded programs is often more difficult than debugging single-threaded ones because of the nondeterministic nature of thread execution and the potential for subtle and hard-to-reproduce bugs.\n",
    "\n",
    "6. Potential for Overhead: If not properly managed, the overhead of creating and managing threads can outweigh the performance benefits, especially for tasks that are not well-suited for parallel execution."
   ]
  },
  {
   "cell_type": "markdown",
   "id": "50f408dc-0a7f-4006-b0ed-f37ed6336984",
   "metadata": {},
   "source": [
    "## Question 6: Explain deadlocks and race conditions."
   ]
  },
  {
   "cell_type": "markdown",
   "id": "983c39ec-a17a-4d36-acef-2f2387c72d8a",
   "metadata": {},
   "source": [
    "Deadlocks and race conditions are two common issues in concurrent programming, particularly in multithreaded environments. Here’s an explanation of each:\n",
    "\n",
    "1. Deadlocks\n",
    "Deadlock occurs when two or more threads are unable to proceed because each is waiting for the other to release a resource. This creates a situation where none of the threads can continue execution. Deadlocks typically arise in systems where multiple threads or processes need exclusive access to shared resources.\n",
    "\n",
    "#### Conditions for Deadlock:\n",
    "\n",
    "1. Mutual Exclusion: At least one resource must be held in a non-sharable mode.\n",
    "2. Hold and Wait: A thread holding at least one resource is waiting to acquire additional resources held by other threads.\n",
    "3. No Preemption: Resources cannot be forcibly taken from threads holding them; they must be released voluntarily.\n",
    "4. Circular Wait: A circular chain of threads exists, where each thread holds a resource that the next thread in the chain is waiting for."
   ]
  },
  {
   "cell_type": "code",
   "execution_count": 11,
   "id": "484e0e99-d8db-40e1-83a1-1b153548e6c0",
   "metadata": {},
   "outputs": [
    {
     "name": "stdout",
     "output_type": "stream",
     "text": [
      "Thread 1 acquired lock1\n",
      "Thread 1 acquired lock2\n",
      "Thread 2 acquired lock2\n",
      "Thread 2 acquired lock1\n"
     ]
    }
   ],
   "source": [
    "## EXample:\n",
    "import threading\n",
    "\n",
    "lock1 = threading.Lock()\n",
    "lock2 = threading.Lock()\n",
    "\n",
    "def thread1_task():\n",
    "    with lock1:\n",
    "        print(\"Thread 1 acquired lock1\")\n",
    "        with lock2:\n",
    "            print(\"Thread 1 acquired lock2\")\n",
    "\n",
    "def thread2_task():\n",
    "    with lock2:\n",
    "        print(\"Thread 2 acquired lock2\")\n",
    "        with lock1:\n",
    "            print(\"Thread 2 acquired lock1\")\n",
    "\n",
    "thread1 = threading.Thread(target=thread1_task)\n",
    "thread2 = threading.Thread(target=thread2_task)\n",
    "\n",
    "thread1.start()\n",
    "thread2.start()\n",
    "\n",
    "thread1.join()\n",
    "thread2.join()"
   ]
  },
  {
   "cell_type": "markdown",
   "id": "e95b9616-1ea2-46e1-b9dd-f9039545711a",
   "metadata": {},
   "source": [
    "In this example, thread1 acquires lock1 and waits for lock2, while thread2 acquires lock2 and waits for lock1, leading to a deadlock.\n",
    "\n",
    "2. Race Conditions:\n",
    "Race condition occurs when two or more threads access shared data and try to change it simultaneously. The final outcome depends on the order in which the threads access the shared data, leading to unpredictable and incorrect results."
   ]
  },
  {
   "cell_type": "code",
   "execution_count": 12,
   "id": "7e66dc5c-64c0-461c-a1bf-62789cf52161",
   "metadata": {},
   "outputs": [
    {
     "name": "stdout",
     "output_type": "stream",
     "text": [
      "Final counter value: 200000\n"
     ]
    }
   ],
   "source": [
    "## Example:\n",
    "import threading\n",
    "\n",
    "counter = 0\n",
    "lock = threading.Lock()\n",
    "\n",
    "def increment_counter():\n",
    "    global counter\n",
    "    for _ in range(100000):\n",
    "        counter += 1\n",
    "\n",
    "thread1 = threading.Thread(target=increment_counter)\n",
    "thread2 = threading.Thread(target=increment_counter)\n",
    "\n",
    "thread1.start()\n",
    "thread2.start()\n",
    "\n",
    "thread1.join()\n",
    "thread2.join()\n",
    "\n",
    "print(\"Final counter value:\", counter)"
   ]
  },
  {
   "cell_type": "markdown",
   "id": "43142086-2141-4d66-b4f3-21a13ae07a3c",
   "metadata": {},
   "source": [
    "In this example, thread1 and thread2 both increment the counter variable without any synchronization. The lack of synchronization leads to a race condition, as both threads may read, modify, and write the counter variable simultaneously, resulting in an incorrect final value.\n",
    "\n",
    "3. Preventing Race Conditions:\n",
    "To prevent race conditions, synchronization mechanisms like locks, semaphores, or other thread-safe constructs should be used to ensure that only one thread can access the shared data at a time."
   ]
  },
  {
   "cell_type": "code",
   "execution_count": 13,
   "id": "47fb7ad5-5521-4e80-81ae-45c89d0d4b63",
   "metadata": {},
   "outputs": [
    {
     "name": "stdout",
     "output_type": "stream",
     "text": [
      "Final counter value: 200000\n"
     ]
    }
   ],
   "source": [
    "## Example:\n",
    "import threading\n",
    "\n",
    "counter = 0\n",
    "lock = threading.Lock()\n",
    "\n",
    "def increment_counter():\n",
    "    global counter\n",
    "    for _ in range(100000):\n",
    "        with lock:\n",
    "            counter += 1\n",
    "\n",
    "thread1 = threading.Thread(target=increment_counter)\n",
    "thread2 = threading.Thread(target=increment_counter)\n",
    "\n",
    "thread1.start()\n",
    "thread2.start()\n",
    "\n",
    "thread1.join()\n",
    "thread2.join()\n",
    "\n",
    "print(\"Final counter value:\", counter)\n",
    "##In this example, the lock ensures that only one thread can increment the counter at a time, preventing the race condition and ensuring the final value is correct."
   ]
  },
  {
   "cell_type": "code",
   "execution_count": null,
   "id": "0e52bcba-2761-4221-8170-b895f7315eab",
   "metadata": {},
   "outputs": [],
   "source": []
  }
 ],
 "metadata": {
  "kernelspec": {
   "display_name": "Python 3 (ipykernel)",
   "language": "python",
   "name": "python3"
  },
  "language_info": {
   "codemirror_mode": {
    "name": "ipython",
    "version": 3
   },
   "file_extension": ".py",
   "mimetype": "text/x-python",
   "name": "python",
   "nbconvert_exporter": "python",
   "pygments_lexer": "ipython3",
   "version": "3.10.8"
  }
 },
 "nbformat": 4,
 "nbformat_minor": 5
}
