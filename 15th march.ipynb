{
 "cells": [
  {
   "cell_type": "markdown",
   "id": "55959ad0-00be-4c5e-a2b7-5b24c0c319d9",
   "metadata": {},
   "source": [
    "## Assignment Question 1:"
   ]
  },
  {
   "cell_type": "markdown",
   "id": "0349dd74-4f22-4322-a233-83119710cbeb",
   "metadata": {},
   "source": [
    "1. Artificial Intelligence : AI has a come a long way since the last 70-odd years, infiltrating into every aspect of our life, whether we know it, and like it or not. Advancements in machine learning and deep learning over the last decade have created an AI boom across industries and organisations of all sizes. Cloud service providers have added to the momentum by developing open source services that are available for free and by offering new use cases.\n",
    "2. Machine learning : ML is the use of algorithms to process, learn and make sense or predict the pattern of available data. More recently, the low-code and no-code concepts of software development are being used in machine learning as self-learning processes that give specific instructions to accomplish particular tasks. The machine is ‘trained’ by using data and algorithms, giving it the ability to learn how to perform the task and, more importantly, apply the learning to evolve continuously.\n",
    "3. Deep learning : DL is an evolution of neural networks and machine learning, and the brainchild of the AI community. It learns about how the human mind works in specific scenarios, and then gets better at that job than humans! As an example, IBM’s Watson played chess against itself and improved at the game so much to eventually beat the world champion. Google’s AlphaGo also learnt how to play the Go board game by playing it over and over to better itself, and became the champion."
   ]
  },
  {
   "cell_type": "markdown",
   "id": "7eae5d64-e6c8-4a75-bbdf-79cf5b69f613",
   "metadata": {},
   "source": [
    "## Assignment Question 2:"
   ]
  },
  {
   "cell_type": "markdown",
   "id": "6b529219-f3d4-4cc3-b6eb-a443dbe1d5fb",
   "metadata": {},
   "source": [
    "Supervised learning, also known as supervised machine learning, is a subcategory of machine learning and artificial intelligence. It is defined by its use of labeled datasets to train algorithms that to classify data or predict outcomes accurately. As input data is fed into the model, it adjusts its weights until the model has been fitted appropriately, which occurs as part of the cross validation process. Supervised learning helps organizations solve for a variety of real-world problems at scale, such as classifying spam in a separate folder from your inbox.\n",
    "\n",
    "Example : Spam detection: Spam detection is another example of a supervised learning model. Using supervised classification algorithms, organizations can train databases to recognize patterns or anomalies in new data to organize spam and non-spam-related correspondences effectively."
   ]
  },
  {
   "cell_type": "markdown",
   "id": "463372d9-14d3-4298-a768-8e6f24d6dc03",
   "metadata": {},
   "source": [
    "## Assignment Question 3:"
   ]
  },
  {
   "cell_type": "markdown",
   "id": "84bbebd4-5d07-4c01-9468-f7120b6240f3",
   "metadata": {},
   "source": [
    "Unsupervised learning is when it can provide a set of unlabelled data, which it is required to analyze and find patterns inside. The examples are dimension reduction and clustering. The training is supported to the machine with the group of data that has not been labeled, classified, or categorized, and the algorithm required to facilitate on that data without some supervision. The objective of unsupervised learning is to restructure the input record into new features or a set of objects with same patterns.\n",
    "\n",
    "Example : Organize computing clusters − The geographic areas of servers is determined on the basis of clustering of web requests received from a specific area of the world. The local server will include only the data frequently created by people of that region."
   ]
  },
  {
   "cell_type": "markdown",
   "id": "2d6ec3e6-5c58-4f0d-b639-8e3e8a30a5ae",
   "metadata": {},
   "source": [
    "## Assignment Question 4:"
   ]
  },
  {
   "cell_type": "markdown",
   "id": "f97469a6-62f3-4f97-9748-5e48c3a039c4",
   "metadata": {},
   "source": [
    "Artificial Intelligence : Artificial Intelligence is a branch of computer science. It involves building smart machines capable of performing tasks that need human intelligence.\n",
    "\n",
    "Machine learning : Machine Learning is the subsection of artificial intelligence based on algorithms and data usage. Machine learning requires complex math and a lot of coding to achieve the desired results.\n",
    "\n",
    "Deep learning : Deep learning is a subfield of artificial intelligence. It uses a multi-layered structure of algorithms called a neural network. DL algorithms also need data to learn and solve problems. We can also call it a subfield of machine learning.\n",
    "\n",
    "Data Science : Data science is a discipline that uses various technologies and methods to analyze data. It combines computational science, statistics, mathematics, and company or business knowledge."
   ]
  },
  {
   "cell_type": "markdown",
   "id": "8663b023-4d9f-45f2-90f5-6a0470039d9e",
   "metadata": {},
   "source": [
    "## Assignment Question 5:"
   ]
  },
  {
   "cell_type": "markdown",
   "id": "b15a777f-c3c1-444f-b2a0-e70d10c2f625",
   "metadata": {},
   "source": [
    "Supervised Learning : Supervised learning is a category in which we feed labeled data as input to the machine learning model.\n",
    "\n",
    "Unsupervised learning : unsupervised learning is a category of machine learning in which we have only the input data to feed to the model but no corresponding output data.\n",
    "\n",
    "Semi-supervised learning : semi-supervised learning is a category of machine learning in which we have input data, and some of them are labeled. In more technical terms, we can say the data is partially annotated."
   ]
  },
  {
   "cell_type": "markdown",
   "id": "69fd843f-4a7c-4461-8e99-b809ad4daf96",
   "metadata": {},
   "source": [
    "## Assignment Question 6: "
   ]
  },
  {
   "cell_type": "markdown",
   "id": "f7a99aec-9fb0-4a8a-b89d-24b24e5e3cfa",
   "metadata": {},
   "source": [
    "1. Training data is the set of the data on which the actual training takes place. Validation split helps to improve the model performance by fine-tuning the model after each epoch. The test set informs us about the final accuracy of the model after completing the training phase.\n",
    "2. The training set should not be too small; else, the model will not have enough data to learn. On the other hand, if the validation set is too small, then the evaluation metrics like accuracy, precision, recall, and F1 score will have large variance and will not lead to the proper tuning of the model.\n",
    "3. In general, putting 80% of the data in the training set, 10%  in the validation set, and 10% in the test set is a good split to start with.\n",
    "4. The optimum split of the test, validation, and train set depends upon factors such as the use case, the structure of the model, dimension of the data, etc."
   ]
  },
  {
   "cell_type": "markdown",
   "id": "85fe51b6-3287-4a97-8c62-7b9fe45f3f4b",
   "metadata": {},
   "source": [
    "## Assignment Question 7:"
   ]
  },
  {
   "cell_type": "markdown",
   "id": "b848065c-5296-42aa-acb1-bde040a5696c",
   "metadata": {},
   "source": [
    "Anomaly detection techniques of unsupervised nature assume that normal data points occur considerably more frequently than anomalous data points. This assumption is used to classify data points that occur less frequently as anomalies. Unsupervised techniques assign each data point a score instead of a label."
   ]
  },
  {
   "cell_type": "markdown",
   "id": "bc4bdeeb-0b53-4dbb-99d4-762a0c7b95fb",
   "metadata": {},
   "source": [
    "## Assignmet Question 8:"
   ]
  },
  {
   "cell_type": "markdown",
   "id": "0cb4ceba-00ba-4933-8f6f-83e327dc9c8c",
   "metadata": {},
   "source": [
    "The most commonly used Supervised Learning algorithms are decision tree, logistic regression, linear regression, support vector machine. The most commonly used Unsupervised Learning algorithms are k-means clustering, hierarchical clustering, and apriori algorithm.\n",
    "\n",
    "Supervised machine learning algorithm :\n",
    "1. Linear regression for regression problems.\n",
    "2. Random forest for classification and regression problems.\n",
    "3. Support vector machines for classification problems.\n",
    "\n",
    "Unsupervised machine learning algorithms :\n",
    "1. k-means for clustering problems.\n",
    "2. Apriori algorithm for association rule learning problems."
   ]
  },
  {
   "cell_type": "code",
   "execution_count": null,
   "id": "e647975c-a4d3-454b-b98a-87bd251c1a29",
   "metadata": {},
   "outputs": [],
   "source": []
  }
 ],
 "metadata": {
  "kernelspec": {
   "display_name": "Python 3 (ipykernel)",
   "language": "python",
   "name": "python3"
  },
  "language_info": {
   "codemirror_mode": {
    "name": "ipython",
    "version": 3
   },
   "file_extension": ".py",
   "mimetype": "text/x-python",
   "name": "python",
   "nbconvert_exporter": "python",
   "pygments_lexer": "ipython3",
   "version": "3.10.8"
  }
 },
 "nbformat": 4,
 "nbformat_minor": 5
}
