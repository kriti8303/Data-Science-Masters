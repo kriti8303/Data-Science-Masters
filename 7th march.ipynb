{
 "cells": [
  {
   "cell_type": "markdown",
   "id": "c48fefff-140e-4e6d-ab42-4e30818aac75",
   "metadata": {},
   "source": [
    "## Q1. What are the three measures of central tendency?"
   ]
  },
  {
   "cell_type": "markdown",
   "id": "f3556acd-e5b6-4df4-8358-6dd14e68c519",
   "metadata": {},
   "source": [
    "There are three main measures of central tendency:\n",
    "\n",
    "1. mode : The mean is the sum of the value of each observation in a dataset divided by the number of observations. This is also known as the arithmetic average. \n",
    "\n",
    "2. median : The median is the middle value in distribution when the values are arranged in ascending or descending order.\n",
    "\n",
    "3. mean : The mode is the most commonly occurring value in a distribution."
   ]
  },
  {
   "cell_type": "markdown",
   "id": "909b0ce6-0974-4432-b710-ddea3f7dc70e",
   "metadata": {},
   "source": [
    "## Q2. What is the difference between the mean, median, and mode? How are they used to measure the central tendency of a dataset?"
   ]
  },
  {
   "cell_type": "markdown",
   "id": "9a9ad59a-125a-45af-97e4-c8177135ea62",
   "metadata": {},
   "source": [
    "The difference between mean, median and mode are: Mean is the average value of the given observations. Median is the middle value of the given observations. Mode is the most repeated value in the given observation.\n",
    "\n",
    "The mean is the average where the sum of all the numbers is divided by the total number of number ,whereas the median is the middle value in the list of given numbers numerically ordered from smallest to biggest and mode is the value of the number which occurs most often in the list.\n"
   ]
  },
  {
   "cell_type": "markdown",
   "id": "9e78fd97-7873-4729-a175-629e908934b0",
   "metadata": {},
   "source": [
    "## Q3. Measure the three measures of central tendency for the given height data:\n",
    "[178,177,176,177,178.2,178,175,179,180,175,178.9,176.2,177,172.5,178,176.5]"
   ]
  },
  {
   "cell_type": "code",
   "execution_count": 2,
   "id": "bbc4d5b0-c296-4f05-9ab9-54a7a2e23a59",
   "metadata": {},
   "outputs": [
    {
     "data": {
      "text/plain": [
       "177.01875"
      ]
     },
     "execution_count": 2,
     "metadata": {},
     "output_type": "execute_result"
    }
   ],
   "source": [
    "## MEAN\n",
    "import numpy as np\n",
    "heights = [178,177,176,177,178.2,178,175,179,180,175,178.9,176.2,177,172.5,178,176.5]\n",
    "np.mean(heights)"
   ]
  },
  {
   "cell_type": "code",
   "execution_count": 3,
   "id": "5f760ff7-e409-4b24-b7cf-21cbe8b3a9ed",
   "metadata": {},
   "outputs": [
    {
     "data": {
      "text/plain": [
       "177.0"
      ]
     },
     "execution_count": 3,
     "metadata": {},
     "output_type": "execute_result"
    }
   ],
   "source": [
    "## MEDIAN\n",
    "np.median(heights)"
   ]
  },
  {
   "cell_type": "code",
   "execution_count": 5,
   "id": "1bbde17e-3e91-4d6c-aa8d-cd320fa343c3",
   "metadata": {},
   "outputs": [
    {
     "name": "stderr",
     "output_type": "stream",
     "text": [
      "/tmp/ipykernel_133/702670410.py:3: FutureWarning: Unlike other reduction functions (e.g. `skew`, `kurtosis`), the default behavior of `mode` typically preserves the axis it acts along. In SciPy 1.11.0, this behavior will change: the default value of `keepdims` will become False, the `axis` over which the statistic is taken will be eliminated, and the value None will no longer be accepted. Set `keepdims` to True or False to avoid this warning.\n",
      "  stats.mode(heights)\n"
     ]
    },
    {
     "data": {
      "text/plain": [
       "ModeResult(mode=array([177.]), count=array([3]))"
      ]
     },
     "execution_count": 5,
     "metadata": {},
     "output_type": "execute_result"
    }
   ],
   "source": [
    "## MODE\n",
    "from scipy import stats\n",
    "stats.mode(heights)"
   ]
  },
  {
   "cell_type": "markdown",
   "id": "7fd9069f-53ec-4a32-bd6a-ca2da1dbc42f",
   "metadata": {},
   "source": [
    "## Q4. Find the standard deviation for the given data:\n",
    "[178,177,176,177,178.2,178,175,179,180,175,178.9,176.2,177,172.5,178,176.5]"
   ]
  },
  {
   "cell_type": "code",
   "execution_count": 6,
   "id": "58683fa7-5b0a-465b-abbd-283f8b1a7cdc",
   "metadata": {},
   "outputs": [],
   "source": [
    "data = [178,177,176,177,178.2,178,175,179,180,175,178.9,176.2,177,172.5,178,176.5]"
   ]
  },
  {
   "cell_type": "code",
   "execution_count": 7,
   "id": "67397a9d-461c-4244-9015-79dffb498a35",
   "metadata": {},
   "outputs": [
    {
     "data": {
      "text/plain": [
       "1.7885814036548633"
      ]
     },
     "execution_count": 7,
     "metadata": {},
     "output_type": "execute_result"
    }
   ],
   "source": [
    "## STANDARD DEVIATION\n",
    "np.std(data)"
   ]
  },
  {
   "cell_type": "markdown",
   "id": "b874e2b6-45b7-41c7-a4a7-bf05cf8d3947",
   "metadata": {},
   "source": [
    "## Q5. How are measures of dispersion such as range, variance, and standard deviation used to describe the spread of a dataset? Provide an example."
   ]
  },
  {
   "cell_type": "markdown",
   "id": "2110fc40-94fe-4b84-890c-f2ceb41922a6",
   "metadata": {},
   "source": [
    "Dispersion of data used to understands the distribution of data. \n",
    "\n",
    "RANGE : The range is the easiest dispersion of data or measure of variability. The range can measure by subtracting the lowest value from the massive Number. The wide range indicates high variability, and the small range specifies low variability in the distribution. \n",
    "\n",
    "Range = Highest_value  – Lowest_value\n",
    "\n",
    "VARIANCE : Variance is a simple measure of dispersion. Variance measures how far each number in the dataset from the mean. To compute variance first, calculate the mean and squared deviations from a mean.\n",
    "\n",
    "STANDARD DEVIATION : Standard deviation is a squared root of the variance to get original values. Low standard deviation indicates data points close to mean.\n",
    "\n",
    "As an example, consider the following dataset of test scores:\n",
    "\n",
    "[85, 90, 75, 80, 95, 70, 85, 90, 80, 75]\n",
    "\n",
    "The mean score is 82, and we can calculate the measures of dispersion as follows:\n",
    "\n",
    "Range: The range is the difference between the maximum and minimum values, which is 25 (95 - 70). Variance: The variance is the average of the squared differences from the mean, which is 62.5. Standard deviation: The standard deviation is the square root of the variance, which is approximately 7.91."
   ]
  },
  {
   "cell_type": "markdown",
   "id": "3186844c-c4c4-4dec-8924-d2a5769c1cab",
   "metadata": {},
   "source": [
    "## Q6. What is a Venn diagram?"
   ]
  },
  {
   "cell_type": "markdown",
   "id": "4bf3ff5d-602b-4928-af7b-68d8b00ebdac",
   "metadata": {},
   "source": [
    "A Venn diagram is an illustration that uses circles to show the relationships among things or finite groups of things. Circles that overlap have a commonality while circles that do not overlap do not share those traits. Venn diagrams help to visually represent the similarities and differences between two concepts."
   ]
  },
  {
   "cell_type": "markdown",
   "id": "a319db58-54be-441e-a569-b21c7cc43287",
   "metadata": {},
   "source": [
    "## Q7. For the two given sets A = (2,3,4,5,6,7) & B = (0,2,6,8,10). Find:\n",
    "(i) A B\n",
    "\n",
    "(ii) A ⋃ B"
   ]
  },
  {
   "cell_type": "code",
   "execution_count": 11,
   "id": "eb0feb6d-199d-4145-88b4-131c530b9899",
   "metadata": {},
   "outputs": [
    {
     "name": "stdout",
     "output_type": "stream",
     "text": [
      "Intersection of A and B: {2, 6}\n",
      "Union of A and B: {0, 2, 3, 4, 5, 6, 7, 8, 10}\n"
     ]
    }
   ],
   "source": [
    "## intersection and union\n",
    "A = {2,3,4,5,6,7}\n",
    "B = {0,2,6,8,10}\n",
    "\n",
    "intersection = A.intersection(B)\n",
    "union = A.union(B)\n",
    "\n",
    "print(\"Intersection of A and B:\", intersection)\n",
    "print(\"Union of A and B:\", union)"
   ]
  },
  {
   "cell_type": "markdown",
   "id": "e75efa3a-4fdf-4250-8837-3c91dadbbaa8",
   "metadata": {},
   "source": [
    "## Q8. What do you understand about skewness in data?"
   ]
  },
  {
   "cell_type": "markdown",
   "id": "8c8b8e96-e527-4bf2-b235-e6f142c0f3e5",
   "metadata": {},
   "source": [
    "Skewness is a measurement of the distortion of symmetrical distribution or asymmetry in a data set. Skewness is demonstrated on a bell curve when data points are not distributed symmetrically to the left and right sides of the median on a bell curve. If the bell curve is shifted to the left or the right, it is said to be skewed.\n",
    "\n",
    "Skewness can be quantified as a representation of the extent to which a given distribution varies from a normal distribution. A normal distribution has a zero skew, while a lognormal distribution, for example, would exhibit some right skew.\n"
   ]
  },
  {
   "cell_type": "markdown",
   "id": "0ab1a54a-14c2-48cb-a398-c83765b37893",
   "metadata": {},
   "source": [
    "## Q9. If a data is right skewed then what will be the position of median with respect to mean?"
   ]
  },
  {
   "cell_type": "markdown",
   "id": "ddf08f55-6fbf-4e29-9089-18d5013df786",
   "metadata": {},
   "source": [
    "When the distribution is skewed to the right, the mean is often greater than the median. In symmetric distributions, we expect the mean and median to be approximately equal in value. This is an important connection between the shape of the distribution and the relationship of the mean and median."
   ]
  },
  {
   "cell_type": "markdown",
   "id": "019d2657-6ff5-4359-acf9-f1a595f9e654",
   "metadata": {},
   "source": [
    "## Q10. Explain the difference between covariance and correlation. How are these measures used in statistical analysis?"
   ]
  },
  {
   "cell_type": "markdown",
   "id": "3e3712b6-5b93-4480-9e18-0e6ad4498ec1",
   "metadata": {},
   "source": [
    "Covariance is an indicator of the extent to which 2 random variables are dependent on each other. A higher number denotes higher dependency. Correlation is a statistical measure that indicates how strongly two variables are related. The value of covariance lies in the range of -∞ and +∞. Correlation is limited to values between the range -1 and +1\n",
    "\n",
    "In statistical analysis, covariance and correlation are used to assess the relationship between two variables. They help to identify patterns and trends in the data, and to determine the strength and direction of the relationship between the variables. They are also used to test hypotheses and to make predictions about the behavior of the variables."
   ]
  },
  {
   "cell_type": "markdown",
   "id": "53c6227c-7797-462c-b30a-4242c1ce1773",
   "metadata": {},
   "source": [
    "## Q11. What is the formula for calculating the sample mean? Provide an example calculation for a dataset."
   ]
  },
  {
   "cell_type": "markdown",
   "id": "7ce7d653-f95b-4a0c-b6a1-b333acecdcd2",
   "metadata": {},
   "source": [
    "The formula for calculating the sample mean is:\n",
    "\n",
    "Sample Mean = (Sum of all observations) / (Number of observations) In other words, the sample mean is calculated by adding up all the values in a sample and dividing by the number of observations in the sample.\n",
    "\n",
    "Here is an example calculation:\n",
    "\n",
    "Suppose we have the following dataset: [4, 7, 9, 12, 15]\n",
    "\n",
    "To calculate the sample mean, we add up all the values and divide by the number of observations:\n",
    "\n",
    "Sample Mean = (4 + 7 + 9 + 12 + 15) / 5 = 47 / 5 = 9.4\n",
    "\n",
    "Therefore, the sample mean for this dataset is 9.4."
   ]
  },
  {
   "cell_type": "markdown",
   "id": "59b5fb08-1986-41f1-898c-b674a2a7edfb",
   "metadata": {},
   "source": [
    "## Q12. For a normal distribution data what is the relationship between its measure of central tendency?"
   ]
  },
  {
   "cell_type": "markdown",
   "id": "2265dddd-571c-42e5-b6dc-cab88dfebc03",
   "metadata": {},
   "source": [
    "For a normal distribution, the measures of central tendency, namely the mean, median, and mode, are all equal. In other words, they have the same value.\n",
    "\n",
    "This is because a normal distribution is a symmetric distribution, with equal amounts of data on both sides of the mean. The median, which is the middle value of the dataset, is also the same as the mean in a normal distribution.\n",
    "\n",
    "Additionally, the mode, which is the value that occurs most frequently in the dataset, is also equal to the mean and median in a normal distribution.\n",
    "\n",
    "Therefore, for a normal distribution, the mean, median, and mode are all the same value, and they all represent the center or midpoint of the distribution."
   ]
  },
  {
   "cell_type": "markdown",
   "id": "dd9889d8-dbde-4fd0-890d-b8ebae43eea2",
   "metadata": {},
   "source": [
    "## Q13. How is covariance different from correlation?"
   ]
  },
  {
   "cell_type": "markdown",
   "id": "05fe8a32-e390-4344-a07c-fc89af76b2a9",
   "metadata": {},
   "source": [
    "Covariance and correlation are both statistical measures that describe the relationship between two variables, but they differ in several important ways.\n",
    "\n",
    "Range: The range of covariance is unbounded, which means it can take on any value. In contrast, the range of correlation is between -1 and +1.\n",
    "\n",
    "Standardization: Covariance is not standardized, which means it is affected by the scale of the variables being measured. Correlation, on the other hand, is standardized, which means it is not affected by the scale of the variables.\n",
    "\n",
    "Interpretation: Covariance measures the direction and strength of the linear relationship between two variables. A positive covariance indicates a positive relationship between the variables, while a negative covariance indicates a negative relationship. However, it does not provide any information about the strength of the relationship. Correlation, on the other hand, provides information about both the direction and strength of the linear relationship between two variables.\n",
    "\n",
    "Units: Covariance is measured in units that are the product of the units of the two variables being measured. Correlation is unitless."
   ]
  },
  {
   "cell_type": "markdown",
   "id": "db63e858-336b-459e-965d-870d50d92d44",
   "metadata": {},
   "source": [
    "## Q14. How do outliers affect measures of central tendency and dispersion? Provide an example."
   ]
  },
  {
   "cell_type": "markdown",
   "id": "904f4f71-2244-4243-a044-97d62cd610d9",
   "metadata": {},
   "source": [
    "Outliers are data points that are significantly different from other observations in a dataset. Outliers can have a significant impact on measures of central tendency and dispersion.\n",
    "\n",
    "Measures of central tendency, such as the mean, are affected by outliers because they are calculated using all the data points in the dataset. If there are outliers present, they can significantly pull the mean in one direction or another, causing it to be an inaccurate representation of the center of the dataset.\n",
    "\n",
    "For example, suppose we have the following dataset: [2, 3, 4, 5, 6, 7, 100]. The mean of this dataset is (2+3+4+5+6+7+100) / 7 = 18.43. However, the outlier value of 100 is significantly larger than all the other values in the dataset, which makes the mean an inaccurate representation of the center of the dataset.\n",
    "\n",
    "Outliers can also affect measures of dispersion, such as the range, variance, and standard deviation. Outliers can increase the range of the dataset, which makes it difficult to interpret the spread of the data. Outliers can also increase the variance and standard deviation, which makes the spread of the data appear larger than it actually is.\n",
    "\n",
    "For example, suppose we have the following dataset: [2, 3, 4, 5, 6, 7, 100]. The range of this dataset is 98, which makes the spread of the data appear much larger than it actually is. The variance of this dataset is 1372.8, which is also significantly larger than it would be if the outlier were not present."
   ]
  },
  {
   "cell_type": "code",
   "execution_count": null,
   "id": "a445d3c3-70ce-424b-aaf2-5426c469bb0f",
   "metadata": {},
   "outputs": [],
   "source": []
  }
 ],
 "metadata": {
  "kernelspec": {
   "display_name": "Python 3 (ipykernel)",
   "language": "python",
   "name": "python3"
  },
  "language_info": {
   "codemirror_mode": {
    "name": "ipython",
    "version": 3
   },
   "file_extension": ".py",
   "mimetype": "text/x-python",
   "name": "python",
   "nbconvert_exporter": "python",
   "pygments_lexer": "ipython3",
   "version": "3.10.8"
  }
 },
 "nbformat": 4,
 "nbformat_minor": 5
}
