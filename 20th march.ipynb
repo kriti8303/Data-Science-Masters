{
 "cells": [
  {
   "cell_type": "markdown",
   "id": "f0d0e945-fd8b-4aa0-ab96-6387b48f6fa2",
   "metadata": {},
   "source": [
    "## Assignment Question 1:"
   ]
  },
  {
   "cell_type": "markdown",
   "id": "609d946d-07ca-4a8b-a6b2-cd6abb7accb6",
   "metadata": {},
   "source": [
    "Data encoding is the process of transforming data from one format or representation to another. This is done to ensure that the data is compatible with a particular system, application, or communication protocol.\n",
    "\n",
    "In data science, data encoding plays an important role in data preprocessing, which is a crucial step in preparing data for analysis.\n",
    "\n",
    "Machine learning algorithms typically require numerical data, but many datasets contain categorical or textual data. Encoding techniques can be used to transform categorical or textual data into numerical data, making it suitable for machine learning."
   ]
  },
  {
   "cell_type": "markdown",
   "id": "7f7f314f-674f-4c28-9df6-6b57754b5d3b",
   "metadata": {},
   "source": [
    "## Assignment Question 2:"
   ]
  },
  {
   "cell_type": "markdown",
   "id": "68b3d761-dbd8-4625-ae73-6bd95564bde6",
   "metadata": {},
   "source": [
    "Nominal encoding, also known as one-hot encoding, is a technique used to transform categorical data into numerical data. In nominal encoding, each unique category value is assigned a binary value, with one binary feature being created for each category value.\n",
    "\n",
    "For example, suppose we have a dataset of customer purchases, and one of the categorical features is the payment method used for the purchase, with three possible values: cash, credit card, and debit card. To use this data in a machine learning algorithm, we need to encode this feature numerically. We can use nominal encoding to create three new binary features, one for each payment method, as follows:"
   ]
  },
  {
   "cell_type": "code",
   "execution_count": 2,
   "id": "59f03a04-50af-4d14-91ac-1de1f9ef5325",
   "metadata": {},
   "outputs": [
    {
     "data": {
      "text/html": [
       "<div>\n",
       "<style scoped>\n",
       "    .dataframe tbody tr th:only-of-type {\n",
       "        vertical-align: middle;\n",
       "    }\n",
       "\n",
       "    .dataframe tbody tr th {\n",
       "        vertical-align: top;\n",
       "    }\n",
       "\n",
       "    .dataframe thead th {\n",
       "        text-align: right;\n",
       "    }\n",
       "</style>\n",
       "<table border=\"1\" class=\"dataframe\">\n",
       "  <thead>\n",
       "    <tr style=\"text-align: right;\">\n",
       "      <th></th>\n",
       "      <th>Payment_Method</th>\n",
       "    </tr>\n",
       "  </thead>\n",
       "  <tbody>\n",
       "    <tr>\n",
       "      <th>0</th>\n",
       "      <td>Cash</td>\n",
       "    </tr>\n",
       "    <tr>\n",
       "      <th>1</th>\n",
       "      <td>Credit Card</td>\n",
       "    </tr>\n",
       "    <tr>\n",
       "      <th>2</th>\n",
       "      <td>Debit Card</td>\n",
       "    </tr>\n",
       "  </tbody>\n",
       "</table>\n",
       "</div>"
      ],
      "text/plain": [
       "  Payment_Method\n",
       "0           Cash\n",
       "1    Credit Card\n",
       "2     Debit Card"
      ]
     },
     "execution_count": 2,
     "metadata": {},
     "output_type": "execute_result"
    }
   ],
   "source": [
    "import pandas as pd\n",
    "from sklearn.preprocessing import OneHotEncoder\n",
    "df = pd.DataFrame({'Payment_Method': ['Cash', 'Credit Card', 'Debit Card']    \n",
    "})\n",
    "df.head()"
   ]
  },
  {
   "cell_type": "code",
   "execution_count": 3,
   "id": "1a2d5a79-8000-418f-b1ec-10183ee1dace",
   "metadata": {},
   "outputs": [],
   "source": [
    "encoder = OneHotEncoder()\n",
    "encoded = encoder.fit_transform(df[['Payment_Method']])\n",
    "encoded_df = pd.DataFrame(encoded.toarray(), columns=encoder.get_feature_names_out())"
   ]
  },
  {
   "cell_type": "code",
   "execution_count": 4,
   "id": "984450f7-8fe8-463d-a17a-8e150b6380ef",
   "metadata": {},
   "outputs": [
    {
     "data": {
      "text/html": [
       "<div>\n",
       "<style scoped>\n",
       "    .dataframe tbody tr th:only-of-type {\n",
       "        vertical-align: middle;\n",
       "    }\n",
       "\n",
       "    .dataframe tbody tr th {\n",
       "        vertical-align: top;\n",
       "    }\n",
       "\n",
       "    .dataframe thead th {\n",
       "        text-align: right;\n",
       "    }\n",
       "</style>\n",
       "<table border=\"1\" class=\"dataframe\">\n",
       "  <thead>\n",
       "    <tr style=\"text-align: right;\">\n",
       "      <th></th>\n",
       "      <th>Payment_Method</th>\n",
       "      <th>Payment_Method_Cash</th>\n",
       "      <th>Payment_Method_Credit Card</th>\n",
       "      <th>Payment_Method_Debit Card</th>\n",
       "    </tr>\n",
       "  </thead>\n",
       "  <tbody>\n",
       "    <tr>\n",
       "      <th>0</th>\n",
       "      <td>Cash</td>\n",
       "      <td>1.0</td>\n",
       "      <td>0.0</td>\n",
       "      <td>0.0</td>\n",
       "    </tr>\n",
       "    <tr>\n",
       "      <th>1</th>\n",
       "      <td>Credit Card</td>\n",
       "      <td>0.0</td>\n",
       "      <td>1.0</td>\n",
       "      <td>0.0</td>\n",
       "    </tr>\n",
       "    <tr>\n",
       "      <th>2</th>\n",
       "      <td>Debit Card</td>\n",
       "      <td>0.0</td>\n",
       "      <td>0.0</td>\n",
       "      <td>1.0</td>\n",
       "    </tr>\n",
       "  </tbody>\n",
       "</table>\n",
       "</div>"
      ],
      "text/plain": [
       "  Payment_Method  Payment_Method_Cash  Payment_Method_Credit Card  \\\n",
       "0           Cash                  1.0                         0.0   \n",
       "1    Credit Card                  0.0                         1.0   \n",
       "2     Debit Card                  0.0                         0.0   \n",
       "\n",
       "   Payment_Method_Debit Card  \n",
       "0                        0.0  \n",
       "1                        0.0  \n",
       "2                        1.0  "
      ]
     },
     "execution_count": 4,
     "metadata": {},
     "output_type": "execute_result"
    }
   ],
   "source": [
    "new_df = pd.concat([df, encoded_df], axis=1)\n",
    "new_df"
   ]
  },
  {
   "cell_type": "markdown",
   "id": "521a3c9c-6406-4266-ba78-e0da03084adc",
   "metadata": {},
   "source": [
    "## Assignment Question 3:"
   ]
  },
  {
   "cell_type": "markdown",
   "id": "3b3b76c3-979c-47da-825b-68d98eb34847",
   "metadata": {},
   "source": [
    "Nominal encoding and one-hot encoding are actually the same thing, and the terms are often used interchangeably. One-hot encoding is a type of nominal encoding where each category value is assigned a binary value, and it is the most commonly used nominal encoding technique in data science.\n",
    "\n",
    "However, there is another type of nominal encoding called label encoding, where each unique category value is assigned a numerical label. Label encoding can be useful in situations where the categorical values have an inherent order or ranking, such as rating scales or levels of education.\n",
    "\n",
    "For example, in a dataset of job applicants, we might have a feature for the level of education, with values such as high school, bachelor's degree, and master's degree. We could use label encoding to assign numerical labels to each of these values, with high school as 1, bachelor's degree as 2, and master's degree as 3. This would allow us to preserve the inherent order of the values while still transforming them into numerical data for use in machine learning algorithms."
   ]
  },
  {
   "cell_type": "markdown",
   "id": "64b4f51f-1c55-4423-9e11-6638867f8fd9",
   "metadata": {},
   "source": [
    "## Assignment Question 4:"
   ]
  },
  {
   "cell_type": "markdown",
   "id": "4a69fc5b-55d2-4bd2-abf7-482bb0ea8edf",
   "metadata": {},
   "source": [
    "If we have a dataset containing categorical data with 5 unique values, we could use nominal encoding techniques such as one-hot encoding to transform this data into a format suitable for machine learning algorithms. In one-hot encoding, we would create 5 new binary features, one for each unique category value, and assign a value of 1 to the corresponding feature for each data point.\n",
    "\n",
    "The reason why we would choose one-hot encoding in this scenario is that nominal encoding techniques such as one-hot encoding are preferred for categorical data because they can accurately represent the categorical data in numerical form without creating false relationships between categories. Other encoding techniques, such as label encoding, can create false relationships between categories by assigning numerical labels that imply an order or ranking to the categories."
   ]
  },
  {
   "cell_type": "markdown",
   "id": "00876473-287a-416f-b422-175673315b25",
   "metadata": {},
   "source": [
    "## Assignment Question 5:"
   ]
  },
  {
   "cell_type": "markdown",
   "id": "66124c73-c7a6-45db-8270-5ba1977e9359",
   "metadata": {},
   "source": [
    "If we use nominal encoding to transform the two categorical columns in the dataset, we would create new binary features for each unique category value in each column. The number of new binary features created for each column would depend on the number of unique category values in each column.\n",
    "\n",
    "Let's assume that the first categorical column has 4 unique category values, and the second categorical column has 6 unique category values. To perform one-hot encoding on these columns, we would create 4 new binary features for the first column (one for each unique category value), and 6 new binary features for the second column (again, one for each unique category value). Each row in the original dataset would then be represented by the original three numerical columns, as well as the 4 binary features for the first categorical column and the 6 binary features for the second categorical column.\n",
    "\n",
    "Therefore, the total number of new columns created through one-hot encoding would be: 4 + 6 + 3 = 13. So, we would have 13 columns in the transformed dataset after nominal encoding."
   ]
  },
  {
   "cell_type": "markdown",
   "id": "60253a0f-e796-42ea-8864-caf5ca29c424",
   "metadata": {},
   "source": [
    "## Assignment Question 6:"
   ]
  },
  {
   "cell_type": "markdown",
   "id": "07e647eb-8841-43f4-a6c8-84ac7dd77d2d",
   "metadata": {},
   "source": [
    "For transforming the categorical data in the animal dataset, I would use nominal encoding techniques, such as one-hot encoding. This is because nominal encoding techniques are preferred for categorical data since they can accurately represent the categorical data in numerical form without creating false relationships between categories.\n",
    "\n",
    "In the animal dataset, we have categorical variables such as species, habitat, and diet. One-hot encoding would be a suitable technique for encoding these variables. For example, we could create binary features for each unique value in the species variable, such as lion, tiger, and leopard. Similarly, we could create binary features for each unique value in the habitat and diet variables, such as forest, grassland, and carnivorous."
   ]
  },
  {
   "cell_type": "markdown",
   "id": "ecd25d72-c622-4d40-be71-bf030d4a821f",
   "metadata": {},
   "source": [
    "## Assignment Question 7:"
   ]
  },
  {
   "cell_type": "markdown",
   "id": "f202a515-5317-46ce-8ab4-400dfcc9b3ea",
   "metadata": {},
   "source": [
    "For transforming the categorical data in the customer churn dataset into numerical data, I would use nominal encoding techniques, such as one-hot encoding, since it is one of the most commonly used techniques for encoding categorical data. Here is how I would implement the encoding step-by-step:\n",
    "\n",
    "1. Identify the categorical variables in the dataset. In this case, the only categorical variable is the customer's gender.\n",
    "2. Apply one-hot encoding to the categorical variable. This involves creating a new binary feature for each unique category value in the gender variable (i.e., male and female). We can achieve this by using the get_dummies() function in Python's Pandas library. This function creates new binary columns for each unique category value and assigns a value of 1 to the corresponding column for each data point.\n",
    "3. Drop the original categorical variable (gender) from the dataset. We no longer need this variable since we have already encoded it using one-hot encoding.\n",
    "4. The remaining four features (age, contract type, monthly charges, and tenure) are numerical and do not require any encoding."
   ]
  }
 ],
 "metadata": {
  "kernelspec": {
   "display_name": "Python 3 (ipykernel)",
   "language": "python",
   "name": "python3"
  },
  "language_info": {
   "codemirror_mode": {
    "name": "ipython",
    "version": 3
   },
   "file_extension": ".py",
   "mimetype": "text/x-python",
   "name": "python",
   "nbconvert_exporter": "python",
   "pygments_lexer": "ipython3",
   "version": "3.10.8"
  }
 },
 "nbformat": 4,
 "nbformat_minor": 5
}
