{
 "cells": [
  {
   "cell_type": "markdown",
   "id": "c217b822-b4f3-40db-9bcb-a1fbb6009e31",
   "metadata": {},
   "source": [
    "## Assignment Question 1 :"
   ]
  },
  {
   "cell_type": "markdown",
   "id": "a29332ec-a10c-430f-8ec0-f82c0aee61c7",
   "metadata": {},
   "source": [
    "In Python, we used open() function to open file.\n",
    "\n",
    "In Python, a file operation takes place in the following order:\n",
    "1. Open a file : In python, we use the open() method to open files.\n",
    "2. Read or write : After open the file, we use read() method to read it's content.\n",
    "3. Close the file : When we done with performing operations on the file, we need to properly close the file."
   ]
  },
  {
   "cell_type": "code",
   "execution_count": 9,
   "id": "79c1ea9b-0811-48ae-b31f-c85591034c19",
   "metadata": {},
   "outputs": [],
   "source": [
    "## ex for open a file , read and close the file \n",
    "file = open(\"test.txt\", \"r\")"
   ]
  },
  {
   "cell_type": "code",
   "execution_count": 10,
   "id": "f8f4ca6f-cda7-4e46-9af6-b03dd04e26c5",
   "metadata": {},
   "outputs": [
    {
     "name": "stdout",
     "output_type": "stream",
     "text": [
      "This is a test file.\n",
      "Hello from the test f\n"
     ]
    }
   ],
   "source": [
    "read_content = file.read()\n",
    "print(read_content)"
   ]
  },
  {
   "cell_type": "code",
   "execution_count": 11,
   "id": "bd491506-5276-4b49-b1c4-a7d68b0d1e17",
   "metadata": {},
   "outputs": [],
   "source": [
    "file.close()"
   ]
  },
  {
   "cell_type": "markdown",
   "id": "d479fede-5b4a-46bc-90ee-d5ff4e50b7d5",
   "metadata": {},
   "source": [
    "## Assignment Question 2:"
   ]
  },
  {
   "cell_type": "markdown",
   "id": "3d685062-82db-417b-8557-3b3052388ce9",
   "metadata": {},
   "source": [
    "close() function : When we are done with performing operations on the file, we need to properly close the file. Closing a file will free up the resources that were tied with the file. It is done with using the close() method. \n",
    "\n",
    "After we perform the file operation, we should always close the file; it's a good programming practice."
   ]
  },
  {
   "cell_type": "markdown",
   "id": "4fc2505f-f5d9-4fe1-baa6-bc13b1565095",
   "metadata": {},
   "source": [
    "## Assignment Question 3:"
   ]
  },
  {
   "cell_type": "code",
   "execution_count": 19,
   "id": "1570f024-75c0-41ab-be76-ce73dd3b8e58",
   "metadata": {},
   "outputs": [],
   "source": [
    "with open(\"test.txt\", \"w\") as f:\n",
    "    f.write(\"I want to become a Data Scientist \")"
   ]
  },
  {
   "cell_type": "code",
   "execution_count": 13,
   "id": "300101f6-7a90-4bf2-9d32-21c78fdcda67",
   "metadata": {},
   "outputs": [],
   "source": [
    "file = open(\"test.txt\", \"r\")"
   ]
  },
  {
   "cell_type": "code",
   "execution_count": 14,
   "id": "f534c517-1231-4348-9490-e2578311397a",
   "metadata": {},
   "outputs": [
    {
     "name": "stdout",
     "output_type": "stream",
     "text": [
      "I want to become a Data Scientist\n"
     ]
    }
   ],
   "source": [
    "read_content = file.read()\n",
    "print(read_content)"
   ]
  },
  {
   "cell_type": "code",
   "execution_count": 15,
   "id": "00cf2d70-e45a-4332-804b-d50d02902db0",
   "metadata": {},
   "outputs": [],
   "source": [
    "file.close()"
   ]
  },
  {
   "cell_type": "markdown",
   "id": "c05390d4-3d3f-4613-ad32-4dddfa364fa4",
   "metadata": {},
   "source": [
    "## Assignment Question 4:"
   ]
  },
  {
   "cell_type": "markdown",
   "id": "009c9785-8726-4687-ad41-768fccf41610",
   "metadata": {},
   "source": [
    "read() : To read the content of files.\n",
    "\n",
    "readline() : This will return a line from the file when called.\n",
    "\n",
    "readlines() : This will return all the lines in a file in the format of a list where each element is a line in the file."
   ]
  },
  {
   "cell_type": "code",
   "execution_count": 29,
   "id": "0b41781b-6ff4-4644-8490-bd82b2a0399c",
   "metadata": {},
   "outputs": [],
   "source": [
    "with open(\"test.txt\", \"w\") as f:\n",
    "    f.write(\"I want to become a Data Scientist. \\n\")\n",
    "    f.write(\"It's my pwskills lab.\\n\")\n",
    "    f.write(\"I am creating a file Example.\\n\")\n",
    "    f.write(\"Hey.. I'm kriti.\")"
   ]
  },
  {
   "cell_type": "code",
   "execution_count": 30,
   "id": "18e10404-26d5-4e6e-b810-9bdda0eb45a5",
   "metadata": {},
   "outputs": [],
   "source": [
    "file = open(\"test.txt\", \"r\")"
   ]
  },
  {
   "cell_type": "code",
   "execution_count": 31,
   "id": "3980b887-0a46-4d66-a9a0-da767eb3bb20",
   "metadata": {},
   "outputs": [
    {
     "name": "stdout",
     "output_type": "stream",
     "text": [
      "I want to become a Data Scientist. \n",
      "It's my pwskills lab.\n",
      "I am creating a file Example.\n",
      "Hey.. I'm kriti.\n"
     ]
    }
   ],
   "source": [
    "read_content = file.read()\n",
    "print(read_content)"
   ]
  },
  {
   "cell_type": "code",
   "execution_count": 38,
   "id": "e924d7b5-3905-44d9-a453-9e1bf053e932",
   "metadata": {},
   "outputs": [
    {
     "name": "stdout",
     "output_type": "stream",
     "text": [
      "I want to become a Data Scientist. \n",
      "\n"
     ]
    }
   ],
   "source": [
    "file = open(\"test.txt\", \"r\")\n",
    "reads = file.readline()\n",
    "print(reads)"
   ]
  },
  {
   "cell_type": "code",
   "execution_count": 39,
   "id": "2d40667e-922c-4667-9db5-3c517d5ef7e5",
   "metadata": {},
   "outputs": [
    {
     "name": "stdout",
     "output_type": "stream",
     "text": [
      "['I want to become a Data Scientist. \\n', \"It's my pwskills lab.\\n\", 'I am creating a file Example.\\n', \"Hey.. I'm kriti.\"]\n"
     ]
    }
   ],
   "source": [
    "file = open(\"test.txt\", \"r\")\n",
    "reads = file.readlines()\n",
    "print(reads)"
   ]
  },
  {
   "cell_type": "markdown",
   "id": "fe11e2b6-315d-4b39-aa00-1aac9dd3c3b1",
   "metadata": {},
   "source": [
    "## Assignment Question 5:"
   ]
  },
  {
   "cell_type": "markdown",
   "id": "748cbd36-9b78-414d-a8e8-f56fc2887996",
   "metadata": {},
   "source": [
    "The with statement works with the open() function to open a file. Unlike open() where you have to close the file with the close() method, the with statement closes the file for you without you telling it to. \n",
    "\n",
    "Advantage : Opening files using the with statement is generally recommended because it ensures that open file descriptors are automayically  closed after the flow of execution leaves the with code block."
   ]
  },
  {
   "cell_type": "markdown",
   "id": "72301fc7-2fb2-4120-9a38-f9f9a74b3a23",
   "metadata": {},
   "source": [
    "## Assignment Question 6:"
   ]
  },
  {
   "cell_type": "markdown",
   "id": "bed97a07-f953-49d7-a612-cce20d79fd4e",
   "metadata": {},
   "source": [
    "write() function : The write() function will write the content in the file without adding any extra characters.\n",
    "\n",
    "writelines() function : This function writes the content of a list to a file.\n",
    "\n",
    "The only difference between the write() and writelines() is that write() is used to write a string to an already opened file while writelines() method is used to write a list  "
   ]
  },
  {
   "cell_type": "code",
   "execution_count": 40,
   "id": "4793ef0f-8982-406a-a44a-cf1174d7bb22",
   "metadata": {},
   "outputs": [
    {
     "name": "stdin",
     "output_type": "stream",
     "text": [
      "Enter the name of the Employee :  Aditya\n",
      "Enter the name of the Employee :  Aditi\n",
      "Enter the name of the Employee :  Anmol\n"
     ]
    }
   ],
   "source": [
    "file = open(\"Employee.txt\", \"w\")\n",
    "\n",
    "for i in range(3):\n",
    "    name = input(\"Enter the name of the Employee : \")\n",
    "    file.write(name)\n",
    "    file.write(\"\\n\")\n",
    "file.close()"
   ]
  },
  {
   "cell_type": "code",
   "execution_count": 41,
   "id": "6b74c3c9-099c-40e1-86bc-a96f9ff1990f",
   "metadata": {},
   "outputs": [
    {
     "name": "stdin",
     "output_type": "stream",
     "text": [
      "Enter the name of the Employee :  Shreya\n",
      "Enter the name of the Employee :  Sahil\n",
      "Enter the name of the Employee :  Sipra\n"
     ]
    }
   ],
   "source": [
    "## Exmaple of writelines:\n",
    "file = open(\"Employee.txt\", \"w\")\n",
    "lst = []\n",
    "for i in range(3):\n",
    "    name = input(\"Enter the name of the Employee : \")\n",
    "    lst.append(name + '\\n')\n",
    "file.writelines(lst)\n",
    "file.close()"
   ]
  },
  {
   "cell_type": "code",
   "execution_count": null,
   "id": "53ff44dd-2bc6-4277-9c87-bcac3547e268",
   "metadata": {},
   "outputs": [],
   "source": []
  }
 ],
 "metadata": {
  "kernelspec": {
   "display_name": "Python 3 (ipykernel)",
   "language": "python",
   "name": "python3"
  },
  "language_info": {
   "codemirror_mode": {
    "name": "ipython",
    "version": 3
   },
   "file_extension": ".py",
   "mimetype": "text/x-python",
   "name": "python",
   "nbconvert_exporter": "python",
   "pygments_lexer": "ipython3",
   "version": "3.10.8"
  }
 },
 "nbformat": 4,
 "nbformat_minor": 5
}
