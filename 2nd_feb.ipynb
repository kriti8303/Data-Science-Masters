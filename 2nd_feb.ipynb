{
 "cells": [
  {
   "cell_type": "markdown",
   "id": "b849d5dd-1ef4-402c-b130-d611d21291b5",
   "metadata": {},
   "source": [
    "### Assignment Question 1:\n",
    "\n",
    "Tuple items are ordered , unchangeable, allow duplicate values. Yes, tuple is immutable data type in python."
   ]
  },
  {
   "cell_type": "markdown",
   "id": "1568975c-6bd3-4248-9aad-c7dd15f179ef",
   "metadata": {},
   "source": [
    "### Assignment Question 2:\n",
    "\n",
    "In case of tuple we have only two in-built methods :\n",
    "1. count() : Returns the number of times a specified value occur in tuple.\n",
    "2. index() : Searches the tuple for a specified value and return the position where it was found.\n",
    "\n",
    "Tuples has only two in-built functions because tuples are immutable as opposed to lists which are mutable. It is possible to change a list but not a tuple, the contents of a tuple cannot change over they have been created in python. "
   ]
  },
  {
   "cell_type": "code",
   "execution_count": 1,
   "id": "0e51116c-ad15-4559-a9e7-cc95b841a743",
   "metadata": {},
   "outputs": [
    {
     "data": {
      "text/plain": [
       "1"
      ]
     },
     "execution_count": 1,
     "metadata": {},
     "output_type": "execute_result"
    }
   ],
   "source": [
    "## example of count()\n",
    "t1 = (True, \"Kriti\", 45, 54.3)\n",
    "t1.count(45)"
   ]
  },
  {
   "cell_type": "code",
   "execution_count": 2,
   "id": "69964347-e340-41fb-9630-5debe909b6ac",
   "metadata": {},
   "outputs": [
    {
     "data": {
      "text/plain": [
       "0"
      ]
     },
     "execution_count": 2,
     "metadata": {},
     "output_type": "execute_result"
    }
   ],
   "source": [
    "## example if index()\n",
    "t1 = (True, \"Kriti\", 45, 54.3)\n",
    "t1.index(True)"
   ]
  },
  {
   "cell_type": "markdown",
   "id": "86719afc-63c4-4e23-9b60-259809c81517",
   "metadata": {},
   "source": [
    "### Assignment Question 3:\n",
    "\n",
    "A set is a unique datatype in python. which do not allow duplicates."
   ]
  },
  {
   "cell_type": "code",
   "execution_count": 3,
   "id": "2ffe3903-e62a-4bda-be9b-3308841279db",
   "metadata": {},
   "outputs": [],
   "source": [
    "l = [1, 1, 1, 2, 1, 3, 1, 4, 2, 1, 2, 2, 2, 3, 2, 4, 3, 1, 3, 2, 3, 3, 3, 4, 4, 1, 4, 2, 4, 3, 4, 4]"
   ]
  },
  {
   "cell_type": "code",
   "execution_count": 4,
   "id": "c397bfa2-bf8e-4bc0-87c3-40aa57dd5a25",
   "metadata": {},
   "outputs": [
    {
     "data": {
      "text/plain": [
       "{1, 2, 3, 4}"
      ]
     },
     "execution_count": 4,
     "metadata": {},
     "output_type": "execute_result"
    }
   ],
   "source": [
    "set(l)"
   ]
  },
  {
   "cell_type": "markdown",
   "id": "d41d3ad0-33ed-44f4-aef5-5e2a78c306ed",
   "metadata": {},
   "source": [
    "### Assignment Question 4:\n",
    "\n",
    "update(): Adds all missing elements to the set on which it is called and returns none.\n",
    "\n",
    "union(): Create and return a new set."
   ]
  },
  {
   "cell_type": "code",
   "execution_count": 5,
   "id": "1d4a5766-7f4c-4ee7-992d-356496b76f8b",
   "metadata": {},
   "outputs": [
    {
     "data": {
      "text/plain": [
       "{1, 2, 3, 4, 5}"
      ]
     },
     "execution_count": 5,
     "metadata": {},
     "output_type": "execute_result"
    }
   ],
   "source": [
    "## example of update\n",
    "s = {1, 2, 3}\n",
    "s.update({4, 5})\n",
    "s"
   ]
  },
  {
   "cell_type": "code",
   "execution_count": 6,
   "id": "83d17f0c-3a9b-4934-ac86-8fe1a1b858c3",
   "metadata": {},
   "outputs": [
    {
     "data": {
      "text/plain": [
       "{1, 2, 3, 4, 5}"
      ]
     },
     "execution_count": 6,
     "metadata": {},
     "output_type": "execute_result"
    }
   ],
   "source": [
    "## example of union\n",
    "s = {1, 2, 3}\n",
    "s.union({4, 5})"
   ]
  },
  {
   "cell_type": "markdown",
   "id": "a3847cad-bae4-4146-9e88-bf0aed109a5a",
   "metadata": {},
   "source": [
    "### Assignment Question 5:\n",
    "\n",
    "Dictionary is mutable, indexed and unordered collection of items. It do not allow duplicates.\n",
    "\n",
    "Dictionary is unordered collection of items."
   ]
  },
  {
   "cell_type": "code",
   "execution_count": 7,
   "id": "e323b350-a1a2-45a8-9f7f-2056c22ce7bb",
   "metadata": {},
   "outputs": [],
   "source": [
    "d = {\"name\" : \"Kriti\", \"branch\" : \"C.SE\" , \"course\" : \"Data Science Masters\"}"
   ]
  },
  {
   "cell_type": "code",
   "execution_count": 8,
   "id": "26b8ec85-9ed0-46d3-85ac-05bd1c538db3",
   "metadata": {},
   "outputs": [
    {
     "data": {
      "text/plain": [
       "{'name': 'Kriti', 'branch': 'C.SE', 'course': 'Data Science Masters'}"
      ]
     },
     "execution_count": 8,
     "metadata": {},
     "output_type": "execute_result"
    }
   ],
   "source": [
    "d"
   ]
  },
  {
   "cell_type": "markdown",
   "id": "ca176e2f-2db6-473c-8f58-3394d252656c",
   "metadata": {},
   "source": [
    "### Assignment Question 6:\n",
    "\n",
    "Yes, We can create a nested Dictionary."
   ]
  },
  {
   "cell_type": "code",
   "execution_count": 9,
   "id": "4ef68fd2-8536-4a68-a58d-cf9b92b2bbaa",
   "metadata": {},
   "outputs": [],
   "source": [
    "d2 = {\"Sahil\" : \"Data Science\", \"Rohan\" : \"Web dev\", \"Shubh\" : \"Java Dev\", \"sec_batch\" : {\"name\" : \"Sanket\", \"course\" : \"DSA\"}}"
   ]
  },
  {
   "cell_type": "code",
   "execution_count": 10,
   "id": "6b1500a4-8b45-4fe4-9eb8-1b28814dd992",
   "metadata": {},
   "outputs": [
    {
     "data": {
      "text/plain": [
       "{'Sahil': 'Data Science',\n",
       " 'Rohan': 'Web dev',\n",
       " 'Shubh': 'Java Dev',\n",
       " 'sec_batch': {'name': 'Sanket', 'course': 'DSA'}}"
      ]
     },
     "execution_count": 10,
     "metadata": {},
     "output_type": "execute_result"
    }
   ],
   "source": [
    "d2"
   ]
  },
  {
   "cell_type": "code",
   "execution_count": 11,
   "id": "7ae25e65-116c-4ae3-bfd5-cae871abc51b",
   "metadata": {},
   "outputs": [
    {
     "data": {
      "text/plain": [
       "'DSA'"
      ]
     },
     "execution_count": 11,
     "metadata": {},
     "output_type": "execute_result"
    }
   ],
   "source": [
    "d2[\"sec_batch\"][\"course\"]"
   ]
  },
  {
   "cell_type": "markdown",
   "id": "c23eaee2-47d5-4f1a-90a1-a20cc32112f2",
   "metadata": {},
   "source": [
    "### Assignment Question 7:\n",
    "\n",
    "setdefault() :"
   ]
  },
  {
   "cell_type": "code",
   "execution_count": 12,
   "id": "631579c6-cee7-4f66-a54b-476039bbb7be",
   "metadata": {},
   "outputs": [],
   "source": [
    "dict1 = {\"language\" : \"Python\", \"course\" : \"Data Science Masters\"}"
   ]
  },
  {
   "cell_type": "code",
   "execution_count": 13,
   "id": "491ad40b-9801-4869-b637-691ec00c47b8",
   "metadata": {},
   "outputs": [
    {
     "data": {
      "text/plain": [
       "{'language': 'Python', 'course': 'Data Science Masters'}"
      ]
     },
     "execution_count": 13,
     "metadata": {},
     "output_type": "execute_result"
    }
   ],
   "source": [
    "dict1"
   ]
  },
  {
   "cell_type": "code",
   "execution_count": 14,
   "id": "cb0f3c2a-ed4a-4830-bd63-afb2b80b9ec9",
   "metadata": {},
   "outputs": [
    {
     "data": {
      "text/plain": [
       "['Python', 'Machine Learning', 'Deep Learning']"
      ]
     },
     "execution_count": 14,
     "metadata": {},
     "output_type": "execute_result"
    }
   ],
   "source": [
    "dict1.setdefault(\"topics\", [\"Python\", \"Machine Learning\", \"Deep Learning\"])"
   ]
  },
  {
   "cell_type": "code",
   "execution_count": 15,
   "id": "3885b9e4-818b-49e3-a872-f358c7bfdabd",
   "metadata": {},
   "outputs": [
    {
     "data": {
      "text/plain": [
       "{'language': 'Python',\n",
       " 'course': 'Data Science Masters',\n",
       " 'topics': ['Python', 'Machine Learning', 'Deep Learning']}"
      ]
     },
     "execution_count": 15,
     "metadata": {},
     "output_type": "execute_result"
    }
   ],
   "source": [
    "dict1"
   ]
  },
  {
   "cell_type": "markdown",
   "id": "daf6cb47-2cf8-4646-988e-55d892a29b33",
   "metadata": {},
   "source": [
    "### Assignment Question 8:\n",
    "\n",
    "The three view object in dictionary : key, value, items.\n",
    "\n",
    "1. The view object 'key' represent all the key in a dictionary.\n",
    "2. The view object 'value' contain the value of a  dictionary.\n",
    "3. The item method, return a new view as a list with all dict key with value. "
   ]
  },
  {
   "cell_type": "code",
   "execution_count": 16,
   "id": "604311a5-1721-4d6c-9cde-f6cddb9f9ee7",
   "metadata": {},
   "outputs": [],
   "source": [
    "dict2 = {\"Sport\" : \"Cricket\", \"Teams\" : [\"India\", \"Australia\", \"England\", \"South Africa\", \"Sri Lanka\", \"New Zealand\"]}"
   ]
  },
  {
   "cell_type": "code",
   "execution_count": 17,
   "id": "7b6e4ae0-ce08-46d8-9552-23259d912fb7",
   "metadata": {},
   "outputs": [
    {
     "data": {
      "text/plain": [
       "dict_keys(['Sport', 'Teams'])"
      ]
     },
     "execution_count": 17,
     "metadata": {},
     "output_type": "execute_result"
    }
   ],
   "source": [
    "dict2.keys()"
   ]
  },
  {
   "cell_type": "code",
   "execution_count": 18,
   "id": "9a9d53f5-b6ce-4f10-bd41-d0df2b57864e",
   "metadata": {},
   "outputs": [
    {
     "data": {
      "text/plain": [
       "dict_values(['Cricket', ['India', 'Australia', 'England', 'South Africa', 'Sri Lanka', 'New Zealand']])"
      ]
     },
     "execution_count": 18,
     "metadata": {},
     "output_type": "execute_result"
    }
   ],
   "source": [
    "dict2.values()"
   ]
  },
  {
   "cell_type": "code",
   "execution_count": 19,
   "id": "4b5a23e9-63fe-48b4-8868-1bbaf7bd4ddf",
   "metadata": {},
   "outputs": [
    {
     "data": {
      "text/plain": [
       "dict_items([('Sport', 'Cricket'), ('Teams', ['India', 'Australia', 'England', 'South Africa', 'Sri Lanka', 'New Zealand'])])"
      ]
     },
     "execution_count": 19,
     "metadata": {},
     "output_type": "execute_result"
    }
   ],
   "source": [
    "dict2.items()"
   ]
  },
  {
   "cell_type": "code",
   "execution_count": null,
   "id": "e6e27c72-4d70-41b5-9968-896ee53d1e76",
   "metadata": {},
   "outputs": [],
   "source": []
  }
 ],
 "metadata": {
  "kernelspec": {
   "display_name": "Python 3 (ipykernel)",
   "language": "python",
   "name": "python3"
  },
  "language_info": {
   "codemirror_mode": {
    "name": "ipython",
    "version": 3
   },
   "file_extension": ".py",
   "mimetype": "text/x-python",
   "name": "python",
   "nbconvert_exporter": "python",
   "pygments_lexer": "ipython3",
   "version": "3.10.8"
  }
 },
 "nbformat": 4,
 "nbformat_minor": 5
}
