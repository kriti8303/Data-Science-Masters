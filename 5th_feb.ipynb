{
 "cells": [
  {
   "cell_type": "markdown",
   "id": "ebc619b8-669e-49d8-a004-776465523f2b",
   "metadata": {},
   "source": [
    "## Assignment Question 1:\n",
    "\n",
    "Python is an object oriented programming language.\n",
    "\n",
    "Object : Almost everything in python is an object, with it's properties and methods.\n",
    "\n",
    "Class : A class is like an object constructor or a \"blueprint\" for creating objects."
   ]
  },
  {
   "cell_type": "code",
   "execution_count": 1,
   "id": "ee6d1ccc-9906-4c43-a6fd-1019652823cc",
   "metadata": {},
   "outputs": [],
   "source": [
    "## ex of class\n",
    "class MyClass:\n",
    "    x = 5"
   ]
  },
  {
   "cell_type": "code",
   "execution_count": 2,
   "id": "35af2feb-ef74-4882-b8db-a0cc696b35bf",
   "metadata": {},
   "outputs": [
    {
     "name": "stdout",
     "output_type": "stream",
     "text": [
      "5\n"
     ]
    }
   ],
   "source": [
    "## object\n",
    "p1 = MyClass()\n",
    "print(p1.x)"
   ]
  },
  {
   "cell_type": "markdown",
   "id": "664e3f11-b6b0-4de1-b185-6333ff2d720c",
   "metadata": {},
   "source": [
    "## Assignment Question 2:\n",
    "\n",
    "Four basic pillars of OOP'S are :\n",
    "1. Inheritance : In python, it is possible to create an object that inherit the methods and properties of another object, called Inheritance.\n",
    "\n",
    "2. Polymorphism : Polymorphism simply means \"many forms\". In python this means that you can have one function or object that can be used in different ways.\n",
    "\n",
    "3. Encapsulation : Encapsulation is the process of making data private by wrapping data and it's method in a 'capsule' or unit. So that it can not be\n",
    "accessed by making variable inside class. \n",
    "\n",
    "4. Abstraction : Abstraction in python is defined as a process of handling complexity by hiding unnecessary information from the user."
   ]
  },
  {
   "cell_type": "markdown",
   "id": "89ee6d75-6c1c-4a01-946e-72e3379071d8",
   "metadata": {},
   "source": [
    "## Assignment Question 3:\n",
    "\n",
    "__init__ function() : The Python __init__ method is declared within a class and is used to initialize the attributes of an object as soon as the object is formed. While giving the definition for an __init__(self) method, a default parameter , named 'self' is always passed in its argument.\n",
    "This python __init__  method may or may not take arguments for object initialisation. you can also pass default arguments in its parameter. "
   ]
  },
  {
   "cell_type": "code",
   "execution_count": 3,
   "id": "65ad309a-21bd-4edf-88a2-bfd942c8cf46",
   "metadata": {},
   "outputs": [],
   "source": [
    "class pwskills:\n",
    "    def __init__(self, phone_number, email_id, student_id):\n",
    "        self.phone_number = phone_number\n",
    "        self.email_id = email_id\n",
    "        self.student_id = student_id\n",
    "        \n",
    "    def return_student_details(self):\n",
    "        return self.phone_number, self.email_id, self.student_id"
   ]
  },
  {
   "cell_type": "code",
   "execution_count": 5,
   "id": "eb6e6397-feb2-4ea2-b5d1-333dc6965129",
   "metadata": {},
   "outputs": [],
   "source": [
    "sahil = pwskills(9845095678, \"kritidubey@gmail.com\", 101)"
   ]
  },
  {
   "cell_type": "code",
   "execution_count": 6,
   "id": "f10f3481-6432-465c-aebb-4a3db0027d00",
   "metadata": {},
   "outputs": [
    {
     "data": {
      "text/plain": [
       "9845095678"
      ]
     },
     "execution_count": 6,
     "metadata": {},
     "output_type": "execute_result"
    }
   ],
   "source": [
    "sahil.phone_number"
   ]
  },
  {
   "cell_type": "markdown",
   "id": "c3a05691-8e51-4a7e-bfc1-7038a53143d7",
   "metadata": {},
   "source": [
    "## Assignment Question 4:\n",
    "\n",
    "self : The self variable is used to represent the instance of the class which is often used in object-oriented programming. It works as a reference to the object. Python uses the self parameter to refer to the instance attributes and methods of the class."
   ]
  },
  {
   "cell_type": "markdown",
   "id": "41085456-e5c2-454a-ae49-1847cbdf67c9",
   "metadata": {},
   "source": [
    "## Assignment Question 5:\n",
    "\n",
    "Inheritance : In python, it is possible to create an object that inherit the methods and properties of another object, called Inheritance."
   ]
  },
  {
   "cell_type": "code",
   "execution_count": 7,
   "id": "21275715-7cc6-4fa4-9d60-7912e8a93f70",
   "metadata": {},
   "outputs": [],
   "source": [
    "## ex of inheritance \n",
    "class parent:\n",
    "    def test_parent(self):\n",
    "        print(\"this is my parent class\")"
   ]
  },
  {
   "cell_type": "code",
   "execution_count": 8,
   "id": "f2ded416-a515-4579-a834-8374e4319492",
   "metadata": {},
   "outputs": [],
   "source": [
    "class child(parent):\n",
    "    def test_child(self):\n",
    "        print(\"this is my child class\")"
   ]
  },
  {
   "cell_type": "code",
   "execution_count": 9,
   "id": "e0c56f20-3159-4cce-a241-0f7558acfd7a",
   "metadata": {},
   "outputs": [],
   "source": [
    "obj_cls = child()"
   ]
  },
  {
   "cell_type": "code",
   "execution_count": 10,
   "id": "5f42a64d-b300-4ffc-8655-421b80604d97",
   "metadata": {},
   "outputs": [
    {
     "name": "stdout",
     "output_type": "stream",
     "text": [
      "this is my child class\n"
     ]
    }
   ],
   "source": [
    "obj_cls.test_child()"
   ]
  },
  {
   "cell_type": "code",
   "execution_count": 12,
   "id": "c580e2c4-84a1-4351-b0f2-f3672f113c96",
   "metadata": {},
   "outputs": [
    {
     "name": "stdout",
     "output_type": "stream",
     "text": [
      "this is my parent class\n"
     ]
    }
   ],
   "source": [
    "obj_cls.test_parent()"
   ]
  },
  {
   "cell_type": "code",
   "execution_count": 13,
   "id": "5af60460-1fc7-4a20-8e33-f0512346e0b8",
   "metadata": {},
   "outputs": [],
   "source": [
    "#### Multiple inheritance \n",
    "class car1():\n",
    "    def test_car1(self):\n",
    "        print(\"This is my first car\")"
   ]
  },
  {
   "cell_type": "code",
   "execution_count": 14,
   "id": "c8284af4-7411-497c-b1ba-552761bc722c",
   "metadata": {},
   "outputs": [],
   "source": [
    "class car2():\n",
    "    def test_car2(self):\n",
    "        print(\"This is my second car\")"
   ]
  },
  {
   "cell_type": "code",
   "execution_count": 15,
   "id": "fdc093cc-cdb1-40e8-b153-779f4e324b48",
   "metadata": {},
   "outputs": [],
   "source": [
    "class car3(car1, car2):\n",
    "    pass"
   ]
  },
  {
   "cell_type": "code",
   "execution_count": 17,
   "id": "b92e97bf-77a7-4a44-8326-0c2abc79c902",
   "metadata": {},
   "outputs": [],
   "source": [
    "obj_cls2 = car3()"
   ]
  },
  {
   "cell_type": "code",
   "execution_count": 18,
   "id": "d57f9ae9-4d79-42bd-a8e9-a8a5cd1d3554",
   "metadata": {},
   "outputs": [
    {
     "name": "stdout",
     "output_type": "stream",
     "text": [
      "This is my second car\n"
     ]
    }
   ],
   "source": [
    "obj_cls2.test_car2()"
   ]
  },
  {
   "cell_type": "code",
   "execution_count": 19,
   "id": "825f5686-4df5-4247-9e97-6edd15cf2292",
   "metadata": {},
   "outputs": [
    {
     "name": "stdout",
     "output_type": "stream",
     "text": [
      "This is my first car\n"
     ]
    }
   ],
   "source": [
    "obj_cls2.test_car1()"
   ]
  },
  {
   "cell_type": "code",
   "execution_count": null,
   "id": "8059a4a7-75f9-4c54-972d-add14e689faf",
   "metadata": {},
   "outputs": [],
   "source": []
  }
 ],
 "metadata": {
  "kernelspec": {
   "display_name": "Python 3 (ipykernel)",
   "language": "python",
   "name": "python3"
  },
  "language_info": {
   "codemirror_mode": {
    "name": "ipython",
    "version": 3
   },
   "file_extension": ".py",
   "mimetype": "text/x-python",
   "name": "python",
   "nbconvert_exporter": "python",
   "pygments_lexer": "ipython3",
   "version": "3.10.8"
  }
 },
 "nbformat": 4,
 "nbformat_minor": 5
}
