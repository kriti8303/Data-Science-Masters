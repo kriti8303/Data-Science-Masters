{
 "cells": [
  {
   "cell_type": "code",
   "execution_count": 1,
   "id": "100cfccb-ef8c-44ad-bb42-5e6ecce82da7",
   "metadata": {},
   "outputs": [],
   "source": [
    "import numpy as np"
   ]
  },
  {
   "cell_type": "code",
   "execution_count": 8,
   "id": "e6b914a9-c884-4ad1-aedf-542559eee67f",
   "metadata": {},
   "outputs": [],
   "source": [
    "list = [ '1' , '2', '3', '4', '5' ]\n",
    "array_list = np.array(object = list)"
   ]
  },
  {
   "cell_type": "markdown",
   "id": "5f7a8cdf-eb60-4926-8a9d-9c019b6a8773",
   "metadata": {},
   "source": [
    "## Assignment Question 1:\n",
    "\n",
    "list and array_list is different because list has class 'list' while array_list has class 'numpy ndarray'."
   ]
  },
  {
   "cell_type": "code",
   "execution_count": 10,
   "id": "c13470a9-5dcb-4698-97e2-1d0429855373",
   "metadata": {},
   "outputs": [],
   "source": [
    "list = [ '1' , '2', '3', '4', '5' ]\n",
    "array_list = np.array(object = list)"
   ]
  },
  {
   "cell_type": "code",
   "execution_count": 13,
   "id": "5a5ee4e2-2c42-421f-8dd2-d9659829a605",
   "metadata": {},
   "outputs": [
    {
     "name": "stdout",
     "output_type": "stream",
     "text": [
      "<class 'list'>\n",
      "<class 'numpy.ndarray'>\n"
     ]
    }
   ],
   "source": [
    "print(type(list))\n",
    "print(type(array_list))"
   ]
  },
  {
   "cell_type": "markdown",
   "id": "b32e1d2b-1bb4-4552-80be-ff1dd84f971f",
   "metadata": {},
   "source": [
    "## Assignment Question 2:\n",
    "\n",
    "\n",
    "Data type of each and every element present in both the variable:"
   ]
  },
  {
   "cell_type": "code",
   "execution_count": 15,
   "id": "ee2cacef-b041-4724-9d48-0f246d1a6190",
   "metadata": {},
   "outputs": [],
   "source": [
    "list = [ '1' , '2', '3', '4', '5' ]\n",
    "array_list = np.array(object = list)"
   ]
  },
  {
   "cell_type": "code",
   "execution_count": 16,
   "id": "876891d3-205c-471d-b1a2-66dc84afbb65",
   "metadata": {},
   "outputs": [
    {
     "name": "stdout",
     "output_type": "stream",
     "text": [
      "<class 'str'>\n",
      "<class 'str'>\n",
      "<class 'str'>\n",
      "<class 'str'>\n",
      "<class 'str'>\n",
      "<class 'numpy.str_'>\n",
      "<class 'numpy.str_'>\n",
      "<class 'numpy.str_'>\n",
      "<class 'numpy.str_'>\n",
      "<class 'numpy.str_'>\n"
     ]
    }
   ],
   "source": [
    "for element in list:\n",
    "    print(type(element))\n",
    "for element in array_list:\n",
    "    print(type(element))"
   ]
  },
  {
   "cell_type": "markdown",
   "id": "a69fb665-2e56-47a9-a5c6-161858e50a9f",
   "metadata": {},
   "source": [
    "## Assignment Question 3:"
   ]
  },
  {
   "cell_type": "code",
   "execution_count": 17,
   "id": "2c24eea4-407f-43e6-9f5d-5537d27b6bde",
   "metadata": {},
   "outputs": [],
   "source": [
    "list = [ '1' , '2', '3', '4', '5' ]\n",
    "array_list = np.array(object = list_, dtype = int)"
   ]
  },
  {
   "cell_type": "code",
   "execution_count": 18,
   "id": "22d7787a-37b5-4846-8794-36a07400679c",
   "metadata": {},
   "outputs": [
    {
     "name": "stdout",
     "output_type": "stream",
     "text": [
      "<class 'list'>\n",
      "<class 'numpy.ndarray'>\n"
     ]
    }
   ],
   "source": [
    "print(type(list))\n",
    "print(type(array_list))"
   ]
  },
  {
   "cell_type": "code",
   "execution_count": 19,
   "id": "6787f114-0b0f-484f-b4e7-8a91ac24d8e1",
   "metadata": {},
   "outputs": [
    {
     "name": "stdout",
     "output_type": "stream",
     "text": [
      "<class 'list'>\n",
      "<class 'list'>\n",
      "<class 'list'>\n",
      "<class 'list'>\n",
      "<class 'list'>\n",
      "<class 'numpy.ndarray'>\n",
      "<class 'numpy.ndarray'>\n",
      "<class 'numpy.ndarray'>\n",
      "<class 'numpy.ndarray'>\n",
      "<class 'numpy.ndarray'>\n"
     ]
    }
   ],
   "source": [
    "for element in list:\n",
    "    print(type(list))\n",
    "    \n",
    "for element in array_list:\n",
    "    print(type(array_list))"
   ]
  },
  {
   "cell_type": "markdown",
   "id": "3a8e1db5-4b13-4b03-b7c5-4a164c5233c7",
   "metadata": {},
   "source": [
    "## Consider  below code to answer further question:"
   ]
  },
  {
   "cell_type": "code",
   "execution_count": 20,
   "id": "02ca884a-fef5-4fdf-a989-b5b11f2bad3d",
   "metadata": {},
   "outputs": [],
   "source": [
    "import numpy as np\n",
    "num_list = [ [ 1 , 2 , 3 ] , [ 4 , 5 , 6 ] ]\n",
    "num_array = np.array(object = num_list)"
   ]
  },
  {
   "cell_type": "markdown",
   "id": "662e4fbd-6f55-4006-a3ba-79878ccaecc4",
   "metadata": {},
   "source": [
    "## Assignment Question 4:"
   ]
  },
  {
   "cell_type": "code",
   "execution_count": 22,
   "id": "68f239a2-8009-491a-9313-35e56e5fd287",
   "metadata": {},
   "outputs": [
    {
     "name": "stdout",
     "output_type": "stream",
     "text": [
      "(2, 3)\n",
      "6\n"
     ]
    }
   ],
   "source": [
    "print(num_array.shape)\n",
    "print(num_array.size)"
   ]
  },
  {
   "cell_type": "markdown",
   "id": "202995df-50de-409a-b21f-411880ece3e2",
   "metadata": {},
   "source": [
    "## Assignment Question 5:"
   ]
  },
  {
   "cell_type": "code",
   "execution_count": 26,
   "id": "56249eb6-1bae-4cdf-86ae-9dca82283e8f",
   "metadata": {},
   "outputs": [
    {
     "name": "stdout",
     "output_type": "stream",
     "text": [
      "[[0. 0. 0.]\n",
      " [0. 0. 0.]\n",
      " [0. 0. 0.]]\n"
     ]
    }
   ],
   "source": [
    "zeros_matrix = np.zeros((3, 3))\n",
    "print(zeros_matrix)"
   ]
  },
  {
   "cell_type": "markdown",
   "id": "f9e9a893-cee5-418b-b86a-1c1e07bcb90a",
   "metadata": {},
   "source": [
    "## Assignment Question 6:"
   ]
  },
  {
   "cell_type": "code",
   "execution_count": 28,
   "id": "673b04e9-b538-487f-a0b5-6ef580d85f7b",
   "metadata": {},
   "outputs": [
    {
     "name": "stdout",
     "output_type": "stream",
     "text": [
      "[[1. 0. 0. 0. 0.]\n",
      " [0. 1. 0. 0. 0.]\n",
      " [0. 0. 1. 0. 0.]\n",
      " [0. 0. 0. 1. 0.]\n",
      " [0. 0. 0. 0. 1.]]\n"
     ]
    }
   ],
   "source": [
    "diag_matrix = np.eye(5)\n",
    "print(diag_matrix)"
   ]
  },
  {
   "cell_type": "code",
   "execution_count": null,
   "id": "6748b95b-1017-4e0f-96cb-da9b040caed8",
   "metadata": {},
   "outputs": [],
   "source": []
  }
 ],
 "metadata": {
  "kernelspec": {
   "display_name": "Python 3 (ipykernel)",
   "language": "python",
   "name": "python3"
  },
  "language_info": {
   "codemirror_mode": {
    "name": "ipython",
    "version": 3
   },
   "file_extension": ".py",
   "mimetype": "text/x-python",
   "name": "python",
   "nbconvert_exporter": "python",
   "pygments_lexer": "ipython3",
   "version": "3.10.8"
  }
 },
 "nbformat": 4,
 "nbformat_minor": 5
}
